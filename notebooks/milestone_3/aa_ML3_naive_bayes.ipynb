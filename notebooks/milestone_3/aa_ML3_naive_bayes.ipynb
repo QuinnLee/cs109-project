{
 "cells": [
  {
   "cell_type": "markdown",
   "metadata": {},
   "source": [
    "# Milestone 3: Text analysis\n"
   ]
  },
  {
   "cell_type": "code",
   "execution_count": 23,
   "metadata": {
    "collapsed": false
   },
   "outputs": [],
   "source": [
    "%matplotlib inline\n",
    "\n",
    "import os\n",
    "import nltk\n",
    "import json\n",
    "import itertools\n",
    "import numpy as np\n",
    "import pandas as pd\n",
    "import seaborn as sns\n",
    "from collections import Counter\n",
    "from unidecode import unidecode\n",
    "from nltk.corpus import stopwords\n",
    "from collections import OrderedDict\n",
    "from matplotlib import pyplot as plt\n",
    "from sklearn.metrics import confusion_matrix\n",
    "from sklearn.naive_bayes import MultinomialNB\n",
    "from sklearn.model_selection import cross_val_score\n",
    "\n",
    "\n",
    "plt.style.use('ggplot')"
   ]
  },
  {
   "cell_type": "markdown",
   "metadata": {},
   "source": [
    "## Grabbing the data"
   ]
  },
  {
   "cell_type": "code",
   "execution_count": 3,
   "metadata": {
    "collapsed": false
   },
   "outputs": [
    {
     "name": "stdout",
     "output_type": "stream",
     "text": [
      "(5000, 29)\n"
     ]
    },
    {
     "data": {
      "text/html": [
       "<div>\n",
       "<table border=\"1\" class=\"dataframe\">\n",
       "  <thead>\n",
       "    <tr style=\"text-align: right;\">\n",
       "      <th></th>\n",
       "      <th>adult</th>\n",
       "      <th>backdrop_path</th>\n",
       "      <th>belongs_to_collection</th>\n",
       "      <th>budget</th>\n",
       "      <th>cast</th>\n",
       "      <th>crew</th>\n",
       "      <th>genre_ids</th>\n",
       "      <th>genres</th>\n",
       "      <th>homepage</th>\n",
       "      <th>id</th>\n",
       "      <th>...</th>\n",
       "      <th>revenue</th>\n",
       "      <th>reviews</th>\n",
       "      <th>runtime</th>\n",
       "      <th>spoken_languages</th>\n",
       "      <th>status</th>\n",
       "      <th>tagline</th>\n",
       "      <th>title</th>\n",
       "      <th>video</th>\n",
       "      <th>vote_average</th>\n",
       "      <th>vote_count</th>\n",
       "    </tr>\n",
       "  </thead>\n",
       "  <tbody>\n",
       "    <tr>\n",
       "      <th>0</th>\n",
       "      <td>False</td>\n",
       "      <td>None</td>\n",
       "      <td>None</td>\n",
       "      <td>0</td>\n",
       "      <td>[]</td>\n",
       "      <td>[{u'name': u'Bobby Sheehan', u'department': u'...</td>\n",
       "      <td>[99]</td>\n",
       "      <td>[{u'name': u'Documentary', u'id': 99}]</td>\n",
       "      <td>https://www.boughtmovie.net</td>\n",
       "      <td>328380</td>\n",
       "      <td>...</td>\n",
       "      <td>0</td>\n",
       "      <td>[]</td>\n",
       "      <td>93.0</td>\n",
       "      <td>[{u'iso_639_1': u'en', u'name': u'English'}]</td>\n",
       "      <td>Released</td>\n",
       "      <td></td>\n",
       "      <td>Bought</td>\n",
       "      <td>False</td>\n",
       "      <td>0.0</td>\n",
       "      <td>0</td>\n",
       "    </tr>\n",
       "    <tr>\n",
       "      <th>1</th>\n",
       "      <td>False</td>\n",
       "      <td>None</td>\n",
       "      <td>None</td>\n",
       "      <td>0</td>\n",
       "      <td>[]</td>\n",
       "      <td>[{u'name': u'Nancy Donnelly', u'department': u...</td>\n",
       "      <td>[99]</td>\n",
       "      <td>[{u'id': 99, u'name': u'Documentary'}]</td>\n",
       "      <td></td>\n",
       "      <td>112052</td>\n",
       "      <td>...</td>\n",
       "      <td>0</td>\n",
       "      <td>[]</td>\n",
       "      <td>60.0</td>\n",
       "      <td>[{u'iso_639_1': u'en', u'name': u'English'}]</td>\n",
       "      <td>Released</td>\n",
       "      <td></td>\n",
       "      <td>Egypt Underworld</td>\n",
       "      <td>False</td>\n",
       "      <td>3.8</td>\n",
       "      <td>2</td>\n",
       "    </tr>\n",
       "    <tr>\n",
       "      <th>2</th>\n",
       "      <td>False</td>\n",
       "      <td>/jWgtb7CRy3jWoXiz0IK352MG8b5.jpg</td>\n",
       "      <td>None</td>\n",
       "      <td>0</td>\n",
       "      <td>[{u'name': u'Zhang Jin', u'character': u'Chau ...</td>\n",
       "      <td>[{u'name': u'Douglas Kung Cheung-Tak', u'depar...</td>\n",
       "      <td>[28]</td>\n",
       "      <td>[{u'id': 28, u'name': u'Action'}]</td>\n",
       "      <td>http://www.hkcinemagic.com/en/movie.asp?id=6627</td>\n",
       "      <td>201706</td>\n",
       "      <td>...</td>\n",
       "      <td>0</td>\n",
       "      <td>[]</td>\n",
       "      <td>1.0</td>\n",
       "      <td>[{u'name': u'广州话 / 廣州話', u'iso_639_1': u'cn'},...</td>\n",
       "      <td>Released</td>\n",
       "      <td></td>\n",
       "      <td>Chinese Heroes</td>\n",
       "      <td>False</td>\n",
       "      <td>0.0</td>\n",
       "      <td>0</td>\n",
       "    </tr>\n",
       "    <tr>\n",
       "      <th>3</th>\n",
       "      <td>False</td>\n",
       "      <td>None</td>\n",
       "      <td>None</td>\n",
       "      <td>0</td>\n",
       "      <td>[{u'name': u'Erika Eleniak', u'character': u'J...</td>\n",
       "      <td>[{u'name': u'Brian Katkin', u'department': u'D...</td>\n",
       "      <td>[28, 18, 53]</td>\n",
       "      <td>[{u'id': 28, u'name': u'Action'}, {u'id': 18, ...</td>\n",
       "      <td></td>\n",
       "      <td>61803</td>\n",
       "      <td>...</td>\n",
       "      <td>0</td>\n",
       "      <td>[]</td>\n",
       "      <td>92.0</td>\n",
       "      <td>[{u'name': u'English', u'iso_639_1': u'en'}]</td>\n",
       "      <td>Released</td>\n",
       "      <td>he quake of the century... get ready to rumble...</td>\n",
       "      <td>Shakedown</td>\n",
       "      <td>False</td>\n",
       "      <td>3.0</td>\n",
       "      <td>2</td>\n",
       "    </tr>\n",
       "    <tr>\n",
       "      <th>4</th>\n",
       "      <td>False</td>\n",
       "      <td>/sHH63HMAQsKLl0vpJ6AxulmkL92.jpg</td>\n",
       "      <td>None</td>\n",
       "      <td>0</td>\n",
       "      <td>[{u'name': u'Kay Panabaker', u'character': u'J...</td>\n",
       "      <td>[{u'name': u'Kevin Tancharoen', u'department':...</td>\n",
       "      <td>[10402, 35, 18, 10749]</td>\n",
       "      <td>[{u'id': 10402, u'name': u'Music'}, {u'id': 35...</td>\n",
       "      <td></td>\n",
       "      <td>28665</td>\n",
       "      <td>...</td>\n",
       "      <td>0</td>\n",
       "      <td>[]</td>\n",
       "      <td>107.0</td>\n",
       "      <td>[{u'iso_639_1': u'en', u'name': u'English'}]</td>\n",
       "      <td>Released</td>\n",
       "      <td></td>\n",
       "      <td>Fame</td>\n",
       "      <td>False</td>\n",
       "      <td>5.4</td>\n",
       "      <td>109</td>\n",
       "    </tr>\n",
       "  </tbody>\n",
       "</table>\n",
       "<p>5 rows × 29 columns</p>\n",
       "</div>"
      ],
      "text/plain": [
       "   adult                     backdrop_path belongs_to_collection  budget  \\\n",
       "0  False                              None                  None       0   \n",
       "1  False                              None                  None       0   \n",
       "2  False  /jWgtb7CRy3jWoXiz0IK352MG8b5.jpg                  None       0   \n",
       "3  False                              None                  None       0   \n",
       "4  False  /sHH63HMAQsKLl0vpJ6AxulmkL92.jpg                  None       0   \n",
       "\n",
       "                                                cast  \\\n",
       "0                                                 []   \n",
       "1                                                 []   \n",
       "2  [{u'name': u'Zhang Jin', u'character': u'Chau ...   \n",
       "3  [{u'name': u'Erika Eleniak', u'character': u'J...   \n",
       "4  [{u'name': u'Kay Panabaker', u'character': u'J...   \n",
       "\n",
       "                                                crew               genre_ids  \\\n",
       "0  [{u'name': u'Bobby Sheehan', u'department': u'...                    [99]   \n",
       "1  [{u'name': u'Nancy Donnelly', u'department': u...                    [99]   \n",
       "2  [{u'name': u'Douglas Kung Cheung-Tak', u'depar...                    [28]   \n",
       "3  [{u'name': u'Brian Katkin', u'department': u'D...            [28, 18, 53]   \n",
       "4  [{u'name': u'Kevin Tancharoen', u'department':...  [10402, 35, 18, 10749]   \n",
       "\n",
       "                                              genres  \\\n",
       "0             [{u'name': u'Documentary', u'id': 99}]   \n",
       "1             [{u'id': 99, u'name': u'Documentary'}]   \n",
       "2                  [{u'id': 28, u'name': u'Action'}]   \n",
       "3  [{u'id': 28, u'name': u'Action'}, {u'id': 18, ...   \n",
       "4  [{u'id': 10402, u'name': u'Music'}, {u'id': 35...   \n",
       "\n",
       "                                          homepage      id     ...      \\\n",
       "0                      https://www.boughtmovie.net  328380     ...       \n",
       "1                                                   112052     ...       \n",
       "2  http://www.hkcinemagic.com/en/movie.asp?id=6627  201706     ...       \n",
       "3                                                    61803     ...       \n",
       "4                                                    28665     ...       \n",
       "\n",
       "  revenue reviews runtime                                   spoken_languages  \\\n",
       "0       0      []    93.0       [{u'iso_639_1': u'en', u'name': u'English'}]   \n",
       "1       0      []    60.0       [{u'iso_639_1': u'en', u'name': u'English'}]   \n",
       "2       0      []     1.0  [{u'name': u'广州话 / 廣州話', u'iso_639_1': u'cn'},...   \n",
       "3       0      []    92.0       [{u'name': u'English', u'iso_639_1': u'en'}]   \n",
       "4       0      []   107.0       [{u'iso_639_1': u'en', u'name': u'English'}]   \n",
       "\n",
       "     status                                            tagline  \\\n",
       "0  Released                                                      \n",
       "1  Released                                                      \n",
       "2  Released                                                      \n",
       "3  Released  he quake of the century... get ready to rumble...   \n",
       "4  Released                                                      \n",
       "\n",
       "              title  video vote_average  vote_count  \n",
       "0            Bought  False          0.0           0  \n",
       "1  Egypt Underworld  False          3.8           2  \n",
       "2    Chinese Heroes  False          0.0           0  \n",
       "3         Shakedown  False          3.0           2  \n",
       "4              Fame  False          5.4         109  \n",
       "\n",
       "[5 rows x 29 columns]"
      ]
     },
     "execution_count": 3,
     "metadata": {},
     "output_type": "execute_result"
    }
   ],
   "source": [
    "raw = pd.read_json('../../data/themoviedb-5k-sample-4-15-2017.json')\n",
    "print(raw.shape)\n",
    "raw.head()"
   ]
  },
  {
   "cell_type": "code",
   "execution_count": 4,
   "metadata": {
    "collapsed": false
   },
   "outputs": [
    {
     "name": "stdout",
     "output_type": "stream",
     "text": [
      "(5000, 3)\n"
     ]
    },
    {
     "data": {
      "text/html": [
       "<div>\n",
       "<table border=\"1\" class=\"dataframe\">\n",
       "  <thead>\n",
       "    <tr style=\"text-align: right;\">\n",
       "      <th></th>\n",
       "      <th>genres</th>\n",
       "      <th>reviews</th>\n",
       "      <th>overview</th>\n",
       "    </tr>\n",
       "  </thead>\n",
       "  <tbody>\n",
       "    <tr>\n",
       "      <th>0</th>\n",
       "      <td>[{u'name': u'Documentary', u'id': 99}]</td>\n",
       "      <td>[]</td>\n",
       "      <td>Modern industrialization is no longer about st...</td>\n",
       "    </tr>\n",
       "    <tr>\n",
       "      <th>1</th>\n",
       "      <td>[{u'id': 99, u'name': u'Documentary'}]</td>\n",
       "      <td>[]</td>\n",
       "      <td>The documentary is an analysis of the fascinat...</td>\n",
       "    </tr>\n",
       "    <tr>\n",
       "      <th>2</th>\n",
       "      <td>[{u'id': 28, u'name': u'Action'}]</td>\n",
       "      <td>[]</td>\n",
       "      <td>A good-natured kung fu kid gets caught up in c...</td>\n",
       "    </tr>\n",
       "    <tr>\n",
       "      <th>3</th>\n",
       "      <td>[{u'id': 28, u'name': u'Action'}, {u'id': 18, ...</td>\n",
       "      <td>[]</td>\n",
       "      <td>In Los Angeles a deadly plague called the 'Pan...</td>\n",
       "    </tr>\n",
       "    <tr>\n",
       "      <th>4</th>\n",
       "      <td>[{u'id': 10402, u'name': u'Music'}, {u'id': 35...</td>\n",
       "      <td>[]</td>\n",
       "      <td>An updated version of the 1980 musical, which ...</td>\n",
       "    </tr>\n",
       "  </tbody>\n",
       "</table>\n",
       "</div>"
      ],
      "text/plain": [
       "                                              genres reviews  \\\n",
       "0             [{u'name': u'Documentary', u'id': 99}]      []   \n",
       "1             [{u'id': 99, u'name': u'Documentary'}]      []   \n",
       "2                  [{u'id': 28, u'name': u'Action'}]      []   \n",
       "3  [{u'id': 28, u'name': u'Action'}, {u'id': 18, ...      []   \n",
       "4  [{u'id': 10402, u'name': u'Music'}, {u'id': 35...      []   \n",
       "\n",
       "                                            overview  \n",
       "0  Modern industrialization is no longer about st...  \n",
       "1  The documentary is an analysis of the fascinat...  \n",
       "2  A good-natured kung fu kid gets caught up in c...  \n",
       "3  In Los Angeles a deadly plague called the 'Pan...  \n",
       "4  An updated version of the 1980 musical, which ...  "
      ]
     },
     "execution_count": 4,
     "metadata": {},
     "output_type": "execute_result"
    }
   ],
   "source": [
    "# Keeping only genres, overviews, and reviews\n",
    "raw = raw[['genres', 'reviews', 'overview']].copy()\n",
    "print(raw.shape)\n",
    "raw.head()"
   ]
  },
  {
   "cell_type": "markdown",
   "metadata": {},
   "source": [
    "## Converting `genres` to bigrams"
   ]
  },
  {
   "cell_type": "code",
   "execution_count": 5,
   "metadata": {
    "collapsed": false
   },
   "outputs": [
    {
     "data": {
      "text/html": [
       "<div>\n",
       "<table border=\"1\" class=\"dataframe\">\n",
       "  <thead>\n",
       "    <tr style=\"text-align: right;\">\n",
       "      <th></th>\n",
       "      <th>genres</th>\n",
       "      <th>reviews</th>\n",
       "      <th>overview</th>\n",
       "      <th>genre_lists</th>\n",
       "      <th>genre_bigrams</th>\n",
       "      <th>popular_bigram</th>\n",
       "    </tr>\n",
       "  </thead>\n",
       "  <tbody>\n",
       "    <tr>\n",
       "      <th>0</th>\n",
       "      <td>[{u'name': u'Documentary', u'id': 99}]</td>\n",
       "      <td>[]</td>\n",
       "      <td>Modern industrialization is no longer about st...</td>\n",
       "      <td>[Documentary]</td>\n",
       "      <td>[]</td>\n",
       "      <td>(Documentary,)</td>\n",
       "    </tr>\n",
       "    <tr>\n",
       "      <th>1</th>\n",
       "      <td>[{u'id': 99, u'name': u'Documentary'}]</td>\n",
       "      <td>[]</td>\n",
       "      <td>The documentary is an analysis of the fascinat...</td>\n",
       "      <td>[Documentary]</td>\n",
       "      <td>[]</td>\n",
       "      <td>(Documentary,)</td>\n",
       "    </tr>\n",
       "    <tr>\n",
       "      <th>2</th>\n",
       "      <td>[{u'id': 28, u'name': u'Action'}]</td>\n",
       "      <td>[]</td>\n",
       "      <td>A good-natured kung fu kid gets caught up in c...</td>\n",
       "      <td>[Action]</td>\n",
       "      <td>[]</td>\n",
       "      <td>(Action,)</td>\n",
       "    </tr>\n",
       "    <tr>\n",
       "      <th>3</th>\n",
       "      <td>[{u'id': 28, u'name': u'Action'}, {u'id': 18, ...</td>\n",
       "      <td>[]</td>\n",
       "      <td>In Los Angeles a deadly plague called the 'Pan...</td>\n",
       "      <td>[Action, Drama, Thriller]</td>\n",
       "      <td>[(Action, Drama), (Drama, Thriller)]</td>\n",
       "      <td>(Drama, Thriller)</td>\n",
       "    </tr>\n",
       "    <tr>\n",
       "      <th>4</th>\n",
       "      <td>[{u'id': 10402, u'name': u'Music'}, {u'id': 35...</td>\n",
       "      <td>[]</td>\n",
       "      <td>An updated version of the 1980 musical, which ...</td>\n",
       "      <td>[Music, Comedy, Drama, Romance]</td>\n",
       "      <td>[(Music, Comedy), (Comedy, Drama), (Drama, Rom...</td>\n",
       "      <td>(Drama, Romance)</td>\n",
       "    </tr>\n",
       "  </tbody>\n",
       "</table>\n",
       "</div>"
      ],
      "text/plain": [
       "                                              genres reviews  \\\n",
       "0             [{u'name': u'Documentary', u'id': 99}]      []   \n",
       "1             [{u'id': 99, u'name': u'Documentary'}]      []   \n",
       "2                  [{u'id': 28, u'name': u'Action'}]      []   \n",
       "3  [{u'id': 28, u'name': u'Action'}, {u'id': 18, ...      []   \n",
       "4  [{u'id': 10402, u'name': u'Music'}, {u'id': 35...      []   \n",
       "\n",
       "                                            overview  \\\n",
       "0  Modern industrialization is no longer about st...   \n",
       "1  The documentary is an analysis of the fascinat...   \n",
       "2  A good-natured kung fu kid gets caught up in c...   \n",
       "3  In Los Angeles a deadly plague called the 'Pan...   \n",
       "4  An updated version of the 1980 musical, which ...   \n",
       "\n",
       "                       genre_lists  \\\n",
       "0                    [Documentary]   \n",
       "1                    [Documentary]   \n",
       "2                         [Action]   \n",
       "3        [Action, Drama, Thriller]   \n",
       "4  [Music, Comedy, Drama, Romance]   \n",
       "\n",
       "                                       genre_bigrams     popular_bigram  \n",
       "0                                                 []     (Documentary,)  \n",
       "1                                                 []     (Documentary,)  \n",
       "2                                                 []          (Action,)  \n",
       "3               [(Action, Drama), (Drama, Thriller)]  (Drama, Thriller)  \n",
       "4  [(Music, Comedy), (Comedy, Drama), (Drama, Rom...   (Drama, Romance)  "
      ]
     },
     "execution_count": 5,
     "metadata": {},
     "output_type": "execute_result"
    }
   ],
   "source": [
    "all_bigrams_ever = []\n",
    "\n",
    "def bigrams(row):\n",
    "    return zip(row['genre_lists'], row['genre_lists'][1:])\n",
    "\n",
    "def col_for_each_bigram(row):\n",
    "    for bigram in row['genre_bigrams']:            \n",
    "        all_bigrams_ever.append(tuple(sorted(bigram)))\n",
    "    return row\n",
    "\n",
    "def popular_bigram(row):\n",
    "    for k in row['genre_bigrams']:\n",
    "        if bigram_frequency[k] <= 50 and len(row['genre_lists']) != 1:\n",
    "            row['popular_bigram'] = 'Other'\n",
    "        elif k in OrderedDict(bigram_frequency.most_common()).keys() and row['popular_bigram'] != k:\n",
    "            row['popular_bigram'] = k\n",
    "    if len(row['genre_lists']) == 1:\n",
    "        row['popular_bigram'] = tuple(row['genre_lists'])\n",
    "    return row\n",
    "                \n",
    "raw['genre_lists'] = raw.apply(lambda x: [y['name'] for y in x['genres']], axis = 1)\n",
    "raw['genre_bigrams'] = raw.apply(lambda x: bigrams(x), axis = 1)\n",
    "raw['popular_bigram'] = np.nan\n",
    "raw = raw.apply(lambda x: col_for_each_bigram(x), axis = 1)\n",
    "bigram_frequency = Counter(all_bigrams_ever)\n",
    "raw = raw.apply(lambda x: popular_bigram(x), axis = 1)\n",
    "raw.head()"
   ]
  },
  {
   "cell_type": "code",
   "execution_count": 6,
   "metadata": {
    "collapsed": false
   },
   "outputs": [
    {
     "data": {
      "text/plain": [
       "(Western,)            19\n",
       "(Adventure, Drama)    16\n",
       "(Fantasy,)            15\n",
       "(Crime,)              13\n",
       "(Adventure,)          12\n",
       "(Foreign,)             6\n",
       "(Mystery,)             4\n",
       "(TV Movie,)            3\n",
       "(War,)                 1\n",
       "(History,)             1\n",
       "Name: popular_bigram, dtype: int64"
      ]
     },
     "execution_count": 6,
     "metadata": {},
     "output_type": "execute_result"
    }
   ],
   "source": [
    "genre_frequency = raw['popular_bigram'].value_counts()\n",
    "genre_frequency[-10:]"
   ]
  },
  {
   "cell_type": "code",
   "execution_count": 7,
   "metadata": {
    "collapsed": false
   },
   "outputs": [
    {
     "data": {
      "text/plain": [
       "0    4214\n",
       "1     786\n",
       "Name: drop, dtype: int64"
      ]
     },
     "execution_count": 7,
     "metadata": {},
     "output_type": "execute_result"
    }
   ],
   "source": [
    "# Dropping \"rare\" movies (i.e. with a y < 1% of sample N)\n",
    "rare_genres = genre_frequency[genre_frequency < (raw.shape[0]*0.01)].index\n",
    "raw['drop'] = raw.apply(lambda x: 1 if x['popular_bigram'] in rare_genres else 0, axis = 1)\n",
    "raw['drop'].value_counts()"
   ]
  },
  {
   "cell_type": "code",
   "execution_count": 8,
   "metadata": {
    "collapsed": false
   },
   "outputs": [
    {
     "data": {
      "text/plain": [
       "((5000, 7), (2739, 7))"
      ]
     },
     "execution_count": 8,
     "metadata": {},
     "output_type": "execute_result"
    }
   ],
   "source": [
    "# I'll drop movies with 'rare' genres\n",
    "df = raw[(raw['drop'] == 0) | (raw['popular_bigram'] == 'Other')].copy()\n",
    "df = df[df['popular_bigram'] != 'Other'].copy()\n",
    "raw.shape, df.shape"
   ]
  },
  {
   "cell_type": "markdown",
   "metadata": {},
   "source": [
    "The final $y$ I'll be predicting is `popular_bigram`. \n",
    "\n",
    "## Converting `overview` and `reviews` to word-frequency vectors"
   ]
  },
  {
   "cell_type": "code",
   "execution_count": 9,
   "metadata": {
    "collapsed": true
   },
   "outputs": [],
   "source": [
    "# I realized that sometimes 'overview' was in my top words list; renaming it here 'protects' it\n",
    "df.rename(columns={'overview': 'movie_overview'}, inplace=True)\n",
    "\n",
    "stops = set(nltk.corpus.stopwords.words('english'))\n",
    "all_words_ever = []\n",
    "\n",
    "def add_cols_for_all_words(row):\n",
    "    if row['movie_overview'] is not None:\n",
    "        words = nltk.word_tokenize(row['movie_overview'])\n",
    "        words = [word.lower() for word in words if len(word) > 2 and unidecode(word.lower()) not in stops]\n",
    "        all_words_ever.extend(words)\n",
    "    return row\n",
    "\n",
    "def parse_words(row):\n",
    "    if row['movie_overview'] is not None:\n",
    "        words = nltk.word_tokenize(row['movie_overview'])\n",
    "        words = [word.lower() for word in words if word.lower() in top_words]\n",
    "        for word in words:\n",
    "            row[unidecode(word)] += 1        \n",
    "    return row"
   ]
  },
  {
   "cell_type": "code",
   "execution_count": 10,
   "metadata": {
    "collapsed": false
   },
   "outputs": [
    {
     "data": {
      "text/html": [
       "<div>\n",
       "<table border=\"1\" class=\"dataframe\">\n",
       "  <thead>\n",
       "    <tr style=\"text-align: right;\">\n",
       "      <th></th>\n",
       "      <th>genres</th>\n",
       "      <th>reviews</th>\n",
       "      <th>movie_overview</th>\n",
       "      <th>genre_lists</th>\n",
       "      <th>genre_bigrams</th>\n",
       "      <th>popular_bigram</th>\n",
       "      <th>drop</th>\n",
       "      <th>review_text</th>\n",
       "    </tr>\n",
       "  </thead>\n",
       "  <tbody>\n",
       "    <tr>\n",
       "      <th>0</th>\n",
       "      <td>[{u'name': u'Documentary', u'id': 99}]</td>\n",
       "      <td>[]</td>\n",
       "      <td>Modern industrialization is no longer about st...</td>\n",
       "      <td>[Documentary]</td>\n",
       "      <td>[]</td>\n",
       "      <td>(Documentary,)</td>\n",
       "      <td>0</td>\n",
       "      <td>[]</td>\n",
       "    </tr>\n",
       "    <tr>\n",
       "      <th>1</th>\n",
       "      <td>[{u'id': 99, u'name': u'Documentary'}]</td>\n",
       "      <td>[]</td>\n",
       "      <td>The documentary is an analysis of the fascinat...</td>\n",
       "      <td>[Documentary]</td>\n",
       "      <td>[]</td>\n",
       "      <td>(Documentary,)</td>\n",
       "      <td>0</td>\n",
       "      <td>[]</td>\n",
       "    </tr>\n",
       "    <tr>\n",
       "      <th>2</th>\n",
       "      <td>[{u'id': 28, u'name': u'Action'}]</td>\n",
       "      <td>[]</td>\n",
       "      <td>A good-natured kung fu kid gets caught up in c...</td>\n",
       "      <td>[Action]</td>\n",
       "      <td>[]</td>\n",
       "      <td>(Action,)</td>\n",
       "      <td>0</td>\n",
       "      <td>[]</td>\n",
       "    </tr>\n",
       "    <tr>\n",
       "      <th>3</th>\n",
       "      <td>[{u'id': 28, u'name': u'Action'}, {u'id': 18, ...</td>\n",
       "      <td>[]</td>\n",
       "      <td>In Los Angeles a deadly plague called the 'Pan...</td>\n",
       "      <td>[Action, Drama, Thriller]</td>\n",
       "      <td>[(Action, Drama), (Drama, Thriller)]</td>\n",
       "      <td>(Drama, Thriller)</td>\n",
       "      <td>0</td>\n",
       "      <td>[]</td>\n",
       "    </tr>\n",
       "    <tr>\n",
       "      <th>4</th>\n",
       "      <td>[{u'id': 10402, u'name': u'Music'}, {u'id': 35...</td>\n",
       "      <td>[]</td>\n",
       "      <td>An updated version of the 1980 musical, which ...</td>\n",
       "      <td>[Music, Comedy, Drama, Romance]</td>\n",
       "      <td>[(Music, Comedy), (Comedy, Drama), (Drama, Rom...</td>\n",
       "      <td>(Drama, Romance)</td>\n",
       "      <td>0</td>\n",
       "      <td>[]</td>\n",
       "    </tr>\n",
       "  </tbody>\n",
       "</table>\n",
       "</div>"
      ],
      "text/plain": [
       "                                              genres reviews  \\\n",
       "0             [{u'name': u'Documentary', u'id': 99}]      []   \n",
       "1             [{u'id': 99, u'name': u'Documentary'}]      []   \n",
       "2                  [{u'id': 28, u'name': u'Action'}]      []   \n",
       "3  [{u'id': 28, u'name': u'Action'}, {u'id': 18, ...      []   \n",
       "4  [{u'id': 10402, u'name': u'Music'}, {u'id': 35...      []   \n",
       "\n",
       "                                      movie_overview  \\\n",
       "0  Modern industrialization is no longer about st...   \n",
       "1  The documentary is an analysis of the fascinat...   \n",
       "2  A good-natured kung fu kid gets caught up in c...   \n",
       "3  In Los Angeles a deadly plague called the 'Pan...   \n",
       "4  An updated version of the 1980 musical, which ...   \n",
       "\n",
       "                       genre_lists  \\\n",
       "0                    [Documentary]   \n",
       "1                    [Documentary]   \n",
       "2                         [Action]   \n",
       "3        [Action, Drama, Thriller]   \n",
       "4  [Music, Comedy, Drama, Romance]   \n",
       "\n",
       "                                       genre_bigrams     popular_bigram  drop  \\\n",
       "0                                                 []     (Documentary,)     0   \n",
       "1                                                 []     (Documentary,)     0   \n",
       "2                                                 []          (Action,)     0   \n",
       "3               [(Action, Drama), (Drama, Thriller)]  (Drama, Thriller)     0   \n",
       "4  [(Music, Comedy), (Comedy, Drama), (Drama, Rom...   (Drama, Romance)     0   \n",
       "\n",
       "  review_text  \n",
       "0          []  \n",
       "1          []  \n",
       "2          []  \n",
       "3          []  \n",
       "4          []  "
      ]
     },
     "execution_count": 10,
     "metadata": {},
     "output_type": "execute_result"
    }
   ],
   "source": [
    "df['review_text'] = df.apply(lambda row: [x['content'] for x in row['reviews']], axis = 1)\n",
    "df.head()"
   ]
  },
  {
   "cell_type": "code",
   "execution_count": 11,
   "metadata": {
    "collapsed": false
   },
   "outputs": [
    {
     "data": {
      "text/plain": [
       "(84019, 18506)"
      ]
     },
     "execution_count": 11,
     "metadata": {},
     "output_type": "execute_result"
    }
   ],
   "source": [
    "df = df.apply(lambda x: add_cols_for_all_words(x), axis = 1)\n",
    "len(all_words_ever), len(set(all_words_ever))"
   ]
  },
  {
   "cell_type": "code",
   "execution_count": 12,
   "metadata": {
    "collapsed": false
   },
   "outputs": [
    {
     "data": {
      "text/plain": [
       "500"
      ]
     },
     "execution_count": 12,
     "metadata": {},
     "output_type": "execute_result"
    }
   ],
   "source": [
    "# I'll use the top N words\n",
    "N = 500\n",
    "top_words = [word[0] for word in Counter(all_words_ever).most_common(N)]\n",
    "len(top_words)"
   ]
  },
  {
   "cell_type": "code",
   "execution_count": 13,
   "metadata": {
    "collapsed": false
   },
   "outputs": [
    {
     "name": "stdout",
     "output_type": "stream",
     "text": [
      "(2739, 508)\n"
     ]
    },
    {
     "data": {
      "text/html": [
       "<div>\n",
       "<table border=\"1\" class=\"dataframe\">\n",
       "  <thead>\n",
       "    <tr style=\"text-align: right;\">\n",
       "      <th></th>\n",
       "      <th>genres</th>\n",
       "      <th>reviews</th>\n",
       "      <th>movie_overview</th>\n",
       "      <th>genre_lists</th>\n",
       "      <th>genre_bigrams</th>\n",
       "      <th>popular_bigram</th>\n",
       "      <th>drop</th>\n",
       "      <th>review_text</th>\n",
       "      <th>life</th>\n",
       "      <th>one</th>\n",
       "      <th>...</th>\n",
       "      <th>everyone</th>\n",
       "      <th>biggest</th>\n",
       "      <th>took</th>\n",
       "      <th>feature</th>\n",
       "      <th>leading</th>\n",
       "      <th>became</th>\n",
       "      <th>question</th>\n",
       "      <th>include</th>\n",
       "      <th>looks</th>\n",
       "      <th>played</th>\n",
       "    </tr>\n",
       "  </thead>\n",
       "  <tbody>\n",
       "    <tr>\n",
       "      <th>0</th>\n",
       "      <td>[{u'name': u'Documentary', u'id': 99}]</td>\n",
       "      <td>[]</td>\n",
       "      <td>Modern industrialization is no longer about st...</td>\n",
       "      <td>[Documentary]</td>\n",
       "      <td>[]</td>\n",
       "      <td>(Documentary,)</td>\n",
       "      <td>0</td>\n",
       "      <td>[]</td>\n",
       "      <td>0</td>\n",
       "      <td>0</td>\n",
       "      <td>...</td>\n",
       "      <td>0</td>\n",
       "      <td>0</td>\n",
       "      <td>0</td>\n",
       "      <td>0</td>\n",
       "      <td>0</td>\n",
       "      <td>0</td>\n",
       "      <td>0</td>\n",
       "      <td>0</td>\n",
       "      <td>0</td>\n",
       "      <td>0</td>\n",
       "    </tr>\n",
       "    <tr>\n",
       "      <th>1</th>\n",
       "      <td>[{u'id': 99, u'name': u'Documentary'}]</td>\n",
       "      <td>[]</td>\n",
       "      <td>The documentary is an analysis of the fascinat...</td>\n",
       "      <td>[Documentary]</td>\n",
       "      <td>[]</td>\n",
       "      <td>(Documentary,)</td>\n",
       "      <td>0</td>\n",
       "      <td>[]</td>\n",
       "      <td>0</td>\n",
       "      <td>0</td>\n",
       "      <td>...</td>\n",
       "      <td>0</td>\n",
       "      <td>0</td>\n",
       "      <td>0</td>\n",
       "      <td>0</td>\n",
       "      <td>0</td>\n",
       "      <td>0</td>\n",
       "      <td>0</td>\n",
       "      <td>0</td>\n",
       "      <td>0</td>\n",
       "      <td>0</td>\n",
       "    </tr>\n",
       "    <tr>\n",
       "      <th>2</th>\n",
       "      <td>[{u'id': 28, u'name': u'Action'}]</td>\n",
       "      <td>[]</td>\n",
       "      <td>A good-natured kung fu kid gets caught up in c...</td>\n",
       "      <td>[Action]</td>\n",
       "      <td>[]</td>\n",
       "      <td>(Action,)</td>\n",
       "      <td>0</td>\n",
       "      <td>[]</td>\n",
       "      <td>0</td>\n",
       "      <td>0</td>\n",
       "      <td>...</td>\n",
       "      <td>0</td>\n",
       "      <td>0</td>\n",
       "      <td>0</td>\n",
       "      <td>0</td>\n",
       "      <td>0</td>\n",
       "      <td>0</td>\n",
       "      <td>0</td>\n",
       "      <td>0</td>\n",
       "      <td>0</td>\n",
       "      <td>0</td>\n",
       "    </tr>\n",
       "    <tr>\n",
       "      <th>3</th>\n",
       "      <td>[{u'id': 28, u'name': u'Action'}, {u'id': 18, ...</td>\n",
       "      <td>[]</td>\n",
       "      <td>In Los Angeles a deadly plague called the 'Pan...</td>\n",
       "      <td>[Action, Drama, Thriller]</td>\n",
       "      <td>[(Action, Drama), (Drama, Thriller)]</td>\n",
       "      <td>(Drama, Thriller)</td>\n",
       "      <td>0</td>\n",
       "      <td>[]</td>\n",
       "      <td>0</td>\n",
       "      <td>0</td>\n",
       "      <td>...</td>\n",
       "      <td>0</td>\n",
       "      <td>0</td>\n",
       "      <td>0</td>\n",
       "      <td>0</td>\n",
       "      <td>0</td>\n",
       "      <td>0</td>\n",
       "      <td>0</td>\n",
       "      <td>0</td>\n",
       "      <td>0</td>\n",
       "      <td>0</td>\n",
       "    </tr>\n",
       "    <tr>\n",
       "      <th>4</th>\n",
       "      <td>[{u'id': 10402, u'name': u'Music'}, {u'id': 35...</td>\n",
       "      <td>[]</td>\n",
       "      <td>An updated version of the 1980 musical, which ...</td>\n",
       "      <td>[Music, Comedy, Drama, Romance]</td>\n",
       "      <td>[(Music, Comedy), (Comedy, Drama), (Drama, Rom...</td>\n",
       "      <td>(Drama, Romance)</td>\n",
       "      <td>0</td>\n",
       "      <td>[]</td>\n",
       "      <td>0</td>\n",
       "      <td>0</td>\n",
       "      <td>...</td>\n",
       "      <td>0</td>\n",
       "      <td>0</td>\n",
       "      <td>0</td>\n",
       "      <td>0</td>\n",
       "      <td>0</td>\n",
       "      <td>0</td>\n",
       "      <td>0</td>\n",
       "      <td>0</td>\n",
       "      <td>0</td>\n",
       "      <td>0</td>\n",
       "    </tr>\n",
       "  </tbody>\n",
       "</table>\n",
       "<p>5 rows × 508 columns</p>\n",
       "</div>"
      ],
      "text/plain": [
       "                                              genres reviews  \\\n",
       "0             [{u'name': u'Documentary', u'id': 99}]      []   \n",
       "1             [{u'id': 99, u'name': u'Documentary'}]      []   \n",
       "2                  [{u'id': 28, u'name': u'Action'}]      []   \n",
       "3  [{u'id': 28, u'name': u'Action'}, {u'id': 18, ...      []   \n",
       "4  [{u'id': 10402, u'name': u'Music'}, {u'id': 35...      []   \n",
       "\n",
       "                                      movie_overview  \\\n",
       "0  Modern industrialization is no longer about st...   \n",
       "1  The documentary is an analysis of the fascinat...   \n",
       "2  A good-natured kung fu kid gets caught up in c...   \n",
       "3  In Los Angeles a deadly plague called the 'Pan...   \n",
       "4  An updated version of the 1980 musical, which ...   \n",
       "\n",
       "                       genre_lists  \\\n",
       "0                    [Documentary]   \n",
       "1                    [Documentary]   \n",
       "2                         [Action]   \n",
       "3        [Action, Drama, Thriller]   \n",
       "4  [Music, Comedy, Drama, Romance]   \n",
       "\n",
       "                                       genre_bigrams     popular_bigram  drop  \\\n",
       "0                                                 []     (Documentary,)     0   \n",
       "1                                                 []     (Documentary,)     0   \n",
       "2                                                 []          (Action,)     0   \n",
       "3               [(Action, Drama), (Drama, Thriller)]  (Drama, Thriller)     0   \n",
       "4  [(Music, Comedy), (Comedy, Drama), (Drama, Rom...   (Drama, Romance)     0   \n",
       "\n",
       "  review_text  life  one   ...    everyone  biggest  took  feature  leading  \\\n",
       "0          []     0    0   ...           0        0     0        0        0   \n",
       "1          []     0    0   ...           0        0     0        0        0   \n",
       "2          []     0    0   ...           0        0     0        0        0   \n",
       "3          []     0    0   ...           0        0     0        0        0   \n",
       "4          []     0    0   ...           0        0     0        0        0   \n",
       "\n",
       "   became  question  include  looks  played  \n",
       "0       0         0        0      0       0  \n",
       "1       0         0        0      0       0  \n",
       "2       0         0        0      0       0  \n",
       "3       0         0        0      0       0  \n",
       "4       0         0        0      0       0  \n",
       "\n",
       "[5 rows x 508 columns]"
      ]
     },
     "execution_count": 13,
     "metadata": {},
     "output_type": "execute_result"
    }
   ],
   "source": [
    "for word in top_words:\n",
    "    df[unidecode(word)] = 0\n",
    "\n",
    "df = df.apply(lambda x: parse_words(x), axis = 1)\n",
    "    \n",
    "print(df.shape)\n",
    "df.head()"
   ]
  },
  {
   "cell_type": "markdown",
   "metadata": {},
   "source": [
    "## Fitting the model\n",
    "I'll use a Naive Bayes multinomial classifier. We have to predict 28 unique genre bigrams. We're using 500 \"top word\" frequency vectors. "
   ]
  },
  {
   "cell_type": "code",
   "execution_count": 44,
   "metadata": {
    "collapsed": false
   },
   "outputs": [
    {
     "data": {
      "text/plain": [
       "((2739, 500), (2739,))"
      ]
     },
     "execution_count": 44,
     "metadata": {},
     "output_type": "execute_result"
    }
   ],
   "source": [
    "X = df[df.columns[-N:]]\n",
    "y = df['popular_bigram']\n",
    "y = y.apply(lambda x: str(x))\n",
    "X.shape, y.shape"
   ]
  },
  {
   "cell_type": "code",
   "execution_count": 45,
   "metadata": {
    "collapsed": true
   },
   "outputs": [],
   "source": [
    "clf = MultinomialNB()"
   ]
  },
  {
   "cell_type": "code",
   "execution_count": 92,
   "metadata": {
    "collapsed": false
   },
   "outputs": [
    {
     "name": "stdout",
     "output_type": "stream",
     "text": [
      "Accuracy: 0.39 (+/- 0.04)%\n"
     ]
    }
   ],
   "source": [
    "scores = cross_val_score(clf, X, y, cv=5)\n",
    "print(\"Accuracy: {:0.2f} (+/- {:0.2f})%\".format(scores.mean(), scores.std() * 2))"
   ]
  },
  {
   "cell_type": "markdown",
   "metadata": {},
   "source": [
    "We have 16 unique genres which we are predicting. A random classifier would thus predict around 6% correctly. At present, we're able to predict with around 39% accuracy, using the top 500 words (by frequency) in film summary overviews.\n",
    "\n",
    "### Confusion matrix"
   ]
  },
  {
   "cell_type": "code",
   "execution_count": 47,
   "metadata": {
    "collapsed": false
   },
   "outputs": [
    {
     "data": {
      "text/plain": [
       "((2191, 508), (548, 508))"
      ]
     },
     "execution_count": 47,
     "metadata": {},
     "output_type": "execute_result"
    }
   ],
   "source": [
    "train = df.sample(frac = 0.8)\n",
    "test = df.drop(train.index)\n",
    "train.shape, test.shape"
   ]
  },
  {
   "cell_type": "code",
   "execution_count": 52,
   "metadata": {
    "collapsed": false
   },
   "outputs": [
    {
     "data": {
      "text/plain": [
       "((2191, 500), (548, 500))"
      ]
     },
     "execution_count": 52,
     "metadata": {},
     "output_type": "execute_result"
    }
   ],
   "source": [
    "X_train = train[train.columns[-N:]]\n",
    "X_test = test[test.columns[-N:]]\n",
    "y_train = train['popular_bigram'].apply(lambda x: str(x))\n",
    "y_test = test['popular_bigram'].apply(lambda x: str(x))\n",
    "X_train.shape, X_test.shape"
   ]
  },
  {
   "cell_type": "code",
   "execution_count": 87,
   "metadata": {
    "collapsed": false
   },
   "outputs": [],
   "source": [
    "fitted = clf.fit(X_train, y_train)\n",
    "y_pred = clf.predict(X_test)\n",
    "score = fitted.score(X_test, y_test)\n",
    "cm = confusion_matrix(y_test, y_pred, labels = y_test.unique())"
   ]
  },
  {
   "cell_type": "code",
   "execution_count": 91,
   "metadata": {
    "collapsed": false
   },
   "outputs": [
    {
     "data": {
      "image/png": "[encoded data removed]",
      "text/plain": [
       "<matplotlib.figure.Figure at 0x109eb7110>"
      ]
     },
     "metadata": {},
     "output_type": "display_data"
    }
   ],
   "source": [
    "plt.imshow(cm, interpolation='nearest', cmap=plt.cm.Blues)\n",
    "tick_marks = np.arange(y_test.nunique())\n",
    "plt.xticks(tick_marks, y_test.unique(), rotation=45)\n",
    "plt.yticks(tick_marks, y_test.unique())\n",
    "plt.xlabel('Predicted label')\n",
    "plt.ylabel('True label')\n",
    "plt.title('Confusion matrix: Naive Bayes genre prediction ({:.0f}% accuracy)'.format(score*100))\n",
    "plt.show()"
   ]
  },
  {
   "cell_type": "code",
   "execution_count": 99,
   "metadata": {
    "collapsed": false
   },
   "outputs": [
    {
     "data": {
      "text/plain": [
       "(u'Documentary',)             123\n",
       "(u'Drama',)                    97\n",
       "(u'Comedy',)                   84\n",
       "(u'Horror',)                   32\n",
       "(u'Drama', u'Romance')         32\n",
       "(u'Music',)                    30\n",
       "(u'Comedy', u'Drama')          25\n",
       "(u'Horror', u'Thriller')       19\n",
       "(u'Comedy', u'Romance')        18\n",
       "(u'Drama', u'Thriller')        16\n",
       "(u'Thriller',)                 16\n",
       "(u'Documentary', u'Music')     16\n",
       "(u'Action',)                   13\n",
       "(u'Crime', u'Drama')           11\n",
       "(u'Action', u'Thriller')       11\n",
       "(u'Animation',)                 5\n",
       "Name: popular_bigram, dtype: int64"
      ]
     },
     "execution_count": 99,
     "metadata": {},
     "output_type": "execute_result"
    }
   ],
   "source": [
    "y_test.value_counts()"
   ]
  },
  {
   "cell_type": "code",
   "execution_count": 103,
   "metadata": {
    "collapsed": false
   },
   "outputs": [
    {
     "data": {
      "text/plain": [
       "(u'Documentary',)             165\n",
       "(u'Drama',)                   125\n",
       "(u'Comedy',)                   54\n",
       "(u'Horror',)                   40\n",
       "(u'Music',)                    37\n",
       "(u'Drama', u'Romance')         34\n",
       "(u'Drama', u'Thriller')        20\n",
       "(u'Horror', u'Thriller')       16\n",
       "(u'Comedy', u'Romance')        13\n",
       "(u'Documentary', u'Music')     12\n",
       "(u'Action', u'Thriller')        9\n",
       "(u'Comedy', u'Drama')           9\n",
       "(u'Action',)                    6\n",
       "(u'Crime', u'Drama')            3\n",
       "(u'Thriller',)                  3\n",
       "(u'Animation',)                 2\n",
       "dtype: int64"
      ]
     },
     "execution_count": 103,
     "metadata": {},
     "output_type": "execute_result"
    }
   ],
   "source": [
    "pd.Series(y_pred).value_counts()"
   ]
  },
  {
   "cell_type": "code",
   "execution_count": 109,
   "metadata": {
    "collapsed": false
   },
   "outputs": [
    {
     "data": {
      "image/png": "[encoded data removed]",
      "text/plain": [
       "<matplotlib.figure.Figure at 0x10a244bd0>"
      ]
     },
     "metadata": {},
     "output_type": "display_data"
    }
   ],
   "source": [
    "plt.hist(y_test.value_counts(), alpha = 0.5, label = 'True values')\n",
    "plt.hist(pd.Series(y_pred).value_counts(), alpha = 0.5, label = 'Predictions')\n",
    "plt.legend()\n",
    "plt.title('Distribution of classes')\n",
    "plt.show()"
   ]
  },
  {
   "cell_type": "code",
   "execution_count": null,
   "metadata": {
    "collapsed": true
   },
   "outputs": [],
   "source": []
  }
 ],
 "metadata": {
  "kernelspec": {
   "display_name": "Python 2",
   "language": "python",
   "name": "python2"
  },
  "language_info": {
   "codemirror_mode": {
    "name": "ipython",
    "version": 2
   },
   "file_extension": ".py",
   "mimetype": "text/x-python",
   "name": "python",
   "nbconvert_exporter": "python",
   "pygments_lexer": "ipython2",
   "version": "2.7.10"
  }
 },
 "nbformat": 4,
 "nbformat_minor": 2
}
