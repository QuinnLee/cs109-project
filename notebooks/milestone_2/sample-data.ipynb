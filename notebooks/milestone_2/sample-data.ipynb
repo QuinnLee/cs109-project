{
 "cells": [
  {
   "cell_type": "code",
   "execution_count": 1,
   "metadata": {
    "collapsed": true,
    "deletable": true,
    "editable": true
   },
   "outputs": [],
   "source": [
    "import json\n",
    "import http.client\n",
    "\n",
    "import http\n",
    "import time\n",
    "import random\n",
    "\n",
    "\n",
    "from urllib import request"
   ]
  },
  {
   "cell_type": "code",
   "execution_count": 17,
   "metadata": {
    "collapsed": true,
    "deletable": true,
    "editable": true
   },
   "outputs": [],
   "source": [
    "API_KEY = 'API KEY'"
   ]
  },
  {
   "cell_type": "code",
   "execution_count": null,
   "metadata": {
    "collapsed": true,
    "deletable": true,
    "editable": true
   },
   "outputs": [],
   "source": [
    "def merge_dicts(*dict_args):\n",
    "    \"\"\"\n",
    "    Given any number of dicts, shallow copy and merge into a new dict,\n",
    "    precedence goes to key value pairs in latter dicts.\n",
    "    \"\"\"\n",
    "    result = {}\n",
    "    for dictionary in dict_args:\n",
    "        result.update(dictionary)\n",
    "    return result"
   ]
  },
  {
   "cell_type": "code",
   "execution_count": null,
   "metadata": {
    "collapsed": false,
    "deletable": true,
    "editable": true
   },
   "outputs": [],
   "source": [
    "for year in range(1960, 1970):\n",
    "\n",
    "    print('%%%%%%%%%%%%%%%%%%%%%%')\n",
    "    print(year)\n",
    "    print('%%%%%%%%%%%%%%%%%%%%%%')\n",
    "    movies = list()\n",
    "    page = 1\n",
    "    last_page = 10 # temp value\n",
    "\n",
    "    conn = http.client.HTTPSConnection(\"api.themoviedb.org\")\n",
    "\n",
    "    payload = \"{}\"\n",
    "\n",
    "    while(page <= last_page):\n",
    "        uri = \"/3/discover/movie?page={}&primary_release_year={}&include_adult=true&sort_by=popularity.desc&api_key={}\".format(page, year, API_KEY)\n",
    "        conn.request(\"GET\", uri, payload)\n",
    "        res = conn.getresponse()\n",
    "        data = json.loads(res.read().decode('utf-8'))\n",
    "        movies.extend(data['results'])\n",
    "        last_page = data['total_pages']\n",
    "        page = data['page'] + 1\n",
    "        if(page%100 == 0):\n",
    "            print(page)\n",
    "        time.sleep(0.4)\n",
    "\n",
    "    with open('themoviedb-{}.json'.format(year), 'w') as fp:\n",
    "        json.dump(movies, fp)\n",
    "\n",
    "\n",
    "    index = 0\n",
    "    total_movies = len(movies)\n",
    "\n",
    "    conn = http.client.HTTPSConnection(\"api.themoviedb.org\")\n",
    "\n",
    "    payload = \"{}\"\n",
    "\n",
    "    while(index < total_movies):\n",
    "        try:\n",
    "            movie = movies[index]\n",
    "            uri = \"/3/movie/{}?api_key={}\".format(movie['id'], API_KEY)\n",
    "            conn.request(\"GET\", uri, payload)\n",
    "            res = conn.getresponse()\n",
    "            data = json.loads(res.read().decode('utf-8'))\n",
    "            movies[index] = merge_dicts(movie, data)\n",
    "            index = index + 1\n",
    "            if(index%100 == 0):\n",
    "                print(index)\n",
    "            time.sleep(0.4)\n",
    "        except:\n",
    "            print('what')\n",
    "            with open('themoviedb-{}.json'.format(year), 'w') as fp:\n",
    "                json.dump(movies, fp)\n",
    "            break\n",
    "\n",
    "    with open('themoviedb-{}-details.json'.format(year), 'w') as fp:\n",
    "        json.dump(movies, fp)"
   ]
  },
  {
   "cell_type": "code",
   "execution_count": null,
   "metadata": {
    "collapsed": true,
    "deletable": true,
    "editable": true
   },
   "outputs": [],
   "source": [
    "#!/bin/bash\n",
    "#for i in {1970..2007}\n",
    "#do\n",
    "#   scp -r root@162.243.209.144:/themoviedb-$i-details.json .\n",
    "#done"
   ]
  },
  {
   "cell_type": "code",
   "execution_count": null,
   "metadata": {
    "collapsed": false,
    "deletable": true,
    "editable": true
   },
   "outputs": [],
   "source": [
    "data = []\n",
    "for year in range(1970, 1980):\n",
    "    with open('../themoviedb-{}-details.json'.format(year), encoding='utf-8') as data_file:\n",
    "        data.extend(json.loads(data_file.read()))\n",
    "\n",
    "with open('themoviedb-1970-1979-details', 'w') as outfile:\n",
    "    json.dump(data, outfile)"
   ]
  },
  {
   "cell_type": "code",
   "execution_count": null,
   "metadata": {
    "collapsed": false,
    "deletable": true,
    "editable": true
   },
   "outputs": [],
   "source": [
    "data = []\n",
    "for year in range(1980, 1990):\n",
    "    with open('../themoviedb-{}-details.json'.format(year), encoding='utf-8') as data_file:\n",
    "        data.extend(json.loads(data_file.read()))\n",
    "        \n",
    "with open('themoviedb-1980-1989-details', 'w') as outfile:\n",
    "    json.dump(data, outfile)"
   ]
  },
  {
   "cell_type": "code",
   "execution_count": null,
   "metadata": {
    "collapsed": true,
    "deletable": true,
    "editable": true
   },
   "outputs": [],
   "source": [
    "data = []\n",
    "for year in range(1990, 2000):\n",
    "    with open('../themoviedb-{}-details.json'.format(year), encoding='utf-8') as data_file:\n",
    "        data.extend(json.loads(data_file.read()))\n",
    "        \n",
    "with open('themoviedb-1990-1999-details', 'w') as outfile:\n",
    "    json.dump(data, outfile)"
   ]
  },
  {
   "cell_type": "code",
   "execution_count": null,
   "metadata": {
    "collapsed": true,
    "deletable": true,
    "editable": true
   },
   "outputs": [],
   "source": [
    "data = []\n",
    "for year in range(2000, 2017):\n",
    "    with open('../themoviedb-{}-details.json'.format(year), encoding='utf-8') as data_file:\n",
    "        data.extend(json.loads(data_file.read()))\n",
    "        \n",
    "with open('themoviedb-2000-2016-details', 'w') as outfile:\n",
    "    json.dump(data, outfile)"
   ]
  },
  {
   "cell_type": "code",
   "execution_count": 3,
   "metadata": {
    "collapsed": false,
    "deletable": true,
    "editable": true
   },
   "outputs": [],
   "source": [
    "all_movies = []\n",
    "\n",
    "for year in range(1970, 2017):\n",
    "    with open('../themoviedb-{}-details.json'.format(year), encoding='utf-8') as data_file:\n",
    "        all_movies.extend(json.loads(data_file.read()))\n",
    "        \n",
    "with open('themoviedb-all-movies-details.json', 'w') as outfile:\n",
    "    json.dump(all_movies, outfile)"
   ]
  },
  {
   "cell_type": "markdown",
   "metadata": {},
   "source": [
    "## number of movies"
   ]
  },
  {
   "cell_type": "code",
   "execution_count": 4,
   "metadata": {
    "collapsed": false,
    "deletable": true,
    "editable": true
   },
   "outputs": [
    {
     "data": {
      "text/plain": [
       "226828"
      ]
     },
     "execution_count": 4,
     "metadata": {},
     "output_type": "execute_result"
    }
   ],
   "source": [
    "len(all_movies)"
   ]
  },
  {
   "cell_type": "code",
   "execution_count": 5,
   "metadata": {
    "collapsed": false,
    "deletable": true,
    "editable": true
   },
   "outputs": [],
   "source": [
    "movies_with_genres = [movie for movie in all_movies if len(movie['genre_ids']) > 0]"
   ]
  },
  {
   "cell_type": "markdown",
   "metadata": {},
   "source": [
    "## number of movies with a least one genre"
   ]
  },
  {
   "cell_type": "code",
   "execution_count": 6,
   "metadata": {
    "collapsed": false,
    "deletable": true,
    "editable": true
   },
   "outputs": [
    {
     "data": {
      "text/plain": [
       "145900"
      ]
     },
     "execution_count": 6,
     "metadata": {},
     "output_type": "execute_result"
    }
   ],
   "source": [
    "len(movies_with_genres)"
   ]
  },
  {
   "cell_type": "code",
   "execution_count": 7,
   "metadata": {
    "collapsed": true,
    "deletable": true,
    "editable": true
   },
   "outputs": [],
   "source": [
    "with open('themoviedb-all-movies-with_genres-details.json', 'w') as outfile:\n",
    "    json.dump(movies_with_genres, outfile)"
   ]
  },
  {
   "cell_type": "code",
   "execution_count": 8,
   "metadata": {
    "collapsed": false,
    "deletable": true,
    "editable": true
   },
   "outputs": [],
   "source": [
    "english_movies_with_genres = list()\n",
    "\n",
    "for movie in movies_with_genres:\n",
    "    if not \"spoken_languages\" in movie:\n",
    "        continue\n",
    "        \n",
    "    spoken_languages = movie[\"spoken_languages\"]\n",
    "    \n",
    "    eng = [lang for lang in spoken_languages if lang['iso_639_1'] == 'en' ]\n",
    "    \n",
    "    if len(eng) > 0:\n",
    "        english_movies_with_genres.append(movie)"
   ]
  },
  {
   "cell_type": "markdown",
   "metadata": {},
   "source": [
    "## number of movies, with at least 1 genre and has english"
   ]
  },
  {
   "cell_type": "code",
   "execution_count": 9,
   "metadata": {
    "collapsed": false,
    "deletable": true,
    "editable": true
   },
   "outputs": [
    {
     "data": {
      "text/plain": [
       "54410"
      ]
     },
     "execution_count": 9,
     "metadata": {},
     "output_type": "execute_result"
    }
   ],
   "source": [
    "len(english_movies_with_genres)"
   ]
  },
  {
   "cell_type": "code",
   "execution_count": 10,
   "metadata": {
    "collapsed": true,
    "deletable": true,
    "editable": true
   },
   "outputs": [],
   "source": [
    "with open('themoviedb-all-movies-with_genres-details-english', 'w') as outfile:\n",
    "    json.dump(english_movies_with_genres, outfile)"
   ]
  },
  {
   "cell_type": "code",
   "execution_count": 11,
   "metadata": {
    "collapsed": false,
    "deletable": true,
    "editable": true
   },
   "outputs": [],
   "source": [
    "english_movies_with_genres_posters = [movie for movie in english_movies_with_genres if movie['poster_path']]"
   ]
  },
  {
   "cell_type": "markdown",
   "metadata": {},
   "source": [
    "## number of movies, with at least 1 genre, has english and a poster "
   ]
  },
  {
   "cell_type": "code",
   "execution_count": 12,
   "metadata": {
    "collapsed": false
   },
   "outputs": [
    {
     "data": {
      "text/plain": [
       "51512"
      ]
     },
     "execution_count": 12,
     "metadata": {},
     "output_type": "execute_result"
    }
   ],
   "source": [
    "len(english_movies_with_genres_posters)"
   ]
  },
  {
   "cell_type": "code",
   "execution_count": 13,
   "metadata": {
    "collapsed": false,
    "deletable": true,
    "editable": true
   },
   "outputs": [],
   "source": [
    "indices = random.sample(range(len(english_movies_with_genres_posters)), 5000)\n",
    "random_5k_movies = [english_movies_with_genres_posters[i] for i in indices]\n",
    "\n",
    "with open('themoviedb-english_movies_with_genres-with_genres-details-english.json', 'w') as outfile:\n",
    "    json.dump(random_5k_movies, outfile)"
   ]
  },
  {
   "cell_type": "code",
   "execution_count": null,
   "metadata": {
    "collapsed": false,
    "deletable": true,
    "editable": true
   },
   "outputs": [],
   "source": [
    "random_5k_movies = []\n",
    "with open('themoviedb-english_movies_with_genres-with_genres-details-english.json', encoding='utf-8') as data_file:\n",
    "    random_5k_movies.extend(json.loads(data_file.read()))\n",
    "\n",
    "random_5k_movies_with_cast_crew = list()\n",
    "\n",
    "conn = http.client.HTTPSConnection(\"api.themoviedb.org\")\n",
    "payload = \"{}\"\n",
    "\n",
    "index = 0 \n",
    "\n",
    "for movie in random_5k_movies:\n",
    "        uri = \"/3/movie/{}/credits?api_key={}\".format(movie['id'], API_KEY)\n",
    "        conn.request(\"GET\", uri, payload)\n",
    "        res = conn.getresponse()\n",
    "        data = json.loads(res.read().decode('utf-8'))\n",
    "        time.sleep(0.5)\n",
    "        \n",
    "        movie['cast'] = data.get(\"cast\", [])\n",
    "        \n",
    "        movie['crew'] = data.get(\"crew\", [])\n",
    "        \n",
    "        random_5k_movies_with_cast_crew.append(movie)\n",
    "            \n",
    "with open('themoviedb-5k-sample-with_genres-details-english.json', 'w') as outfile:\n",
    "    json.dump(random_5k_movies_with_cast_crew, outfile)\n",
    "\n",
    "len(random_5k_movies_with_cast_crew)   "
   ]
  },
  {
   "cell_type": "code",
   "execution_count": null,
   "metadata": {
    "collapsed": true,
    "deletable": true,
    "editable": true
   },
   "outputs": [],
   "source": [
    "with open('themoviedb-5k-sample-with_genres-details-english.json', 'w') as outfile:\n",
    "    json.dump(random_5k_movies_with_cast_crew, outfile)"
   ]
  },
  {
   "cell_type": "code",
   "execution_count": null,
   "metadata": {
    "collapsed": true,
    "deletable": true,
    "editable": true
   },
   "outputs": [],
   "source": [
    "random_5k_movies_with_cast_crew = list()\n",
    "with open('themoviedb-5k-sample-with_genres-details-english.json', encoding='utf-8') as data_file:\n",
    "    random_5k_movies_with_cast_crew.extend(json.loads(data_file.read()))"
   ]
  },
  {
   "cell_type": "code",
   "execution_count": null,
   "metadata": {
    "collapsed": false,
    "deletable": true,
    "editable": true
   },
   "outputs": [],
   "source": [
    "for movies in random_5k_movies_with_cast_crew:\n",
    "    poster_path = movies['poster_path']\n",
    "    request.urlretrieve(\"https://image.tmdb.org/t/p/w500/{}\".format(poster_path)\n",
    "                        , \"./data/{}\".format(poster_path))\n",
    "    time.sleep(0.1)"
   ]
  },
  {
   "cell_type": "code",
   "execution_count": null,
   "metadata": {
    "collapsed": false,
    "deletable": true,
    "editable": true
   },
   "outputs": [],
   "source": [
    "len([movies for movies in random_5k_movies_with_cast_crew if movies['poster_path']])"
   ]
  }
 ],
 "metadata": {
  "kernelspec": {
   "display_name": "Python 3",
   "language": "python",
   "name": "python3"
  },
  "language_info": {
   "codemirror_mode": {
    "name": "ipython",
    "version": 3
   },
   "file_extension": ".py",
   "mimetype": "text/x-python",
   "name": "python",
   "nbconvert_exporter": "python",
   "pygments_lexer": "ipython3",
   "version": "3.6.0"
  }
 },
 "nbformat": 4,
 "nbformat_minor": 2
}
