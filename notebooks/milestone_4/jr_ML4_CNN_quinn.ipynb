{
 "cells": [
  {
   "cell_type": "code",
   "execution_count": 2,
   "metadata": {
    "collapsed": false,
    "deletable": true,
    "editable": true
   },
   "outputs": [],
   "source": [
    "import os\n",
    "import re\n",
    "import keras\n",
    "import urllib\n",
    "import matplotlib\n",
    "import numpy as np\n",
    "import pandas as pd\n",
    "import seaborn as sns\n",
    "import math\n",
    "import matplotlib.pyplot as plt\n",
    "from collections import OrderedDict, Counter\n",
    "\n",
    "from keras import metrics\n",
    "from keras import backend as K\n",
    "from keras.utils import np_utils\n",
    "from keras.optimizers import SGD\n",
    "from keras.models import Sequential\n",
    "from keras.callbacks import EarlyStopping\n",
    "from keras.applications.xception import Xception\n",
    "from keras.applications.vgg16 import VGG16\n",
    "from keras.applications.vgg19 import VGG19\n",
    "from keras.applications.resnet50 import ResNet50\n",
    "from keras.applications.inception_v3 import InceptionV3\n",
    "\n",
    "from keras.layers import Dense, Activation, Conv2D, MaxPooling2D, Flatten, Dropout\n",
    "from keras.preprocessing.image import ImageDataGenerator, array_to_img, img_to_array, load_img\n",
    "\n",
    "from keras.applications.xception import Xception\n",
    "from keras.applications.vgg16 import VGG16\n",
    "from keras.applications.vgg19 import VGG19\n",
    "from keras.applications.resnet50 import ResNet50\n",
    "from keras.applications.inception_v3 import InceptionV3\n",
    "\n",
    "from sklearn.metrics import precision_recall_curve\n",
    "from sklearn.metrics import average_precision_score\n",
    "from sklearn.metrics import recall_score\n",
    "from sklearn.metrics import precision_recall_fscore_support as score\n",
    "from sklearn.preprocessing import LabelEncoder\n",
    "\n",
    "%matplotlib inline\n",
    "sns.set_style('white')\n",
    "plt.style.use('bmh')"
   ]
  },
  {
   "cell_type": "markdown",
   "metadata": {
    "deletable": true,
    "editable": true
   },
   "source": [
    "## Downloading images, converting them to numpy arrays"
   ]
  },
  {
   "cell_type": "code",
   "execution_count": 118,
   "metadata": {
    "collapsed": false
   },
   "outputs": [
    {
     "name": "stdout",
     "output_type": "stream",
     "text": [
      "(9175, 3)\n"
     ]
    },
    {
     "data": {
      "text/html": [
       "<div>\n",
       "<table border=\"1\" class=\"dataframe\">\n",
       "  <thead>\n",
       "    <tr style=\"text-align: right;\">\n",
       "      <th></th>\n",
       "      <th>title</th>\n",
       "      <th>genre</th>\n",
       "      <th>poster_url</th>\n",
       "    </tr>\n",
       "  </thead>\n",
       "  <tbody>\n",
       "    <tr>\n",
       "      <th>0</th>\n",
       "      <td>Bought</td>\n",
       "      <td>Documentary</td>\n",
       "      <td>http://image.tmdb.org/t/p/w92/5q3CQLHMbvsjxK4V...</td>\n",
       "    </tr>\n",
       "    <tr>\n",
       "      <th>1</th>\n",
       "      <td>Egypt Underworld</td>\n",
       "      <td>Documentary</td>\n",
       "      <td>http://image.tmdb.org/t/p/w92/vHZf7KA7RGMxWl2r...</td>\n",
       "    </tr>\n",
       "    <tr>\n",
       "      <th>2</th>\n",
       "      <td>Chinese Heroes</td>\n",
       "      <td>Action</td>\n",
       "      <td>http://image.tmdb.org/t/p/w92/74F1NxjpQFoXoJzG...</td>\n",
       "    </tr>\n",
       "    <tr>\n",
       "      <th>3</th>\n",
       "      <td>Shakedown</td>\n",
       "      <td>Action</td>\n",
       "      <td>http://image.tmdb.org/t/p/w92/eILw7xfKn99cPU6n...</td>\n",
       "    </tr>\n",
       "    <tr>\n",
       "      <th>4</th>\n",
       "      <td>Shakedown</td>\n",
       "      <td>Drama</td>\n",
       "      <td>http://image.tmdb.org/t/p/w92/eILw7xfKn99cPU6n...</td>\n",
       "    </tr>\n",
       "  </tbody>\n",
       "</table>\n",
       "</div>"
      ],
      "text/plain": [
       "              title        genre  \\\n",
       "0            Bought  Documentary   \n",
       "1  Egypt Underworld  Documentary   \n",
       "2    Chinese Heroes       Action   \n",
       "3         Shakedown       Action   \n",
       "4         Shakedown        Drama   \n",
       "\n",
       "                                          poster_url  \n",
       "0  http://image.tmdb.org/t/p/w92/5q3CQLHMbvsjxK4V...  \n",
       "1  http://image.tmdb.org/t/p/w92/vHZf7KA7RGMxWl2r...  \n",
       "2  http://image.tmdb.org/t/p/w92/74F1NxjpQFoXoJzG...  \n",
       "3  http://image.tmdb.org/t/p/w92/eILw7xfKn99cPU6n...  \n",
       "4  http://image.tmdb.org/t/p/w92/eILw7xfKn99cPU6n...  "
      ]
     },
     "execution_count": 118,
     "metadata": {},
     "output_type": "execute_result"
    }
   ],
   "source": [
    "df = pd.read_json('data/themoviedb-sample-4-17-2017.json')\n",
    "df = df[df['poster_path'].isnull() == False]\n",
    "df['poster_url'] = df['poster_path'].apply(lambda x: 'http://image.tmdb.org/t/p/w92{}'.format(x))\n",
    "df = df[['title', 'genre', 'poster_url']]\n",
    "print(df.shape)\n",
    "df.head()"
   ]
  },
  {
   "cell_type": "markdown",
   "metadata": {
    "deletable": true,
    "editable": true
   },
   "source": [
    "#### Downloading all the posters\n",
    "Here, we download them at the smallest size (width = 92 pixels). "
   ]
  },
  {
   "cell_type": "code",
   "execution_count": 120,
   "metadata": {
    "collapsed": false,
    "deletable": true,
    "editable": true
   },
   "outputs": [],
   "source": [
    "for url in df['poster_url'].unique():\n",
    "    file_name = re.findall(r'(?<=w92\\/)(.*)', url)[0]\n",
    "    if file_name not in os.listdir('data/img'):\n",
    "        urllib.urlretrieve(url, 'data/img/{}'.format(file_name))"
   ]
  },
  {
   "cell_type": "markdown",
   "metadata": {
    "deletable": true,
    "editable": true
   },
   "source": [
    "#### Flattening into numpy arrays\n",
    "Resizing images to `(138, 92, 3)`. We expect this will lose us some precision later."
   ]
  },
  {
   "cell_type": "code",
   "execution_count": 98,
   "metadata": {
    "collapsed": false,
    "deletable": true,
    "editable": true
   },
   "outputs": [],
   "source": [
    "images = []\n",
    "y = []\n",
    "\n",
    "for image_file in os.listdir('data/img'):\n",
    "    img = load_img('data/img/{}'.format(image_file))\n",
    "    images.append(np.resize(img_to_array(img),(138,92,3)))\n",
    "    y.append(np.array([x for x in df[df['poster_url'] == 'http://image.tmdb.org/t/p/w92/{}'.format(image_file)]['genre'].values]))"
   ]
  },
  {
   "cell_type": "markdown",
   "metadata": {},
   "source": [
    "## $y$: Multi-label"
   ]
  },
  {
   "cell_type": "code",
   "execution_count": 121,
   "metadata": {
    "collapsed": false,
    "deletable": true,
    "editable": true
   },
   "outputs": [
    {
     "data": {
      "text/plain": [
       "[array([u'Drama', u'Comedy', u'Crime'], \n",
       "       dtype='<U6'), array([u'Action', u'Adventure'], \n",
       "       dtype='<U9'), array([u'Drama', u'Comedy'], \n",
       "       dtype='<U6'), array([u'Documentary', u'Music'], \n",
       "       dtype='<U11'), array([u'Adventure', u'Western'], \n",
       "       dtype='<U9')]"
      ]
     },
     "execution_count": 121,
     "metadata": {},
     "output_type": "execute_result"
    }
   ],
   "source": [
    "y[0:5]"
   ]
  },
  {
   "cell_type": "code",
   "execution_count": 122,
   "metadata": {
    "collapsed": false,
    "deletable": true,
    "editable": true
   },
   "outputs": [
    {
     "name": "stdout",
     "output_type": "stream",
     "text": [
      "(4722, 138, 92, 3)\n"
     ]
    }
   ],
   "source": [
    "X = np.array(images)\n",
    "# Normalizing away from 255\n",
    "X = X / 255.\n",
    "input_shape = X.shape\n",
    "print(input_shape)"
   ]
  },
  {
   "cell_type": "code",
   "execution_count": 8,
   "metadata": {
    "collapsed": false,
    "deletable": true,
    "editable": true
   },
   "outputs": [
    {
     "name": "stdout",
     "output_type": "stream",
     "text": [
      "(4722, 20)\n"
     ]
    },
    {
     "data": {
      "text/html": [
       "<div>\n",
       "<table border=\"1\" class=\"dataframe\">\n",
       "  <thead>\n",
       "    <tr style=\"text-align: right;\">\n",
       "      <th></th>\n",
       "      <th>Drama</th>\n",
       "      <th>Comedy</th>\n",
       "      <th>Crime</th>\n",
       "      <th>Action</th>\n",
       "      <th>Adventure</th>\n",
       "      <th>Documentary</th>\n",
       "      <th>Music</th>\n",
       "      <th>Western</th>\n",
       "      <th>Horror</th>\n",
       "      <th>Animation</th>\n",
       "      <th>Family</th>\n",
       "      <th>Thriller</th>\n",
       "      <th>Mystery</th>\n",
       "      <th>Science Fiction</th>\n",
       "      <th>History</th>\n",
       "      <th>TV Movie</th>\n",
       "      <th>Romance</th>\n",
       "      <th>Foreign</th>\n",
       "      <th>War</th>\n",
       "      <th>Fantasy</th>\n",
       "    </tr>\n",
       "  </thead>\n",
       "  <tbody>\n",
       "    <tr>\n",
       "      <th>0</th>\n",
       "      <td>1</td>\n",
       "      <td>1</td>\n",
       "      <td>1</td>\n",
       "      <td>0</td>\n",
       "      <td>0</td>\n",
       "      <td>0</td>\n",
       "      <td>0</td>\n",
       "      <td>0</td>\n",
       "      <td>0</td>\n",
       "      <td>0</td>\n",
       "      <td>0</td>\n",
       "      <td>0</td>\n",
       "      <td>0</td>\n",
       "      <td>0</td>\n",
       "      <td>0</td>\n",
       "      <td>0</td>\n",
       "      <td>0</td>\n",
       "      <td>0</td>\n",
       "      <td>0</td>\n",
       "      <td>0</td>\n",
       "    </tr>\n",
       "    <tr>\n",
       "      <th>1</th>\n",
       "      <td>0</td>\n",
       "      <td>0</td>\n",
       "      <td>0</td>\n",
       "      <td>1</td>\n",
       "      <td>1</td>\n",
       "      <td>0</td>\n",
       "      <td>0</td>\n",
       "      <td>0</td>\n",
       "      <td>0</td>\n",
       "      <td>0</td>\n",
       "      <td>0</td>\n",
       "      <td>0</td>\n",
       "      <td>0</td>\n",
       "      <td>0</td>\n",
       "      <td>0</td>\n",
       "      <td>0</td>\n",
       "      <td>0</td>\n",
       "      <td>0</td>\n",
       "      <td>0</td>\n",
       "      <td>0</td>\n",
       "    </tr>\n",
       "    <tr>\n",
       "      <th>2</th>\n",
       "      <td>1</td>\n",
       "      <td>1</td>\n",
       "      <td>0</td>\n",
       "      <td>0</td>\n",
       "      <td>0</td>\n",
       "      <td>0</td>\n",
       "      <td>0</td>\n",
       "      <td>0</td>\n",
       "      <td>0</td>\n",
       "      <td>0</td>\n",
       "      <td>0</td>\n",
       "      <td>0</td>\n",
       "      <td>0</td>\n",
       "      <td>0</td>\n",
       "      <td>0</td>\n",
       "      <td>0</td>\n",
       "      <td>0</td>\n",
       "      <td>0</td>\n",
       "      <td>0</td>\n",
       "      <td>0</td>\n",
       "    </tr>\n",
       "    <tr>\n",
       "      <th>3</th>\n",
       "      <td>0</td>\n",
       "      <td>0</td>\n",
       "      <td>0</td>\n",
       "      <td>0</td>\n",
       "      <td>0</td>\n",
       "      <td>1</td>\n",
       "      <td>1</td>\n",
       "      <td>0</td>\n",
       "      <td>0</td>\n",
       "      <td>0</td>\n",
       "      <td>0</td>\n",
       "      <td>0</td>\n",
       "      <td>0</td>\n",
       "      <td>0</td>\n",
       "      <td>0</td>\n",
       "      <td>0</td>\n",
       "      <td>0</td>\n",
       "      <td>0</td>\n",
       "      <td>0</td>\n",
       "      <td>0</td>\n",
       "    </tr>\n",
       "    <tr>\n",
       "      <th>4</th>\n",
       "      <td>0</td>\n",
       "      <td>0</td>\n",
       "      <td>0</td>\n",
       "      <td>0</td>\n",
       "      <td>1</td>\n",
       "      <td>0</td>\n",
       "      <td>0</td>\n",
       "      <td>1</td>\n",
       "      <td>0</td>\n",
       "      <td>0</td>\n",
       "      <td>0</td>\n",
       "      <td>0</td>\n",
       "      <td>0</td>\n",
       "      <td>0</td>\n",
       "      <td>0</td>\n",
       "      <td>0</td>\n",
       "      <td>0</td>\n",
       "      <td>0</td>\n",
       "      <td>0</td>\n",
       "      <td>0</td>\n",
       "    </tr>\n",
       "  </tbody>\n",
       "</table>\n",
       "</div>"
      ],
      "text/plain": [
       "   Drama  Comedy  Crime  Action  Adventure  Documentary  Music  Western  \\\n",
       "0      1       1      1       0          0            0      0        0   \n",
       "1      0       0      0       1          1            0      0        0   \n",
       "2      1       1      0       0          0            0      0        0   \n",
       "3      0       0      0       0          0            1      1        0   \n",
       "4      0       0      0       0          1            0      0        1   \n",
       "\n",
       "   Horror  Animation  Family  Thriller  Mystery  Science Fiction  History  \\\n",
       "0       0          0       0         0        0                0        0   \n",
       "1       0          0       0         0        0                0        0   \n",
       "2       0          0       0         0        0                0        0   \n",
       "3       0          0       0         0        0                0        0   \n",
       "4       0          0       0         0        0                0        0   \n",
       "\n",
       "   TV Movie  Romance  Foreign  War  Fantasy  \n",
       "0         0        0        0    0        0  \n",
       "1         0        0        0    0        0  \n",
       "2         0        0        0    0        0  \n",
       "3         0        0        0    0        0  \n",
       "4         0        0        0    0        0  "
      ]
     },
     "execution_count": 8,
     "metadata": {},
     "output_type": "execute_result"
    }
   ],
   "source": [
    "all_genres = pd.DataFrame(index = range(0,4722))\n",
    "\n",
    "for row in y:\n",
    "    for genre in row:\n",
    "        if genre in all_genres:\n",
    "            pass\n",
    "        else:\n",
    "            all_genres[genre] = 0\n",
    "\n",
    "for index, row in enumerate(y):\n",
    "    for genre in row:\n",
    "        all_genres[genre].loc[index] = 1\n",
    "        \n",
    "print(all_genres.shape)\n",
    "all_genres.head()"
   ]
  },
  {
   "cell_type": "code",
   "execution_count": 9,
   "metadata": {
    "collapsed": false,
    "deletable": true,
    "editable": true
   },
   "outputs": [
    {
     "name": "stdout",
     "output_type": "stream",
     "text": [
      "(4722, 20)\n"
     ]
    }
   ],
   "source": [
    "Y = np.array(all_genres)\n",
    "print(Y.shape)"
   ]
  },
  {
   "cell_type": "markdown",
   "metadata": {
    "deletable": true,
    "editable": true
   },
   "source": [
    "#### Fitting a simple CNN model"
   ]
  },
  {
   "cell_type": "code",
   "execution_count": 51,
   "metadata": {
    "collapsed": false,
    "deletable": true,
    "editable": true
   },
   "outputs": [
    {
     "name": "stdout",
     "output_type": "stream",
     "text": [
      "_________________________________________________________________\n",
      "Layer (type)                 Output Shape              Param #   \n",
      "=================================================================\n",
      "conv2d_5 (Conv2D)            (None, 137, 91, 80)       1040      \n",
      "_________________________________________________________________\n",
      "max_pooling2d_5 (MaxPooling2 (None, 68, 45, 80)        0         \n",
      "_________________________________________________________________\n",
      "conv2d_6 (Conv2D)            (None, 66, 43, 16)        11536     \n",
      "_________________________________________________________________\n",
      "max_pooling2d_6 (MaxPooling2 (None, 33, 21, 16)        0         \n",
      "_________________________________________________________________\n",
      "conv2d_7 (Conv2D)            (None, 31, 19, 32)        4640      \n",
      "_________________________________________________________________\n",
      "max_pooling2d_7 (MaxPooling2 (None, 15, 9, 32)         0         \n",
      "_________________________________________________________________\n",
      "dropout_4 (Dropout)          (None, 15, 9, 32)         0         \n",
      "_________________________________________________________________\n",
      "conv2d_8 (Conv2D)            (None, 13, 7, 64)         18496     \n",
      "_________________________________________________________________\n",
      "max_pooling2d_8 (MaxPooling2 (None, 6, 3, 64)          0         \n",
      "_________________________________________________________________\n",
      "dropout_5 (Dropout)          (None, 6, 3, 64)          0         \n",
      "_________________________________________________________________\n",
      "flatten_2 (Flatten)          (None, 1152)              0         \n",
      "_________________________________________________________________\n",
      "dense_3 (Dense)              (None, 32)                36896     \n",
      "_________________________________________________________________\n",
      "dropout_6 (Dropout)          (None, 32)                0         \n",
      "_________________________________________________________________\n",
      "dense_4 (Dense)              (None, 20)                660       \n",
      "=================================================================\n",
      "Total params: 73,268\n",
      "Trainable params: 73,268\n",
      "Non-trainable params: 0\n",
      "_________________________________________________________________\n"
     ]
    }
   ],
   "source": [
    "# Super simple CNN\n",
    "model = Sequential()\n",
    "\n",
    "# Input layer\n",
    "model.add(Conv2D(80, activation='relu', \n",
    "                 kernel_size=(2, 2),\n",
    "                 data_format = 'channels_last',\n",
    "                 input_shape=(138,92,3)))\n",
    "\n",
    "# --- max pool ---\n",
    "model.add(MaxPooling2D(pool_size=(2, 2)))\n",
    "\n",
    "# --- next layer ---\n",
    "# we could double the number of filters as max pool made the \n",
    "# feature maps much smaller \n",
    "# just not doing this to improve runtime\n",
    "model.add(Conv2D(16, kernel_size=(3, 3), activation='relu'))\n",
    "# --- max pool ---\n",
    "model.add(MaxPooling2D(pool_size=(2, 2)))\n",
    "\n",
    "# --- next layer ---\n",
    "model.add(Conv2D(32, kernel_size=(3, 3), activation='relu'))\n",
    "# --- max pool ---\n",
    "model.add(MaxPooling2D(pool_size=(2, 2)))\n",
    "# # --- regularize our model in order to prevent overfitting\n",
    "model.add(Dropout(0.25))\n",
    "\n",
    "# # --- next layer ---\n",
    "model.add(Conv2D(64, kernel_size=(3, 3), activation='relu'))\n",
    "# # --- max pool ---\n",
    "model.add(MaxPooling2D(pool_size=(2, 2)))\n",
    "# # --- regularize our model in order to prevent overfitting\n",
    "model.add(Dropout(0.25))\n",
    "\n",
    "# flatten for fully connected classification layer\n",
    "model.add(Flatten())\n",
    "# --- fully connected layer ---\n",
    "model.add(Dense(32, activation='relu'))\n",
    "# # --- regularize our model in order to prevent overfitting\n",
    "model.add(Dropout(0.5))\n",
    "# --- Last layer: classification ---\n",
    "model.add(Dense(20, activation='sigmoid'))\n",
    "\n",
    "# prints out a summary of the model architecture\n",
    "model.summary()"
   ]
  },
  {
   "cell_type": "code",
   "execution_count": 52,
   "metadata": {
    "collapsed": false,
    "deletable": true,
    "editable": true
   },
   "outputs": [],
   "source": [
    "sgd = SGD(lr=0.001, momentum=0.9)\n",
    "model.compile(loss='binary_crossentropy',\n",
    "              optimizer=sgd,\n",
    "              metrics=['mae', 'categorical_accuracy'])"
   ]
  },
  {
   "cell_type": "code",
   "execution_count": 53,
   "metadata": {
    "collapsed": false,
    "deletable": true,
    "editable": true
   },
   "outputs": [
    {
     "name": "stdout",
     "output_type": "stream",
     "text": [
      "Train on 3777 samples, validate on 945 samples\n",
      "Epoch 1/10\n",
      "3777/3777 [==============================] - 202s - loss: 0.5552 - mean_absolute_error: 0.3877 - categorical_accuracy: 0.0522 - val_loss: 0.3723 - val_mean_absolute_error: 0.2755 - val_categorical_accuracy: 0.1820\n",
      "Epoch 2/10\n",
      "3777/3777 [==============================] - 175s - loss: 0.3968 - mean_absolute_error: 0.2484 - categorical_accuracy: 0.1202 - val_loss: 0.3190 - val_mean_absolute_error: 0.2260 - val_categorical_accuracy: 0.3693\n",
      "Epoch 3/10\n",
      "3777/3777 [==============================] - 183s - loss: 0.3602 - mean_absolute_error: 0.2207 - categorical_accuracy: 0.2002 - val_loss: 0.3000 - val_mean_absolute_error: 0.2014 - val_categorical_accuracy: 0.3693\n",
      "Epoch 4/10\n",
      "3777/3777 [==============================] - 205s - loss: 0.3486 - mean_absolute_error: 0.2109 - categorical_accuracy: 0.2367 - val_loss: 0.2958 - val_mean_absolute_error: 0.1966 - val_categorical_accuracy: 0.3693\n",
      "Epoch 5/10\n",
      "3777/3777 [==============================] - 175s - loss: 0.3395 - mean_absolute_error: 0.2038 - categorical_accuracy: 0.2634 - val_loss: 0.2999 - val_mean_absolute_error: 0.2050 - val_categorical_accuracy: 0.3693\n",
      "Epoch 6/10\n",
      "3777/3777 [==============================] - 178s - loss: 0.3321 - mean_absolute_error: 0.1989 - categorical_accuracy: 0.2769 - val_loss: 0.2953 - val_mean_absolute_error: 0.1981 - val_categorical_accuracy: 0.3693\n",
      "Epoch 7/10\n",
      "3777/3777 [==============================] - 171s - loss: 0.3296 - mean_absolute_error: 0.1968 - categorical_accuracy: 0.2931 - val_loss: 0.2944 - val_mean_absolute_error: 0.1973 - val_categorical_accuracy: 0.3693\n",
      "Epoch 8/10\n",
      "3777/3777 [==============================] - 175s - loss: 0.3256 - mean_absolute_error: 0.1935 - categorical_accuracy: 0.3034 - val_loss: 0.2959 - val_mean_absolute_error: 0.2001 - val_categorical_accuracy: 0.3693\n",
      "Epoch 9/10\n",
      "3777/3777 [==============================] - 184s - loss: 0.3251 - mean_absolute_error: 0.1942 - categorical_accuracy: 0.2949 - val_loss: 0.2904 - val_mean_absolute_error: 0.1904 - val_categorical_accuracy: 0.3693\n",
      "Epoch 10/10\n",
      "3777/3777 [==============================] - 173s - loss: 0.3207 - mean_absolute_error: 0.1901 - categorical_accuracy: 0.3016 - val_loss: 0.2906 - val_mean_absolute_error: 0.1908 - val_categorical_accuracy: 0.3693\n"
     ]
    }
   ],
   "source": [
    "batch_size = 12\n",
    "early_stopping_monitor = EarlyStopping(patience = 3)\n",
    "\n",
    "# Fit model on training data\n",
    "history = model.fit(X, Y,\n",
    "                    validation_split = 0.2,\n",
    "                    batch_size=batch_size,\n",
    "                    epochs = 10,\n",
    "                    callbacks = [early_stopping_monitor],\n",
    "                    verbose=1)\n"
   ]
  },
  {
   "cell_type": "code",
   "execution_count": 134,
   "metadata": {
    "collapsed": true
   },
   "outputs": [],
   "source": [
    "model.save_weights('model_weight.h5')"
   ]
  },
  {
   "cell_type": "code",
   "execution_count": 54,
   "metadata": {
    "collapsed": false,
    "deletable": true,
    "editable": true
   },
   "outputs": [
    {
     "data": {
      "image/png": "[encoded data removed]",
      "text/plain": [
       "<matplotlib.figure.Figure at 0x1397da450>"
      ]
     },
     "metadata": {},
     "output_type": "display_data"
    }
   ],
   "source": [
    "plt.plot(history.history['val_categorical_accuracy'], alpha = 0.3, label = 'Validation accuracy')\n",
    "plt.plot(history.history['categorical_accuracy'], alpha =  0.3, label = 'Training accuracy')\n",
    "plt.xlabel(\"Epoch\")\n",
    "plt.ylabel(\"Validation accuracy\")\n",
    "plt.ylim([0,1])\n",
    "plt.legend(loc = 'best')\n",
    "plt.show()"
   ]
  },
  {
   "cell_type": "code",
   "execution_count": 55,
   "metadata": {
    "collapsed": false,
    "deletable": true,
    "editable": true
   },
   "outputs": [
    {
     "data": {
      "text/plain": [
       "(array([1, 1, 1, 0, 0, 0, 0, 0, 0, 0, 0, 0, 0, 0, 0, 0, 0, 0, 0, 0]),\n",
       " array([ 0.37765497,  0.2958824 ,  0.11450594,  0.19459571,  0.0949719 ,\n",
       "         0.23955071,  0.09856158,  0.03283762,  0.18335375,  0.08520014,\n",
       "         0.10814912,  0.22505662,  0.05513801,  0.104148  ,  0.03615821,\n",
       "         0.05231433,  0.15095164,  0.04352754,  0.0287931 ,  0.06801955], dtype=float32))"
      ]
     },
     "execution_count": 55,
     "metadata": {},
     "output_type": "execute_result"
    }
   ],
   "source": [
    "# Predicted lables per movie\n",
    "preds = model.predict(X)\n",
    "Y[0], preds[0]"
   ]
  },
  {
   "cell_type": "markdown",
   "metadata": {},
   "source": [
    "### Precision and recall"
   ]
  },
  {
   "cell_type": "code",
   "execution_count": 75,
   "metadata": {
    "collapsed": false,
    "deletable": true,
    "editable": true
   },
   "outputs": [],
   "source": [
    "# Precision and Recall\n",
    "# --Precision: number of true positives over the number of true positives plus the number of false positives\n",
    "# --Recall: number of true positives over the number of true positives plus the number of false negatives\n",
    "precision = dict()\n",
    "average_precision = dict()\n",
    "recall_score = dict()\n",
    "recall = dict()\n",
    "for i in range(20):\n",
    "    precision[i], recall[i], _ = precision_recall_curve(Y[:, i],\n",
    "                                                        preds[:, i])\n",
    "    #average_precision[i] = average_precision_score(Y[:, i], preds[:, i])\n",
    "    recall_score[i] = recall[i].mean()\n",
    "    average_precision[i] = precision[i].mean()\n",
    "\n",
    "names = ['id','data']\n",
    "formats = ['f8','f8']\n",
    "dtype = dict(names = names, formats=formats)\n",
    "average_precision_np = pd.DataFrame(np.array(average_precision.items(), dtype=dtype))\n",
    "average_precision_np['genre'] = list(all_genres.columns.values)\n",
    "\n",
    "recall_score_np = pd.DataFrame(np.array(recall_score.items(), dtype=dtype))\n",
    "recall_score_np['genre'] = list(all_genres.columns.values)"
   ]
  },
  {
   "cell_type": "code",
   "execution_count": 79,
   "metadata": {
    "collapsed": false
   },
   "outputs": [
    {
     "name": "stdout",
     "output_type": "stream",
     "text": [
      "# Overall precision and recall #\n",
      "Mean Precision: 0.0641\n",
      "Mean Recall: 0.4899\n",
      "F1 Score: 0.1133\n"
     ]
    }
   ],
   "source": [
    "# Sort genres by precision and recall\n",
    "average_precision_np = average_precision_np.sort_values(by = 'data', ascending=[0])\n",
    "recall_score_np = recall_score_np.sort_values(by = 'data', ascending=[0])\n",
    "\n",
    "# Average precision and recall across labels\n",
    "mean_precision = average_precision_np.data.median()\n",
    "mean_recall = recall_score_np.data.mean()\n",
    "\n",
    "# F1 score\n",
    "F1 = 2*(mean_precision*mean_recall)/(mean_precision+mean_recall)\n",
    "\n",
    "# Print results\n",
    "print (\"# Overall precision and recall #\")\n",
    "print ('Mean Precision:'), round(mean_precision, 4)\n",
    "print ('Mean Recall:'), round(mean_recall, 4)\n",
    "print ('F1 Score:'), round(F1, 4)"
   ]
  },
  {
   "cell_type": "code",
   "execution_count": 80,
   "metadata": {
    "collapsed": false
   },
   "outputs": [
    {
     "data": {
      "image/png": "[encoded data removed]",
      "text/plain": [
       "<matplotlib.figure.Figure at 0x1407cb750>"
      ]
     },
     "metadata": {},
     "output_type": "display_data"
    }
   ],
   "source": [
    "# Precision and recall by label\n",
    "y_pos = np.arange(len(average_precision_np.genre)) + 1\n",
    "\n",
    "fig = plt.figure(figsize=(15, 5))\n",
    "ax1 = fig.add_subplot(1, 2, 1)\n",
    "\n",
    "ax1 = plt.bar(y_pos, average_precision_np.data, align='center', alpha=0.8, color='b')\n",
    "ax1 = plt.xticks(y_pos, average_precision_np.genre, rotation=90)\n",
    "ax1 = plt.xlim([0,21])\n",
    "ax1 = plt.ylabel('Precision')\n",
    "ax1 = plt.title('Precision by Label\\nOverall Precision: {:.0f}%'.format(mean_precision*100))\n",
    "\n",
    "ax2 = fig.add_subplot(1, 2, 2)\n",
    "\n",
    "ax2 = plt.bar(y_pos, recall_score_np.data, align='center', alpha=0.8, color='b')\n",
    "ax2 = plt.xticks(y_pos, recall_score_np.genre, rotation=90)\n",
    "ax2 = plt.xlim([0,21])\n",
    "ax2 = plt.ylabel('Recall')\n",
    "ax2 = plt.title('Recall by Label\\nOverall Recall: {:.0f}%'.format(mean_recall*100))\n",
    "\n",
    "plt.show()"
   ]
  },
  {
   "cell_type": "markdown",
   "metadata": {},
   "source": [
    "## Pre-trained model"
   ]
  },
  {
   "cell_type": "markdown",
   "metadata": {},
   "source": [
    "### Attempt 1"
   ]
  },
  {
   "cell_type": "markdown",
   "metadata": {
    "collapsed": true
   },
   "source": [
    "### Attempt 2"
   ]
  },
  {
   "cell_type": "code",
   "execution_count": null,
   "metadata": {
    "collapsed": true
   },
   "outputs": [],
   "source": []
  }
 ],
 "metadata": {
  "anaconda-cloud": {},
  "kernelspec": {
   "display_name": "Python [Root]",
   "language": "python",
   "name": "Python [Root]"
  },
  "language_info": {
   "codemirror_mode": {
    "name": "ipython",
    "version": 2
   },
   "file_extension": ".py",
   "mimetype": "text/x-python",
   "name": "python",
   "nbconvert_exporter": "python",
   "pygments_lexer": "ipython2",
   "version": "2.7.12"
  }
 },
 "nbformat": 4,
 "nbformat_minor": 2
}
