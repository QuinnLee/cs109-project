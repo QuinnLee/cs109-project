{
 "cells": [
  {
   "cell_type": "code",
   "execution_count": null,
   "metadata": {
    "collapsed": true,
    "deletable": true,
    "editable": true
   },
   "outputs": [],
   "source": [
    "import http.client\n",
    "import json\n",
    "import time"
   ]
  },
  {
   "cell_type": "code",
   "execution_count": null,
   "metadata": {
    "collapsed": true,
    "deletable": true,
    "editable": true
   },
   "outputs": [],
   "source": [
    "API_KEY = 'INSERT KEY'"
   ]
  },
  {
   "cell_type": "code",
   "execution_count": null,
   "metadata": {
    "collapsed": true,
    "deletable": true,
    "editable": true
   },
   "outputs": [],
   "source": [
    "def merge_dicts(*dict_args):\n",
    "    \"\"\"\n",
    "    Given any number of dicts, shallow copy and merge into a new dict,\n",
    "    precedence goes to key value pairs in latter dicts.\n",
    "    \"\"\"\n",
    "    result = {}\n",
    "    for dictionary in dict_args:\n",
    "        result.update(dictionary)\n",
    "    return result"
   ]
  },
  {
   "cell_type": "code",
   "execution_count": null,
   "metadata": {
    "collapsed": true,
    "deletable": true,
    "editable": true
   },
   "outputs": [],
   "source": [
    "year = 2014"
   ]
  },
  {
   "cell_type": "code",
   "execution_count": null,
   "metadata": {
    "collapsed": true,
    "deletable": true,
    "editable": true
   },
   "outputs": [],
   "source": [
    "movies = list()\n",
    "page = 1\n",
    "last_page = 10 # temp value"
   ]
  },
  {
   "cell_type": "code",
   "execution_count": null,
   "metadata": {
    "collapsed": false,
    "deletable": true,
    "editable": true,
    "scrolled": true
   },
   "outputs": [],
   "source": [
    "conn = http.client.HTTPSConnection(\"api.themoviedb.org\")\n",
    "\n",
    "payload = \"{}\"\n",
    "\n",
    "while(page < last_page):\n",
    "    uri = \"/3/discover/movie?page={}&primary_release_year={}&include_adult=true&sort_by=popularity.desc&api_key={}\".format(page, year, API_KEY)\n",
    "    conn.request(\"GET\", uri, payload)\n",
    "    res = conn.getresponse()\n",
    "    data = json.loads(res.read().decode('utf-8'))\n",
    "    movies.extend(data['results'])\n",
    "    last_page = data['total_pages']\n",
    "    page = data['page'] + 1\n",
    "    if(page%100 == 0):\n",
    "        print(page)\n",
    "    time.sleep(0.4)"
   ]
  },
  {
   "cell_type": "code",
   "execution_count": null,
   "metadata": {
    "collapsed": true,
    "deletable": true,
    "editable": true
   },
   "outputs": [],
   "source": [
    "with open('themoviedb-{}.json'.format(year), 'w') as fp:\n",
    "    json.dump(movies, fp)"
   ]
  },
  {
   "cell_type": "code",
   "execution_count": null,
   "metadata": {
    "collapsed": true,
    "deletable": true,
    "editable": true
   },
   "outputs": [],
   "source": [
    "index = 0\n",
    "total_movies = len(movies)"
   ]
  },
  {
   "cell_type": "code",
   "execution_count": null,
   "metadata": {
    "collapsed": false,
    "deletable": true,
    "editable": true
   },
   "outputs": [],
   "source": [
    "conn = http.client.HTTPSConnection(\"api.themoviedb.org\")\n",
    "\n",
    "payload = \"{}\"\n",
    "\n",
    "while(index <= total_movies):\n",
    "    try:\n",
    "        movie = movies[index]\n",
    "        uri = \"/3/movie/{}?api_key={}\".format(movie['id'], API_KEY)\n",
    "        conn.request(\"GET\", uri, payload)\n",
    "        res = conn.getresponse()\n",
    "        data = json.loads(res.read().decode('utf-8'))\n",
    "        movies[index] = merge_dicts(movie, data)\n",
    "        index = index + 1\n",
    "        if(index%100 == 0):\n",
    "            print(index)\n",
    "        time.sleep(0.4)\n",
    "    except:\n",
    "        print('what')\n",
    "        pass"
   ]
  },
  {
   "cell_type": "code",
   "execution_count": null,
   "metadata": {
    "collapsed": true,
    "deletable": true,
    "editable": true
   },
   "outputs": [],
   "source": [
    "with open('themoviedb-2016-details.json', 'w') as fp:\n",
    "    json.dump(movies, fp)"
   ]
  }
 ],
 "metadata": {
  "kernelspec": {
   "display_name": "Python 3",
   "language": "python",
   "name": "python3"
  },
  "language_info": {
   "codemirror_mode": {
    "name": "ipython",
    "version": 3
   },
   "file_extension": ".py",
   "mimetype": "text/x-python",
   "name": "python",
   "nbconvert_exporter": "python",
   "pygments_lexer": "ipython3",
   "version": "3.6.0"
  }
 },
 "nbformat": 4,
 "nbformat_minor": 2
}
