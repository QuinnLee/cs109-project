{
 "cells": [
  {
   "cell_type": "markdown",
   "metadata": {},
   "source": [
    "# Milestone 3: Text analysis\n",
    "The hypothesis behind this model was that the textual information about movies would be predictive of the genres. In order to model this, we used a Dirichlet multinomial Bayesian model. "
   ]
  },
  {
   "cell_type": "code",
   "execution_count": 14,
   "metadata": {
    "collapsed": false
   },
   "outputs": [],
   "source": [
    "%matplotlib inline\n",
    "\n",
    "import os\n",
    "import nltk\n",
    "import random\n",
    "import itertools\n",
    "import numpy as np\n",
    "import pandas as pd\n",
    "from collections import Counter\n",
    "from unidecode import unidecode\n",
    "from nltk.corpus import stopwords\n",
    "from collections import OrderedDict\n",
    "from matplotlib import pyplot as plt\n",
    "from sklearn.metrics import confusion_matrix\n",
    "from sklearn.naive_bayes import MultinomialNB\n",
    "from sklearn.model_selection import cross_val_score\n",
    "\n",
    "plt.style.use('ggplot')\n",
    "random.seed(42)"
   ]
  },
  {
   "cell_type": "markdown",
   "metadata": {},
   "source": [
    "## Grabbing the data\n",
    "For now, we have a total sample of around 50,000 movies. For this model, however, we worked with a random sample of 5,000 films. We also only looked at the textual data (`overview` and `reviews`) and the list of genres (`genres`). "
   ]
  },
  {
   "cell_type": "code",
   "execution_count": 16,
   "metadata": {
    "collapsed": false
   },
   "outputs": [
    {
     "name": "stdout",
     "output_type": "stream",
     "text": [
      "(5000, 29)\n",
      "(5000, 3)\n"
     ]
    },
    {
     "data": {
      "text/html": [
       "<div>\n",
       "<table border=\"1\" class=\"dataframe\">\n",
       "  <thead>\n",
       "    <tr style=\"text-align: right;\">\n",
       "      <th></th>\n",
       "      <th>genres</th>\n",
       "      <th>reviews</th>\n",
       "      <th>overview</th>\n",
       "    </tr>\n",
       "  </thead>\n",
       "  <tbody>\n",
       "    <tr>\n",
       "      <th>0</th>\n",
       "      <td>[{u'name': u'Documentary', u'id': 99}]</td>\n",
       "      <td>[]</td>\n",
       "      <td>Modern industrialization is no longer about st...</td>\n",
       "    </tr>\n",
       "    <tr>\n",
       "      <th>1</th>\n",
       "      <td>[{u'id': 99, u'name': u'Documentary'}]</td>\n",
       "      <td>[]</td>\n",
       "      <td>The documentary is an analysis of the fascinat...</td>\n",
       "    </tr>\n",
       "    <tr>\n",
       "      <th>2</th>\n",
       "      <td>[{u'id': 28, u'name': u'Action'}]</td>\n",
       "      <td>[]</td>\n",
       "      <td>A good-natured kung fu kid gets caught up in c...</td>\n",
       "    </tr>\n",
       "    <tr>\n",
       "      <th>3</th>\n",
       "      <td>[{u'id': 28, u'name': u'Action'}, {u'id': 18, ...</td>\n",
       "      <td>[]</td>\n",
       "      <td>In Los Angeles a deadly plague called the 'Pan...</td>\n",
       "    </tr>\n",
       "    <tr>\n",
       "      <th>4</th>\n",
       "      <td>[{u'id': 10402, u'name': u'Music'}, {u'id': 35...</td>\n",
       "      <td>[]</td>\n",
       "      <td>An updated version of the 1980 musical, which ...</td>\n",
       "    </tr>\n",
       "  </tbody>\n",
       "</table>\n",
       "</div>"
      ],
      "text/plain": [
       "                                              genres reviews  \\\n",
       "0             [{u'name': u'Documentary', u'id': 99}]      []   \n",
       "1             [{u'id': 99, u'name': u'Documentary'}]      []   \n",
       "2                  [{u'id': 28, u'name': u'Action'}]      []   \n",
       "3  [{u'id': 28, u'name': u'Action'}, {u'id': 18, ...      []   \n",
       "4  [{u'id': 10402, u'name': u'Music'}, {u'id': 35...      []   \n",
       "\n",
       "                                            overview  \n",
       "0  Modern industrialization is no longer about st...  \n",
       "1  The documentary is an analysis of the fascinat...  \n",
       "2  A good-natured kung fu kid gets caught up in c...  \n",
       "3  In Los Angeles a deadly plague called the 'Pan...  \n",
       "4  An updated version of the 1980 musical, which ...  "
      ]
     },
     "execution_count": 16,
     "metadata": {},
     "output_type": "execute_result"
    }
   ],
   "source": [
    "raw = pd.read_json('../../data/themoviedb-5k-sample-4-15-2017.json')\n",
    "print(raw.shape)\n",
    "\n",
    "# Keeping only genres, overviews, and reviews\n",
    "raw = raw[['genres', 'reviews', 'overview']].copy()\n",
    "print(raw.shape)\n",
    "raw.head()"
   ]
  },
  {
   "cell_type": "markdown",
   "metadata": {},
   "source": [
    "## Determining $y$: Converting `genres` to bigrams\n",
    "How do we predict a multiple label list of genres for each film? For this model, we reduce the dimensionality of prediction by, instead, predicting most-poplar bigrams for each movie. A movie, for example, that has `[Drama, Adventure, Romance, Comedy]` listed as genres will instead be reduced to `(Drama, Adventure)`, as that is the most popular genre that the film has listed. A film with only one movie genre listed, `[Documentary]`, would become the \"unary\" bigram of `(Documentary,)`. \n",
    "\n",
    "In practice, this means:\n",
    "- We convert all lists of genres into bigrams.\n",
    "- We calculate the frequency of each bigram.\n",
    "- For each movie, we select the bigram that occurs most frequently across all movies. (One note: this will over-sample over-represented classes.) \n",
    "- This final bigram which we use for prediction is `popular_bigram`. "
   ]
  },
  {
   "cell_type": "code",
   "execution_count": 17,
   "metadata": {
    "collapsed": false
   },
   "outputs": [
    {
     "data": {
      "text/html": [
       "<div>\n",
       "<table border=\"1\" class=\"dataframe\">\n",
       "  <thead>\n",
       "    <tr style=\"text-align: right;\">\n",
       "      <th></th>\n",
       "      <th>genres</th>\n",
       "      <th>reviews</th>\n",
       "      <th>overview</th>\n",
       "      <th>genre_lists</th>\n",
       "      <th>genre_bigrams</th>\n",
       "      <th>popular_bigram</th>\n",
       "    </tr>\n",
       "  </thead>\n",
       "  <tbody>\n",
       "    <tr>\n",
       "      <th>0</th>\n",
       "      <td>[{u'name': u'Documentary', u'id': 99}]</td>\n",
       "      <td>[]</td>\n",
       "      <td>Modern industrialization is no longer about st...</td>\n",
       "      <td>[Documentary]</td>\n",
       "      <td>[]</td>\n",
       "      <td>(Documentary,)</td>\n",
       "    </tr>\n",
       "    <tr>\n",
       "      <th>1</th>\n",
       "      <td>[{u'id': 99, u'name': u'Documentary'}]</td>\n",
       "      <td>[]</td>\n",
       "      <td>The documentary is an analysis of the fascinat...</td>\n",
       "      <td>[Documentary]</td>\n",
       "      <td>[]</td>\n",
       "      <td>(Documentary,)</td>\n",
       "    </tr>\n",
       "    <tr>\n",
       "      <th>2</th>\n",
       "      <td>[{u'id': 28, u'name': u'Action'}]</td>\n",
       "      <td>[]</td>\n",
       "      <td>A good-natured kung fu kid gets caught up in c...</td>\n",
       "      <td>[Action]</td>\n",
       "      <td>[]</td>\n",
       "      <td>(Action,)</td>\n",
       "    </tr>\n",
       "    <tr>\n",
       "      <th>3</th>\n",
       "      <td>[{u'id': 28, u'name': u'Action'}, {u'id': 18, ...</td>\n",
       "      <td>[]</td>\n",
       "      <td>In Los Angeles a deadly plague called the 'Pan...</td>\n",
       "      <td>[Action, Drama, Thriller]</td>\n",
       "      <td>[(Action, Drama), (Drama, Thriller)]</td>\n",
       "      <td>(Drama, Thriller)</td>\n",
       "    </tr>\n",
       "    <tr>\n",
       "      <th>4</th>\n",
       "      <td>[{u'id': 10402, u'name': u'Music'}, {u'id': 35...</td>\n",
       "      <td>[]</td>\n",
       "      <td>An updated version of the 1980 musical, which ...</td>\n",
       "      <td>[Music, Comedy, Drama, Romance]</td>\n",
       "      <td>[(Music, Comedy), (Comedy, Drama), (Drama, Rom...</td>\n",
       "      <td>(Drama, Romance)</td>\n",
       "    </tr>\n",
       "  </tbody>\n",
       "</table>\n",
       "</div>"
      ],
      "text/plain": [
       "                                              genres reviews  \\\n",
       "0             [{u'name': u'Documentary', u'id': 99}]      []   \n",
       "1             [{u'id': 99, u'name': u'Documentary'}]      []   \n",
       "2                  [{u'id': 28, u'name': u'Action'}]      []   \n",
       "3  [{u'id': 28, u'name': u'Action'}, {u'id': 18, ...      []   \n",
       "4  [{u'id': 10402, u'name': u'Music'}, {u'id': 35...      []   \n",
       "\n",
       "                                            overview  \\\n",
       "0  Modern industrialization is no longer about st...   \n",
       "1  The documentary is an analysis of the fascinat...   \n",
       "2  A good-natured kung fu kid gets caught up in c...   \n",
       "3  In Los Angeles a deadly plague called the 'Pan...   \n",
       "4  An updated version of the 1980 musical, which ...   \n",
       "\n",
       "                       genre_lists  \\\n",
       "0                    [Documentary]   \n",
       "1                    [Documentary]   \n",
       "2                         [Action]   \n",
       "3        [Action, Drama, Thriller]   \n",
       "4  [Music, Comedy, Drama, Romance]   \n",
       "\n",
       "                                       genre_bigrams     popular_bigram  \n",
       "0                                                 []     (Documentary,)  \n",
       "1                                                 []     (Documentary,)  \n",
       "2                                                 []          (Action,)  \n",
       "3               [(Action, Drama), (Drama, Thriller)]  (Drama, Thriller)  \n",
       "4  [(Music, Comedy), (Comedy, Drama), (Drama, Rom...   (Drama, Romance)  "
      ]
     },
     "execution_count": 17,
     "metadata": {},
     "output_type": "execute_result"
    }
   ],
   "source": [
    "all_bigrams_ever = []\n",
    "\n",
    "def bigrams(row):\n",
    "    return zip(row['genre_lists'], row['genre_lists'][1:])\n",
    "\n",
    "def col_for_each_bigram(row):\n",
    "    for bigram in row['genre_bigrams']:            \n",
    "        all_bigrams_ever.append(tuple(sorted(bigram)))\n",
    "    return row\n",
    "\n",
    "def popular_bigram(row):\n",
    "    for k in row['genre_bigrams']:\n",
    "        if bigram_frequency[k] <= 50 and len(row['genre_lists']) != 1:\n",
    "            row['popular_bigram'] = 'Other'\n",
    "        elif k in OrderedDict(bigram_frequency.most_common()).keys() and row['popular_bigram'] != k:\n",
    "            row['popular_bigram'] = k\n",
    "    if len(row['genre_lists']) == 1:\n",
    "        row['popular_bigram'] = tuple(row['genre_lists'])\n",
    "    return row\n",
    "                \n",
    "raw['genre_lists'] = raw.apply(lambda x: [y['name'] for y in x['genres']], axis = 1)\n",
    "raw['genre_bigrams'] = raw.apply(lambda x: bigrams(x), axis = 1)\n",
    "raw['popular_bigram'] = np.nan\n",
    "raw = raw.apply(lambda x: col_for_each_bigram(x), axis = 1)\n",
    "bigram_frequency = Counter(all_bigrams_ever)\n",
    "raw = raw.apply(lambda x: popular_bigram(x), axis = 1)\n",
    "raw.head()"
   ]
  },
  {
   "cell_type": "markdown",
   "metadata": {},
   "source": [
    "#### How to deal with very rare genres?\n",
    "Some genre bigrams appear less than 1% of the time. We drop these from the data entirely."
   ]
  },
  {
   "cell_type": "code",
   "execution_count": 8,
   "metadata": {
    "collapsed": false
   },
   "outputs": [
    {
     "data": {
      "text/plain": [
       "(Western,)            19\n",
       "(Adventure, Drama)    16\n",
       "(Fantasy,)            15\n",
       "(Crime,)              13\n",
       "(Adventure,)          12\n",
       "(Foreign,)             6\n",
       "(Mystery,)             4\n",
       "(TV Movie,)            3\n",
       "(War,)                 1\n",
       "(History,)             1\n",
       "Name: popular_bigram, dtype: int64"
      ]
     },
     "execution_count": 8,
     "metadata": {},
     "output_type": "execute_result"
    }
   ],
   "source": [
    "genre_frequency = raw['popular_bigram'].value_counts()\n",
    "genre_frequency[-10:]"
   ]
  },
  {
   "cell_type": "code",
   "execution_count": 18,
   "metadata": {
    "collapsed": false
   },
   "outputs": [
    {
     "data": {
      "text/plain": [
       "0    4214\n",
       "1     786\n",
       "Name: drop, dtype: int64"
      ]
     },
     "execution_count": 18,
     "metadata": {},
     "output_type": "execute_result"
    }
   ],
   "source": [
    "# Dropping \"rare\" movies (i.e. with a y < 1% of sample N)\n",
    "rare_genres = genre_frequency[genre_frequency < (raw.shape[0]*0.01)].index\n",
    "raw['drop'] = raw.apply(lambda x: 1 if x['popular_bigram'] in rare_genres else 0, axis = 1)\n",
    "raw['drop'].value_counts()"
   ]
  },
  {
   "cell_type": "code",
   "execution_count": 55,
   "metadata": {
    "collapsed": false
   },
   "outputs": [
    {
     "data": {
      "text/plain": [
       "((5000, 7), (2739, 7))"
      ]
     },
     "execution_count": 55,
     "metadata": {},
     "output_type": "execute_result"
    }
   ],
   "source": [
    "# I'll drop movies with 'rare' genres\n",
    "df = raw[(raw['drop'] == 0) | (raw['popular_bigram'] == 'Other')].copy()\n",
    "df = df[df['popular_bigram'] != 'Other'].copy()\n",
    "raw.shape, df.shape"
   ]
  },
  {
   "cell_type": "code",
   "execution_count": 56,
   "metadata": {
    "collapsed": false
   },
   "outputs": [
    {
     "name": "stdout",
     "output_type": "stream",
     "text": [
      "16\n"
     ]
    },
    {
     "data": {
      "text/plain": [
       "(Documentary,)          667\n",
       "(Drama,)                462\n",
       "(Comedy,)               347\n",
       "(Horror,)               171\n",
       "(Drama, Romance)        171\n",
       "(Music,)                131\n",
       "(Drama, Thriller)       113\n",
       "(Horror, Thriller)      107\n",
       "(Comedy, Drama)         107\n",
       "(Comedy, Romance)        87\n",
       "(Thriller,)              84\n",
       "(Action, Thriller)       62\n",
       "(Documentary, Music)     61\n",
       "(Crime, Drama)           61\n",
       "(Action,)                56\n",
       "(Animation,)             52\n",
       "Name: popular_bigram, dtype: int64"
      ]
     },
     "execution_count": 56,
     "metadata": {},
     "output_type": "execute_result"
    }
   ],
   "source": [
    "print(df['popular_bigram'].nunique())\n",
    "df['popular_bigram'].value_counts()"
   ]
  },
  {
   "cell_type": "markdown",
   "metadata": {},
   "source": [
    "Our final number of classes to predict is 16 distinct bigrams. The most frequently occurring is `(Documentary,)`, followed by `(Drama,)` and so on. We dropped everything that appears less than 1% of the time; the \"rarest\" genre remaining in our data is `(Animation,)`. \n",
    "\n",
    "\n",
    "## Converting `overview` and `reviews` to word-frequency vectors\n",
    "For movie summaries and reviews, we turned these into word-frequency vectors. "
   ]
  },
  {
   "cell_type": "code",
   "execution_count": 57,
   "metadata": {
    "collapsed": true
   },
   "outputs": [],
   "source": [
    "# I realized that sometimes 'overview' was in my top words list; renaming it here 'protects' it\n",
    "df.rename(columns={'overview': 'movie_overview'}, inplace=True)\n",
    "\n",
    "stops = set(nltk.corpus.stopwords.words('english'))\n",
    "all_words_ever = []\n",
    "\n",
    "def add_cols_for_all_words(row):\n",
    "    if row['movie_overview'] is not None:\n",
    "        words = nltk.word_tokenize(row['movie_overview'])\n",
    "        words = [word.lower() for word in words if len(word) > 2 and unidecode(word.lower()) not in stops]\n",
    "        all_words_ever.extend(words)\n",
    "    return row\n",
    "\n",
    "def parse_words(row):\n",
    "    if row['movie_overview'] is not None:\n",
    "        words = nltk.word_tokenize(row['movie_overview'])\n",
    "        words = [word.lower() for word in words if word.lower() in top_words]\n",
    "        for word in words:\n",
    "            row[unidecode(word)] += 1        \n",
    "    return row"
   ]
  },
  {
   "cell_type": "code",
   "execution_count": 58,
   "metadata": {
    "collapsed": false
   },
   "outputs": [
    {
     "data": {
      "text/plain": [
       "(84019, 18506)"
      ]
     },
     "execution_count": 58,
     "metadata": {},
     "output_type": "execute_result"
    }
   ],
   "source": [
    "df['review_text'] = df.apply(lambda row: [x['content'] for x in row['reviews']], axis = 1)\n",
    "df = df.apply(lambda x: add_cols_for_all_words(x), axis = 1)\n",
    "len(all_words_ever), len(set(all_words_ever))"
   ]
  },
  {
   "cell_type": "markdown",
   "metadata": {},
   "source": [
    "## Fitting the model\n",
    "We have identified 18,506 unique words that appear, globally, across all the movie summaries. We cannot use all 18,506 word vectors, as we would then have the \"curse of dimensionality\" - an incredibly sparse matrix. Instead, following the Dirichlet homework, we only selected the most frequently occurring words as columns. Since this was akin to a tuning parameter, we cross-validated to find the optimal number of word vectors to include."
   ]
  },
  {
   "cell_type": "code",
   "execution_count": 59,
   "metadata": {
    "collapsed": false
   },
   "outputs": [
    {
     "data": {
      "text/plain": [
       "(274, 8)"
      ]
     },
     "execution_count": 59,
     "metadata": {},
     "output_type": "execute_result"
    }
   ],
   "source": [
    "holdout = df.sample(frac = 0.1)\n",
    "holdout.shape"
   ]
  },
  {
   "cell_type": "code",
   "execution_count": 60,
   "metadata": {
    "collapsed": true
   },
   "outputs": [],
   "source": [
    "# Initialize model object\n",
    "clf = MultinomialNB()"
   ]
  },
  {
   "cell_type": "code",
   "execution_count": 78,
   "metadata": {
    "collapsed": false
   },
   "outputs": [
    {
     "name": "stdout",
     "output_type": "stream",
     "text": [
      "((2739, 100), (2739,))\n",
      "((2739, 400), (2739,))\n"
     ]
    },
    {
     "ename": "TypeError",
     "evalue": "Expected sequence or array-like, got estimator       bride  block  small-town  ryan  reflects  cruise  investigative  1980  \\\n0         0      0           0     0         0       0              0     0   \n1         0      0           0     0         0       0              0     0   \n2         0      0           0     0         0       0              0     0   \n3         0      0           0     0         0       0              0     0   \n4         0      0           0     0         0       0              0     0   \n5         0      0           0     0         0       0              0     0   \n6         0      0           0     0         0       0              0     0   \n7         0      0           0     0         0       0              0     0   \n9         0      0           0     0         0       0              0     0   \n10        0      0           0     0         0       0              0     0   \n11        0      0           0     0         0       0              0     0   \n13        0      0           0     0         0       0              0     0   \n15        0      0           0     0         0       0              0     0   \n16        0      0           0     0         0       0              0     0   \n17        0      0           0     0         0       0              0     0   \n18        0      0           0     0         0       0              0     0   \n19        0      0           0     0         0       0              0     0   \n24        0      0           0     0         0       0              0     0   \n27        0      0           0     0         0       0              0     0   \n28        0      0           0     0         0       0              0     0   \n29        0      0           0     0         0       0              0     0   \n30        0      0           0     0         0       0              0     0   \n31        0      0           0     0         0       0              0     0   \n33        0      0           0     0         0       0              0     0   \n38        0      0           0     0         0       0              0     0   \n40        0      0           0     0         0       0              0     0   \n41        0      0           0     0         0       0              0     0   \n42        0      0           0     0         0       0              0     0   \n43        0      0           0     0         0       0              0     0   \n44        0      0           0     0         0       0              0     0   \n...     ...    ...         ...   ...       ...     ...            ...   ...   \n4958      0      0           0     0         0       0              0     0   \n4959      0      0           0     0         0       0              0     0   \n4960      0      0           0     0         0       0              0     0   \n4961      0      0           0     0         0       0              0     0   \n4962      0      0           0     0         0       0              0     0   \n4963      0      0           0     0         0       0              0     0   \n4966      0      0           0     0         0       0              0     0   \n4967      0      0           0     0         0       0              0     0   \n4968      0      0           0     0         0       0              0     0   \n4969      0      0           0     0         0       0              0     0   \n4972      0      0           0     0         0       0              0     0   \n4973      0      0           0     0         0       0              0     0   \n4974      0      0           0     0         0       0              0     0   \n4975      0      0           0     0         0       0              0     0   \n4976      0      0           0     0         0       0              0     0   \n4979      0      0           0     0         0       0              0     0   \n4980      0      0           0     0         0       0              0     0   \n4982      0      0           0     0         0       0              0     0   \n4984      0      0           0     0         0       0              0     0   \n4986      0      0           0     0         0       0              0     0   \n4987      0      0           0     0         0       0              0     0   \n4989      0      0           0     0         0       0              0     0   \n4991      0      0           0     0         0       0              0     0   \n4992      0      0           0     0         0       0              0     0   \n4993      0      0           0     0         0       0              0     0   \n4994      0      0           0     0         0       0              0     0   \n4995      0      0           0     0         0       0              0     0   \n4996      0      0           0     0         0       0              0     0   \n4997      0      0           0     0         0       0              0     0   \n4998      0      0           0     0         0       0              0     0   \n\n      route  2014  ...    twins  maker  occurred  pieces  2011  davis  \\\n0         0     0  ...        0      0         0       0     0      0   \n1         0     0  ...        0      0         0       0     0      0   \n2         0     0  ...        0      0         0       0     0      0   \n3         0     0  ...        0      0         0       0     0      0   \n4         0     0  ...        0      0         0       0     0      0   \n5         0     0  ...        0      0         0       0     0      0   \n6         0     0  ...        0      0         0       0     0      0   \n7         0     0  ...        0      0         0       0     0      0   \n9         0     0  ...        0      0         0       0     0      0   \n10        0     0  ...        0      0         0       0     0      0   \n11        0     0  ...        0      0         0       0     0      0   \n13        0     0  ...        0      0         0       0     0      0   \n15        0     0  ...        0      0         0       0     0      0   \n16        0     0  ...        0      0         0       0     0      0   \n17        0     0  ...        0      0         0       0     0      0   \n18        0     0  ...        0      0         0       0     0      0   \n19        0     0  ...        0      0         0       0     0      0   \n24        0     0  ...        0      0         0       0     0      0   \n27        0     0  ...        0      0         0       0     0      0   \n28        0     0  ...        0      0         0       0     0      0   \n29        0     0  ...        0      0         0       0     0      0   \n30        0     0  ...        0      0         0       0     0      0   \n31        0     0  ...        0      0         0       0     0      0   \n33        0     0  ...        0      0         0       0     0      0   \n38        0     0  ...        0      0         0       0     0      0   \n40        0     0  ...        0      0         0       0     0      0   \n41        0     0  ...        0      0         0       0     0      0   \n42        0     0  ...        0      0         0       0     0      0   \n43        0     0  ...        0      0         0       0     0      0   \n44        0     0  ...        0      0         0       0     0      0   \n...     ...   ...  ...      ...    ...       ...     ...   ...    ...   \n4958      0     0  ...        0      0         0       0     0      0   \n4959      0     0  ...        0      0         0       0     0      0   \n4960      0     0  ...        0      0         0       0     0      0   \n4961      0     0  ...        0      0         0       0     0      0   \n4962      0     0  ...        0      0         0       0     0      0   \n4963      0     0  ...        0      0         0       0     0      0   \n4966      0     0  ...        0      0         0       0     0      0   \n4967      0     0  ...        0      0         0       0     0      0   \n4968      0     0  ...        0      0         0       0     0      0   \n4969      0     0  ...        0      0         0       0     0      0   \n4972      0     0  ...        0      0         0       0     0      0   \n4973      0     0  ...        0      0         0       0     0      0   \n4974      0     0  ...        0      0         0       0     0      0   \n4975      0     0  ...        0      0         0       0     0      0   \n4976      0     0  ...        0      0         0       0     0      0   \n4979      0     0  ...        0      0         0       0     0      0   \n4980      0     0  ...        0      0         0       0     0      0   \n4982      0     0  ...        0      0         0       0     0      0   \n4984      0     0  ...        0      0         0       0     0      0   \n4986      0     0  ...        0      0         0       0     0      0   \n4987      0     0  ...        0      0         0       0     0      0   \n4989      0     0  ...        0      0         0       0     0      0   \n4991      0     0  ...        0      0         0       0     0      0   \n4992      0     0  ...        0      0         0       0     0      0   \n4993      0     0  ...        0      0         0       0     0      0   \n4994      0     0  ...        0      0         0       0     0      0   \n4995      0     0  ...        0      0         0       0     0      0   \n4996      0     0  ...        0      0         0       0     0      0   \n4997      0     0  ...        0      0         0       0     0      0   \n4998      0     0  ...        0      0         0       0     0      0   \n\n      enforcement  split  roberts  meant  \n0               0      0        0      0  \n1               0      0        0      0  \n2               0      0        0      0  \n3               0      0        0      0  \n4               0      0        0      0  \n5               0      0        0      0  \n6               0      0        0      0  \n7               0      0        0      0  \n9               0      0        0      0  \n10              0      0        0      0  \n11              0      0        0      0  \n13              0      0        0      0  \n15              0      0        0      0  \n16              0      0        0      0  \n17              0      0        0      0  \n18              0      0        0      0  \n19              0      0        0      0  \n24              0      0        0      0  \n27              0      0        0      0  \n28              0      0        0      0  \n29              0      0        0      0  \n30              0      0        0      0  \n31              0      0        0      0  \n33              0      0        0      0  \n38              0      0        0      0  \n40              0      0        0      0  \n41              0      0        0      0  \n42              0      0        0      0  \n43              0      0        0      0  \n44              0      0        0      0  \n...           ...    ...      ...    ...  \n4958            0      0        0      0  \n4959            0      0        0      0  \n4960            0      0        0      0  \n4961            0      0        0      0  \n4962            0      0        0      0  \n4963            0      0        0      0  \n4966            0      0        0      0  \n4967            0      0        0      0  \n4968            0      0        0      0  \n4969            0      0        0      0  \n4972            0      0        0      0  \n4973            0      0        0      0  \n4974            0      0        0      0  \n4975            0      0        0      0  \n4976            0      0        0      0  \n4979            0      0        0      0  \n4980            0      0        0      0  \n4982            0      0        0      0  \n4984            0      0        0      0  \n4986            0      0        0      0  \n4987            0      0        0      0  \n4989            0      0        0      0  \n4991            0      0        0      0  \n4992            0      0        0      0  \n4993            0      0        0      0  \n4994            0      0        0      0  \n4995            0      0        0      0  \n4996            0      0        0      0  \n4997            0      0        0      0  \n4998            0      0        0      0  \n\n[2739 rows x 400 columns]",
     "output_type": "error",
     "traceback": [
      "\u001b[0;31m---------------------------------------------------------------------------\u001b[0m",
      "\u001b[0;31mTypeError\u001b[0m                                 Traceback (most recent call last)",
      "\u001b[0;32m<ipython-input-78-093b97ebeb0f>\u001b[0m in \u001b[0;36m<module>\u001b[0;34m()\u001b[0m\n\u001b[1;32m     14\u001b[0m     \u001b[0;32mprint\u001b[0m\u001b[0;34m(\u001b[0m\u001b[0mX\u001b[0m\u001b[0;34m.\u001b[0m\u001b[0mshape\u001b[0m\u001b[0;34m,\u001b[0m \u001b[0my\u001b[0m\u001b[0;34m.\u001b[0m\u001b[0mshape\u001b[0m\u001b[0;34m)\u001b[0m\u001b[0;34m\u001b[0m\u001b[0m\n\u001b[1;32m     15\u001b[0m \u001b[0;34m\u001b[0m\u001b[0m\n\u001b[0;32m---> 16\u001b[0;31m     \u001b[0mscores\u001b[0m \u001b[0;34m=\u001b[0m \u001b[0mcross_val_score\u001b[0m\u001b[0;34m(\u001b[0m\u001b[0mclf\u001b[0m\u001b[0;34m,\u001b[0m \u001b[0mX\u001b[0m\u001b[0;34m,\u001b[0m \u001b[0my\u001b[0m\u001b[0;34m,\u001b[0m \u001b[0mcv\u001b[0m\u001b[0;34m=\u001b[0m\u001b[0;36m5\u001b[0m\u001b[0;34m)\u001b[0m\u001b[0;34m\u001b[0m\u001b[0m\n\u001b[0m\u001b[1;32m     17\u001b[0m     \u001b[0mword_scores\u001b[0m\u001b[0;34m.\u001b[0m\u001b[0mappend\u001b[0m\u001b[0;34m(\u001b[0m\u001b[0;34m{\u001b[0m\u001b[0;34m'top_word_count'\u001b[0m\u001b[0;34m:\u001b[0m \u001b[0mtop_word_count\u001b[0m\u001b[0;34m,\u001b[0m \u001b[0;34m'average_score'\u001b[0m\u001b[0;34m:\u001b[0m \u001b[0mscores\u001b[0m\u001b[0;34m.\u001b[0m\u001b[0mmean\u001b[0m\u001b[0;34m(\u001b[0m\u001b[0;34m)\u001b[0m\u001b[0;34m}\u001b[0m\u001b[0;34m)\u001b[0m\u001b[0;34m\u001b[0m\u001b[0m\n\u001b[1;32m     18\u001b[0m \u001b[0;34m\u001b[0m\u001b[0m\n",
      "\u001b[0;32m/usr/local/lib/python2.7/site-packages/sklearn/model_selection/_validation.pyc\u001b[0m in \u001b[0;36mcross_val_score\u001b[0;34m(estimator, X, y, groups, scoring, cv, n_jobs, verbose, fit_params, pre_dispatch)\u001b[0m\n\u001b[1;32m    127\u001b[0m \u001b[0;34m\u001b[0m\u001b[0m\n\u001b[1;32m    128\u001b[0m     \"\"\"\n\u001b[0;32m--> 129\u001b[0;31m     \u001b[0mX\u001b[0m\u001b[0;34m,\u001b[0m \u001b[0my\u001b[0m\u001b[0;34m,\u001b[0m \u001b[0mgroups\u001b[0m \u001b[0;34m=\u001b[0m \u001b[0mindexable\u001b[0m\u001b[0;34m(\u001b[0m\u001b[0mX\u001b[0m\u001b[0;34m,\u001b[0m \u001b[0my\u001b[0m\u001b[0;34m,\u001b[0m \u001b[0mgroups\u001b[0m\u001b[0;34m)\u001b[0m\u001b[0;34m\u001b[0m\u001b[0m\n\u001b[0m\u001b[1;32m    130\u001b[0m \u001b[0;34m\u001b[0m\u001b[0m\n\u001b[1;32m    131\u001b[0m     \u001b[0mcv\u001b[0m \u001b[0;34m=\u001b[0m \u001b[0mcheck_cv\u001b[0m\u001b[0;34m(\u001b[0m\u001b[0mcv\u001b[0m\u001b[0;34m,\u001b[0m \u001b[0my\u001b[0m\u001b[0;34m,\u001b[0m \u001b[0mclassifier\u001b[0m\u001b[0;34m=\u001b[0m\u001b[0mis_classifier\u001b[0m\u001b[0;34m(\u001b[0m\u001b[0mestimator\u001b[0m\u001b[0;34m)\u001b[0m\u001b[0;34m)\u001b[0m\u001b[0;34m\u001b[0m\u001b[0m\n",
      "\u001b[0;32m/usr/local/lib/python2.7/site-packages/sklearn/utils/validation.pyc\u001b[0m in \u001b[0;36mindexable\u001b[0;34m(*iterables)\u001b[0m\n\u001b[1;32m    204\u001b[0m         \u001b[0;32melse\u001b[0m\u001b[0;34m:\u001b[0m\u001b[0;34m\u001b[0m\u001b[0m\n\u001b[1;32m    205\u001b[0m             \u001b[0mresult\u001b[0m\u001b[0;34m.\u001b[0m\u001b[0mappend\u001b[0m\u001b[0;34m(\u001b[0m\u001b[0mnp\u001b[0m\u001b[0;34m.\u001b[0m\u001b[0marray\u001b[0m\u001b[0;34m(\u001b[0m\u001b[0mX\u001b[0m\u001b[0;34m)\u001b[0m\u001b[0;34m)\u001b[0m\u001b[0;34m\u001b[0m\u001b[0m\n\u001b[0;32m--> 206\u001b[0;31m     \u001b[0mcheck_consistent_length\u001b[0m\u001b[0;34m(\u001b[0m\u001b[0;34m*\u001b[0m\u001b[0mresult\u001b[0m\u001b[0;34m)\u001b[0m\u001b[0;34m\u001b[0m\u001b[0m\n\u001b[0m\u001b[1;32m    207\u001b[0m     \u001b[0;32mreturn\u001b[0m \u001b[0mresult\u001b[0m\u001b[0;34m\u001b[0m\u001b[0m\n\u001b[1;32m    208\u001b[0m \u001b[0;34m\u001b[0m\u001b[0m\n",
      "\u001b[0;32m/usr/local/lib/python2.7/site-packages/sklearn/utils/validation.pyc\u001b[0m in \u001b[0;36mcheck_consistent_length\u001b[0;34m(*arrays)\u001b[0m\n\u001b[1;32m    175\u001b[0m     \"\"\"\n\u001b[1;32m    176\u001b[0m \u001b[0;34m\u001b[0m\u001b[0m\n\u001b[0;32m--> 177\u001b[0;31m     \u001b[0mlengths\u001b[0m \u001b[0;34m=\u001b[0m \u001b[0;34m[\u001b[0m\u001b[0m_num_samples\u001b[0m\u001b[0;34m(\u001b[0m\u001b[0mX\u001b[0m\u001b[0;34m)\u001b[0m \u001b[0;32mfor\u001b[0m \u001b[0mX\u001b[0m \u001b[0;32min\u001b[0m \u001b[0marrays\u001b[0m \u001b[0;32mif\u001b[0m \u001b[0mX\u001b[0m \u001b[0;32mis\u001b[0m \u001b[0;32mnot\u001b[0m \u001b[0mNone\u001b[0m\u001b[0;34m]\u001b[0m\u001b[0;34m\u001b[0m\u001b[0m\n\u001b[0m\u001b[1;32m    178\u001b[0m     \u001b[0muniques\u001b[0m \u001b[0;34m=\u001b[0m \u001b[0mnp\u001b[0m\u001b[0;34m.\u001b[0m\u001b[0munique\u001b[0m\u001b[0;34m(\u001b[0m\u001b[0mlengths\u001b[0m\u001b[0;34m)\u001b[0m\u001b[0;34m\u001b[0m\u001b[0m\n\u001b[1;32m    179\u001b[0m     \u001b[0;32mif\u001b[0m \u001b[0mlen\u001b[0m\u001b[0;34m(\u001b[0m\u001b[0muniques\u001b[0m\u001b[0;34m)\u001b[0m \u001b[0;34m>\u001b[0m \u001b[0;36m1\u001b[0m\u001b[0;34m:\u001b[0m\u001b[0;34m\u001b[0m\u001b[0m\n",
      "\u001b[0;32m/usr/local/lib/python2.7/site-packages/sklearn/utils/validation.pyc\u001b[0m in \u001b[0;36m_num_samples\u001b[0;34m(x)\u001b[0m\n\u001b[1;32m    114\u001b[0m         \u001b[0;31m# Don't get num_samples from an ensembles length!\u001b[0m\u001b[0;34m\u001b[0m\u001b[0;34m\u001b[0m\u001b[0m\n\u001b[1;32m    115\u001b[0m         raise TypeError('Expected sequence or array-like, got '\n\u001b[0;32m--> 116\u001b[0;31m                         'estimator %s' % x)\n\u001b[0m\u001b[1;32m    117\u001b[0m     \u001b[0;32mif\u001b[0m \u001b[0;32mnot\u001b[0m \u001b[0mhasattr\u001b[0m\u001b[0;34m(\u001b[0m\u001b[0mx\u001b[0m\u001b[0;34m,\u001b[0m \u001b[0;34m'__len__'\u001b[0m\u001b[0;34m)\u001b[0m \u001b[0;32mand\u001b[0m \u001b[0;32mnot\u001b[0m \u001b[0mhasattr\u001b[0m\u001b[0;34m(\u001b[0m\u001b[0mx\u001b[0m\u001b[0;34m,\u001b[0m \u001b[0;34m'shape'\u001b[0m\u001b[0;34m)\u001b[0m\u001b[0;34m:\u001b[0m\u001b[0;34m\u001b[0m\u001b[0m\n\u001b[1;32m    118\u001b[0m         \u001b[0;32mif\u001b[0m \u001b[0mhasattr\u001b[0m\u001b[0;34m(\u001b[0m\u001b[0mx\u001b[0m\u001b[0;34m,\u001b[0m \u001b[0;34m'__array__'\u001b[0m\u001b[0;34m)\u001b[0m\u001b[0;34m:\u001b[0m\u001b[0;34m\u001b[0m\u001b[0m\n",
      "\u001b[0;31mTypeError\u001b[0m: Expected sequence or array-like, got estimator       bride  block  small-town  ryan  reflects  cruise  investigative  1980  \\\n0         0      0           0     0         0       0              0     0   \n1         0      0           0     0         0       0              0     0   \n2         0      0           0     0         0       0              0     0   \n3         0      0           0     0         0       0              0     0   \n4         0      0           0     0         0       0              0     0   \n5         0      0           0     0         0       0              0     0   \n6         0      0           0     0         0       0              0     0   \n7         0      0           0     0         0       0              0     0   \n9         0      0           0     0         0       0              0     0   \n10        0      0           0     0         0       0              0     0   \n11        0      0           0     0         0       0              0     0   \n13        0      0           0     0         0       0              0     0   \n15        0      0           0     0         0       0              0     0   \n16        0      0           0     0         0       0              0     0   \n17        0      0           0     0         0       0              0     0   \n18        0      0           0     0         0       0              0     0   \n19        0      0           0     0         0       0              0     0   \n24        0      0           0     0         0       0              0     0   \n27        0      0           0     0         0       0              0     0   \n28        0      0           0     0         0       0              0     0   \n29        0      0           0     0         0       0              0     0   \n30        0      0           0     0         0       0              0     0   \n31        0      0           0     0         0       0              0     0   \n33        0      0           0     0         0       0              0     0   \n38        0      0           0     0         0       0              0     0   \n40        0      0           0     0         0       0              0     0   \n41        0      0           0     0         0       0              0     0   \n42        0      0           0     0         0       0              0     0   \n43        0      0           0     0         0       0              0     0   \n44        0      0           0     0         0       0              0     0   \n...     ...    ...         ...   ...       ...     ...            ...   ...   \n4958      0      0           0     0         0       0              0     0   \n4959      0      0           0     0         0       0              0     0   \n4960      0      0           0     0         0       0              0     0   \n4961      0      0           0     0         0       0              0     0   \n4962      0      0           0     0         0       0              0     0   \n4963      0      0           0     0         0       0              0     0   \n4966      0      0           0     0         0       0              0     0   \n4967      0      0           0     0         0       0              0     0   \n4968      0      0           0     0         0       0              0     0   \n4969      0      0           0     0         0       0              0     0   \n4972      0      0           0     0         0       0              0     0   \n4973      0      0           0     0         0       0              0     0   \n4974      0      0           0     0         0       0              0     0   \n4975      0      0           0     0         0       0              0     0   \n4976      0      0           0     0         0       0              0     0   \n4979      0      0           0     0         0       0              0     0   \n4980      0      0           0     0         0       0              0     0   \n4982      0      0           0     0         0       0              0     0   \n4984      0      0           0     0         0       0              0     0   \n4986      0      0           0     0         0       0              0     0   \n4987      0      0           0     0         0       0              0     0   \n4989      0      0           0     0         0       0              0     0   \n4991      0      0           0     0         0       0              0     0   \n4992      0      0           0     0         0       0              0     0   \n4993      0      0           0     0         0       0              0     0   \n4994      0      0           0     0         0       0              0     0   \n4995      0      0           0     0         0       0              0     0   \n4996      0      0           0     0         0       0              0     0   \n4997      0      0           0     0         0       0              0     0   \n4998      0      0           0     0         0       0              0     0   \n\n      route  2014  ...    twins  maker  occurred  pieces  2011  davis  \\\n0         0     0  ...        0      0         0       0     0      0   \n1         0     0  ...        0      0         0       0     0      0   \n2         0     0  ...        0      0         0       0     0      0   \n3         0     0  ...        0      0         0       0     0      0   \n4         0     0  ...        0      0         0       0     0      0   \n5         0     0  ...        0      0         0       0     0      0   \n6         0     0  ...        0      0         0       0     0      0   \n7         0     0  ...        0      0         0       0     0      0   \n9         0     0  ...        0      0         0       0     0      0   \n10        0     0  ...        0      0         0       0     0      0   \n11        0     0  ...        0      0         0       0     0      0   \n13        0     0  ...        0      0         0       0     0      0   \n15        0     0  ...        0      0         0       0     0      0   \n16        0     0  ...        0      0         0       0     0      0   \n17        0     0  ...        0      0         0       0     0      0   \n18        0     0  ...        0      0         0       0     0      0   \n19        0     0  ...        0      0         0       0     0      0   \n24        0     0  ...        0      0         0       0     0      0   \n27        0     0  ...        0      0         0       0     0      0   \n28        0     0  ...        0      0         0       0     0      0   \n29        0     0  ...        0      0         0       0     0      0   \n30        0     0  ...        0      0         0       0     0      0   \n31        0     0  ...        0      0         0       0     0      0   \n33        0     0  ...        0      0         0       0     0      0   \n38        0     0  ...        0      0         0       0     0      0   \n40        0     0  ...        0      0         0       0     0      0   \n41        0     0  ...        0      0         0       0     0      0   \n42        0     0  ...        0      0         0       0     0      0   \n43        0     0  ...        0      0         0       0     0      0   \n44        0     0  ...        0      0         0       0     0      0   \n...     ...   ...  ...      ...    ...       ...     ...   ...    ...   \n4958      0     0  ...        0      0         0       0     0      0   \n4959      0     0  ...        0      0         0       0     0      0   \n4960      0     0  ...        0      0         0       0     0      0   \n4961      0     0  ...        0      0         0       0     0      0   \n4962      0     0  ...        0      0         0       0     0      0   \n4963      0     0  ...        0      0         0       0     0      0   \n4966      0     0  ...        0      0         0       0     0      0   \n4967      0     0  ...        0      0         0       0     0      0   \n4968      0     0  ...        0      0         0       0     0      0   \n4969      0     0  ...        0      0         0       0     0      0   \n4972      0     0  ...        0      0         0       0     0      0   \n4973      0     0  ...        0      0         0       0     0      0   \n4974      0     0  ...        0      0         0       0     0      0   \n4975      0     0  ...        0      0         0       0     0      0   \n4976      0     0  ...        0      0         0       0     0      0   \n4979      0     0  ...        0      0         0       0     0      0   \n4980      0     0  ...        0      0         0       0     0      0   \n4982      0     0  ...        0      0         0       0     0      0   \n4984      0     0  ...        0      0         0       0     0      0   \n4986      0     0  ...        0      0         0       0     0      0   \n4987      0     0  ...        0      0         0       0     0      0   \n4989      0     0  ...        0      0         0       0     0      0   \n4991      0     0  ...        0      0         0       0     0      0   \n4992      0     0  ...        0      0         0       0     0      0   \n4993      0     0  ...        0      0         0       0     0      0   \n4994      0     0  ...        0      0         0       0     0      0   \n4995      0     0  ...        0      0         0       0     0      0   \n4996      0     0  ...        0      0         0       0     0      0   \n4997      0     0  ...        0      0         0       0     0      0   \n4998      0     0  ...        0      0         0       0     0      0   \n\n      enforcement  split  roberts  meant  \n0               0      0        0      0  \n1               0      0        0      0  \n2               0      0        0      0  \n3               0      0        0      0  \n4               0      0        0      0  \n5               0      0        0      0  \n6               0      0        0      0  \n7               0      0        0      0  \n9               0      0        0      0  \n10              0      0        0      0  \n11              0      0        0      0  \n13              0      0        0      0  \n15              0      0        0      0  \n16              0      0        0      0  \n17              0      0        0      0  \n18              0      0        0      0  \n19              0      0        0      0  \n24              0      0        0      0  \n27              0      0        0      0  \n28              0      0        0      0  \n29              0      0        0      0  \n30              0      0        0      0  \n31              0      0        0      0  \n33              0      0        0      0  \n38              0      0        0      0  \n40              0      0        0      0  \n41              0      0        0      0  \n42              0      0        0      0  \n43              0      0        0      0  \n44              0      0        0      0  \n...           ...    ...      ...    ...  \n4958            0      0        0      0  \n4959            0      0        0      0  \n4960            0      0        0      0  \n4961            0      0        0      0  \n4962            0      0        0      0  \n4963            0      0        0      0  \n4966            0      0        0      0  \n4967            0      0        0      0  \n4968            0      0        0      0  \n4969            0      0        0      0  \n4972            0      0        0      0  \n4973            0      0        0      0  \n4974            0      0        0      0  \n4975            0      0        0      0  \n4976            0      0        0      0  \n4979            0      0        0      0  \n4980            0      0        0      0  \n4982            0      0        0      0  \n4984            0      0        0      0  \n4986            0      0        0      0  \n4987            0      0        0      0  \n4989            0      0        0      0  \n4991            0      0        0      0  \n4992            0      0        0      0  \n4993            0      0        0      0  \n4994            0      0        0      0  \n4995            0      0        0      0  \n4996            0      0        0      0  \n4997            0      0        0      0  \n4998            0      0        0      0  \n\n[2739 rows x 400 columns]"
     ]
    }
   ],
   "source": [
    "word_scores = []\n",
    "\n",
    "for top_word_count in range(100, 900, 300):\n",
    "    top_words = [word[0] for word in Counter(all_words_ever).most_common(top_word_count)]\n",
    "    for word in top_words:\n",
    "        df[unidecode(word)] = 0\n",
    "\n",
    "    this_df = pd.DataFrame()\n",
    "    this_df = df.apply(lambda x: parse_words(x), axis = 1)\n",
    "\n",
    "    X = this_df[this_df.columns[-top_word_count:]]\n",
    "    y = this_df['popular_bigram']\n",
    "    y = y.apply(lambda x: str(x))\n",
    "    print(X.shape, y.shape)\n",
    "\n",
    "    scores = cross_val_score(clf, X, y, cv=5)\n",
    "    word_scores.append({'top_word_count': top_word_count, 'average_score': scores.mean()})\n",
    "\n",
    "word_scores = pd.DataFrame(word_scores)\n",
    "word_scores.head()"
   ]
  },
  {
   "cell_type": "code",
   "execution_count": null,
   "metadata": {
    "collapsed": false
   },
   "outputs": [],
   "source": [
    "best_word_count = word_scores[word_scores['average_score'] == word_scores['average_score'].max()]['top_word_count'].item()\n",
    "\n",
    "plt.plot(word_scores['top_word_count'], word_scores['average_score'])\n",
    "plt.title('Optimal word count: {}'.format(best_word_count))\n",
    "plt.ylim([0,1])\n",
    "plt.show()"
   ]
  },
  {
   "cell_type": "markdown",
   "metadata": {},
   "source": [
    "# TODO\n",
    "1. random model as baseline\n",
    "2. tune any other hyperparams?\n",
    "3. add any other non-word vector features?\n",
    "4. finish writing it up?\n",
    "\n",
    "We have 16 unique genres which we are predicting. A random classifier would thus predict around 6% correctly. At present, we're able to predict with around 39% accuracy, using the top 500 words (by frequency) in film summary overviews.\n",
    "\n",
    "### Confusion matrix"
   ]
  },
  {
   "cell_type": "code",
   "execution_count": 47,
   "metadata": {
    "collapsed": false
   },
   "outputs": [
    {
     "data": {
      "text/plain": [
       "((2191, 508), (548, 508))"
      ]
     },
     "execution_count": 47,
     "metadata": {},
     "output_type": "execute_result"
    }
   ],
   "source": [
    "train = df.sample(frac = 0.8)\n",
    "test = df.drop(train.index)\n",
    "train.shape, test.shape"
   ]
  },
  {
   "cell_type": "code",
   "execution_count": 52,
   "metadata": {
    "collapsed": false
   },
   "outputs": [
    {
     "data": {
      "text/plain": [
       "((2191, 500), (548, 500))"
      ]
     },
     "execution_count": 52,
     "metadata": {},
     "output_type": "execute_result"
    }
   ],
   "source": [
    "X_train = train[train.columns[-N:]]\n",
    "X_test = test[test.columns[-N:]]\n",
    "y_train = train['popular_bigram'].apply(lambda x: str(x))\n",
    "y_test = test['popular_bigram'].apply(lambda x: str(x))\n",
    "X_train.shape, X_test.shape"
   ]
  },
  {
   "cell_type": "code",
   "execution_count": 87,
   "metadata": {
    "collapsed": false
   },
   "outputs": [],
   "source": [
    "fitted = clf.fit(X_train, y_train)\n",
    "y_pred = clf.predict(X_test)\n",
    "score = fitted.score(X_test, y_test)\n",
    "cm = confusion_matrix(y_test, y_pred, labels = y_test.unique())"
   ]
  },
  {
   "cell_type": "code",
   "execution_count": 1,
   "metadata": {
    "collapsed": false
   },
   "outputs": [
    {
     "ename": "NameError",
     "evalue": "name 'plt' is not defined",
     "output_type": "error",
     "traceback": [
      "\u001b[0;31m---------------------------------------------------------------------------\u001b[0m",
      "\u001b[0;31mNameError\u001b[0m                                 Traceback (most recent call last)",
      "\u001b[0;32m<ipython-input-1-52b7f735bc19>\u001b[0m in \u001b[0;36m<module>\u001b[0;34m()\u001b[0m\n\u001b[0;32m----> 1\u001b[0;31m \u001b[0mplt\u001b[0m\u001b[0;34m.\u001b[0m\u001b[0mimshow\u001b[0m\u001b[0;34m(\u001b[0m\u001b[0mcm\u001b[0m\u001b[0;34m,\u001b[0m \u001b[0minterpolation\u001b[0m\u001b[0;34m=\u001b[0m\u001b[0;34m'nearest'\u001b[0m\u001b[0;34m,\u001b[0m \u001b[0mcmap\u001b[0m\u001b[0;34m=\u001b[0m\u001b[0mplt\u001b[0m\u001b[0;34m.\u001b[0m\u001b[0mcm\u001b[0m\u001b[0;34m.\u001b[0m\u001b[0mBlues\u001b[0m\u001b[0;34m)\u001b[0m\u001b[0;34m\u001b[0m\u001b[0m\n\u001b[0m\u001b[1;32m      2\u001b[0m \u001b[0mtick_marks\u001b[0m \u001b[0;34m=\u001b[0m \u001b[0mnp\u001b[0m\u001b[0;34m.\u001b[0m\u001b[0marange\u001b[0m\u001b[0;34m(\u001b[0m\u001b[0my_test\u001b[0m\u001b[0;34m.\u001b[0m\u001b[0mnunique\u001b[0m\u001b[0;34m(\u001b[0m\u001b[0;34m)\u001b[0m\u001b[0;34m)\u001b[0m\u001b[0;34m\u001b[0m\u001b[0m\n\u001b[1;32m      3\u001b[0m \u001b[0mplt\u001b[0m\u001b[0;34m.\u001b[0m\u001b[0mxticks\u001b[0m\u001b[0;34m(\u001b[0m\u001b[0mtick_marks\u001b[0m\u001b[0;34m,\u001b[0m \u001b[0my_test\u001b[0m\u001b[0;34m.\u001b[0m\u001b[0munique\u001b[0m\u001b[0;34m(\u001b[0m\u001b[0;34m)\u001b[0m\u001b[0;34m,\u001b[0m \u001b[0mrotation\u001b[0m\u001b[0;34m=\u001b[0m\u001b[0;36m90\u001b[0m\u001b[0;34m)\u001b[0m\u001b[0;34m\u001b[0m\u001b[0m\n\u001b[1;32m      4\u001b[0m \u001b[0mplt\u001b[0m\u001b[0;34m.\u001b[0m\u001b[0myticks\u001b[0m\u001b[0;34m(\u001b[0m\u001b[0mtick_marks\u001b[0m\u001b[0;34m,\u001b[0m \u001b[0my_test\u001b[0m\u001b[0;34m.\u001b[0m\u001b[0munique\u001b[0m\u001b[0;34m(\u001b[0m\u001b[0;34m)\u001b[0m\u001b[0;34m)\u001b[0m\u001b[0;34m\u001b[0m\u001b[0m\n\u001b[1;32m      5\u001b[0m \u001b[0mplt\u001b[0m\u001b[0;34m.\u001b[0m\u001b[0mxlabel\u001b[0m\u001b[0;34m(\u001b[0m\u001b[0;34m'Predicted label'\u001b[0m\u001b[0;34m)\u001b[0m\u001b[0;34m\u001b[0m\u001b[0m\n",
      "\u001b[0;31mNameError\u001b[0m: name 'plt' is not defined"
     ]
    }
   ],
   "source": [
    "plt.imshow(cm, interpolation='nearest', cmap=plt.cm.Blues)\n",
    "tick_marks = np.arange(y_test.nunique())\n",
    "plt.xticks(tick_marks, y_test.unique(), rotation=90)\n",
    "plt.yticks(tick_marks, y_test.unique())\n",
    "plt.xlabel('Predicted label')\n",
    "plt.ylabel('True label')\n",
    "plt.title('Confusion matrix: Naive Bayes genre prediction ({:.0f}% accuracy)'.format(score*100))\n",
    "plt.show()"
   ]
  },
  {
   "cell_type": "code",
   "execution_count": 99,
   "metadata": {
    "collapsed": false
   },
   "outputs": [
    {
     "data": {
      "text/plain": [
       "(u'Documentary',)             123\n",
       "(u'Drama',)                    97\n",
       "(u'Comedy',)                   84\n",
       "(u'Horror',)                   32\n",
       "(u'Drama', u'Romance')         32\n",
       "(u'Music',)                    30\n",
       "(u'Comedy', u'Drama')          25\n",
       "(u'Horror', u'Thriller')       19\n",
       "(u'Comedy', u'Romance')        18\n",
       "(u'Drama', u'Thriller')        16\n",
       "(u'Thriller',)                 16\n",
       "(u'Documentary', u'Music')     16\n",
       "(u'Action',)                   13\n",
       "(u'Crime', u'Drama')           11\n",
       "(u'Action', u'Thriller')       11\n",
       "(u'Animation',)                 5\n",
       "Name: popular_bigram, dtype: int64"
      ]
     },
     "execution_count": 99,
     "metadata": {},
     "output_type": "execute_result"
    }
   ],
   "source": [
    "y_test.value_counts()"
   ]
  },
  {
   "cell_type": "code",
   "execution_count": 103,
   "metadata": {
    "collapsed": false
   },
   "outputs": [
    {
     "data": {
      "text/plain": [
       "(u'Documentary',)             165\n",
       "(u'Drama',)                   125\n",
       "(u'Comedy',)                   54\n",
       "(u'Horror',)                   40\n",
       "(u'Music',)                    37\n",
       "(u'Drama', u'Romance')         34\n",
       "(u'Drama', u'Thriller')        20\n",
       "(u'Horror', u'Thriller')       16\n",
       "(u'Comedy', u'Romance')        13\n",
       "(u'Documentary', u'Music')     12\n",
       "(u'Action', u'Thriller')        9\n",
       "(u'Comedy', u'Drama')           9\n",
       "(u'Action',)                    6\n",
       "(u'Crime', u'Drama')            3\n",
       "(u'Thriller',)                  3\n",
       "(u'Animation',)                 2\n",
       "dtype: int64"
      ]
     },
     "execution_count": 103,
     "metadata": {},
     "output_type": "execute_result"
    }
   ],
   "source": [
    "pd.Series(y_pred).value_counts()"
   ]
  },
  {
   "cell_type": "code",
   "execution_count": 109,
   "metadata": {
    "collapsed": false
   },
   "outputs": [
    {
     "data": {
      "image/png": "[encoded data removed]",
      "text/plain": [
       "<matplotlib.figure.Figure at 0x10a244bd0>"
      ]
     },
     "metadata": {},
     "output_type": "display_data"
    }
   ],
   "source": [
    "plt.hist(y_test.value_counts(), alpha = 0.5, label = 'True values')\n",
    "plt.hist(pd.Series(y_pred).value_counts(), alpha = 0.5, label = 'Predictions')\n",
    "plt.legend()\n",
    "plt.title('Distribution of classes')\n",
    "plt.show()"
   ]
  },
  {
   "cell_type": "code",
   "execution_count": null,
   "metadata": {
    "collapsed": true
   },
   "outputs": [],
   "source": []
  }
 ],
 "metadata": {
  "kernelspec": {
   "display_name": "Python 2",
   "language": "python",
   "name": "python2"
  },
  "language_info": {
   "codemirror_mode": {
    "name": "ipython",
    "version": 2
   },
   "file_extension": ".py",
   "mimetype": "text/x-python",
   "name": "python",
   "nbconvert_exporter": "python",
   "pygments_lexer": "ipython2",
   "version": "2.7.10"
  }
 },
 "nbformat": 4,
 "nbformat_minor": 2
}
