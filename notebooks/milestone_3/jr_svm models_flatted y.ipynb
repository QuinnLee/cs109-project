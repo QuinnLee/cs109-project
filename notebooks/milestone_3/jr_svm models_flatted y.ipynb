{
 "cells": [
  {
   "cell_type": "markdown",
   "metadata": {},
   "source": [
    "# CS 109B/Data Science: Final Project - Milestone 3\n",
    "**Harvard University**<br>\n",
    "**Spring 2017**<br>\n",
    "**Date: ** April 19, 2017 "
   ]
  },
  {
   "cell_type": "code",
   "execution_count": 1,
   "metadata": {
    "collapsed": false
   },
   "outputs": [],
   "source": [
    "%matplotlib inline\n",
    "import os\n",
    "import sys\n",
    "import nltk\n",
    "import json\n",
    "import itertools\n",
    "import pandas as pd\n",
    "import seaborn as sns\n",
    "import numpy as np\n",
    "import scipy as sp\n",
    "import random\n",
    "import time\n",
    "from matplotlib import pyplot as plt\n",
    "from sklearn import preprocessing\n",
    "from sklearn.metrics import confusion_matrix\n",
    "from sklearn.naive_bayes import MultinomialNB\n",
    "from sklearn.cross_validation import cross_val_score\n",
    "from sklearn.cross_validation import cross_val_predict\n",
    "import matplotlib.pyplot as plt\n",
    "from sklearn.svm import SVC\n",
    "from collections import Counter\n",
    "from unidecode import unidecode\n",
    "from nltk.corpus import stopwords\n",
    "from collections import OrderedDict\n",
    "from sklearn import cross_validation\n",
    "from sklearn.cross_validation import cross_val_score\n",
    "from sklearn.cross_validation import KFold as sk_kfold\n",
    "from sklearn.metrics import confusion_matrix\n",
    "from sklearn.cross_validation import train_test_split\n",
    "from sklearn.linear_model import LogisticRegressionCV as LogRegCV\n",
    "from sklearn.multiclass import OneVsRestClassifier\n",
    "#from sklearn.model_selection import StratifiedShuffleSplit\n",
    "#from sklearn.model_selection import GridSearchCV\n",
    "\n",
    "plt.style.use('ggplot')"
   ]
  },
  {
   "cell_type": "markdown",
   "metadata": {},
   "source": [
    "# SVM Models"
   ]
  },
  {
   "cell_type": "markdown",
   "metadata": {},
   "source": [
    "#### Clean and explore the data"
   ]
  },
  {
   "cell_type": "code",
   "execution_count": 2,
   "metadata": {
    "collapsed": false
   },
   "outputs": [
    {
     "name": "stdout",
     "output_type": "stream",
     "text": [
      "(9549, 32)\n"
     ]
    },
    {
     "data": {
      "text/html": [
       "<div>\n",
       "<table border=\"1\" class=\"dataframe\">\n",
       "  <thead>\n",
       "    <tr style=\"text-align: right;\">\n",
       "      <th></th>\n",
       "      <th>adult</th>\n",
       "      <th>backdrop_path</th>\n",
       "      <th>belongs_to_collection</th>\n",
       "      <th>budget</th>\n",
       "      <th>cast</th>\n",
       "      <th>cast_count</th>\n",
       "      <th>crew</th>\n",
       "      <th>crew_count</th>\n",
       "      <th>genre</th>\n",
       "      <th>genre_ids</th>\n",
       "      <th>...</th>\n",
       "      <th>revenue</th>\n",
       "      <th>reviews</th>\n",
       "      <th>runtime</th>\n",
       "      <th>spoken_languages</th>\n",
       "      <th>status</th>\n",
       "      <th>tagline</th>\n",
       "      <th>title</th>\n",
       "      <th>video</th>\n",
       "      <th>vote_average</th>\n",
       "      <th>vote_count</th>\n",
       "    </tr>\n",
       "  </thead>\n",
       "  <tbody>\n",
       "    <tr>\n",
       "      <th>0</th>\n",
       "      <td>False</td>\n",
       "      <td>None</td>\n",
       "      <td>None</td>\n",
       "      <td>0</td>\n",
       "      <td>[]</td>\n",
       "      <td>0</td>\n",
       "      <td>[{u'name': u'Bobby Sheehan', u'department': u'...</td>\n",
       "      <td>2</td>\n",
       "      <td>Documentary</td>\n",
       "      <td>[99]</td>\n",
       "      <td>...</td>\n",
       "      <td>0</td>\n",
       "      <td>[]</td>\n",
       "      <td>93.0</td>\n",
       "      <td>[{u'iso_639_1': u'en', u'name': u'English'}]</td>\n",
       "      <td>Released</td>\n",
       "      <td></td>\n",
       "      <td>Bought</td>\n",
       "      <td>False</td>\n",
       "      <td>0.0</td>\n",
       "      <td>0</td>\n",
       "    </tr>\n",
       "    <tr>\n",
       "      <th>1</th>\n",
       "      <td>False</td>\n",
       "      <td>None</td>\n",
       "      <td>None</td>\n",
       "      <td>0</td>\n",
       "      <td>[]</td>\n",
       "      <td>0</td>\n",
       "      <td>[{u'name': u'Nancy Donnelly', u'department': u...</td>\n",
       "      <td>2</td>\n",
       "      <td>Documentary</td>\n",
       "      <td>[99]</td>\n",
       "      <td>...</td>\n",
       "      <td>0</td>\n",
       "      <td>[]</td>\n",
       "      <td>60.0</td>\n",
       "      <td>[{u'iso_639_1': u'en', u'name': u'English'}]</td>\n",
       "      <td>Released</td>\n",
       "      <td></td>\n",
       "      <td>Egypt Underworld</td>\n",
       "      <td>False</td>\n",
       "      <td>3.8</td>\n",
       "      <td>2</td>\n",
       "    </tr>\n",
       "    <tr>\n",
       "      <th>2</th>\n",
       "      <td>False</td>\n",
       "      <td>/jWgtb7CRy3jWoXiz0IK352MG8b5.jpg</td>\n",
       "      <td>None</td>\n",
       "      <td>0</td>\n",
       "      <td>[{u'name': u'Zhang Jin', u'character': u'Chau ...</td>\n",
       "      <td>8</td>\n",
       "      <td>[{u'name': u'Douglas Kung Cheung-Tak', u'depar...</td>\n",
       "      <td>1</td>\n",
       "      <td>Action</td>\n",
       "      <td>[28]</td>\n",
       "      <td>...</td>\n",
       "      <td>0</td>\n",
       "      <td>[]</td>\n",
       "      <td>1.0</td>\n",
       "      <td>[{u'name': u'广州话 / 廣州話', u'iso_639_1': u'cn'},...</td>\n",
       "      <td>Released</td>\n",
       "      <td></td>\n",
       "      <td>Chinese Heroes</td>\n",
       "      <td>False</td>\n",
       "      <td>0.0</td>\n",
       "      <td>0</td>\n",
       "    </tr>\n",
       "    <tr>\n",
       "      <th>3</th>\n",
       "      <td>False</td>\n",
       "      <td>None</td>\n",
       "      <td>None</td>\n",
       "      <td>0</td>\n",
       "      <td>[{u'name': u'Erika Eleniak', u'character': u'J...</td>\n",
       "      <td>5</td>\n",
       "      <td>[{u'name': u'Brian Katkin', u'department': u'D...</td>\n",
       "      <td>2</td>\n",
       "      <td>Action</td>\n",
       "      <td>[28, 18, 53]</td>\n",
       "      <td>...</td>\n",
       "      <td>0</td>\n",
       "      <td>[]</td>\n",
       "      <td>92.0</td>\n",
       "      <td>[{u'name': u'English', u'iso_639_1': u'en'}]</td>\n",
       "      <td>Released</td>\n",
       "      <td>he quake of the century... get ready to rumble...</td>\n",
       "      <td>Shakedown</td>\n",
       "      <td>False</td>\n",
       "      <td>3.0</td>\n",
       "      <td>2</td>\n",
       "    </tr>\n",
       "    <tr>\n",
       "      <th>4</th>\n",
       "      <td>False</td>\n",
       "      <td>None</td>\n",
       "      <td>None</td>\n",
       "      <td>0</td>\n",
       "      <td>[{u'name': u'Erika Eleniak', u'character': u'J...</td>\n",
       "      <td>5</td>\n",
       "      <td>[{u'name': u'Brian Katkin', u'department': u'D...</td>\n",
       "      <td>2</td>\n",
       "      <td>Drama</td>\n",
       "      <td>[28, 18, 53]</td>\n",
       "      <td>...</td>\n",
       "      <td>0</td>\n",
       "      <td>[]</td>\n",
       "      <td>92.0</td>\n",
       "      <td>[{u'name': u'English', u'iso_639_1': u'en'}]</td>\n",
       "      <td>Released</td>\n",
       "      <td>he quake of the century... get ready to rumble...</td>\n",
       "      <td>Shakedown</td>\n",
       "      <td>False</td>\n",
       "      <td>3.0</td>\n",
       "      <td>2</td>\n",
       "    </tr>\n",
       "  </tbody>\n",
       "</table>\n",
       "<p>5 rows × 32 columns</p>\n",
       "</div>"
      ],
      "text/plain": [
       "   adult                     backdrop_path belongs_to_collection  budget  \\\n",
       "0  False                              None                  None       0   \n",
       "1  False                              None                  None       0   \n",
       "2  False  /jWgtb7CRy3jWoXiz0IK352MG8b5.jpg                  None       0   \n",
       "3  False                              None                  None       0   \n",
       "4  False                              None                  None       0   \n",
       "\n",
       "                                                cast  cast_count  \\\n",
       "0                                                 []           0   \n",
       "1                                                 []           0   \n",
       "2  [{u'name': u'Zhang Jin', u'character': u'Chau ...           8   \n",
       "3  [{u'name': u'Erika Eleniak', u'character': u'J...           5   \n",
       "4  [{u'name': u'Erika Eleniak', u'character': u'J...           5   \n",
       "\n",
       "                                                crew  crew_count        genre  \\\n",
       "0  [{u'name': u'Bobby Sheehan', u'department': u'...           2  Documentary   \n",
       "1  [{u'name': u'Nancy Donnelly', u'department': u...           2  Documentary   \n",
       "2  [{u'name': u'Douglas Kung Cheung-Tak', u'depar...           1       Action   \n",
       "3  [{u'name': u'Brian Katkin', u'department': u'D...           2       Action   \n",
       "4  [{u'name': u'Brian Katkin', u'department': u'D...           2        Drama   \n",
       "\n",
       "      genre_ids    ...     revenue reviews  runtime  \\\n",
       "0          [99]    ...           0      []     93.0   \n",
       "1          [99]    ...           0      []     60.0   \n",
       "2          [28]    ...           0      []      1.0   \n",
       "3  [28, 18, 53]    ...           0      []     92.0   \n",
       "4  [28, 18, 53]    ...           0      []     92.0   \n",
       "\n",
       "                                    spoken_languages    status  \\\n",
       "0       [{u'iso_639_1': u'en', u'name': u'English'}]  Released   \n",
       "1       [{u'iso_639_1': u'en', u'name': u'English'}]  Released   \n",
       "2  [{u'name': u'广州话 / 廣州話', u'iso_639_1': u'cn'},...  Released   \n",
       "3       [{u'name': u'English', u'iso_639_1': u'en'}]  Released   \n",
       "4       [{u'name': u'English', u'iso_639_1': u'en'}]  Released   \n",
       "\n",
       "                                             tagline             title  video  \\\n",
       "0                                                               Bought  False   \n",
       "1                                                     Egypt Underworld  False   \n",
       "2                                                       Chinese Heroes  False   \n",
       "3  he quake of the century... get ready to rumble...         Shakedown  False   \n",
       "4  he quake of the century... get ready to rumble...         Shakedown  False   \n",
       "\n",
       "  vote_average vote_count  \n",
       "0          0.0          0  \n",
       "1          3.8          2  \n",
       "2          0.0          0  \n",
       "3          3.0          2  \n",
       "4          3.0          2  \n",
       "\n",
       "[5 rows x 32 columns]"
      ]
     },
     "execution_count": 2,
     "metadata": {},
     "output_type": "execute_result"
    }
   ],
   "source": [
    "# Load data\n",
    "with open('themoviedb-sample-4-17-2017.json') as json_data:\n",
    "    d = json.load(json_data)\n",
    "data = pd.DataFrame(d)\n",
    "\n",
    "# Sample size and data visualization\n",
    "print(data.shape)\n",
    "data.head()"
   ]
  },
  {
   "cell_type": "markdown",
   "metadata": {},
   "source": [
    "#### Define Y variable"
   ]
  },
  {
   "cell_type": "code",
   "execution_count": 3,
   "metadata": {
    "collapsed": false
   },
   "outputs": [
    {
     "data": {
      "text/html": [
       "<div>\n",
       "<table border=\"1\" class=\"dataframe\">\n",
       "  <thead>\n",
       "    <tr style=\"text-align: right;\">\n",
       "      <th></th>\n",
       "      <th>prop</th>\n",
       "    </tr>\n",
       "  </thead>\n",
       "  <tbody>\n",
       "    <tr>\n",
       "      <th>Drama</th>\n",
       "      <td>0.184941</td>\n",
       "    </tr>\n",
       "    <tr>\n",
       "      <th>Comedy</th>\n",
       "      <td>0.127867</td>\n",
       "    </tr>\n",
       "    <tr>\n",
       "      <th>Documentary</th>\n",
       "      <td>0.099173</td>\n",
       "    </tr>\n",
       "    <tr>\n",
       "      <th>Thriller</th>\n",
       "      <td>0.090585</td>\n",
       "    </tr>\n",
       "    <tr>\n",
       "      <th>Action</th>\n",
       "      <td>0.071107</td>\n",
       "    </tr>\n",
       "    <tr>\n",
       "      <th>Horror</th>\n",
       "      <td>0.067861</td>\n",
       "    </tr>\n",
       "    <tr>\n",
       "      <th>Romance</th>\n",
       "      <td>0.054456</td>\n",
       "    </tr>\n",
       "    <tr>\n",
       "      <th>Crime</th>\n",
       "      <td>0.039376</td>\n",
       "    </tr>\n",
       "    <tr>\n",
       "      <th>Science Fiction</th>\n",
       "      <td>0.036548</td>\n",
       "    </tr>\n",
       "    <tr>\n",
       "      <th>Family</th>\n",
       "      <td>0.036025</td>\n",
       "    </tr>\n",
       "    <tr>\n",
       "      <th>Music</th>\n",
       "      <td>0.034977</td>\n",
       "    </tr>\n",
       "    <tr>\n",
       "      <th>Adventure</th>\n",
       "      <td>0.032883</td>\n",
       "    </tr>\n",
       "    <tr>\n",
       "      <th>Animation</th>\n",
       "      <td>0.028380</td>\n",
       "    </tr>\n",
       "    <tr>\n",
       "      <th>Mystery</th>\n",
       "      <td>0.021573</td>\n",
       "    </tr>\n",
       "    <tr>\n",
       "      <th>Fantasy</th>\n",
       "      <td>0.021259</td>\n",
       "    </tr>\n",
       "    <tr>\n",
       "      <th>TV Movie</th>\n",
       "      <td>0.017279</td>\n",
       "    </tr>\n",
       "    <tr>\n",
       "      <th>History</th>\n",
       "      <td>0.011415</td>\n",
       "    </tr>\n",
       "    <tr>\n",
       "      <th>Foreign</th>\n",
       "      <td>0.010472</td>\n",
       "    </tr>\n",
       "    <tr>\n",
       "      <th>War</th>\n",
       "      <td>0.007331</td>\n",
       "    </tr>\n",
       "    <tr>\n",
       "      <th>Western</th>\n",
       "      <td>0.006493</td>\n",
       "    </tr>\n",
       "  </tbody>\n",
       "</table>\n",
       "</div>"
      ],
      "text/plain": [
       "                     prop\n",
       "Drama            0.184941\n",
       "Comedy           0.127867\n",
       "Documentary      0.099173\n",
       "Thriller         0.090585\n",
       "Action           0.071107\n",
       "Horror           0.067861\n",
       "Romance          0.054456\n",
       "Crime            0.039376\n",
       "Science Fiction  0.036548\n",
       "Family           0.036025\n",
       "Music            0.034977\n",
       "Adventure        0.032883\n",
       "Animation        0.028380\n",
       "Mystery          0.021573\n",
       "Fantasy          0.021259\n",
       "TV Movie         0.017279\n",
       "History          0.011415\n",
       "Foreign          0.010472\n",
       "War              0.007331\n",
       "Western          0.006493"
      ]
     },
     "execution_count": 3,
     "metadata": {},
     "output_type": "execute_result"
    }
   ],
   "source": [
    "# Frequency of genre in the sample\n",
    "genre_frequency = data['genre'].value_counts()/len(data)\n",
    "genre_frequency = pd.DataFrame(genre_frequency)\n",
    "genre_frequency.rename(columns={'genre': 'prop'}, inplace=True)\n",
    "genre_frequency"
   ]
  },
  {
   "cell_type": "markdown",
   "metadata": {},
   "source": [
    "### Models 1 and 2.  Unweighted and weighted SVM using only *overview* and *reviews* as features"
   ]
  },
  {
   "cell_type": "markdown",
   "metadata": {},
   "source": [
    "#### Define X: Converting overview and reviews to word-frequency vectors"
   ]
  },
  {
   "cell_type": "code",
   "execution_count": 4,
   "metadata": {
    "collapsed": false
   },
   "outputs": [
    {
     "name": "stdout",
     "output_type": "stream",
     "text": [
      "(9549, 4)\n"
     ]
    },
    {
     "data": {
      "text/html": [
       "<div>\n",
       "<table border=\"1\" class=\"dataframe\">\n",
       "  <thead>\n",
       "    <tr style=\"text-align: right;\">\n",
       "      <th></th>\n",
       "      <th>genre</th>\n",
       "      <th>reviews</th>\n",
       "      <th>overview</th>\n",
       "      <th>id</th>\n",
       "    </tr>\n",
       "  </thead>\n",
       "  <tbody>\n",
       "    <tr>\n",
       "      <th>0</th>\n",
       "      <td>Documentary</td>\n",
       "      <td>[]</td>\n",
       "      <td>Modern industrialization is no longer about st...</td>\n",
       "      <td>328380</td>\n",
       "    </tr>\n",
       "    <tr>\n",
       "      <th>1</th>\n",
       "      <td>Documentary</td>\n",
       "      <td>[]</td>\n",
       "      <td>The documentary is an analysis of the fascinat...</td>\n",
       "      <td>112052</td>\n",
       "    </tr>\n",
       "    <tr>\n",
       "      <th>2</th>\n",
       "      <td>Action</td>\n",
       "      <td>[]</td>\n",
       "      <td>A good-natured kung fu kid gets caught up in c...</td>\n",
       "      <td>201706</td>\n",
       "    </tr>\n",
       "    <tr>\n",
       "      <th>3</th>\n",
       "      <td>Action</td>\n",
       "      <td>[]</td>\n",
       "      <td>In Los Angeles a deadly plague called the 'Pan...</td>\n",
       "      <td>61803</td>\n",
       "    </tr>\n",
       "    <tr>\n",
       "      <th>4</th>\n",
       "      <td>Drama</td>\n",
       "      <td>[]</td>\n",
       "      <td>In Los Angeles a deadly plague called the 'Pan...</td>\n",
       "      <td>61803</td>\n",
       "    </tr>\n",
       "  </tbody>\n",
       "</table>\n",
       "</div>"
      ],
      "text/plain": [
       "         genre reviews                                           overview  \\\n",
       "0  Documentary      []  Modern industrialization is no longer about st...   \n",
       "1  Documentary      []  The documentary is an analysis of the fascinat...   \n",
       "2       Action      []  A good-natured kung fu kid gets caught up in c...   \n",
       "3       Action      []  In Los Angeles a deadly plague called the 'Pan...   \n",
       "4        Drama      []  In Los Angeles a deadly plague called the 'Pan...   \n",
       "\n",
       "       id  \n",
       "0  328380  \n",
       "1  112052  \n",
       "2  201706  \n",
       "3   61803  \n",
       "4   61803  "
      ]
     },
     "execution_count": 4,
     "metadata": {},
     "output_type": "execute_result"
    }
   ],
   "source": [
    "# Keeping only genres, overviews, and reviews to make a fair comparison with the Naive Bayes model\n",
    "raw = data[['genre', 'reviews', 'overview', 'id']].copy()\n",
    "print(raw.shape)\n",
    "raw.head()\n"
   ]
  },
  {
   "cell_type": "code",
   "execution_count": 5,
   "metadata": {
    "collapsed": false
   },
   "outputs": [],
   "source": [
    "df = raw[['reviews', 'overview', 'genre', 'id']]\n",
    "df.rename(columns={'overview': 'movie_overview'}, inplace=True)\n",
    "\n",
    "stops = set(nltk.corpus.stopwords.words('english'))\n",
    "all_words_ever = []\n",
    "\n",
    "def add_cols_for_all_words(row):\n",
    "    if row['movie_overview'] is not None:\n",
    "        words = nltk.word_tokenize(row['movie_overview'])\n",
    "        words = [word.lower() for word in words if len(word) > 2 and unidecode(word.lower()) not in stops]\n",
    "        all_words_ever.extend(words)\n",
    "    return row\n",
    "\n",
    "def parse_words(row):\n",
    "    if row['movie_overview'] is not None:\n",
    "        words = nltk.word_tokenize(row['movie_overview'])\n",
    "        words = [word.lower() for word in words if word.lower() in top_words]\n",
    "        for word in words:\n",
    "            row[unidecode(word)] += 1        \n",
    "    return row"
   ]
  },
  {
   "cell_type": "code",
   "execution_count": 6,
   "metadata": {
    "collapsed": false
   },
   "outputs": [
    {
     "data": {
      "text/html": [
       "<div>\n",
       "<table border=\"1\" class=\"dataframe\">\n",
       "  <thead>\n",
       "    <tr style=\"text-align: right;\">\n",
       "      <th></th>\n",
       "      <th>reviews</th>\n",
       "      <th>movie_overview</th>\n",
       "      <th>genre</th>\n",
       "      <th>id</th>\n",
       "      <th>review_text</th>\n",
       "    </tr>\n",
       "  </thead>\n",
       "  <tbody>\n",
       "    <tr>\n",
       "      <th>0</th>\n",
       "      <td>[]</td>\n",
       "      <td>Modern industrialization is no longer about st...</td>\n",
       "      <td>Documentary</td>\n",
       "      <td>328380</td>\n",
       "      <td>[]</td>\n",
       "    </tr>\n",
       "    <tr>\n",
       "      <th>1</th>\n",
       "      <td>[]</td>\n",
       "      <td>The documentary is an analysis of the fascinat...</td>\n",
       "      <td>Documentary</td>\n",
       "      <td>112052</td>\n",
       "      <td>[]</td>\n",
       "    </tr>\n",
       "    <tr>\n",
       "      <th>2</th>\n",
       "      <td>[]</td>\n",
       "      <td>A good-natured kung fu kid gets caught up in c...</td>\n",
       "      <td>Action</td>\n",
       "      <td>201706</td>\n",
       "      <td>[]</td>\n",
       "    </tr>\n",
       "    <tr>\n",
       "      <th>3</th>\n",
       "      <td>[]</td>\n",
       "      <td>In Los Angeles a deadly plague called the 'Pan...</td>\n",
       "      <td>Action</td>\n",
       "      <td>61803</td>\n",
       "      <td>[]</td>\n",
       "    </tr>\n",
       "    <tr>\n",
       "      <th>4</th>\n",
       "      <td>[]</td>\n",
       "      <td>In Los Angeles a deadly plague called the 'Pan...</td>\n",
       "      <td>Drama</td>\n",
       "      <td>61803</td>\n",
       "      <td>[]</td>\n",
       "    </tr>\n",
       "  </tbody>\n",
       "</table>\n",
       "</div>"
      ],
      "text/plain": [
       "  reviews                                     movie_overview        genre  \\\n",
       "0      []  Modern industrialization is no longer about st...  Documentary   \n",
       "1      []  The documentary is an analysis of the fascinat...  Documentary   \n",
       "2      []  A good-natured kung fu kid gets caught up in c...       Action   \n",
       "3      []  In Los Angeles a deadly plague called the 'Pan...       Action   \n",
       "4      []  In Los Angeles a deadly plague called the 'Pan...        Drama   \n",
       "\n",
       "       id review_text  \n",
       "0  328380          []  \n",
       "1  112052          []  \n",
       "2  201706          []  \n",
       "3   61803          []  \n",
       "4   61803          []  "
      ]
     },
     "execution_count": 6,
     "metadata": {},
     "output_type": "execute_result"
    }
   ],
   "source": [
    "df['review_text'] = df.apply(lambda row: [x['content'] for x in row['reviews']], axis = 1)\n",
    "df.head()"
   ]
  },
  {
   "cell_type": "code",
   "execution_count": 7,
   "metadata": {
    "collapsed": false
   },
   "outputs": [
    {
     "data": {
      "text/plain": [
       "(292576, 25820)"
      ]
     },
     "execution_count": 7,
     "metadata": {},
     "output_type": "execute_result"
    }
   ],
   "source": [
    "df = df.apply(lambda x: add_cols_for_all_words(x), axis = 1)\n",
    "len(all_words_ever), len(set(all_words_ever))"
   ]
  },
  {
   "cell_type": "code",
   "execution_count": 8,
   "metadata": {
    "collapsed": false
   },
   "outputs": [
    {
     "data": {
      "text/plain": [
       "400"
      ]
     },
     "execution_count": 8,
     "metadata": {},
     "output_type": "execute_result"
    }
   ],
   "source": [
    "# Use the optimal word_count\n",
    "best_word_count = 400\n",
    "top_words = [word[0] for word in Counter(all_words_ever).most_common(best_word_count)]\n",
    "len(top_words)"
   ]
  },
  {
   "cell_type": "code",
   "execution_count": 9,
   "metadata": {
    "collapsed": false
   },
   "outputs": [
    {
     "name": "stdout",
     "output_type": "stream",
     "text": [
      "(9549, 405)\n"
     ]
    },
    {
     "data": {
      "text/html": [
       "<div>\n",
       "<table border=\"1\" class=\"dataframe\">\n",
       "  <thead>\n",
       "    <tr style=\"text-align: right;\">\n",
       "      <th></th>\n",
       "      <th>reviews</th>\n",
       "      <th>movie_overview</th>\n",
       "      <th>genre</th>\n",
       "      <th>id</th>\n",
       "      <th>review_text</th>\n",
       "      <th>one</th>\n",
       "      <th>life</th>\n",
       "      <th>new</th>\n",
       "      <th>world</th>\n",
       "      <th>film</th>\n",
       "      <th>...</th>\n",
       "      <th>features</th>\n",
       "      <th>officer</th>\n",
       "      <th>california</th>\n",
       "      <th>alive</th>\n",
       "      <th>english</th>\n",
       "      <th>second</th>\n",
       "      <th>accident</th>\n",
       "      <th>track</th>\n",
       "      <th>professor</th>\n",
       "      <th>right</th>\n",
       "    </tr>\n",
       "  </thead>\n",
       "  <tbody>\n",
       "    <tr>\n",
       "      <th>0</th>\n",
       "      <td>[]</td>\n",
       "      <td>Modern industrialization is no longer about st...</td>\n",
       "      <td>Documentary</td>\n",
       "      <td>328380</td>\n",
       "      <td>[]</td>\n",
       "      <td>0</td>\n",
       "      <td>0</td>\n",
       "      <td>0</td>\n",
       "      <td>0</td>\n",
       "      <td>0</td>\n",
       "      <td>...</td>\n",
       "      <td>0</td>\n",
       "      <td>0</td>\n",
       "      <td>0</td>\n",
       "      <td>0</td>\n",
       "      <td>0</td>\n",
       "      <td>0</td>\n",
       "      <td>0</td>\n",
       "      <td>0</td>\n",
       "      <td>0</td>\n",
       "      <td>0</td>\n",
       "    </tr>\n",
       "    <tr>\n",
       "      <th>1</th>\n",
       "      <td>[]</td>\n",
       "      <td>The documentary is an analysis of the fascinat...</td>\n",
       "      <td>Documentary</td>\n",
       "      <td>112052</td>\n",
       "      <td>[]</td>\n",
       "      <td>0</td>\n",
       "      <td>0</td>\n",
       "      <td>0</td>\n",
       "      <td>0</td>\n",
       "      <td>0</td>\n",
       "      <td>...</td>\n",
       "      <td>0</td>\n",
       "      <td>0</td>\n",
       "      <td>0</td>\n",
       "      <td>0</td>\n",
       "      <td>0</td>\n",
       "      <td>0</td>\n",
       "      <td>0</td>\n",
       "      <td>0</td>\n",
       "      <td>0</td>\n",
       "      <td>0</td>\n",
       "    </tr>\n",
       "    <tr>\n",
       "      <th>2</th>\n",
       "      <td>[]</td>\n",
       "      <td>A good-natured kung fu kid gets caught up in c...</td>\n",
       "      <td>Action</td>\n",
       "      <td>201706</td>\n",
       "      <td>[]</td>\n",
       "      <td>0</td>\n",
       "      <td>0</td>\n",
       "      <td>0</td>\n",
       "      <td>0</td>\n",
       "      <td>0</td>\n",
       "      <td>...</td>\n",
       "      <td>0</td>\n",
       "      <td>0</td>\n",
       "      <td>0</td>\n",
       "      <td>0</td>\n",
       "      <td>0</td>\n",
       "      <td>0</td>\n",
       "      <td>0</td>\n",
       "      <td>0</td>\n",
       "      <td>0</td>\n",
       "      <td>0</td>\n",
       "    </tr>\n",
       "    <tr>\n",
       "      <th>3</th>\n",
       "      <td>[]</td>\n",
       "      <td>In Los Angeles a deadly plague called the 'Pan...</td>\n",
       "      <td>Action</td>\n",
       "      <td>61803</td>\n",
       "      <td>[]</td>\n",
       "      <td>0</td>\n",
       "      <td>0</td>\n",
       "      <td>0</td>\n",
       "      <td>0</td>\n",
       "      <td>0</td>\n",
       "      <td>...</td>\n",
       "      <td>0</td>\n",
       "      <td>0</td>\n",
       "      <td>0</td>\n",
       "      <td>0</td>\n",
       "      <td>0</td>\n",
       "      <td>0</td>\n",
       "      <td>0</td>\n",
       "      <td>0</td>\n",
       "      <td>0</td>\n",
       "      <td>0</td>\n",
       "    </tr>\n",
       "    <tr>\n",
       "      <th>4</th>\n",
       "      <td>[]</td>\n",
       "      <td>In Los Angeles a deadly plague called the 'Pan...</td>\n",
       "      <td>Drama</td>\n",
       "      <td>61803</td>\n",
       "      <td>[]</td>\n",
       "      <td>0</td>\n",
       "      <td>0</td>\n",
       "      <td>0</td>\n",
       "      <td>0</td>\n",
       "      <td>0</td>\n",
       "      <td>...</td>\n",
       "      <td>0</td>\n",
       "      <td>0</td>\n",
       "      <td>0</td>\n",
       "      <td>0</td>\n",
       "      <td>0</td>\n",
       "      <td>0</td>\n",
       "      <td>0</td>\n",
       "      <td>0</td>\n",
       "      <td>0</td>\n",
       "      <td>0</td>\n",
       "    </tr>\n",
       "  </tbody>\n",
       "</table>\n",
       "<p>5 rows × 405 columns</p>\n",
       "</div>"
      ],
      "text/plain": [
       "  reviews                                     movie_overview        genre  \\\n",
       "0      []  Modern industrialization is no longer about st...  Documentary   \n",
       "1      []  The documentary is an analysis of the fascinat...  Documentary   \n",
       "2      []  A good-natured kung fu kid gets caught up in c...       Action   \n",
       "3      []  In Los Angeles a deadly plague called the 'Pan...       Action   \n",
       "4      []  In Los Angeles a deadly plague called the 'Pan...        Drama   \n",
       "\n",
       "       id review_text  one  life  new  world  film  ...    features  officer  \\\n",
       "0  328380          []    0     0    0      0     0  ...           0        0   \n",
       "1  112052          []    0     0    0      0     0  ...           0        0   \n",
       "2  201706          []    0     0    0      0     0  ...           0        0   \n",
       "3   61803          []    0     0    0      0     0  ...           0        0   \n",
       "4   61803          []    0     0    0      0     0  ...           0        0   \n",
       "\n",
       "   california  alive  english  second  accident  track  professor  right  \n",
       "0           0      0        0       0         0      0          0      0  \n",
       "1           0      0        0       0         0      0          0      0  \n",
       "2           0      0        0       0         0      0          0      0  \n",
       "3           0      0        0       0         0      0          0      0  \n",
       "4           0      0        0       0         0      0          0      0  \n",
       "\n",
       "[5 rows x 405 columns]"
      ]
     },
     "execution_count": 9,
     "metadata": {},
     "output_type": "execute_result"
    }
   ],
   "source": [
    "for word in top_words:\n",
    "    df[unidecode(word)] = 0\n",
    "\n",
    "df = df.apply(lambda x: parse_words(x), axis = 1)\n",
    "    \n",
    "print(df.shape)\n",
    "df.head()"
   ]
  },
  {
   "cell_type": "markdown",
   "metadata": {},
   "source": [
    "#### Define train and test sets"
   ]
  },
  {
   "cell_type": "code",
   "execution_count": 10,
   "metadata": {
    "collapsed": false
   },
   "outputs": [
    {
     "data": {
      "text/plain": [
       "((9549, 400), (9549,))"
      ]
     },
     "execution_count": 10,
     "metadata": {},
     "output_type": "execute_result"
    }
   ],
   "source": [
    "# Define Y and X matrixes\n",
    "X = df[df.columns[-best_word_count:]]\n",
    "y = df['genre']\n",
    "y = y.apply(lambda x: str(x))\n",
    "X.shape, y.shape"
   ]
  },
  {
   "cell_type": "code",
   "execution_count": 11,
   "metadata": {
    "collapsed": false
   },
   "outputs": [],
   "source": [
    "# Train/test split\n",
    "n_samples = len(X)\n",
    "train_indices = np.random.uniform(size=n_samples) > 1. / 3.  #Select two thirds for train\n",
    "\n",
    "x_train = X[train_indices]\n",
    "y_train = y[train_indices]\n",
    "\n",
    "x_test = X[~train_indices]\n",
    "y_test = y[~train_indices]\n"
   ]
  },
  {
   "cell_type": "markdown",
   "metadata": {},
   "source": [
    "#### Function to optimize parameter C on Unweighted SVM"
   ]
  },
  {
   "cell_type": "code",
   "execution_count": 32,
   "metadata": {
    "collapsed": false
   },
   "outputs": [],
   "source": [
    "#--------  optimum_cvc\n",
    "# Function to optimize parameter C on Unweighted SVM\n",
    "# Input: \n",
    "#      x_train (array of train predictors)\n",
    "#      y_train (array of train responses) \n",
    "#      n_folds (float; number of folds for cross validation)    \n",
    "#      seed (float; fix the random the random state)\n",
    "#      weight (string; type of weight)\n",
    "# Output:\n",
    "#      best_c (optimal value of C)\n",
    "#      best_k (optimal kernel)\n",
    "#      results_df (DataFrame for scores, std_scores, per model)   \n",
    "\n",
    "def optimum_cvc(x_train, y_train, n_folds, seed, weight):\n",
    "    n_folds = n_folds\n",
    "    seed = seed\n",
    "    kfold = sk_kfold(len(y_train), n_folds, random_state=seed)\n",
    "    scores = list()\n",
    "    scores_std = list()\n",
    "    C = list()\n",
    "    gamma = list()\n",
    "    \n",
    "    # To keep track of the best model\n",
    "    best_score = 0\n",
    "    for c in np.logspace(1, 2, 3):\n",
    "        for g in np.logspace(-4, 1, 3):\n",
    "            model = SVC(C=c, gamma=g, class_weight = weight)\n",
    "            model.fit(x_train, y_train)\n",
    "            i_scores = cross_val_score(model, x_train, y_train, cv=kfold, n_jobs=1)\n",
    "            scores.append(np.mean(i_scores))\n",
    "            scores_std.append(np.std(i_scores))\n",
    "            C.append(c)\n",
    "            gamma.append(g)\n",
    "            \n",
    "            # Update our record of the best parameters see so far\n",
    "            if np.mean(i_scores) > best_score:\n",
    "                best_score = np.mean(i_scores)\n",
    "                best_C = c\n",
    "                best_gamma = g\n",
    "    \n",
    "    # Scores, scores std, for different combinations of C and gamma              \n",
    "    scores, scores_std = np.array(scores), np.array(scores_std)\n",
    "    C = np.array(C)\n",
    "    gamma = np.array(gamma)\n",
    "    \n",
    "    # Results\n",
    "    results = np.column_stack([scores, C, gamma])\n",
    "    results_df = pd.DataFrame(results, columns = ['scores', 'C', 'gamma'])\n",
    "    \n",
    "    return best_C, best_gamma, results_df\n"
   ]
  },
  {
   "cell_type": "markdown",
   "metadata": {},
   "source": [
    "#### Tune Parameters Unweighted SVM model"
   ]
  },
  {
   "cell_type": "code",
   "execution_count": 17,
   "metadata": {
    "collapsed": false
   },
   "outputs": [
    {
     "name": "stdout",
     "output_type": "stream",
     "text": [
      "Best C - Unweighted: 10.0\n",
      "Best gamma - Unweighted: 0.0001\n",
      "Tuning, Time elapsed - Unweighted SVM: 2673.13145494 sec\n"
     ]
    }
   ],
   "source": [
    "# Define parameters\n",
    "n_folds = 5\n",
    "seed = 42\n",
    "\n",
    "# Unweighted SVM \n",
    "# Standarize data\n",
    "scaler = preprocessing.StandardScaler().fit(x_train)\n",
    "x_train_sd = scaler.transform(x_train)   \n",
    "\n",
    "start = time.time()\n",
    "best_c, best_g, results_df = optimum_cvc(x_train_sd, y_train, n_folds, seed, None)\n",
    "end = time.time()\n",
    "\n",
    "time_elapsed = end - start\n",
    "\n",
    "print 'Best C - Unweighted: ' + str(best_c)\n",
    "print 'Best gamma - Unweighted: ' + str(best_g)\n",
    "print 'Tuning, Time elapsed - Unweighted SVM:', time_elapsed, \"sec\""
   ]
  },
  {
   "cell_type": "markdown",
   "metadata": {},
   "source": [
    "#### Tune Parameters Weighted SVM model"
   ]
  },
  {
   "cell_type": "code",
   "execution_count": 31,
   "metadata": {
    "collapsed": false
   },
   "outputs": [
    {
     "name": "stdout",
     "output_type": "stream",
     "text": [
      "Best C- Weighted: 10.0\n",
      "Best gamma - Weighted: 0.0001\n",
      "Tuning, Time elapsed - Weighted SVM: 2754.5096612 sec\n"
     ]
    }
   ],
   "source": [
    "# Weighted SVM \n",
    "start = time.time()\n",
    "best_c_w, best_g_w, results_df_w = optimum_cvc(x_train_sd, y_train, n_folds, seed, 'balanced')\n",
    "end = time.time()\n",
    "\n",
    "time_elapsed = end - start\n",
    "\n",
    "print 'Best C- Weighted: ' + str(best_c_w)\n",
    "print 'Best gamma - Weighted: ' + str(best_g_w)\n",
    "print 'Tuning, Time elapsed - Weighted SVM:', time_elapsed, \"sec\""
   ]
  },
  {
   "cell_type": "markdown",
   "metadata": {},
   "source": [
    "#### Accuracy Unweighted SVM"
   ]
  },
  {
   "cell_type": "markdown",
   "metadata": {},
   "source": [
    "* Overall accuracy"
   ]
  },
  {
   "cell_type": "code",
   "execution_count": 18,
   "metadata": {
    "collapsed": false
   },
   "outputs": [
    {
     "name": "stdout",
     "output_type": "stream",
     "text": [
      "Time elapsed - Unweighted SVM: 47.8535420895 sec\n",
      "\n",
      "# Test accuracy: 0.2351\n"
     ]
    }
   ],
   "source": [
    "##  Unweighted model: Predict on test sample\n",
    "\n",
    "# Fit model in train sample based on optimal parameters \n",
    "start = time.time()\n",
    "scaler = preprocessing.StandardScaler().fit(x_train)\n",
    "x_train_sd = scaler.transform(x_train)   \n",
    "model = SVC(C=best_c, gamma = best_g, class_weight = None)\n",
    "model.fit(x_train_sd, y_train)\n",
    "end = time.time()\n",
    "\n",
    "time_elapsed = end - start\n",
    "print \"Time elapsed - Unweighted SVM:\", time_elapsed, \"sec\"\n",
    "\n",
    "# Standarize test sample\n",
    "x_test_sd = scaler.transform(x_test)   \n",
    "\n",
    "# Prediction on test sample\n",
    "y_pred = model.predict(x_test_sd)\n",
    "\n",
    "# Overall accuracy\n",
    "score = round(model.score(x_test_sd, y_test), 4)\n",
    "print '\\n' '# Test accuracy:', score"
   ]
  },
  {
   "cell_type": "markdown",
   "metadata": {},
   "source": [
    "* Accuracy rate per genre"
   ]
  },
  {
   "cell_type": "code",
   "execution_count": 19,
   "metadata": {
    "collapsed": false
   },
   "outputs": [
    {
     "data": {
      "image/png": "[encoded data removed]",
      "text/plain": [
       "<matplotlib.figure.Figure at 0x10f058350>"
      ]
     },
     "metadata": {},
     "output_type": "display_data"
    }
   ],
   "source": [
    "# Confusion matrix\n",
    "cm = confusion_matrix(y_test, y_pred, labels = y_test.unique())\n",
    "\n",
    "# Visual inspection of confusion matrix\n",
    "plt.imshow(cm, interpolation='nearest', cmap=plt.cm.Blues)\n",
    "tick_marks = np.arange(y_test.nunique())\n",
    "plt.xticks(tick_marks, y_test.unique(), rotation=90)\n",
    "plt.yticks(tick_marks, y_test.unique())\n",
    "plt.xlabel('Predicted label')\n",
    "plt.ylabel('True label')\n",
    "plt.title('Confusion matrix: Unweighted SVM genre prediction ({:.0f}% accuracy)'.format(score*100))\n",
    "plt.show()"
   ]
  },
  {
   "cell_type": "markdown",
   "metadata": {},
   "source": [
    "#### Accuracy Weighted SVM"
   ]
  },
  {
   "cell_type": "markdown",
   "metadata": {},
   "source": [
    "* Overall accuracy"
   ]
  },
  {
   "cell_type": "code",
   "execution_count": 33,
   "metadata": {
    "collapsed": false
   },
   "outputs": [
    {
     "name": "stdout",
     "output_type": "stream",
     "text": [
      "Time elapsed - Weighted SVM: 63.4150528908 sec\n",
      "\n",
      "# Test accuracy: 0.1695\n"
     ]
    }
   ],
   "source": [
    "##  Weighted model: Predict on test sample\n",
    "\n",
    "# Fit model in train sample based on optimal parameters \n",
    "start = time.time()\n",
    "model = SVC(C=best_c_w, gamma = best_g_w, class_weight = 'balanced')\n",
    "model.fit(x_train_sd, y_train)\n",
    "end = time.time()\n",
    "\n",
    "time_elapsed_w = end - start\n",
    "print \"Time elapsed - Weighted SVM:\", time_elapsed_w, \"sec\"\n",
    "\n",
    "# Prediction on test sample\n",
    "y_pred_w = model.predict(x_test_sd)\n",
    "\n",
    "# Overall accuracy\n",
    "score = round(model.score(x_test_sd, y_test), 4)\n",
    "print '\\n' '# Test accuracy:', score"
   ]
  },
  {
   "cell_type": "markdown",
   "metadata": {},
   "source": [
    "* Accuracy per genre"
   ]
  },
  {
   "cell_type": "code",
   "execution_count": 34,
   "metadata": {
    "collapsed": false
   },
   "outputs": [
    {
     "data": {
      "image/png": "[encoded data removed]",
      "text/plain": [
       "<matplotlib.figure.Figure at 0x136eeea10>"
      ]
     },
     "metadata": {},
     "output_type": "display_data"
    }
   ],
   "source": [
    "# Confusion matrix\n",
    "cm = confusion_matrix(y_test, y_pred, labels = y_test.unique())\n",
    "\n",
    "# Visual inspection of confusion matrix\n",
    "plt.imshow(cm, interpolation='nearest', cmap=plt.cm.Blues)\n",
    "tick_marks = np.arange(y_test.nunique())\n",
    "plt.xticks(tick_marks, y_test.unique(), rotation=90)\n",
    "plt.yticks(tick_marks, y_test.unique())\n",
    "plt.xlabel('Predicted label')\n",
    "plt.ylabel('True label')\n",
    "plt.title('Confusion matrix: Weighted SVM genre prediction ({:.0f}% accuracy)'.format(score*100))\n",
    "plt.show()"
   ]
  },
  {
   "cell_type": "markdown",
   "metadata": {},
   "source": [
    "### Models 3 and 4.  Unweighted and weighted SVM using all features"
   ]
  },
  {
   "cell_type": "markdown",
   "metadata": {},
   "source": [
    "#### Define X: Adding more features to our baseline models"
   ]
  },
  {
   "cell_type": "markdown",
   "metadata": {},
   "source": [
    "* Director and main cast"
   ]
  },
  {
   "cell_type": "code",
   "execution_count": 37,
   "metadata": {
    "collapsed": false
   },
   "outputs": [
    {
     "data": {
      "text/html": [
       "<div>\n",
       "<table border=\"1\" class=\"dataframe\">\n",
       "  <thead>\n",
       "    <tr style=\"text-align: right;\">\n",
       "      <th></th>\n",
       "      <th>id</th>\n",
       "      <th>director</th>\n",
       "      <th>cast1</th>\n",
       "      <th>cast2</th>\n",
       "      <th>cast3</th>\n",
       "    </tr>\n",
       "  </thead>\n",
       "  <tbody>\n",
       "    <tr>\n",
       "      <th>0</th>\n",
       "      <td>328380</td>\n",
       "      <td>Bobby Sheehan</td>\n",
       "      <td>MISS</td>\n",
       "      <td>MISS</td>\n",
       "      <td>MISS</td>\n",
       "    </tr>\n",
       "    <tr>\n",
       "      <th>1</th>\n",
       "      <td>112052</td>\n",
       "      <td>Nancy Donnelly</td>\n",
       "      <td>MISS</td>\n",
       "      <td>MISS</td>\n",
       "      <td>MISS</td>\n",
       "    </tr>\n",
       "    <tr>\n",
       "      <th>2</th>\n",
       "      <td>201706</td>\n",
       "      <td>Douglas Kung Cheung-Tak</td>\n",
       "      <td>Chin Ka-Lok</td>\n",
       "      <td>Leila Tong</td>\n",
       "      <td>Lee San-San</td>\n",
       "    </tr>\n",
       "    <tr>\n",
       "      <th>3</th>\n",
       "      <td>61803</td>\n",
       "      <td>Brian Katkin</td>\n",
       "      <td>Ron Perlman</td>\n",
       "      <td>Fred Dryer</td>\n",
       "      <td>Wolf Larson</td>\n",
       "    </tr>\n",
       "    <tr>\n",
       "      <th>4</th>\n",
       "      <td>61803</td>\n",
       "      <td>Brian Katkin</td>\n",
       "      <td>Ron Perlman</td>\n",
       "      <td>Fred Dryer</td>\n",
       "      <td>Wolf Larson</td>\n",
       "    </tr>\n",
       "  </tbody>\n",
       "</table>\n",
       "</div>"
      ],
      "text/plain": [
       "       id                 director        cast1       cast2        cast3\n",
       "0  328380            Bobby Sheehan         MISS        MISS         MISS\n",
       "1  112052           Nancy Donnelly         MISS        MISS         MISS\n",
       "2  201706  Douglas Kung Cheung-Tak  Chin Ka-Lok  Leila Tong  Lee San-San\n",
       "3   61803             Brian Katkin  Ron Perlman  Fred Dryer  Wolf Larson\n",
       "4   61803             Brian Katkin  Ron Perlman  Fred Dryer  Wolf Larson"
      ]
     },
     "execution_count": 37,
     "metadata": {},
     "output_type": "execute_result"
    }
   ],
   "source": [
    "# Unique identifier\n",
    "len(data[\"id\"].unique())\n",
    "\n",
    "# Empty data frame to store results\n",
    "results = pd.DataFrame({\"id\": data[\"id\"]})\n",
    "results[\"director\"] = \"MISS\"\n",
    "results[\"cast1\"] = \"MISS\"\n",
    "results[\"cast2\"] = \"MISS\"\n",
    "results[\"cast3\"] = \"MISS\"\n",
    "\n",
    "# Looping to get names\n",
    "for i in data.index:\n",
    "    crew = pd.DataFrame(data.ix[i, \"crew\"])\n",
    "    if crew.shape[0] >= 1:\n",
    "        try:\n",
    "            results.ix[i, \"director\"] = crew.ix[crew[\"job\"] == \"Director\", \"name\"].iloc[0]\n",
    "            # need to correct for multiple producers\n",
    "        except:\n",
    "            pass;\n",
    "    cast = pd.DataFrame(data.ix[i, \"cast\"])\n",
    "    if cast.shape[0] >= 1:\n",
    "        try:\n",
    "            results.ix[i, \"cast1\"] = cast.ix[cast[\"order\"] == 1, \"name\"].iloc[0]\n",
    "            results.ix[i, \"cast2\"] = cast.ix[cast[\"order\"] == 2, \"name\"].iloc[0]\n",
    "            results.ix[i, \"cast3\"] = cast.ix[cast[\"order\"] == 3, \"name\"].iloc[0]\n",
    "        except:\n",
    "            pass;\n",
    "\n",
    "        \n",
    "# Getting to the movie level\n",
    "cast_dir = results\n",
    "cast_dir.head()"
   ]
  },
  {
   "cell_type": "markdown",
   "metadata": {},
   "source": [
    "* Additional variables"
   ]
  },
  {
   "cell_type": "code",
   "execution_count": 38,
   "metadata": {
    "collapsed": false
   },
   "outputs": [
    {
     "data": {
      "text/html": [
       "<div>\n",
       "<table border=\"1\" class=\"dataframe\">\n",
       "  <thead>\n",
       "    <tr style=\"text-align: right;\">\n",
       "      <th></th>\n",
       "      <th>adult</th>\n",
       "      <th>budget</th>\n",
       "      <th>cast_count</th>\n",
       "      <th>id</th>\n",
       "      <th>popularity</th>\n",
       "      <th>release_date</th>\n",
       "      <th>revenue</th>\n",
       "      <th>runtime</th>\n",
       "      <th>status</th>\n",
       "      <th>vote_average</th>\n",
       "      <th>vote_count</th>\n",
       "    </tr>\n",
       "  </thead>\n",
       "  <tbody>\n",
       "    <tr>\n",
       "      <th>0</th>\n",
       "      <td>False</td>\n",
       "      <td>0</td>\n",
       "      <td>0</td>\n",
       "      <td>328380</td>\n",
       "      <td>0.010669</td>\n",
       "      <td>2015-01-02</td>\n",
       "      <td>0</td>\n",
       "      <td>93.0</td>\n",
       "      <td>Released</td>\n",
       "      <td>0.0</td>\n",
       "      <td>0</td>\n",
       "    </tr>\n",
       "    <tr>\n",
       "      <th>1</th>\n",
       "      <td>False</td>\n",
       "      <td>0</td>\n",
       "      <td>0</td>\n",
       "      <td>112052</td>\n",
       "      <td>0.000782</td>\n",
       "      <td>2009-09-20</td>\n",
       "      <td>0</td>\n",
       "      <td>60.0</td>\n",
       "      <td>Released</td>\n",
       "      <td>3.8</td>\n",
       "      <td>2</td>\n",
       "    </tr>\n",
       "    <tr>\n",
       "      <th>2</th>\n",
       "      <td>False</td>\n",
       "      <td>0</td>\n",
       "      <td>8</td>\n",
       "      <td>201706</td>\n",
       "      <td>0.002123</td>\n",
       "      <td>2001-07-12</td>\n",
       "      <td>0</td>\n",
       "      <td>1.0</td>\n",
       "      <td>Released</td>\n",
       "      <td>0.0</td>\n",
       "      <td>0</td>\n",
       "    </tr>\n",
       "    <tr>\n",
       "      <th>3</th>\n",
       "      <td>False</td>\n",
       "      <td>0</td>\n",
       "      <td>5</td>\n",
       "      <td>61803</td>\n",
       "      <td>0.097457</td>\n",
       "      <td>2002-12-24</td>\n",
       "      <td>0</td>\n",
       "      <td>92.0</td>\n",
       "      <td>Released</td>\n",
       "      <td>3.0</td>\n",
       "      <td>2</td>\n",
       "    </tr>\n",
       "    <tr>\n",
       "      <th>4</th>\n",
       "      <td>False</td>\n",
       "      <td>0</td>\n",
       "      <td>5</td>\n",
       "      <td>61803</td>\n",
       "      <td>0.097457</td>\n",
       "      <td>2002-12-24</td>\n",
       "      <td>0</td>\n",
       "      <td>92.0</td>\n",
       "      <td>Released</td>\n",
       "      <td>3.0</td>\n",
       "      <td>2</td>\n",
       "    </tr>\n",
       "  </tbody>\n",
       "</table>\n",
       "</div>"
      ],
      "text/plain": [
       "   adult  budget  cast_count      id  popularity release_date  revenue  \\\n",
       "0  False       0           0  328380    0.010669   2015-01-02        0   \n",
       "1  False       0           0  112052    0.000782   2009-09-20        0   \n",
       "2  False       0           8  201706    0.002123   2001-07-12        0   \n",
       "3  False       0           5   61803    0.097457   2002-12-24        0   \n",
       "4  False       0           5   61803    0.097457   2002-12-24        0   \n",
       "\n",
       "   runtime    status  vote_average  vote_count  \n",
       "0     93.0  Released           0.0           0  \n",
       "1     60.0  Released           3.8           2  \n",
       "2      1.0  Released           0.0           0  \n",
       "3     92.0  Released           3.0           2  \n",
       "4     92.0  Released           3.0           2  "
      ]
     },
     "execution_count": 38,
     "metadata": {},
     "output_type": "execute_result"
    }
   ],
   "source": [
    "# Additional movie features\n",
    "features = ['adult', 'budget','cast_count','id','popularity','release_date','revenue', 'runtime', \n",
    "                'status', 'vote_average', 'vote_count']\n",
    "add_features = data[features]\n",
    "add_features.head()"
   ]
  },
  {
   "cell_type": "code",
   "execution_count": 39,
   "metadata": {
    "collapsed": false
   },
   "outputs": [
    {
     "name": "stdout",
     "output_type": "stream",
     "text": [
      "## Data Description ##\n"
     ]
    },
    {
     "data": {
      "text/html": [
       "<div>\n",
       "<table border=\"1\" class=\"dataframe\">\n",
       "  <thead>\n",
       "    <tr style=\"text-align: right;\">\n",
       "      <th></th>\n",
       "      <th>% Missing</th>\n",
       "      <th>Type</th>\n",
       "    </tr>\n",
       "  </thead>\n",
       "  <tbody>\n",
       "    <tr>\n",
       "      <th>adult</th>\n",
       "      <td>0</td>\n",
       "      <td>bool</td>\n",
       "    </tr>\n",
       "    <tr>\n",
       "      <th>budget</th>\n",
       "      <td>0</td>\n",
       "      <td>int64</td>\n",
       "    </tr>\n",
       "    <tr>\n",
       "      <th>cast_count</th>\n",
       "      <td>0</td>\n",
       "      <td>int64</td>\n",
       "    </tr>\n",
       "    <tr>\n",
       "      <th>id</th>\n",
       "      <td>0</td>\n",
       "      <td>int64</td>\n",
       "    </tr>\n",
       "    <tr>\n",
       "      <th>popularity</th>\n",
       "      <td>0</td>\n",
       "      <td>float64</td>\n",
       "    </tr>\n",
       "    <tr>\n",
       "      <th>release_date</th>\n",
       "      <td>0</td>\n",
       "      <td>object</td>\n",
       "    </tr>\n",
       "    <tr>\n",
       "      <th>revenue</th>\n",
       "      <td>0</td>\n",
       "      <td>int64</td>\n",
       "    </tr>\n",
       "    <tr>\n",
       "      <th>runtime</th>\n",
       "      <td>0.659755</td>\n",
       "      <td>float64</td>\n",
       "    </tr>\n",
       "    <tr>\n",
       "      <th>status</th>\n",
       "      <td>0</td>\n",
       "      <td>object</td>\n",
       "    </tr>\n",
       "    <tr>\n",
       "      <th>vote_average</th>\n",
       "      <td>0</td>\n",
       "      <td>float64</td>\n",
       "    </tr>\n",
       "    <tr>\n",
       "      <th>vote_count</th>\n",
       "      <td>0</td>\n",
       "      <td>int64</td>\n",
       "    </tr>\n",
       "  </tbody>\n",
       "</table>\n",
       "</div>"
      ],
      "text/plain": [
       "             % Missing     Type\n",
       "adult                0     bool\n",
       "budget               0    int64\n",
       "cast_count           0    int64\n",
       "id                   0    int64\n",
       "popularity           0  float64\n",
       "release_date         0   object\n",
       "revenue              0    int64\n",
       "runtime       0.659755  float64\n",
       "status               0   object\n",
       "vote_average         0  float64\n",
       "vote_count           0    int64"
      ]
     },
     "execution_count": 39,
     "metadata": {},
     "output_type": "execute_result"
    }
   ],
   "source": [
    "# Description of features by percentage of missing values and variable type \n",
    "missing = ((add_features.isnull().sum()/len(add_features))*100).astype(float)\n",
    "types = add_features.dtypes\n",
    "\n",
    "data_description = pd.DataFrame(np.column_stack([missing, types]), \\\n",
    "                            index = add_features.columns, columns = ['% Missing', 'Type'])\n",
    "print \"## Data Description ##\"\n",
    "data_description"
   ]
  },
  {
   "cell_type": "markdown",
   "metadata": {},
   "source": [
    "Impute missing values"
   ]
  },
  {
   "cell_type": "code",
   "execution_count": 40,
   "metadata": {
    "collapsed": false
   },
   "outputs": [
    {
     "data": {
      "text/html": [
       "<div>\n",
       "<table border=\"1\" class=\"dataframe\">\n",
       "  <thead>\n",
       "    <tr style=\"text-align: right;\">\n",
       "      <th></th>\n",
       "      <th>adult</th>\n",
       "      <th>budget</th>\n",
       "      <th>cast_count</th>\n",
       "      <th>id</th>\n",
       "      <th>popularity</th>\n",
       "      <th>release_date</th>\n",
       "      <th>revenue</th>\n",
       "      <th>runtime</th>\n",
       "      <th>status</th>\n",
       "      <th>vote_average</th>\n",
       "      <th>vote_count</th>\n",
       "    </tr>\n",
       "  </thead>\n",
       "  <tbody>\n",
       "    <tr>\n",
       "      <th>0</th>\n",
       "      <td>False</td>\n",
       "      <td>0</td>\n",
       "      <td>0</td>\n",
       "      <td>328380</td>\n",
       "      <td>0.010669</td>\n",
       "      <td>2015-01-02</td>\n",
       "      <td>0</td>\n",
       "      <td>93.0</td>\n",
       "      <td>Released</td>\n",
       "      <td>0.0</td>\n",
       "      <td>0</td>\n",
       "    </tr>\n",
       "    <tr>\n",
       "      <th>1</th>\n",
       "      <td>False</td>\n",
       "      <td>0</td>\n",
       "      <td>0</td>\n",
       "      <td>112052</td>\n",
       "      <td>0.000782</td>\n",
       "      <td>2009-09-20</td>\n",
       "      <td>0</td>\n",
       "      <td>60.0</td>\n",
       "      <td>Released</td>\n",
       "      <td>3.8</td>\n",
       "      <td>2</td>\n",
       "    </tr>\n",
       "    <tr>\n",
       "      <th>2</th>\n",
       "      <td>False</td>\n",
       "      <td>0</td>\n",
       "      <td>8</td>\n",
       "      <td>201706</td>\n",
       "      <td>0.002123</td>\n",
       "      <td>2001-07-12</td>\n",
       "      <td>0</td>\n",
       "      <td>1.0</td>\n",
       "      <td>Released</td>\n",
       "      <td>0.0</td>\n",
       "      <td>0</td>\n",
       "    </tr>\n",
       "    <tr>\n",
       "      <th>3</th>\n",
       "      <td>False</td>\n",
       "      <td>0</td>\n",
       "      <td>5</td>\n",
       "      <td>61803</td>\n",
       "      <td>0.097457</td>\n",
       "      <td>2002-12-24</td>\n",
       "      <td>0</td>\n",
       "      <td>92.0</td>\n",
       "      <td>Released</td>\n",
       "      <td>3.0</td>\n",
       "      <td>2</td>\n",
       "    </tr>\n",
       "    <tr>\n",
       "      <th>4</th>\n",
       "      <td>False</td>\n",
       "      <td>0</td>\n",
       "      <td>5</td>\n",
       "      <td>61803</td>\n",
       "      <td>0.097457</td>\n",
       "      <td>2002-12-24</td>\n",
       "      <td>0</td>\n",
       "      <td>92.0</td>\n",
       "      <td>Released</td>\n",
       "      <td>3.0</td>\n",
       "      <td>2</td>\n",
       "    </tr>\n",
       "  </tbody>\n",
       "</table>\n",
       "</div>"
      ],
      "text/plain": [
       "   adult  budget  cast_count      id  popularity release_date  revenue  \\\n",
       "0  False       0           0  328380    0.010669   2015-01-02        0   \n",
       "1  False       0           0  112052    0.000782   2009-09-20        0   \n",
       "2  False       0           8  201706    0.002123   2001-07-12        0   \n",
       "3  False       0           5   61803    0.097457   2002-12-24        0   \n",
       "4  False       0           5   61803    0.097457   2002-12-24        0   \n",
       "\n",
       "   runtime    status  vote_average  vote_count  \n",
       "0     93.0  Released           0.0           0  \n",
       "1     60.0  Released           3.8           2  \n",
       "2      1.0  Released           0.0           0  \n",
       "3     92.0  Released           3.0           2  \n",
       "4     92.0  Released           3.0           2  "
      ]
     },
     "execution_count": 40,
     "metadata": {},
     "output_type": "execute_result"
    }
   ],
   "source": [
    "# Impute variables using median imputation:\n",
    "imp = preprocessing.Imputer(missing_values='NaN', strategy='median', axis=0)\n",
    "imp.fit(add_features['runtime'].reshape(-1,1))\n",
    "data_imp = pd.DataFrame(imp.transform(add_features['runtime'].reshape(-1,1)), columns = [imp])\n",
    "add_features.loc[:, 'runtime'] = data_imp.values\n",
    "add_features.head()"
   ]
  },
  {
   "cell_type": "markdown",
   "metadata": {},
   "source": [
    "Consolidate X "
   ]
  },
  {
   "cell_type": "code",
   "execution_count": 41,
   "metadata": {
    "collapsed": false
   },
   "outputs": [
    {
     "data": {
      "text/html": [
       "<div>\n",
       "<table border=\"1\" class=\"dataframe\">\n",
       "  <thead>\n",
       "    <tr style=\"text-align: right;\">\n",
       "      <th></th>\n",
       "      <th>one</th>\n",
       "      <th>life</th>\n",
       "      <th>new</th>\n",
       "      <th>world</th>\n",
       "      <th>film</th>\n",
       "      <th>young</th>\n",
       "      <th>two</th>\n",
       "      <th>man</th>\n",
       "      <th>story</th>\n",
       "      <th>love</th>\n",
       "      <th>...</th>\n",
       "      <th>revenue</th>\n",
       "      <th>runtime</th>\n",
       "      <th>status</th>\n",
       "      <th>vote_average</th>\n",
       "      <th>vote_count</th>\n",
       "      <th>id</th>\n",
       "      <th>director</th>\n",
       "      <th>cast1</th>\n",
       "      <th>cast2</th>\n",
       "      <th>cast3</th>\n",
       "    </tr>\n",
       "  </thead>\n",
       "  <tbody>\n",
       "    <tr>\n",
       "      <th>0</th>\n",
       "      <td>0</td>\n",
       "      <td>0</td>\n",
       "      <td>0</td>\n",
       "      <td>0</td>\n",
       "      <td>0</td>\n",
       "      <td>0</td>\n",
       "      <td>0</td>\n",
       "      <td>0</td>\n",
       "      <td>0</td>\n",
       "      <td>0</td>\n",
       "      <td>...</td>\n",
       "      <td>0</td>\n",
       "      <td>93</td>\n",
       "      <td>Released</td>\n",
       "      <td>0</td>\n",
       "      <td>0</td>\n",
       "      <td>328380</td>\n",
       "      <td>Bobby Sheehan</td>\n",
       "      <td>MISS</td>\n",
       "      <td>MISS</td>\n",
       "      <td>MISS</td>\n",
       "    </tr>\n",
       "    <tr>\n",
       "      <th>1</th>\n",
       "      <td>0</td>\n",
       "      <td>0</td>\n",
       "      <td>0</td>\n",
       "      <td>0</td>\n",
       "      <td>0</td>\n",
       "      <td>0</td>\n",
       "      <td>0</td>\n",
       "      <td>0</td>\n",
       "      <td>0</td>\n",
       "      <td>0</td>\n",
       "      <td>...</td>\n",
       "      <td>0</td>\n",
       "      <td>60</td>\n",
       "      <td>Released</td>\n",
       "      <td>3.8</td>\n",
       "      <td>2</td>\n",
       "      <td>112052</td>\n",
       "      <td>Nancy Donnelly</td>\n",
       "      <td>MISS</td>\n",
       "      <td>MISS</td>\n",
       "      <td>MISS</td>\n",
       "    </tr>\n",
       "    <tr>\n",
       "      <th>2</th>\n",
       "      <td>0</td>\n",
       "      <td>0</td>\n",
       "      <td>0</td>\n",
       "      <td>0</td>\n",
       "      <td>0</td>\n",
       "      <td>0</td>\n",
       "      <td>0</td>\n",
       "      <td>0</td>\n",
       "      <td>0</td>\n",
       "      <td>0</td>\n",
       "      <td>...</td>\n",
       "      <td>0</td>\n",
       "      <td>1</td>\n",
       "      <td>Released</td>\n",
       "      <td>0</td>\n",
       "      <td>0</td>\n",
       "      <td>201706</td>\n",
       "      <td>Douglas Kung Cheung-Tak</td>\n",
       "      <td>Chin Ka-Lok</td>\n",
       "      <td>Leila Tong</td>\n",
       "      <td>Lee San-San</td>\n",
       "    </tr>\n",
       "    <tr>\n",
       "      <th>3</th>\n",
       "      <td>0</td>\n",
       "      <td>0</td>\n",
       "      <td>0</td>\n",
       "      <td>0</td>\n",
       "      <td>0</td>\n",
       "      <td>0</td>\n",
       "      <td>0</td>\n",
       "      <td>0</td>\n",
       "      <td>0</td>\n",
       "      <td>0</td>\n",
       "      <td>...</td>\n",
       "      <td>0</td>\n",
       "      <td>92</td>\n",
       "      <td>Released</td>\n",
       "      <td>3</td>\n",
       "      <td>2</td>\n",
       "      <td>61803</td>\n",
       "      <td>Brian Katkin</td>\n",
       "      <td>Ron Perlman</td>\n",
       "      <td>Fred Dryer</td>\n",
       "      <td>Wolf Larson</td>\n",
       "    </tr>\n",
       "    <tr>\n",
       "      <th>4</th>\n",
       "      <td>0</td>\n",
       "      <td>0</td>\n",
       "      <td>0</td>\n",
       "      <td>0</td>\n",
       "      <td>0</td>\n",
       "      <td>0</td>\n",
       "      <td>0</td>\n",
       "      <td>0</td>\n",
       "      <td>0</td>\n",
       "      <td>0</td>\n",
       "      <td>...</td>\n",
       "      <td>0</td>\n",
       "      <td>92</td>\n",
       "      <td>Released</td>\n",
       "      <td>3</td>\n",
       "      <td>2</td>\n",
       "      <td>61803</td>\n",
       "      <td>Brian Katkin</td>\n",
       "      <td>Ron Perlman</td>\n",
       "      <td>Fred Dryer</td>\n",
       "      <td>Wolf Larson</td>\n",
       "    </tr>\n",
       "  </tbody>\n",
       "</table>\n",
       "<p>5 rows × 416 columns</p>\n",
       "</div>"
      ],
      "text/plain": [
       "  one life new world film young two man story love     ...      revenue  \\\n",
       "0   0    0   0     0    0     0   0   0     0    0     ...            0   \n",
       "1   0    0   0     0    0     0   0   0     0    0     ...            0   \n",
       "2   0    0   0     0    0     0   0   0     0    0     ...            0   \n",
       "3   0    0   0     0    0     0   0   0     0    0     ...            0   \n",
       "4   0    0   0     0    0     0   0   0     0    0     ...            0   \n",
       "\n",
       "  runtime    status vote_average vote_count      id                 director  \\\n",
       "0      93  Released            0          0  328380            Bobby Sheehan   \n",
       "1      60  Released          3.8          2  112052           Nancy Donnelly   \n",
       "2       1  Released            0          0  201706  Douglas Kung Cheung-Tak   \n",
       "3      92  Released            3          2   61803             Brian Katkin   \n",
       "4      92  Released            3          2   61803             Brian Katkin   \n",
       "\n",
       "         cast1       cast2        cast3  \n",
       "0         MISS        MISS         MISS  \n",
       "1         MISS        MISS         MISS  \n",
       "2  Chin Ka-Lok  Leila Tong  Lee San-San  \n",
       "3  Ron Perlman  Fred Dryer  Wolf Larson  \n",
       "4  Ron Perlman  Fred Dryer  Wolf Larson  \n",
       "\n",
       "[5 rows x 416 columns]"
      ]
     },
     "execution_count": 41,
     "metadata": {},
     "output_type": "execute_result"
    }
   ],
   "source": [
    "# Redifine X\n",
    "names = list(X.columns.values) + list(add_features.columns.values) + list(cast_dir.columns.values)\n",
    "X_all = pd.DataFrame(np.column_stack([X, add_features, cast_dir]), columns = names)\n",
    "X_all.head()"
   ]
  },
  {
   "cell_type": "code",
   "execution_count": 42,
   "metadata": {
    "collapsed": false
   },
   "outputs": [
    {
     "data": {
      "text/html": [
       "<div>\n",
       "<table border=\"1\" class=\"dataframe\">\n",
       "  <thead>\n",
       "    <tr style=\"text-align: right;\">\n",
       "      <th></th>\n",
       "      <th>one</th>\n",
       "      <th>life</th>\n",
       "      <th>new</th>\n",
       "      <th>world</th>\n",
       "      <th>film</th>\n",
       "      <th>young</th>\n",
       "      <th>two</th>\n",
       "      <th>man</th>\n",
       "      <th>story</th>\n",
       "      <th>love</th>\n",
       "      <th>...</th>\n",
       "      <th>revenue</th>\n",
       "      <th>runtime</th>\n",
       "      <th>status</th>\n",
       "      <th>vote_average</th>\n",
       "      <th>vote_count</th>\n",
       "      <th>id</th>\n",
       "      <th>director</th>\n",
       "      <th>cast1</th>\n",
       "      <th>cast2</th>\n",
       "      <th>cast3</th>\n",
       "    </tr>\n",
       "  </thead>\n",
       "  <tbody>\n",
       "    <tr>\n",
       "      <th>0</th>\n",
       "      <td>0</td>\n",
       "      <td>0</td>\n",
       "      <td>0</td>\n",
       "      <td>0</td>\n",
       "      <td>0</td>\n",
       "      <td>0</td>\n",
       "      <td>0</td>\n",
       "      <td>0</td>\n",
       "      <td>0</td>\n",
       "      <td>0</td>\n",
       "      <td>...</td>\n",
       "      <td>0</td>\n",
       "      <td>93</td>\n",
       "      <td>5</td>\n",
       "      <td>0</td>\n",
       "      <td>0</td>\n",
       "      <td>4062</td>\n",
       "      <td>388</td>\n",
       "      <td>2254</td>\n",
       "      <td>2200</td>\n",
       "      <td>2090</td>\n",
       "    </tr>\n",
       "    <tr>\n",
       "      <th>1</th>\n",
       "      <td>0</td>\n",
       "      <td>0</td>\n",
       "      <td>0</td>\n",
       "      <td>0</td>\n",
       "      <td>0</td>\n",
       "      <td>0</td>\n",
       "      <td>0</td>\n",
       "      <td>0</td>\n",
       "      <td>0</td>\n",
       "      <td>0</td>\n",
       "      <td>...</td>\n",
       "      <td>0</td>\n",
       "      <td>60</td>\n",
       "      <td>5</td>\n",
       "      <td>27</td>\n",
       "      <td>2</td>\n",
       "      <td>2375</td>\n",
       "      <td>2638</td>\n",
       "      <td>2254</td>\n",
       "      <td>2200</td>\n",
       "      <td>2090</td>\n",
       "    </tr>\n",
       "    <tr>\n",
       "      <th>2</th>\n",
       "      <td>0</td>\n",
       "      <td>0</td>\n",
       "      <td>0</td>\n",
       "      <td>0</td>\n",
       "      <td>0</td>\n",
       "      <td>0</td>\n",
       "      <td>0</td>\n",
       "      <td>0</td>\n",
       "      <td>0</td>\n",
       "      <td>0</td>\n",
       "      <td>...</td>\n",
       "      <td>0</td>\n",
       "      <td>1</td>\n",
       "      <td>5</td>\n",
       "      <td>0</td>\n",
       "      <td>0</td>\n",
       "      <td>2924</td>\n",
       "      <td>1014</td>\n",
       "      <td>628</td>\n",
       "      <td>2081</td>\n",
       "      <td>1983</td>\n",
       "    </tr>\n",
       "    <tr>\n",
       "      <th>3</th>\n",
       "      <td>0</td>\n",
       "      <td>0</td>\n",
       "      <td>0</td>\n",
       "      <td>0</td>\n",
       "      <td>0</td>\n",
       "      <td>0</td>\n",
       "      <td>0</td>\n",
       "      <td>0</td>\n",
       "      <td>0</td>\n",
       "      <td>0</td>\n",
       "      <td>...</td>\n",
       "      <td>0</td>\n",
       "      <td>92</td>\n",
       "      <td>5</td>\n",
       "      <td>19</td>\n",
       "      <td>2</td>\n",
       "      <td>1662</td>\n",
       "      <td>447</td>\n",
       "      <td>3071</td>\n",
       "      <td>1161</td>\n",
       "      <td>3359</td>\n",
       "    </tr>\n",
       "    <tr>\n",
       "      <th>4</th>\n",
       "      <td>0</td>\n",
       "      <td>0</td>\n",
       "      <td>0</td>\n",
       "      <td>0</td>\n",
       "      <td>0</td>\n",
       "      <td>0</td>\n",
       "      <td>0</td>\n",
       "      <td>0</td>\n",
       "      <td>0</td>\n",
       "      <td>0</td>\n",
       "      <td>...</td>\n",
       "      <td>0</td>\n",
       "      <td>92</td>\n",
       "      <td>5</td>\n",
       "      <td>19</td>\n",
       "      <td>2</td>\n",
       "      <td>1662</td>\n",
       "      <td>447</td>\n",
       "      <td>3071</td>\n",
       "      <td>1161</td>\n",
       "      <td>3359</td>\n",
       "    </tr>\n",
       "  </tbody>\n",
       "</table>\n",
       "<p>5 rows × 416 columns</p>\n",
       "</div>"
      ],
      "text/plain": [
       "   one  life  new  world  film  young  two  man  story  love  ...    revenue  \\\n",
       "0    0     0    0      0     0      0    0    0      0     0  ...          0   \n",
       "1    0     0    0      0     0      0    0    0      0     0  ...          0   \n",
       "2    0     0    0      0     0      0    0    0      0     0  ...          0   \n",
       "3    0     0    0      0     0      0    0    0      0     0  ...          0   \n",
       "4    0     0    0      0     0      0    0    0      0     0  ...          0   \n",
       "\n",
       "   runtime  status  vote_average  vote_count    id  director  cast1  cast2  \\\n",
       "0       93       5             0           0  4062       388   2254   2200   \n",
       "1       60       5            27           2  2375      2638   2254   2200   \n",
       "2        1       5             0           0  2924      1014    628   2081   \n",
       "3       92       5            19           2  1662       447   3071   1161   \n",
       "4       92       5            19           2  1662       447   3071   1161   \n",
       "\n",
       "   cast3  \n",
       "0   2090  \n",
       "1   2090  \n",
       "2   1983  \n",
       "3   3359  \n",
       "4   3359  \n",
       "\n",
       "[5 rows x 416 columns]"
      ]
     },
     "execution_count": 42,
     "metadata": {},
     "output_type": "execute_result"
    }
   ],
   "source": [
    "# Encode categorical variables \n",
    "def encode_categorical(array):\n",
    "    if not array.dtype == np.dtype('float64'):\n",
    "        return preprocessing.LabelEncoder().fit_transform(array) \n",
    "    else:\n",
    "        return array\n",
    "    \n",
    "# Categorical columns for use in one-hot encoder\n",
    "categorical = (X_all.dtypes.values != np.dtype('float64'))\n",
    "\n",
    "# Encode all labels\n",
    "X_all_enc = X_all.apply(encode_categorical)\n",
    "X_all_enc.head()"
   ]
  },
  {
   "cell_type": "code",
   "execution_count": 43,
   "metadata": {
    "collapsed": true
   },
   "outputs": [],
   "source": [
    "# Train/test split\n",
    "n_samples = len(X_all_enc)\n",
    "train_indices = np.random.uniform(size=n_samples) > 1. / 3.  #Select two thirds for train\n",
    "\n",
    "x_train = X_all_enc[train_indices]\n",
    "y_train = y[train_indices]\n",
    "\n",
    "x_test = X_all_enc[~train_indices]\n",
    "y_test = y[~train_indices]"
   ]
  },
  {
   "cell_type": "markdown",
   "metadata": {},
   "source": [
    "#### Tune Parameters Unweighted SVM model - all features"
   ]
  },
  {
   "cell_type": "code",
   "execution_count": 44,
   "metadata": {
    "collapsed": false
   },
   "outputs": [
    {
     "name": "stdout",
     "output_type": "stream",
     "text": [
      "Best C - Unweighted: 31.6227766017\n",
      "Best gamma - Unweighted: 0.0001\n",
      "Tuning, Time elapsed - Unweighted SVM - all features: 2815.78565407 sec\n"
     ]
    }
   ],
   "source": [
    "# Define parameters\n",
    "n_folds = 5\n",
    "seed = 42\n",
    "\n",
    "# Unweighted SVM \n",
    "# Standarize data\n",
    "scaler = preprocessing.StandardScaler().fit(x_train)\n",
    "x_train_sd = scaler.transform(x_train)   \n",
    "\n",
    "start = time.time()\n",
    "best_c, best_g, results_df = optimum_cvc(x_train_sd, y_train, n_folds, seed, None)\n",
    "end = time.time()\n",
    "\n",
    "time_elapsed = end - start\n",
    "\n",
    "print 'Best C - Unweighted: ' + str(best_c)\n",
    "print 'Best gamma - Unweighted: ' + str(best_g)\n",
    "print 'Tuning, Time elapsed - Unweighted SVM - all features:', time_elapsed, \"sec\""
   ]
  },
  {
   "cell_type": "markdown",
   "metadata": {},
   "source": [
    "#### Tune Parameters weighted SVM model - all features"
   ]
  },
  {
   "cell_type": "code",
   "execution_count": 48,
   "metadata": {
    "collapsed": false
   },
   "outputs": [
    {
     "name": "stdout",
     "output_type": "stream",
     "text": [
      "Best C- Weighted: 10.0\n",
      "Best gamma - Weighted: 0.0001\n",
      "Tuning, Time elapsed - Weighted SVM - all features: 2607.83162379 sec\n"
     ]
    }
   ],
   "source": [
    "# Weighted SVM \n",
    "start = time.time()\n",
    "best_c_w, best_g_w, results_df_w = optimum_cvc(x_train_sd, y_train, n_folds, seed, 'balanced')\n",
    "end = time.time()\n",
    "\n",
    "time_elapsed = end - start\n",
    "\n",
    "print 'Best C- Weilghted: ' + str(best_c_w)\n",
    "print 'Best gamma - Weighted: ' + str(best_g_w)\n",
    "print 'Tuning, Time elapsed - Weighted SVM - all features:', time_elapsed, \"sec\""
   ]
  },
  {
   "cell_type": "markdown",
   "metadata": {},
   "source": [
    "#### Accuracy unweighted SVM"
   ]
  },
  {
   "cell_type": "markdown",
   "metadata": {},
   "source": [
    "* Overall accuracy"
   ]
  },
  {
   "cell_type": "code",
   "execution_count": 53,
   "metadata": {
    "collapsed": false
   },
   "outputs": [
    {
     "name": "stdout",
     "output_type": "stream",
     "text": [
      "Time elapsed - Unweighted SVM: 37.6214249134 sec\n",
      "\n",
      "# Test accuracy: 0.2519\n"
     ]
    }
   ],
   "source": [
    "##  Unweighted model: Predict on test sample\n",
    "\n",
    "# Fit model in train sample based on optimal parameters \n",
    "start = time.time()\n",
    "scaler = preprocessing.StandardScaler().fit(x_train)\n",
    "x_train_sd = scaler.transform(x_train)   \n",
    "model = SVC(C=best_c, gamma = best_g, class_weight = None)\n",
    "model.fit(x_train_sd, y_train)\n",
    "end = time.time()\n",
    "\n",
    "time_elapsed = end - start\n",
    "print \"Time elapsed - Unweighted SVM:\", time_elapsed, \"sec\"\n",
    "\n",
    "# Standarize test sample\n",
    "x_test_sd = scaler.transform(x_test)   \n",
    "\n",
    "# Prediction on test sample\n",
    "y_pred = model.predict(x_test_sd)\n",
    "\n",
    "# Overall accuracy\n",
    "score = round(model.score(x_test_sd, y_test), 4)\n",
    "print '\\n' '# Test accuracy:', score"
   ]
  },
  {
   "cell_type": "markdown",
   "metadata": {},
   "source": [
    "* Accuracy per genre"
   ]
  },
  {
   "cell_type": "code",
   "execution_count": 56,
   "metadata": {
    "collapsed": false
   },
   "outputs": [
    {
     "data": {
      "image/png": "[encoded data removed]",
      "text/plain": [
       "<matplotlib.figure.Figure at 0x136d24b10>"
      ]
     },
     "metadata": {},
     "output_type": "display_data"
    }
   ],
   "source": [
    "# Confusion matrix\n",
    "cm = confusion_matrix(y_test, y_pred, labels = y_test.unique())\n",
    "\n",
    "# Visual inspection of confusion matrix\n",
    "plt.imshow(cm, interpolation='nearest', cmap=plt.cm.Blues)\n",
    "tick_marks = np.arange(y_test.nunique())\n",
    "plt.xticks(tick_marks, y_test.unique(), rotation=90)\n",
    "plt.yticks(tick_marks, y_test.unique())\n",
    "plt.xlabel('Predicted label')\n",
    "plt.ylabel('True label')\n",
    "plt.title('Confusion matrix: Unweighted SVM, all features ({:.0f}% accuracy)'.format(score*100))\n",
    "plt.show()"
   ]
  },
  {
   "cell_type": "markdown",
   "metadata": {},
   "source": [
    "#### Accuracy weighted SVM"
   ]
  },
  {
   "cell_type": "markdown",
   "metadata": {},
   "source": [
    "* Overall accuracy"
   ]
  },
  {
   "cell_type": "code",
   "execution_count": 57,
   "metadata": {
    "collapsed": false
   },
   "outputs": [
    {
     "name": "stdout",
     "output_type": "stream",
     "text": [
      "Time elapsed - Weighted SVM: 51.5446100235 sec\n",
      "\n",
      "# Test accuracy: 0.1695\n"
     ]
    }
   ],
   "source": [
    "##  Weighted model: Predict on test sample\n",
    "\n",
    "# Fit model in train sample based on optimal parameters \n",
    "start = time.time()\n",
    "model = SVC(C=best_c_w, gamma = best_g_w, class_weight = 'balanced')\n",
    "model.fit(x_train_sd, y_train)\n",
    "end = time.time()\n",
    "\n",
    "time_elapsed_w = end - start\n",
    "print \"Time elapsed - Weighted SVM:\", time_elapsed_w, \"sec\"\n",
    "\n",
    "# Prediction on test sample\n",
    "y_pred_w = model.predict(x_test_sd)\n",
    "\n",
    "# Overall accuracy\n",
    "score = round(model.score(x_test_sd, y_test), 4)\n",
    "print '\\n' '# Test accuracy:', score"
   ]
  },
  {
   "cell_type": "markdown",
   "metadata": {},
   "source": [
    "* Accuracy per genre"
   ]
  },
  {
   "cell_type": "code",
   "execution_count": 58,
   "metadata": {
    "collapsed": false
   },
   "outputs": [
    {
     "data": {
      "image/png": "[encoded data removed]",
      "text/plain": [
       "<matplotlib.figure.Figure at 0x1178cc990>"
      ]
     },
     "metadata": {},
     "output_type": "display_data"
    }
   ],
   "source": [
    "# Confusion matrix\n",
    "cm = confusion_matrix(y_test, y_pred, labels = y_test.unique())\n",
    "\n",
    "# Visual inspection of confusion matrix\n",
    "plt.imshow(cm, interpolation='nearest', cmap=plt.cm.Blues)\n",
    "tick_marks = np.arange(y_test.nunique())\n",
    "plt.xticks(tick_marks, y_test.unique(), rotation=90)\n",
    "plt.yticks(tick_marks, y_test.unique())\n",
    "plt.xlabel('Predicted label')\n",
    "plt.ylabel('True label')\n",
    "plt.title('Confusion matrix: Weighted SVM, all features ({:.0f}% accuracy)'.format(score*100))\n",
    "plt.show()"
   ]
  },
  {
   "cell_type": "markdown",
   "metadata": {},
   "source": [
    "----"
   ]
  }
 ],
 "metadata": {
  "anaconda-cloud": {},
  "kernelspec": {
   "display_name": "Python [Root]",
   "language": "python",
   "name": "Python [Root]"
  },
  "language_info": {
   "codemirror_mode": {
    "name": "ipython",
    "version": 2
   },
   "file_extension": ".py",
   "mimetype": "text/x-python",
   "name": "python",
   "nbconvert_exporter": "python",
   "pygments_lexer": "ipython2",
   "version": "2.7.12"
  }
 },
 "nbformat": 4,
 "nbformat_minor": 0
}
