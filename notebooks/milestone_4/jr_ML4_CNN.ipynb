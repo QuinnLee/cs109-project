{
 "cells": [
  {
   "cell_type": "code",
   "execution_count": 424,
   "metadata": {
    "collapsed": false,
    "deletable": true,
    "editable": true
   },
   "outputs": [],
   "source": [
    "import os\n",
    "import re\n",
    "import keras\n",
    "import urllib\n",
    "import matplotlib\n",
    "import numpy as np\n",
    "import pandas as pd\n",
    "import seaborn as sns\n",
    "import math\n",
    "import matplotlib.pyplot as plt\n",
    "from collections import OrderedDict, Counter\n",
    "\n",
    "from keras import metrics\n",
    "from keras import backend as K\n",
    "from keras.utils import np_utils\n",
    "from keras.optimizers import SGD\n",
    "from keras.models import Sequential\n",
    "from keras.callbacks import EarlyStopping\n",
    "from keras.layers import Dense, Activation, Conv2D, MaxPooling2D, Flatten, Dropout\n",
    "from keras.preprocessing.image import ImageDataGenerator, array_to_img, img_to_array, load_img\n",
    "\n",
    "from keras.applications.xception import Xception\n",
    "from keras.applications.vgg16 import VGG16\n",
    "from keras.applications.vgg19 import VGG19\n",
    "from keras.applications.resnet50 import ResNet50\n",
    "from keras.applications.inception_v3 import InceptionV3\n",
    "\n",
    "from sklearn.metrics import precision_recall_curve\n",
    "from sklearn.metrics import average_precision_score\n",
    "from sklearn.metrics import recall_score\n",
    "from sklearn.metrics import precision_recall_fscore_support as score\n",
    "from sklearn.preprocessing import LabelEncoder\n",
    "\n",
    "%matplotlib inline\n",
    "sns.set_style('white')\n",
    "plt.style.use('bmh')"
   ]
  },
  {
   "cell_type": "markdown",
   "metadata": {
    "deletable": true,
    "editable": true
   },
   "source": [
    "## Downloading images, converting them to numpy arrays"
   ]
  },
  {
   "cell_type": "code",
   "execution_count": 332,
   "metadata": {
    "collapsed": false
   },
   "outputs": [
    {
     "name": "stdout",
     "output_type": "stream",
     "text": [
      "(9175, 3)\n"
     ]
    },
    {
     "data": {
      "text/html": [
       "<div>\n",
       "<table border=\"1\" class=\"dataframe\">\n",
       "  <thead>\n",
       "    <tr style=\"text-align: right;\">\n",
       "      <th></th>\n",
       "      <th>title</th>\n",
       "      <th>genre</th>\n",
       "      <th>poster_url</th>\n",
       "    </tr>\n",
       "  </thead>\n",
       "  <tbody>\n",
       "    <tr>\n",
       "      <th>0</th>\n",
       "      <td>Bought</td>\n",
       "      <td>Documentary</td>\n",
       "      <td>http://image.tmdb.org/t/p/w92/5q3CQLHMbvsjxK4V...</td>\n",
       "    </tr>\n",
       "    <tr>\n",
       "      <th>1</th>\n",
       "      <td>Egypt Underworld</td>\n",
       "      <td>Documentary</td>\n",
       "      <td>http://image.tmdb.org/t/p/w92/vHZf7KA7RGMxWl2r...</td>\n",
       "    </tr>\n",
       "    <tr>\n",
       "      <th>2</th>\n",
       "      <td>Chinese Heroes</td>\n",
       "      <td>Action</td>\n",
       "      <td>http://image.tmdb.org/t/p/w92/74F1NxjpQFoXoJzG...</td>\n",
       "    </tr>\n",
       "    <tr>\n",
       "      <th>3</th>\n",
       "      <td>Shakedown</td>\n",
       "      <td>Action</td>\n",
       "      <td>http://image.tmdb.org/t/p/w92/eILw7xfKn99cPU6n...</td>\n",
       "    </tr>\n",
       "    <tr>\n",
       "      <th>4</th>\n",
       "      <td>Shakedown</td>\n",
       "      <td>Drama</td>\n",
       "      <td>http://image.tmdb.org/t/p/w92/eILw7xfKn99cPU6n...</td>\n",
       "    </tr>\n",
       "  </tbody>\n",
       "</table>\n",
       "</div>"
      ],
      "text/plain": [
       "              title        genre  \\\n",
       "0            Bought  Documentary   \n",
       "1  Egypt Underworld  Documentary   \n",
       "2    Chinese Heroes       Action   \n",
       "3         Shakedown       Action   \n",
       "4         Shakedown        Drama   \n",
       "\n",
       "                                          poster_url  \n",
       "0  http://image.tmdb.org/t/p/w92/5q3CQLHMbvsjxK4V...  \n",
       "1  http://image.tmdb.org/t/p/w92/vHZf7KA7RGMxWl2r...  \n",
       "2  http://image.tmdb.org/t/p/w92/74F1NxjpQFoXoJzG...  \n",
       "3  http://image.tmdb.org/t/p/w92/eILw7xfKn99cPU6n...  \n",
       "4  http://image.tmdb.org/t/p/w92/eILw7xfKn99cPU6n...  "
      ]
     },
     "execution_count": 332,
     "metadata": {},
     "output_type": "execute_result"
    }
   ],
   "source": [
    "df = pd.read_json('data/themoviedb-sample-4-17-2017.json')\n",
    "df = df[df['poster_path'].isnull() == False]\n",
    "df['poster_url'] = df['poster_path'].apply(lambda x: 'http://image.tmdb.org/t/p/w92{}'.format(x))\n",
    "df = df[['title', 'genre', 'poster_url']]\n",
    "print(df.shape)\n",
    "df.head()"
   ]
  },
  {
   "cell_type": "markdown",
   "metadata": {
    "deletable": true,
    "editable": true
   },
   "source": [
    "#### Downloading all the posters\n",
    "Here, we download them at the smallest size (width = 92 pixels). "
   ]
  },
  {
   "cell_type": "code",
   "execution_count": 333,
   "metadata": {
    "collapsed": false,
    "deletable": true,
    "editable": true
   },
   "outputs": [],
   "source": [
    "for url in df['poster_url'].unique():\n",
    "    file_name = re.findall(r'(?<=w92\\/)(.*)', url)[0]\n",
    "    if file_name not in os.listdir('data/img'):\n",
    "        urllib.urlretrieve(url, 'data/img/{}'.format(file_name))"
   ]
  },
  {
   "cell_type": "markdown",
   "metadata": {
    "deletable": true,
    "editable": true
   },
   "source": [
    "#### Flattening into numpy arrays\n",
    "Resizing images to `(138, 92, 3)`. We expect this will lose us some precision later."
   ]
  },
  {
   "cell_type": "code",
   "execution_count": 330,
   "metadata": {
    "collapsed": false,
    "deletable": true,
    "editable": true
   },
   "outputs": [],
   "source": [
    "images = []\n",
    "y = []\n",
    "\n",
    "for image_file in os.listdir('data/img'):\n",
    "    img = load_img('data/img/{}'.format(image_file))\n",
    "    images.append(np.resize(img_to_array(img),(138,92,3)))\n",
    "    y.append(np.array([x for x in df[df['poster_url'] == 'http://image.tmdb.org/t/p/w92/{}'.format(image_file)]['genre'].values]))"
   ]
  },
  {
   "cell_type": "markdown",
   "metadata": {},
   "source": [
    "## $y$: Multi-label"
   ]
  },
  {
   "cell_type": "code",
   "execution_count": 6,
   "metadata": {
    "collapsed": false,
    "deletable": true,
    "editable": true
   },
   "outputs": [
    {
     "data": {
      "text/plain": [
       "[array([u'Drama', u'Comedy', u'Crime'], \n",
       "       dtype='<U6'), array([u'Action', u'Adventure'], \n",
       "       dtype='<U9'), array([u'Drama', u'Comedy'], \n",
       "       dtype='<U6'), array([u'Documentary', u'Music'], \n",
       "       dtype='<U11'), array([u'Adventure', u'Western'], \n",
       "       dtype='<U9')]"
      ]
     },
     "execution_count": 6,
     "metadata": {},
     "output_type": "execute_result"
    }
   ],
   "source": [
    "y[0:5]"
   ]
  },
  {
   "cell_type": "code",
   "execution_count": 335,
   "metadata": {
    "collapsed": false,
    "deletable": true,
    "editable": true
   },
   "outputs": [
    {
     "name": "stdout",
     "output_type": "stream",
     "text": [
      "(4722, 138, 92, 3)\n"
     ]
    }
   ],
   "source": [
    "X = np.array(images)\n",
    "# Normalizing away from 255\n",
    "X = X / 255.\n",
    "input_shape = X.shape\n",
    "print(input_shape)"
   ]
  },
  {
   "cell_type": "code",
   "execution_count": 381,
   "metadata": {
    "collapsed": false,
    "deletable": true,
    "editable": true
   },
   "outputs": [
    {
     "name": "stdout",
     "output_type": "stream",
     "text": [
      "(4722, 20)\n"
     ]
    },
    {
     "data": {
      "text/html": [
       "<div>\n",
       "<table border=\"1\" class=\"dataframe\">\n",
       "  <thead>\n",
       "    <tr style=\"text-align: right;\">\n",
       "      <th></th>\n",
       "      <th>Drama</th>\n",
       "      <th>Comedy</th>\n",
       "      <th>Crime</th>\n",
       "      <th>Action</th>\n",
       "      <th>Adventure</th>\n",
       "      <th>Documentary</th>\n",
       "      <th>Music</th>\n",
       "      <th>Western</th>\n",
       "      <th>Horror</th>\n",
       "      <th>Animation</th>\n",
       "      <th>Family</th>\n",
       "      <th>Thriller</th>\n",
       "      <th>Mystery</th>\n",
       "      <th>Science Fiction</th>\n",
       "      <th>History</th>\n",
       "      <th>TV Movie</th>\n",
       "      <th>Romance</th>\n",
       "      <th>Foreign</th>\n",
       "      <th>War</th>\n",
       "      <th>Fantasy</th>\n",
       "    </tr>\n",
       "  </thead>\n",
       "  <tbody>\n",
       "    <tr>\n",
       "      <th>0</th>\n",
       "      <td>1</td>\n",
       "      <td>1</td>\n",
       "      <td>1</td>\n",
       "      <td>0</td>\n",
       "      <td>0</td>\n",
       "      <td>0</td>\n",
       "      <td>0</td>\n",
       "      <td>0</td>\n",
       "      <td>0</td>\n",
       "      <td>0</td>\n",
       "      <td>0</td>\n",
       "      <td>0</td>\n",
       "      <td>0</td>\n",
       "      <td>0</td>\n",
       "      <td>0</td>\n",
       "      <td>0</td>\n",
       "      <td>0</td>\n",
       "      <td>0</td>\n",
       "      <td>0</td>\n",
       "      <td>0</td>\n",
       "    </tr>\n",
       "    <tr>\n",
       "      <th>1</th>\n",
       "      <td>0</td>\n",
       "      <td>0</td>\n",
       "      <td>0</td>\n",
       "      <td>1</td>\n",
       "      <td>1</td>\n",
       "      <td>0</td>\n",
       "      <td>0</td>\n",
       "      <td>0</td>\n",
       "      <td>0</td>\n",
       "      <td>0</td>\n",
       "      <td>0</td>\n",
       "      <td>0</td>\n",
       "      <td>0</td>\n",
       "      <td>0</td>\n",
       "      <td>0</td>\n",
       "      <td>0</td>\n",
       "      <td>0</td>\n",
       "      <td>0</td>\n",
       "      <td>0</td>\n",
       "      <td>0</td>\n",
       "    </tr>\n",
       "    <tr>\n",
       "      <th>2</th>\n",
       "      <td>1</td>\n",
       "      <td>1</td>\n",
       "      <td>0</td>\n",
       "      <td>0</td>\n",
       "      <td>0</td>\n",
       "      <td>0</td>\n",
       "      <td>0</td>\n",
       "      <td>0</td>\n",
       "      <td>0</td>\n",
       "      <td>0</td>\n",
       "      <td>0</td>\n",
       "      <td>0</td>\n",
       "      <td>0</td>\n",
       "      <td>0</td>\n",
       "      <td>0</td>\n",
       "      <td>0</td>\n",
       "      <td>0</td>\n",
       "      <td>0</td>\n",
       "      <td>0</td>\n",
       "      <td>0</td>\n",
       "    </tr>\n",
       "    <tr>\n",
       "      <th>3</th>\n",
       "      <td>0</td>\n",
       "      <td>0</td>\n",
       "      <td>0</td>\n",
       "      <td>0</td>\n",
       "      <td>0</td>\n",
       "      <td>1</td>\n",
       "      <td>1</td>\n",
       "      <td>0</td>\n",
       "      <td>0</td>\n",
       "      <td>0</td>\n",
       "      <td>0</td>\n",
       "      <td>0</td>\n",
       "      <td>0</td>\n",
       "      <td>0</td>\n",
       "      <td>0</td>\n",
       "      <td>0</td>\n",
       "      <td>0</td>\n",
       "      <td>0</td>\n",
       "      <td>0</td>\n",
       "      <td>0</td>\n",
       "    </tr>\n",
       "    <tr>\n",
       "      <th>4</th>\n",
       "      <td>0</td>\n",
       "      <td>0</td>\n",
       "      <td>0</td>\n",
       "      <td>0</td>\n",
       "      <td>1</td>\n",
       "      <td>0</td>\n",
       "      <td>0</td>\n",
       "      <td>1</td>\n",
       "      <td>0</td>\n",
       "      <td>0</td>\n",
       "      <td>0</td>\n",
       "      <td>0</td>\n",
       "      <td>0</td>\n",
       "      <td>0</td>\n",
       "      <td>0</td>\n",
       "      <td>0</td>\n",
       "      <td>0</td>\n",
       "      <td>0</td>\n",
       "      <td>0</td>\n",
       "      <td>0</td>\n",
       "    </tr>\n",
       "  </tbody>\n",
       "</table>\n",
       "</div>"
      ],
      "text/plain": [
       "   Drama  Comedy  Crime  Action  Adventure  Documentary  Music  Western  \\\n",
       "0      1       1      1       0          0            0      0        0   \n",
       "1      0       0      0       1          1            0      0        0   \n",
       "2      1       1      0       0          0            0      0        0   \n",
       "3      0       0      0       0          0            1      1        0   \n",
       "4      0       0      0       0          1            0      0        1   \n",
       "\n",
       "   Horror  Animation  Family  Thriller  Mystery  Science Fiction  History  \\\n",
       "0       0          0       0         0        0                0        0   \n",
       "1       0          0       0         0        0                0        0   \n",
       "2       0          0       0         0        0                0        0   \n",
       "3       0          0       0         0        0                0        0   \n",
       "4       0          0       0         0        0                0        0   \n",
       "\n",
       "   TV Movie  Romance  Foreign  War  Fantasy  \n",
       "0         0        0        0    0        0  \n",
       "1         0        0        0    0        0  \n",
       "2         0        0        0    0        0  \n",
       "3         0        0        0    0        0  \n",
       "4         0        0        0    0        0  "
      ]
     },
     "execution_count": 381,
     "metadata": {},
     "output_type": "execute_result"
    }
   ],
   "source": [
    "all_genres = pd.DataFrame(index = range(0,4722))\n",
    "\n",
    "for row in y:\n",
    "    for genre in row:\n",
    "        if genre in all_genres:\n",
    "            pass\n",
    "        else:\n",
    "            all_genres[genre] = 0\n",
    "\n",
    "for index, row in enumerate(y):\n",
    "    for genre in row:\n",
    "        all_genres[genre].loc[index] = 1\n",
    "        \n",
    "print(all_genres.shape)\n",
    "all_genres.head()"
   ]
  },
  {
   "cell_type": "code",
   "execution_count": 337,
   "metadata": {
    "collapsed": false,
    "deletable": true,
    "editable": true
   },
   "outputs": [
    {
     "name": "stdout",
     "output_type": "stream",
     "text": [
      "(4722, 20)\n"
     ]
    }
   ],
   "source": [
    "Y = np.array(all_genres)\n",
    "print(Y.shape)"
   ]
  },
  {
   "cell_type": "markdown",
   "metadata": {
    "deletable": true,
    "editable": true
   },
   "source": [
    "#### Fitting a simple CNN model"
   ]
  },
  {
   "cell_type": "code",
   "execution_count": 12,
   "metadata": {
    "collapsed": false,
    "deletable": true,
    "editable": true
   },
   "outputs": [
    {
     "name": "stdout",
     "output_type": "stream",
     "text": [
      "_________________________________________________________________\n",
      "Layer (type)                 Output Shape              Param #   \n",
      "=================================================================\n",
      "conv2d_1 (Conv2D)            (None, 137, 91, 80)       1040      \n",
      "_________________________________________________________________\n",
      "max_pooling2d_1 (MaxPooling2 (None, 68, 45, 80)        0         \n",
      "_________________________________________________________________\n",
      "conv2d_2 (Conv2D)            (None, 66, 43, 100)       72100     \n",
      "_________________________________________________________________\n",
      "max_pooling2d_2 (MaxPooling2 (None, 33, 21, 100)       0         \n",
      "_________________________________________________________________\n",
      "conv2d_3 (Conv2D)            (None, 31, 19, 100)       90100     \n",
      "_________________________________________________________________\n",
      "max_pooling2d_3 (MaxPooling2 (None, 15, 9, 100)        0         \n",
      "_________________________________________________________________\n",
      "dropout_1 (Dropout)          (None, 15, 9, 100)        0         \n",
      "_________________________________________________________________\n",
      "conv2d_4 (Conv2D)            (None, 13, 7, 100)        90100     \n",
      "_________________________________________________________________\n",
      "max_pooling2d_4 (MaxPooling2 (None, 6, 3, 100)         0         \n",
      "_________________________________________________________________\n",
      "dropout_2 (Dropout)          (None, 6, 3, 100)         0         \n",
      "_________________________________________________________________\n",
      "flatten_1 (Flatten)          (None, 1800)              0         \n",
      "_________________________________________________________________\n",
      "dense_1 (Dense)              (None, 64)                115264    \n",
      "_________________________________________________________________\n",
      "dropout_3 (Dropout)          (None, 64)                0         \n",
      "_________________________________________________________________\n",
      "dense_2 (Dense)              (None, 20)                1300      \n",
      "=================================================================\n",
      "Total params: 369,904\n",
      "Trainable params: 369,904\n",
      "Non-trainable params: 0\n",
      "_________________________________________________________________\n"
     ]
    }
   ],
   "source": [
    "# Super simple CNN\n",
    "model = Sequential()\n",
    "\n",
    "# Input layer\n",
    "model.add(Conv2D(80, activation='relu', \n",
    "                 kernel_size=(2, 2),\n",
    "                 data_format = 'channels_last',\n",
    "                 input_shape=(138,92,3)))\n",
    "\n",
    "# --- max pool ---\n",
    "model.add(MaxPooling2D(pool_size=(2, 2)))\n",
    "\n",
    "# --- next layer ---\n",
    "# we could double the number of filters as max pool made the \n",
    "# feature maps much smaller \n",
    "# just not doing this to improve runtime\n",
    "model.add(Conv2D(100, kernel_size=(3, 3), activation='relu'))\n",
    "# --- max pool ---\n",
    "model.add(MaxPooling2D(pool_size=(2, 2)))\n",
    "\n",
    "# --- next layer ---\n",
    "model.add(Conv2D(100, kernel_size=(3, 3), activation='relu'))\n",
    "# --- max pool ---\n",
    "model.add(MaxPooling2D(pool_size=(2, 2)))\n",
    "# # --- regularize our model in order to prevent overfitting\n",
    "model.add(Dropout(0.25))\n",
    "\n",
    "# # --- next layer ---\n",
    "model.add(Conv2D(100, kernel_size=(3, 3), activation='relu'))\n",
    "# # --- max pool ---\n",
    "model.add(MaxPooling2D(pool_size=(2, 2)))\n",
    "# # --- regularize our model in order to prevent overfitting\n",
    "model.add(Dropout(0.25))\n",
    "\n",
    "# flatten for fully connected classification layer\n",
    "model.add(Flatten())\n",
    "# --- fully connected layer ---\n",
    "model.add(Dense(64, activation='relu'))\n",
    "# # --- regularize our model in order to prevent overfitting\n",
    "model.add(Dropout(0.5))\n",
    "# --- Last layer: classification ---\n",
    "model.add(Dense(20, activation='sigmoid'))\n",
    "\n",
    "# prints out a summary of the model architecture\n",
    "model.summary()"
   ]
  },
  {
   "cell_type": "code",
   "execution_count": 21,
   "metadata": {
    "collapsed": false,
    "deletable": true,
    "editable": true
   },
   "outputs": [],
   "source": [
    "sgd = SGD(lr=0.1, momentum=0.9)\n",
    "model.compile(loss='binary_crossentropy',\n",
    "              optimizer=sgd,\n",
    "              metrics=['mae', 'categorical_accuracy'])"
   ]
  },
  {
   "cell_type": "code",
   "execution_count": 371,
   "metadata": {
    "collapsed": false,
    "deletable": true,
    "editable": true
   },
   "outputs": [
    {
     "name": "stdout",
     "output_type": "stream",
     "text": [
      "Train on 3777 samples, validate on 945 samples\n",
      "Epoch 1/5\n",
      "3777/3777 [==============================] - 352s - loss: 5.2638 - acc: 0.3092 - val_loss: 5.1852 - val_acc: 0.3693\n",
      "Epoch 2/5\n",
      "3777/3777 [==============================] - 355s - loss: 5.1863 - acc: 0.3566 - val_loss: 5.1688 - val_acc: 0.3693\n",
      "Epoch 3/5\n",
      "3777/3777 [==============================] - 361s - loss: 5.1794 - acc: 0.3564 - val_loss: 5.1715 - val_acc: 0.3693\n",
      "Epoch 4/5\n",
      "3777/3777 [==============================] - 374s - loss: 5.1525 - acc: 0.3564 - val_loss: 5.1092 - val_acc: 0.3693\n",
      "Epoch 5/5\n",
      "3777/3777 [==============================] - 362s - loss: 5.1061 - acc: 0.3561 - val_loss: 5.1115 - val_acc: 0.3693\n"
     ]
    }
   ],
   "source": [
    "batch_size = 12\n",
    "early_stopping_monitor = EarlyStopping(patience = 3)\n",
    "\n",
    "# Fit model on training data\n",
    "history = model.fit(X, Y,\n",
    "                    validation_split = 0.2,\n",
    "                    batch_size=batch_size,\n",
    "                    epochs = 5,\n",
    "                    callbacks = [early_stopping_monitor],\n",
    "                    verbose=1)\n"
   ]
  },
  {
   "cell_type": "code",
   "execution_count": 376,
   "metadata": {
    "collapsed": false,
    "deletable": true,
    "editable": true
   },
   "outputs": [
    {
     "data": {
      "image/png": "[encoded data removed]",
      "text/plain": [
       "<matplotlib.figure.Figure at 0x13b2f1e10>"
      ]
     },
     "metadata": {},
     "output_type": "display_data"
    }
   ],
   "source": [
    "plt.plot(history.history['val_acc'], alpha = 0.3, label = 'Validation accuracy')\n",
    "plt.plot(history.history['acc'], alpha =  0.3, label = 'Training accuracy')\n",
    "plt.xlabel(\"Epoch\")\n",
    "plt.ylabel(\"Validation accuracy\")\n",
    "plt.ylim([0,0.4])\n",
    "plt.legend(loc = 'best')\n",
    "plt.show()"
   ]
  },
  {
   "cell_type": "code",
   "execution_count": 377,
   "metadata": {
    "collapsed": false,
    "deletable": true,
    "editable": true
   },
   "outputs": [
    {
     "data": {
      "text/plain": [
       "(array([1, 1, 1, 0, 0, 0, 0, 0, 0, 0, 0, 0, 0, 0, 0, 0, 0, 0, 0, 0]),\n",
       " array([ 0.98346633,  0.85274035,  0.19254753,  0.34592992,  0.23179571,\n",
       "         0.53864813,  0.1653022 ,  0.049001  ,  0.26795316,  0.28179586,\n",
       "         0.40311366,  0.3431938 ,  0.0851384 ,  0.23508087,  0.08581931,\n",
       "         0.11504664,  0.34762105,  0.05560172,  0.04429831,  0.14693935], dtype=float32))"
      ]
     },
     "execution_count": 377,
     "metadata": {},
     "output_type": "execute_result"
    }
   ],
   "source": [
    "# Predicted lables per movie\n",
    "preds = model.predict(X)\n",
    "Y[0], preds[0]"
   ]
  },
  {
   "cell_type": "code",
   "execution_count": 383,
   "metadata": {
    "collapsed": false,
    "deletable": true,
    "editable": true
   },
   "outputs": [],
   "source": [
    "# Precision and Recall\n",
    "# --Precision: number of true positives over the number of true positives plus the number of false positives\n",
    "# --Recall: number of true positives over the number of true positives plus the number of false negatives\n",
    "precision = dict()\n",
    "average_precision = dict()\n",
    "recall_score = dict()\n",
    "recall = dict()\n",
    "for i in range(20):\n",
    "    precision[i], recall[i], _ = precision_recall_curve(Y[:, i],\n",
    "                                                        preds[:, i])\n",
    "    average_precision[i] = average_precision_score(Y[:, i], preds[:, i])\n",
    "    recall_score[i] = recall[i].mean()\n",
    "\n",
    "names = ['id','data']\n",
    "formats = ['f8','f8']\n",
    "dtype = dict(names = names, formats=formats)\n",
    "average_precision_np = pd.DataFrame(np.array(average_precision.items(), dtype=dtype))\n",
    "average_precision_np['genre'] = list(all_genres.columns.values)\n",
    "recall_score_np = pd.DataFrame(np.array(recall_score.items(), dtype=dtype))\n",
    "recall_score_np['genre'] = list(all_genres.columns.values)"
   ]
  },
  {
   "cell_type": "code",
   "execution_count": 384,
   "metadata": {
    "collapsed": false
   },
   "outputs": [],
   "source": [
    "# Sort genres by precision and recall\n",
    "average_precision_np = average_precision_np.sort_values(by = 'data', ascending=[0])\n",
    "recall_score_np = recall_score_np.sort_values(by = 'data', ascending=[0])"
   ]
  },
  {
   "cell_type": "code",
   "execution_count": 385,
   "metadata": {
    "collapsed": false
   },
   "outputs": [
    {
     "data": {
      "image/png": "[encoded data removed]",
      "text/plain": [
       "<matplotlib.figure.Figure at 0x13e7dac90>"
      ]
     },
     "metadata": {},
     "output_type": "display_data"
    }
   ],
   "source": [
    "# Plot precision and recall\n",
    "y_pos = np.arange(len(average_precision_np.genre)) + 1\n",
    "\n",
    "fig = plt.figure(figsize=(15, 5))\n",
    "ax1 = fig.add_subplot(1, 2, 1)\n",
    "\n",
    "ax1 = plt.bar(y_pos, average_precision_np.data, align='center', alpha=0.8, color='b')\n",
    "ax1 = plt.xticks(y_pos, average_precision_np.genre, rotation=90)\n",
    "ax1 = plt.xlim([0,21])\n",
    "ax1 = plt.ylabel('Precision')\n",
    "ax1 = plt.title('Precision by Label')\n",
    "\n",
    "ax2 = fig.add_subplot(1, 2, 2)\n",
    "\n",
    "ax2 = plt.bar(y_pos, recall_score_np.data, align='center', alpha=0.8, color='b')\n",
    "ax2 = plt.xticks(y_pos, recall_score_np.genre, rotation=90)\n",
    "ax2 = plt.xlim([0,21])\n",
    "ax2 = plt.ylabel('Recall')\n",
    "ax2 = plt.title('Recall by Label')\n",
    "\n",
    "plt.show()"
   ]
  },
  {
   "cell_type": "markdown",
   "metadata": {},
   "source": [
    "## $y$: Most popular single genre"
   ]
  },
  {
   "cell_type": "code",
   "execution_count": 386,
   "metadata": {
    "collapsed": false
   },
   "outputs": [
    {
     "data": {
      "text/plain": [
       "[array([u'Drama', u'Comedy', u'Crime'], \n",
       "       dtype='<U6'), array([u'Action', u'Adventure'], \n",
       "       dtype='<U9'), array([u'Drama', u'Comedy'], \n",
       "       dtype='<U6'), array([u'Documentary', u'Music'], \n",
       "       dtype='<U11'), array([u'Adventure', u'Western'], \n",
       "       dtype='<U9')]"
      ]
     },
     "execution_count": 386,
     "metadata": {},
     "output_type": "execute_result"
    }
   ],
   "source": [
    "y[0:5]"
   ]
  },
  {
   "cell_type": "code",
   "execution_count": 339,
   "metadata": {
    "collapsed": false
   },
   "outputs": [
    {
     "name": "stdout",
     "output_type": "stream",
     "text": [
      "9175\n"
     ]
    },
    {
     "data": {
      "text/plain": [
       "[[u'Drama', u'Comedy', u'Crime'],\n",
       " [u'Action', u'Adventure'],\n",
       " [u'Drama', u'Comedy'],\n",
       " [u'Documentary', u'Music'],\n",
       " [u'Adventure', u'Western']]"
      ]
     },
     "execution_count": 339,
     "metadata": {},
     "output_type": "execute_result"
    }
   ],
   "source": [
    "all_genres = [list(x) for x in y]\n",
    "all_genres_list = [item for sublist in all_genres for item in sublist]\n",
    "print(len(all_genres_list))\n",
    "all_genres[0:5]"
   ]
  },
  {
   "cell_type": "code",
   "execution_count": 340,
   "metadata": {
    "collapsed": false
   },
   "outputs": [
    {
     "data": {
      "text/plain": [
       "(array([u'Drama', u'Comedy', u'Crime'], \n",
       "       dtype='<U6'), u'Drama')"
      ]
     },
     "execution_count": 340,
     "metadata": {},
     "output_type": "execute_result"
    }
   ],
   "source": [
    "top_genres = Counter(all_genres_list).most_common(20)\n",
    "new_y = []\n",
    "\n",
    "for row in y:\n",
    "    new_row_genre = 'other'\n",
    "    for genre in row:\n",
    "        if new_row_genre == 'other' and genre in OrderedDict(top_genres):\n",
    "            new_row_genre = genre\n",
    "        else:\n",
    "            pass\n",
    "    new_y.append(new_row_genre)\n",
    "\n",
    "\n",
    "y[0], new_y[0]"
   ]
  },
  {
   "cell_type": "code",
   "execution_count": 411,
   "metadata": {
    "collapsed": false
   },
   "outputs": [],
   "source": [
    "# Define y as multi-class (i.e. only one genre per movie - most popular)\n",
    "encoder = LabelEncoder()\n",
    "encoder.fit(new_y)\n",
    "encoded_Y = encoder.transform(new_y)\n",
    "# convert integers to dummy variables (i.e. one hot encoded)\n",
    "Y_new = np_utils.to_categorical(encoded_Y)"
   ]
  },
  {
   "cell_type": "code",
   "execution_count": 414,
   "metadata": {
    "collapsed": false
   },
   "outputs": [
    {
     "name": "stdout",
     "output_type": "stream",
     "text": [
      "_________________________________________________________________\n",
      "Layer (type)                 Output Shape              Param #   \n",
      "=================================================================\n",
      "conv2d_33 (Conv2D)           (None, 137, 91, 80)       1040      \n",
      "_________________________________________________________________\n",
      "max_pooling2d_32 (MaxPooling (None, 68, 45, 80)        0         \n",
      "_________________________________________________________________\n",
      "conv2d_34 (Conv2D)           (None, 66, 43, 100)       72100     \n",
      "_________________________________________________________________\n",
      "max_pooling2d_33 (MaxPooling (None, 33, 21, 100)       0         \n",
      "_________________________________________________________________\n",
      "conv2d_35 (Conv2D)           (None, 31, 19, 100)       90100     \n",
      "_________________________________________________________________\n",
      "max_pooling2d_34 (MaxPooling (None, 15, 9, 100)        0         \n",
      "_________________________________________________________________\n",
      "dropout_12 (Dropout)         (None, 15, 9, 100)        0         \n",
      "_________________________________________________________________\n",
      "conv2d_36 (Conv2D)           (None, 13, 7, 100)        90100     \n",
      "_________________________________________________________________\n",
      "max_pooling2d_35 (MaxPooling (None, 6, 3, 100)         0         \n",
      "_________________________________________________________________\n",
      "dropout_13 (Dropout)         (None, 6, 3, 100)         0         \n",
      "_________________________________________________________________\n",
      "flatten_10 (Flatten)         (None, 1800)              0         \n",
      "_________________________________________________________________\n",
      "dense_19 (Dense)             (None, 64)                115264    \n",
      "_________________________________________________________________\n",
      "dropout_14 (Dropout)         (None, 64)                0         \n",
      "_________________________________________________________________\n",
      "dense_20 (Dense)             (None, 20)                1300      \n",
      "=================================================================\n",
      "Total params: 369,904\n",
      "Trainable params: 369,904\n",
      "Non-trainable params: 0\n",
      "_________________________________________________________________\n"
     ]
    }
   ],
   "source": [
    "# Super simple CNN\n",
    "model = Sequential()\n",
    "\n",
    "# Input layer\n",
    "model.add(Conv2D(80, activation='relu', \n",
    "                 kernel_size=(2, 2),\n",
    "                 data_format = 'channels_last',\n",
    "                 input_shape=(138,92,3)))\n",
    "\n",
    "# --- max pool ---\n",
    "model.add(MaxPooling2D(pool_size=(2, 2)))\n",
    "\n",
    "# --- next layer ---\n",
    "# we could double the number of filters as max pool made the \n",
    "# feature maps much smaller \n",
    "# just not doing this to improve runtime\n",
    "model.add(Conv2D(100, kernel_size=(3, 3), activation='relu'))\n",
    "# --- max pool ---\n",
    "model.add(MaxPooling2D(pool_size=(2, 2)))\n",
    "\n",
    "# --- next layer ---\n",
    "model.add(Conv2D(100, kernel_size=(3, 3), activation='relu'))\n",
    "# --- max pool ---\n",
    "model.add(MaxPooling2D(pool_size=(2, 2)))\n",
    "# # --- regularize our model in order to prevent overfitting\n",
    "model.add(Dropout(0.25))\n",
    "\n",
    "# # --- next layer ---\n",
    "model.add(Conv2D(100, kernel_size=(3, 3), activation='relu'))\n",
    "# # --- max pool ---\n",
    "model.add(MaxPooling2D(pool_size=(2, 2)))\n",
    "# # --- regularize our model in order to prevent overfitting\n",
    "model.add(Dropout(0.25))\n",
    "\n",
    "# flatten for fully connected classification layer\n",
    "model.add(Flatten())\n",
    "# --- fully connected layer ---\n",
    "model.add(Dense(64, activation='relu'))\n",
    "# # --- regularize our model in order to prevent overfitting\n",
    "model.add(Dropout(0.5))\n",
    "\n",
    "# --- Last layer: classification ---\n",
    "model.add(Dense(20, activation='softmax'))\n",
    "\n",
    "# prints out a summary of the model architecture\n",
    "model.summary()"
   ]
  },
  {
   "cell_type": "code",
   "execution_count": 415,
   "metadata": {
    "collapsed": false
   },
   "outputs": [
    {
     "name": "stdout",
     "output_type": "stream",
     "text": [
      "Train on 3777 samples, validate on 945 samples\n",
      "Epoch 1/5\n",
      "3777/3777 [==============================] - 351s - loss: 2.5527 - acc: 0.1914 - val_loss: 2.4329 - val_acc: 0.2233\n",
      "Epoch 2/5\n",
      "3777/3777 [==============================] - 388s - loss: 2.4806 - acc: 0.2065 - val_loss: 2.4373 - val_acc: 0.2233\n",
      "Epoch 3/5\n",
      "3777/3777 [==============================] - 412s - loss: 2.4656 - acc: 0.2092 - val_loss: 2.4336 - val_acc: 0.2233\n",
      "Epoch 4/5\n",
      "3777/3777 [==============================] - 368s - loss: 2.4603 - acc: 0.2089 - val_loss: 2.4257 - val_acc: 0.2233\n",
      "Epoch 5/5\n",
      "3777/3777 [==============================] - 375s - loss: 2.4572 - acc: 0.2126 - val_loss: 2.4250 - val_acc: 0.2233\n"
     ]
    }
   ],
   "source": [
    "sgd = SGD(lr=0.01, momentum=0.9)\n",
    "model.compile(loss='categorical_crossentropy',\n",
    "              optimizer=sgd,\n",
    "              metrics=['accuracy'])\n",
    "\n",
    "batch_size = 12\n",
    "early_stopping_monitor = EarlyStopping(patience = 3)\n",
    "\n",
    "# Multi-class prediction: single genre!\n",
    "new_history = model.fit(X, Y_new,\n",
    "                    validation_split = 0.2,\n",
    "                    batch_size=batch_size,\n",
    "                    epochs = 5,\n",
    "                    callbacks = [early_stopping_monitor],\n",
    "                    verbose=1)"
   ]
  },
  {
   "cell_type": "code",
   "execution_count": 416,
   "metadata": {
    "collapsed": false
   },
   "outputs": [
    {
     "data": {
      "image/png": "[encoded data removed]",
      "text/plain": [
       "<matplotlib.figure.Figure at 0x1429fbe50>"
      ]
     },
     "metadata": {},
     "output_type": "display_data"
    }
   ],
   "source": [
    "# Our network is underfitting the data\n",
    "plt.plot(new_history.history['val_acc'], alpha = 0.3, label = 'Validation accuracy')\n",
    "plt.plot(new_history.history['acc'], alpha =  0.3, label = 'Training accuracy')\n",
    "plt.xlabel(\"Epoch\")\n",
    "plt.ylabel(\"Validation accuracy\")\n",
    "plt.ylim([0,0.25])\n",
    "plt.legend(loc = 'best')\n",
    "plt.show()"
   ]
  },
  {
   "cell_type": "code",
   "execution_count": 426,
   "metadata": {
    "collapsed": false
   },
   "outputs": [
    {
     "name": "stdout",
     "output_type": "stream",
     "text": [
      "Train on 3777 samples, validate on 945 samples\n",
      "Epoch 1/5\n",
      "3777/3777 [==============================] - 351s - loss: 2.4631 - acc: 0.2097 - val_loss: 2.4290 - val_acc: 0.2233\n",
      "Epoch 2/5\n",
      "3777/3777 [==============================] - 366s - loss: 2.4556 - acc: 0.2100 - val_loss: 2.4250 - val_acc: 0.2233\n",
      "Epoch 3/5\n",
      "3777/3777 [==============================] - 346s - loss: 2.4517 - acc: 0.2129 - val_loss: 2.4239 - val_acc: 0.2233\n",
      "Epoch 4/5\n",
      "3777/3777 [==============================] - 347s - loss: 2.4500 - acc: 0.2129 - val_loss: 2.4243 - val_acc: 0.2233\n",
      "Epoch 5/5\n",
      "3777/3777 [==============================] - 367s - loss: 2.4500 - acc: 0.2100 - val_loss: 2.4248 - val_acc: 0.2233\n"
     ]
    }
   ],
   "source": [
    "sgd = SGD(lr=0.01, momentum=0.9)\n",
    "model.compile(loss='categorical_crossentropy',\n",
    "              optimizer=sgd,\n",
    "              metrics=['accuracy'])\n",
    "\n",
    "batch_size = 12\n",
    "early_stopping_monitor = EarlyStopping(patience = 3)\n",
    "\n",
    "# What i do is pick the majority class as a reference and assign weights for \n",
    "# the other classes based on the reference class. So if you have 3 classes with classA:10%, \n",
    "# classB:50% and classC:40% then you get the weights: {0:5, 1:1, 2:1.25}\n",
    "\n",
    "def get_class_weights(y):\n",
    "    counter = Counter(y)\n",
    "    majority = max(counter.values())\n",
    "    return  {cls: float(majority/count) for cls, count in counter.items()}\n",
    "\n",
    "class_weight = get_class_weights(pd.DataFrame(Y_new))\n",
    "\n",
    "# Multi-class prediction: single genre!\n",
    "new_history = model.fit(X, Y_new,\n",
    "                    validation_split = 0.2,\n",
    "                    batch_size=batch_size,\n",
    "                    epochs = 5,\n",
    "                    callbacks = [early_stopping_monitor],\n",
    "                    verbose=1,\n",
    "                    class_weight = class_weight)"
   ]
  },
  {
   "cell_type": "code",
   "execution_count": 427,
   "metadata": {
    "collapsed": false
   },
   "outputs": [
    {
     "data": {
      "image/png": "[encoded data removed]",
      "text/plain": [
       "<matplotlib.figure.Figure at 0x1379c2ed0>"
      ]
     },
     "metadata": {},
     "output_type": "display_data"
    }
   ],
   "source": [
    "# With class weights\n",
    "plt.plot(new_history.history['val_acc'], alpha = 0.3, label = 'Validation accuracy')\n",
    "plt.plot(new_history.history['acc'], alpha =  0.3, label = 'Training accuracy')\n",
    "plt.xlabel(\"Epoch\")\n",
    "plt.ylabel(\"Validation accuracy\")\n",
    "plt.ylim([0,0.25])\n",
    "plt.legend(loc = 'best')\n",
    "plt.show()"
   ]
  },
  {
   "cell_type": "code",
   "execution_count": 428,
   "metadata": {
    "collapsed": false
   },
   "outputs": [
    {
     "name": "stdout",
     "output_type": "stream",
     "text": [
      "_________________________________________________________________\n",
      "Layer (type)                 Output Shape              Param #   \n",
      "=================================================================\n",
      "conv2d_37 (Conv2D)           (None, 134, 88, 16)       1216      \n",
      "_________________________________________________________________\n",
      "max_pooling2d_36 (MaxPooling (None, 67, 44, 16)        0         \n",
      "_________________________________________________________________\n",
      "conv2d_38 (Conv2D)           (None, 65, 42, 32)        4640      \n",
      "_________________________________________________________________\n",
      "max_pooling2d_37 (MaxPooling (None, 32, 21, 32)        0         \n",
      "_________________________________________________________________\n",
      "flatten_11 (Flatten)         (None, 21504)             0         \n",
      "_________________________________________________________________\n",
      "dense_21 (Dense)             (None, 64)                1376320   \n",
      "_________________________________________________________________\n",
      "dense_22 (Dense)             (None, 20)                1300      \n",
      "=================================================================\n",
      "Total params: 1,383,476\n",
      "Trainable params: 1,383,476\n",
      "Non-trainable params: 0\n",
      "_________________________________________________________________\n"
     ]
    }
   ],
   "source": [
    "# create an empty network model\n",
    "model = Sequential()\n",
    "\n",
    "# --- input layer ---\n",
    "model.add(Conv2D(16, kernel_size=(5, 5), activation='relu', input_shape=(138,92,3)))\n",
    "# --- max pool ---\n",
    "model.add(MaxPooling2D(pool_size=(2, 2)))\n",
    "\n",
    "# --- next layer ---\n",
    "# we could double the number of filters as max pool made the \n",
    "# feature maps much smaller \n",
    "# just not doing this to improve runtime\n",
    "model.add(Conv2D(32, kernel_size=(3, 3), activation='relu'))\n",
    "# --- max pool ---\n",
    "model.add(MaxPooling2D(pool_size=(2, 2)))\n",
    "\n",
    "# flatten for fully connected classification layer\n",
    "model.add(Flatten())\n",
    "# note that the 10 is the number of classes we have\n",
    "# the classes are mutually exclusive so softmax is a good choice\n",
    "# --- fully connected layer ---\n",
    "model.add(Dense(64, activation='relu'))\n",
    "# --- classification ---\n",
    "model.add(Dense(20, activation='softmax'))\n",
    "\n",
    "# prints out a summary of the model architecture\n",
    "model.summary()"
   ]
  },
  {
   "cell_type": "code",
   "execution_count": 429,
   "metadata": {
    "collapsed": false
   },
   "outputs": [
    {
     "name": "stdout",
     "output_type": "stream",
     "text": [
      "Train on 3777 samples, validate on 945 samples\n",
      "Epoch 1/5\n",
      "3777/3777 [==============================] - 84s - loss: 2.5311 - acc: 0.1935 - val_loss: 2.4807 - val_acc: 0.1534\n",
      "Epoch 2/5\n",
      "3777/3777 [==============================] - 87s - loss: 2.4799 - acc: 0.2023 - val_loss: 2.4341 - val_acc: 0.1534\n",
      "Epoch 3/5\n",
      "3777/3777 [==============================] - 83s - loss: 2.4643 - acc: 0.2081 - val_loss: 2.4279 - val_acc: 0.2180\n",
      "Epoch 4/5\n",
      "3777/3777 [==============================] - 88s - loss: 2.4377 - acc: 0.2145 - val_loss: 2.4050 - val_acc: 0.2222\n",
      "Epoch 5/5\n",
      "3777/3777 [==============================] - 85s - loss: 2.4145 - acc: 0.2250 - val_loss: 2.4060 - val_acc: 0.2042\n"
     ]
    }
   ],
   "source": [
    "sgd = SGD(lr=0.01, momentum=0.9)\n",
    "model.compile(loss='categorical_crossentropy',\n",
    "              optimizer=sgd,\n",
    "              metrics=['accuracy'])\n",
    "\n",
    "batch_size = 12\n",
    "early_stopping_monitor = EarlyStopping(patience = 3)\n",
    "\n",
    "# Multi-class prediction: single genre!\n",
    "new_history = model.fit(X, Y_new,\n",
    "                    validation_split = 0.2,\n",
    "                    batch_size=batch_size,\n",
    "                    epochs = 5,\n",
    "                    callbacks = [early_stopping_monitor],\n",
    "                    verbose=1,\n",
    "                    class_weight = class_weight)"
   ]
  },
  {
   "cell_type": "code",
   "execution_count": 430,
   "metadata": {
    "collapsed": false
   },
   "outputs": [
    {
     "data": {
      "image/png": "[encoded data removed]",
      "text/plain": [
       "<matplotlib.figure.Figure at 0x1383529d0>"
      ]
     },
     "metadata": {},
     "output_type": "display_data"
    }
   ],
   "source": [
    "# With class weights\n",
    "plt.plot(new_history.history['val_acc'], alpha = 0.3, label = 'Validation accuracy')\n",
    "plt.plot(new_history.history['acc'], alpha =  0.3, label = 'Training accuracy')\n",
    "plt.xlabel(\"Epoch\")\n",
    "plt.ylabel(\"Validation accuracy\")\n",
    "plt.ylim([0,0.25])\n",
    "plt.legend(loc = 'best')\n",
    "plt.show()"
   ]
  },
  {
   "cell_type": "code",
   "execution_count": 431,
   "metadata": {
    "collapsed": false
   },
   "outputs": [
    {
     "name": "stdout",
     "output_type": "stream",
     "text": [
      "Train on 3777 samples, validate on 945 samples\n",
      "Epoch 1/5\n",
      "3777/3777 [==============================] - 87s - loss: 3.3071 - acc: 0.2205 - val_loss: 3.2568 - val_acc: 0.2243\n",
      "Epoch 2/5\n",
      "3777/3777 [==============================] - 86s - loss: 3.2556 - acc: 0.2160 - val_loss: 3.3107 - val_acc: 0.1989\n",
      "Epoch 3/5\n",
      "3777/3777 [==============================] - 97s - loss: 3.1696 - acc: 0.2272 - val_loss: 3.2977 - val_acc: 0.2085\n",
      "Epoch 4/5\n",
      "3777/3777 [==============================] - 91s - loss: 2.9605 - acc: 0.2600 - val_loss: 3.5055 - val_acc: 0.1683\n",
      "Epoch 5/5\n",
      "3777/3777 [==============================] - 96s - loss: 2.6019 - acc: 0.3357 - val_loss: 3.8482 - val_acc: 0.1492\n"
     ]
    }
   ],
   "source": [
    "sgd = SGD(lr=0.01, momentum=0.9)\n",
    "model.compile(loss='categorical_crossentropy',\n",
    "              optimizer=sgd,\n",
    "              metrics=['accuracy'])\n",
    "\n",
    "batch_size = 12\n",
    "early_stopping_monitor = EarlyStopping(patience = 3)\n",
    "\n",
    "# Math.log smooths the weights for very imbalanced classes\n",
    "\n",
    "def create_class_weight(labels_dict, mu=0.15):\n",
    "    total = np.sum(labels_dict.values())\n",
    "    keys = labels_dict.keys()\n",
    "    class_weight = dict()\n",
    "\n",
    "    for key in keys:\n",
    "        score = math.log(mu*total/float(labels_dict[key]))\n",
    "        class_weight[key] = score if score > 1.0 else 1.0\n",
    "\n",
    "    return class_weight\n",
    "\n",
    "labels_tot = Y_new.sum(axis=0)\n",
    "\n",
    "labels_dict = dict(enumerate(labels_tot))\n",
    "class_weight = create_class_weight(labels_dict)\n",
    "\n",
    "# Multi-class prediction: single genre!\n",
    "new_history = model.fit(X, Y_new,\n",
    "                    validation_split = 0.2,\n",
    "                    batch_size=batch_size,\n",
    "                    epochs = 5,\n",
    "                    callbacks = [early_stopping_monitor],\n",
    "                    verbose=1,\n",
    "                    class_weight = class_weight)"
   ]
  },
  {
   "cell_type": "code",
   "execution_count": 410,
   "metadata": {
    "collapsed": false
   },
   "outputs": [
    {
     "data": {
      "image/png": "[encoded data removed]",
      "text/plain": [
       "<matplotlib.figure.Figure at 0x142a6ded0>"
      ]
     },
     "metadata": {},
     "output_type": "display_data"
    }
   ],
   "source": [
    "# Our network is underfitting the data\n",
    "plt.plot(new_history.history['val_acc'], alpha = 0.3, label = 'Validation accuracy')\n",
    "plt.plot(new_history.history['acc'], alpha =  0.3, label = 'Training accuracy')\n",
    "plt.xlabel(\"Epoch\")\n",
    "plt.ylabel(\"Validation accuracy\")\n",
    "plt.ylim([0,0.25])\n",
    "plt.legend(loc = 'best')\n",
    "plt.show()"
   ]
  },
  {
   "cell_type": "code",
   "execution_count": null,
   "metadata": {
    "collapsed": true
   },
   "outputs": [],
   "source": []
  }
 ],
 "metadata": {
  "anaconda-cloud": {},
  "kernelspec": {
   "display_name": "Python [Root]",
   "language": "python",
   "name": "Python [Root]"
  },
  "language_info": {
   "codemirror_mode": {
    "name": "ipython",
    "version": 2
   },
   "file_extension": ".py",
   "mimetype": "text/x-python",
   "name": "python",
   "nbconvert_exporter": "python",
   "pygments_lexer": "ipython2",
   "version": "2.7.12"
  }
 },
 "nbformat": 4,
 "nbformat_minor": 2
}
