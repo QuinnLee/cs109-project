{
 "cells": [
  {
   "cell_type": "markdown",
   "metadata": {},
   "source": [
    "# Milestone 3: Text analysis\n",
    "The hypothesis behind this model was that the textual information about movies would be predictive of the genres. In order to model this, we used a Dirichlet multinomial Bayesian model. "
   ]
  },
  {
   "cell_type": "code",
   "execution_count": 74,
   "metadata": {
    "collapsed": false
   },
   "outputs": [],
   "source": [
    "%matplotlib inline\n",
    "\n",
    "import os\n",
    "import re\n",
    "import nltk\n",
    "import random\n",
    "import itertools\n",
    "import numpy as np\n",
    "import pandas as pd\n",
    "from collections import Counter\n",
    "from unidecode import unidecode\n",
    "from nltk.corpus import stopwords\n",
    "from collections import OrderedDict\n",
    "from matplotlib import pyplot as plt\n",
    "from sklearn.metrics import confusion_matrix\n",
    "from sklearn.naive_bayes import MultinomialNB\n",
    "from sklearn.model_selection import cross_val_score\n",
    "\n",
    "plt.style.use('ggplot')\n",
    "random.seed(42)"
   ]
  },
  {
   "cell_type": "markdown",
   "metadata": {},
   "source": [
    "## Grabbing the data\n",
    "For now, we have a total sample of around 50,000 movies. For this model, however, we worked with a random sample of 5,000 films. We also only looked at the textual data (`overview` and `reviews`) and the list of genres (`genres`). "
   ]
  },
  {
   "cell_type": "code",
   "execution_count": 18,
   "metadata": {
    "collapsed": false
   },
   "outputs": [
    {
     "name": "stdout",
     "output_type": "stream",
     "text": [
      "(9549, 47)\n",
      "(9549, 21)\n"
     ]
    },
    {
     "data": {
      "text/html": [
       "<div>\n",
       "<table border=\"1\" class=\"dataframe\">\n",
       "  <thead>\n",
       "    <tr style=\"text-align: right;\">\n",
       "      <th></th>\n",
       "      <th>Action</th>\n",
       "      <th>Adventure</th>\n",
       "      <th>Animation</th>\n",
       "      <th>Comedy</th>\n",
       "      <th>Crime</th>\n",
       "      <th>Documentary</th>\n",
       "      <th>Drama</th>\n",
       "      <th>Family</th>\n",
       "      <th>Fantasy</th>\n",
       "      <th>Foreign</th>\n",
       "      <th>...</th>\n",
       "      <th>Horror</th>\n",
       "      <th>Music</th>\n",
       "      <th>Mystery</th>\n",
       "      <th>Romance</th>\n",
       "      <th>Science Fiction</th>\n",
       "      <th>TV Movie</th>\n",
       "      <th>Thriller</th>\n",
       "      <th>War</th>\n",
       "      <th>Western</th>\n",
       "      <th>overview</th>\n",
       "    </tr>\n",
       "  </thead>\n",
       "  <tbody>\n",
       "    <tr>\n",
       "      <th>0</th>\n",
       "      <td>False</td>\n",
       "      <td>False</td>\n",
       "      <td>False</td>\n",
       "      <td>False</td>\n",
       "      <td>False</td>\n",
       "      <td>True</td>\n",
       "      <td>False</td>\n",
       "      <td>False</td>\n",
       "      <td>False</td>\n",
       "      <td>False</td>\n",
       "      <td>...</td>\n",
       "      <td>False</td>\n",
       "      <td>False</td>\n",
       "      <td>False</td>\n",
       "      <td>False</td>\n",
       "      <td>False</td>\n",
       "      <td>False</td>\n",
       "      <td>False</td>\n",
       "      <td>False</td>\n",
       "      <td>False</td>\n",
       "      <td>Modern industrialization is no longer about st...</td>\n",
       "    </tr>\n",
       "    <tr>\n",
       "      <th>1</th>\n",
       "      <td>False</td>\n",
       "      <td>False</td>\n",
       "      <td>False</td>\n",
       "      <td>False</td>\n",
       "      <td>False</td>\n",
       "      <td>True</td>\n",
       "      <td>False</td>\n",
       "      <td>False</td>\n",
       "      <td>False</td>\n",
       "      <td>False</td>\n",
       "      <td>...</td>\n",
       "      <td>False</td>\n",
       "      <td>False</td>\n",
       "      <td>False</td>\n",
       "      <td>False</td>\n",
       "      <td>False</td>\n",
       "      <td>False</td>\n",
       "      <td>False</td>\n",
       "      <td>False</td>\n",
       "      <td>False</td>\n",
       "      <td>The documentary is an analysis of the fascinat...</td>\n",
       "    </tr>\n",
       "    <tr>\n",
       "      <th>2</th>\n",
       "      <td>True</td>\n",
       "      <td>False</td>\n",
       "      <td>False</td>\n",
       "      <td>False</td>\n",
       "      <td>False</td>\n",
       "      <td>False</td>\n",
       "      <td>False</td>\n",
       "      <td>False</td>\n",
       "      <td>False</td>\n",
       "      <td>False</td>\n",
       "      <td>...</td>\n",
       "      <td>False</td>\n",
       "      <td>False</td>\n",
       "      <td>False</td>\n",
       "      <td>False</td>\n",
       "      <td>False</td>\n",
       "      <td>False</td>\n",
       "      <td>False</td>\n",
       "      <td>False</td>\n",
       "      <td>False</td>\n",
       "      <td>A good-natured kung fu kid gets caught up in c...</td>\n",
       "    </tr>\n",
       "    <tr>\n",
       "      <th>3</th>\n",
       "      <td>True</td>\n",
       "      <td>False</td>\n",
       "      <td>False</td>\n",
       "      <td>False</td>\n",
       "      <td>False</td>\n",
       "      <td>False</td>\n",
       "      <td>True</td>\n",
       "      <td>False</td>\n",
       "      <td>False</td>\n",
       "      <td>False</td>\n",
       "      <td>...</td>\n",
       "      <td>False</td>\n",
       "      <td>False</td>\n",
       "      <td>False</td>\n",
       "      <td>False</td>\n",
       "      <td>False</td>\n",
       "      <td>False</td>\n",
       "      <td>True</td>\n",
       "      <td>False</td>\n",
       "      <td>False</td>\n",
       "      <td>In Los Angeles a deadly plague called the 'Pan...</td>\n",
       "    </tr>\n",
       "    <tr>\n",
       "      <th>4</th>\n",
       "      <td>True</td>\n",
       "      <td>False</td>\n",
       "      <td>False</td>\n",
       "      <td>False</td>\n",
       "      <td>False</td>\n",
       "      <td>False</td>\n",
       "      <td>True</td>\n",
       "      <td>False</td>\n",
       "      <td>False</td>\n",
       "      <td>False</td>\n",
       "      <td>...</td>\n",
       "      <td>False</td>\n",
       "      <td>False</td>\n",
       "      <td>False</td>\n",
       "      <td>False</td>\n",
       "      <td>False</td>\n",
       "      <td>False</td>\n",
       "      <td>True</td>\n",
       "      <td>False</td>\n",
       "      <td>False</td>\n",
       "      <td>In Los Angeles a deadly plague called the 'Pan...</td>\n",
       "    </tr>\n",
       "  </tbody>\n",
       "</table>\n",
       "<p>5 rows × 21 columns</p>\n",
       "</div>"
      ],
      "text/plain": [
       "  Action Adventure Animation Comedy  Crime Documentary  Drama Family Fantasy  \\\n",
       "0  False     False     False  False  False        True  False  False   False   \n",
       "1  False     False     False  False  False        True  False  False   False   \n",
       "2   True     False     False  False  False       False  False  False   False   \n",
       "3   True     False     False  False  False       False   True  False   False   \n",
       "4   True     False     False  False  False       False   True  False   False   \n",
       "\n",
       "  Foreign                        ...                         Horror  Music  \\\n",
       "0   False                        ...                          False  False   \n",
       "1   False                        ...                          False  False   \n",
       "2   False                        ...                          False  False   \n",
       "3   False                        ...                          False  False   \n",
       "4   False                        ...                          False  False   \n",
       "\n",
       "  Mystery Romance Science Fiction TV Movie Thriller    War Western  \\\n",
       "0   False   False           False    False    False  False   False   \n",
       "1   False   False           False    False    False  False   False   \n",
       "2   False   False           False    False    False  False   False   \n",
       "3   False   False           False    False     True  False   False   \n",
       "4   False   False           False    False     True  False   False   \n",
       "\n",
       "                                            overview  \n",
       "0  Modern industrialization is no longer about st...  \n",
       "1  The documentary is an analysis of the fascinat...  \n",
       "2  A good-natured kung fu kid gets caught up in c...  \n",
       "3  In Los Angeles a deadly plague called the 'Pan...  \n",
       "4  In Los Angeles a deadly plague called the 'Pan...  \n",
       "\n",
       "[5 rows x 21 columns]"
      ]
     },
     "execution_count": 18,
     "metadata": {},
     "output_type": "execute_result"
    }
   ],
   "source": [
    "raw = pd.read_json('https://s3.amazonaws.com/cs109b-data/training_4-29.json')\n",
    "print(raw.shape)\n",
    "\n",
    "# Keeping only genres, overviews, and reviews\n",
    "raw = raw[list(raw.columns[0:20]) + ['overview']].copy()\n",
    "print(raw.shape)\n",
    "raw.head()"
   ]
  },
  {
   "cell_type": "markdown",
   "metadata": {},
   "source": [
    "## Determining $y$: Flattening `genres` into `genre`"
   ]
  },
  {
   "cell_type": "code",
   "execution_count": 25,
   "metadata": {
    "collapsed": false
   },
   "outputs": [
    {
     "name": "stdout",
     "output_type": "stream",
     "text": [
      "(9549, 2)\n"
     ]
    },
    {
     "data": {
      "text/html": [
       "<div>\n",
       "<table border=\"1\" class=\"dataframe\">\n",
       "  <thead>\n",
       "    <tr style=\"text-align: right;\">\n",
       "      <th></th>\n",
       "      <th>overview</th>\n",
       "      <th>genre_list</th>\n",
       "    </tr>\n",
       "  </thead>\n",
       "  <tbody>\n",
       "    <tr>\n",
       "      <th>0</th>\n",
       "      <td>Modern industrialization is no longer about st...</td>\n",
       "      <td>[Documentary]</td>\n",
       "    </tr>\n",
       "    <tr>\n",
       "      <th>1</th>\n",
       "      <td>The documentary is an analysis of the fascinat...</td>\n",
       "      <td>[Documentary]</td>\n",
       "    </tr>\n",
       "    <tr>\n",
       "      <th>2</th>\n",
       "      <td>A good-natured kung fu kid gets caught up in c...</td>\n",
       "      <td>[Action]</td>\n",
       "    </tr>\n",
       "    <tr>\n",
       "      <th>3</th>\n",
       "      <td>In Los Angeles a deadly plague called the 'Pan...</td>\n",
       "      <td>[Action, Drama, Thriller]</td>\n",
       "    </tr>\n",
       "    <tr>\n",
       "      <th>4</th>\n",
       "      <td>In Los Angeles a deadly plague called the 'Pan...</td>\n",
       "      <td>[Action, Drama, Thriller]</td>\n",
       "    </tr>\n",
       "  </tbody>\n",
       "</table>\n",
       "</div>"
      ],
      "text/plain": [
       "                                            overview  \\\n",
       "0  Modern industrialization is no longer about st...   \n",
       "1  The documentary is an analysis of the fascinat...   \n",
       "2  A good-natured kung fu kid gets caught up in c...   \n",
       "3  In Los Angeles a deadly plague called the 'Pan...   \n",
       "4  In Los Angeles a deadly plague called the 'Pan...   \n",
       "\n",
       "                  genre_list  \n",
       "0              [Documentary]  \n",
       "1              [Documentary]  \n",
       "2                   [Action]  \n",
       "3  [Action, Drama, Thriller]  \n",
       "4  [Action, Drama, Thriller]  "
      ]
     },
     "execution_count": 25,
     "metadata": {},
     "output_type": "execute_result"
    }
   ],
   "source": [
    "genres = [x for x in raw.columns[0:20]]\n",
    "\n",
    "def genre_lists(row):\n",
    "    row['genre_list'] = []\n",
    "    for genre in genres:\n",
    "        if row[genre] == True:\n",
    "            row['genre_list'].append(genre)\n",
    "    return row\n",
    "\n",
    "raw = raw.apply(lambda x: genre_lists(x), axis = 1)\n",
    "raw = raw[['overview', 'genre_list']]\n",
    "print(raw.shape)\n",
    "raw.head()"
   ]
  },
  {
   "cell_type": "code",
   "execution_count": 27,
   "metadata": {
    "collapsed": false
   },
   "outputs": [
    {
     "data": {
      "text/html": [
       "<div>\n",
       "<table border=\"1\" class=\"dataframe\">\n",
       "  <thead>\n",
       "    <tr style=\"text-align: right;\">\n",
       "      <th></th>\n",
       "      <th>overview</th>\n",
       "      <th>genre_list</th>\n",
       "      <th>genre_bigrams</th>\n",
       "      <th>popular_bigram</th>\n",
       "    </tr>\n",
       "  </thead>\n",
       "  <tbody>\n",
       "    <tr>\n",
       "      <th>0</th>\n",
       "      <td>Modern industrialization is no longer about st...</td>\n",
       "      <td>[Documentary]</td>\n",
       "      <td>[]</td>\n",
       "      <td>(Documentary,)</td>\n",
       "    </tr>\n",
       "    <tr>\n",
       "      <th>1</th>\n",
       "      <td>The documentary is an analysis of the fascinat...</td>\n",
       "      <td>[Documentary]</td>\n",
       "      <td>[]</td>\n",
       "      <td>(Documentary,)</td>\n",
       "    </tr>\n",
       "    <tr>\n",
       "      <th>2</th>\n",
       "      <td>A good-natured kung fu kid gets caught up in c...</td>\n",
       "      <td>[Action]</td>\n",
       "      <td>[]</td>\n",
       "      <td>(Action,)</td>\n",
       "    </tr>\n",
       "    <tr>\n",
       "      <th>3</th>\n",
       "      <td>In Los Angeles a deadly plague called the 'Pan...</td>\n",
       "      <td>[Action, Drama, Thriller]</td>\n",
       "      <td>[(Action, Drama), (Drama, Thriller)]</td>\n",
       "      <td>(Drama, Thriller)</td>\n",
       "    </tr>\n",
       "    <tr>\n",
       "      <th>4</th>\n",
       "      <td>In Los Angeles a deadly plague called the 'Pan...</td>\n",
       "      <td>[Action, Drama, Thriller]</td>\n",
       "      <td>[(Action, Drama), (Drama, Thriller)]</td>\n",
       "      <td>(Drama, Thriller)</td>\n",
       "    </tr>\n",
       "  </tbody>\n",
       "</table>\n",
       "</div>"
      ],
      "text/plain": [
       "                                            overview  \\\n",
       "0  Modern industrialization is no longer about st...   \n",
       "1  The documentary is an analysis of the fascinat...   \n",
       "2  A good-natured kung fu kid gets caught up in c...   \n",
       "3  In Los Angeles a deadly plague called the 'Pan...   \n",
       "4  In Los Angeles a deadly plague called the 'Pan...   \n",
       "\n",
       "                  genre_list                         genre_bigrams  \\\n",
       "0              [Documentary]                                    []   \n",
       "1              [Documentary]                                    []   \n",
       "2                   [Action]                                    []   \n",
       "3  [Action, Drama, Thriller]  [(Action, Drama), (Drama, Thriller)]   \n",
       "4  [Action, Drama, Thriller]  [(Action, Drama), (Drama, Thriller)]   \n",
       "\n",
       "      popular_bigram  \n",
       "0     (Documentary,)  \n",
       "1     (Documentary,)  \n",
       "2          (Action,)  \n",
       "3  (Drama, Thriller)  \n",
       "4  (Drama, Thriller)  "
      ]
     },
     "execution_count": 27,
     "metadata": {},
     "output_type": "execute_result"
    }
   ],
   "source": [
    "all_bigrams_ever = []\n",
    "\n",
    "def bigrams(row):\n",
    "    return zip(row['genre_list'], row['genre_list'][1:])\n",
    "\n",
    "def col_for_each_bigram(row):\n",
    "    for bigram in row['genre_bigrams']:            \n",
    "        all_bigrams_ever.append(tuple(sorted(bigram)))\n",
    "    return row\n",
    "\n",
    "def popular_bigram(row):\n",
    "    for k in row['genre_bigrams']:\n",
    "        #if bigram_frequency[k] <= 50 and len(row['genre_lists']) != 1:\n",
    "            #row['popular_bigram'] = 'Other'\n",
    "        if k in OrderedDict(bigram_frequency.most_common()).keys() and row['popular_bigram'] != k:\n",
    "            row['popular_bigram'] = k\n",
    "    if len(row['genre_list']) == 1:\n",
    "        row['popular_bigram'] = tuple(row['genre_list'])\n",
    "    return row\n",
    "                \n",
    "for i in range(raw.shape[0]):\n",
    "    raw.loc[i, 'genre_list'].sort()\n",
    "\n",
    "raw['genre_bigrams'] = raw.apply(lambda x: bigrams(x), axis = 1)\n",
    "raw['popular_bigram'] = np.nan\n",
    "raw = raw.apply(lambda x: col_for_each_bigram(x), axis = 1)\n",
    "bigram_frequency = Counter(all_bigrams_ever)\n",
    "\n",
    "raw = raw.apply(lambda x: popular_bigram(x), axis = 1)\n",
    "raw.head()"
   ]
  },
  {
   "cell_type": "code",
   "execution_count": 36,
   "metadata": {
    "collapsed": false
   },
   "outputs": [
    {
     "data": {
      "text/plain": [
       "((176, 3), (153, 3))"
      ]
     },
     "execution_count": 36,
     "metadata": {},
     "output_type": "execute_result"
    }
   ],
   "source": [
    "genre_big = pd.DataFrame(raw.groupby(['popular_bigram'])['overview'].count())\n",
    "genre_big = genre_big.reset_index()\n",
    "genre_big['prop'] = genre_big['overview']/genre_big['overview'].sum()\n",
    "genre_big2 = genre_big[genre_big['prop'] < 0.01]\n",
    "genre_big.shape, genre_big2.shape"
   ]
  },
  {
   "cell_type": "code",
   "execution_count": 37,
   "metadata": {
    "collapsed": false
   },
   "outputs": [
    {
     "data": {
      "text/plain": [
       "Other                          3601\n",
       "(Documentary,)                  667\n",
       "(Drama, Romance)                500\n",
       "(Drama, Thriller)               485\n",
       "(Horror, Thriller)              468\n",
       "(Drama,)                        462\n",
       "(Comedy,)                       347\n",
       "(Science Fiction, Thriller)     316\n",
       "(Comedy, Drama)                 294\n",
       "(Mystery, Thriller)             280\n",
       "(Comedy, Romance)               193\n",
       "(Documentary, Music)            189\n",
       "(Crime, Drama)                  182\n",
       "(Drama, Family)                 175\n",
       "(Horror,)                       171\n",
       "(Romance, Thriller)             165\n",
       "(Horror, Science Fiction)       161\n",
       "(Crime, Thriller)               156\n",
       "(Comedy, Family)                146\n",
       "(Animation, Family)             140\n",
       "(Music,)                        131\n",
       "(Comedy, Horror)                119\n",
       "(Family, Fantasy)               105\n",
       "(Action, Thriller)               96\n",
       "Name: popular_bigram2, dtype: int64"
      ]
     },
     "execution_count": 37,
     "metadata": {},
     "output_type": "execute_result"
    }
   ],
   "source": [
    "raw['popular_bigram2'] = raw['popular_bigram']\n",
    "for i in range(raw.shape[0]):\n",
    "    if raw.loc[i, 'popular_bigram'] in list(genre_big2['popular_bigram']):\n",
    "        raw.loc[i, 'popular_bigram2'] = 'Other'\n",
    "        \n",
    "genre_frequency = raw['popular_bigram2'].value_counts()\n",
    "genre_frequency"
   ]
  },
  {
   "cell_type": "code",
   "execution_count": 42,
   "metadata": {
    "collapsed": false
   },
   "outputs": [
    {
     "data": {
      "text/plain": [
       "4866"
      ]
     },
     "execution_count": 42,
     "metadata": {},
     "output_type": "execute_result"
    }
   ],
   "source": [
    "# Number of unique movies\n",
    "raw['overview'].nunique()"
   ]
  },
  {
   "cell_type": "code",
   "execution_count": 104,
   "metadata": {
    "collapsed": false
   },
   "outputs": [
    {
     "name": "stdout",
     "output_type": "stream",
     "text": [
      "(3324, 2)\n"
     ]
    },
    {
     "data": {
      "text/html": [
       "<div>\n",
       "<table border=\"1\" class=\"dataframe\">\n",
       "  <thead>\n",
       "    <tr style=\"text-align: right;\">\n",
       "      <th></th>\n",
       "      <th>popular_bigram2</th>\n",
       "      <th>overview</th>\n",
       "    </tr>\n",
       "  </thead>\n",
       "  <tbody>\n",
       "    <tr>\n",
       "      <th>0</th>\n",
       "      <td>(Documentary,)</td>\n",
       "      <td>Modern industrialization is no longer about st...</td>\n",
       "    </tr>\n",
       "    <tr>\n",
       "      <th>1</th>\n",
       "      <td>(Documentary,)</td>\n",
       "      <td>The documentary is an analysis of the fascinat...</td>\n",
       "    </tr>\n",
       "    <tr>\n",
       "      <th>3</th>\n",
       "      <td>(Drama, Thriller)</td>\n",
       "      <td>In Los Angeles a deadly plague called the 'Pan...</td>\n",
       "    </tr>\n",
       "    <tr>\n",
       "      <th>10</th>\n",
       "      <td>(Comedy, Romance)</td>\n",
       "      <td>When Apollo finds himself surrounded by friend...</td>\n",
       "    </tr>\n",
       "    <tr>\n",
       "      <th>13</th>\n",
       "      <td>(Music,)</td>\n",
       "      <td>The DVD release of the band's performance at M...</td>\n",
       "    </tr>\n",
       "  </tbody>\n",
       "</table>\n",
       "</div>"
      ],
      "text/plain": [
       "      popular_bigram2                                           overview\n",
       "0      (Documentary,)  Modern industrialization is no longer about st...\n",
       "1      (Documentary,)  The documentary is an analysis of the fascinat...\n",
       "3   (Drama, Thriller)  In Los Angeles a deadly plague called the 'Pan...\n",
       "10  (Comedy, Romance)  When Apollo finds himself surrounded by friend...\n",
       "13           (Music,)  The DVD release of the band's performance at M..."
      ]
     },
     "execution_count": 104,
     "metadata": {},
     "output_type": "execute_result"
    }
   ],
   "source": [
    "df = raw[(raw['popular_bigram2'] != 'Other') & (raw['overview'] != False)][['popular_bigram2', 'overview']].drop_duplicates().copy()\n",
    "print(df.shape)\n",
    "df.head()"
   ]
  },
  {
   "cell_type": "code",
   "execution_count": 31,
   "metadata": {
    "collapsed": false
   },
   "outputs": [
    {
     "name": "stdout",
     "output_type": "stream",
     "text": [
      "((9397, 2), (9397, 2))\n"
     ]
    },
    {
     "data": {
      "text/plain": [
       "Drama              1738\n",
       "Comedy             1203\n",
       "Documentary         905\n",
       "Thriller            851\n",
       "Action              675\n",
       "Horror              638\n",
       "Romance             516\n",
       "Crime               373\n",
       "Science Fiction     347\n",
       "Family              340\n",
       "Music               329\n",
       "Adventure           312\n",
       "Animation           266\n",
       "Mystery             204\n",
       "Fantasy             202\n",
       "TV Movie            162\n",
       "History             107\n",
       "Foreign              99\n",
       "War                  70\n",
       "Western              60\n",
       "Name: genre, dtype: int64"
      ]
     },
     "execution_count": 31,
     "metadata": {},
     "output_type": "execute_result"
    }
   ],
   "source": [
    "# # Downsampling drama and comedy movies\n",
    "# index_to_drop = df[(df['genre'] == 'Drama') | (df['genre'] == 'Comedy')].sample(frac = 0.0)\n",
    "\n",
    "# df2 = df.drop(index_to_drop.index).copy()\n",
    "# print(df.shape, df2.shape)\n",
    "# df2['genre'].value_counts()"
   ]
  },
  {
   "cell_type": "markdown",
   "metadata": {},
   "source": [
    "## Converting `overview` to word-frequency vectors\n",
    "For movie overviews, we turned these into word-frequency vectors. "
   ]
  },
  {
   "cell_type": "code",
   "execution_count": 105,
   "metadata": {
    "collapsed": false
   },
   "outputs": [],
   "source": [
    "# I realized that sometimes 'overview' was in my top words list; renaming it here 'protects' it\n",
    "df.rename(columns={'overview': 'movie_overview'}, inplace=True)\n",
    "\n",
    "stops = set(nltk.corpus.stopwords.words('english'))\n",
    "all_words_ever = []\n",
    "\n",
    "def add_cols_for_all_words(row):\n",
    "    if row['movie_overview'] is not None:\n",
    "        words = nltk.word_tokenize(row['movie_overview'])\n",
    "        words = [word.lower() for word in words if len(word) > 2 and unidecode(word.lower()) not in stops]\n",
    "        all_words_ever.extend(words)\n",
    "    return row\n",
    "\n",
    "def parse_words(row):\n",
    "    if row['movie_overview'] is not None:\n",
    "        words = nltk.word_tokenize(row['movie_overview'])\n",
    "        words = [word.lower() for word in words if word.lower() in top_words]\n",
    "        for word in words:\n",
    "            row[unidecode(word)] += 1        \n",
    "    return row"
   ]
  },
  {
   "cell_type": "code",
   "execution_count": 106,
   "metadata": {
    "collapsed": false
   },
   "outputs": [
    {
     "data": {
      "text/plain": [
       "(104581, 20804)"
      ]
     },
     "execution_count": 106,
     "metadata": {},
     "output_type": "execute_result"
    }
   ],
   "source": [
    "df = df.apply(lambda x: add_cols_for_all_words(x), axis = 1)\n",
    "len(all_words_ever), len(set(all_words_ever))"
   ]
  },
  {
   "cell_type": "markdown",
   "metadata": {},
   "source": [
    "## Fitting the model\n",
    "We have identified around 20,000 unique words that appear, globally, across all the movie summaries. We cannot use all 20,000 word vectors, as we would then have the \"curse of dimensionality\" - an incredibly sparse matrix. Instead, following the Dirichlet homework, we only selected the most frequently occurring words as columns. Since this was akin to a tuning parameter, we cross-validated to find the optimal number of word vectors to include."
   ]
  },
  {
   "cell_type": "code",
   "execution_count": 107,
   "metadata": {
    "collapsed": false
   },
   "outputs": [],
   "source": [
    "# Initialize model object\n",
    "clf = MultinomialNB()"
   ]
  },
  {
   "cell_type": "code",
   "execution_count": 109,
   "metadata": {
    "collapsed": false
   },
   "outputs": [
    {
     "name": "stdout",
     "output_type": "stream",
     "text": [
      "((3324, 100), (3324,))\n",
      "((3324, 400), (3324,))\n",
      "((3324, 700), (3324,))\n"
     ]
    },
    {
     "data": {
      "text/html": [
       "<div>\n",
       "<table border=\"1\" class=\"dataframe\">\n",
       "  <thead>\n",
       "    <tr style=\"text-align: right;\">\n",
       "      <th></th>\n",
       "      <th>average_score</th>\n",
       "      <th>top_word_count</th>\n",
       "    </tr>\n",
       "  </thead>\n",
       "  <tbody>\n",
       "    <tr>\n",
       "      <th>0</th>\n",
       "      <td>0.293384</td>\n",
       "      <td>100</td>\n",
       "    </tr>\n",
       "    <tr>\n",
       "      <th>1</th>\n",
       "      <td>0.319222</td>\n",
       "      <td>400</td>\n",
       "    </tr>\n",
       "    <tr>\n",
       "      <th>2</th>\n",
       "      <td>0.335198</td>\n",
       "      <td>700</td>\n",
       "    </tr>\n",
       "  </tbody>\n",
       "</table>\n",
       "</div>"
      ],
      "text/plain": [
       "   average_score  top_word_count\n",
       "0       0.293384             100\n",
       "1       0.319222             400\n",
       "2       0.335198             700"
      ]
     },
     "execution_count": 109,
     "metadata": {},
     "output_type": "execute_result"
    }
   ],
   "source": [
    "word_scores = []\n",
    "\n",
    "for top_word_count in range(100, 1000, 300):\n",
    "    top_words = [word[0] for word in Counter(all_words_ever).most_common(top_word_count)]\n",
    "    for word in top_words:\n",
    "        df[unidecode(word)] = 0\n",
    "\n",
    "    this_df = pd.DataFrame()\n",
    "    this_df = df.apply(lambda x: parse_words(x), axis = 1)\n",
    "\n",
    "    X = this_df[this_df.columns[-top_word_count:]]\n",
    "    y = this_df['popular_bigram2']\n",
    "    y = y.apply(lambda x: str(x))\n",
    "    print(X.shape, y.shape)\n",
    "\n",
    "    scores = cross_val_score(clf, X, y, cv=5)\n",
    "    word_scores.append({'top_word_count': top_word_count, 'average_score': scores.mean()})\n",
    "\n",
    "word_scores = pd.DataFrame(word_scores)\n",
    "word_scores.head()"
   ]
  },
  {
   "cell_type": "code",
   "execution_count": 110,
   "metadata": {
    "collapsed": false
   },
   "outputs": [
    {
     "data": {
      "image/png": "[encoded data removed]",
      "text/plain": [
       "<matplotlib.figure.Figure at 0x118fd3d50>"
      ]
     },
     "metadata": {},
     "output_type": "display_data"
    }
   ],
   "source": [
    "best_word_count = word_scores[word_scores['average_score'] == word_scores['average_score'].max()]['top_word_count'].item()\n",
    "\n",
    "plt.plot(word_scores['top_word_count'], word_scores['average_score'])\n",
    "plt.title('Optimal word count: {}'.format(best_word_count))\n",
    "plt.ylim([0,1])\n",
    "plt.show()"
   ]
  },
  {
   "cell_type": "markdown",
   "metadata": {},
   "source": [
    "<hr>\n",
    "\n",
    "### Confusion matrix\n",
    "Note: Validation set is completely unseen data."
   ]
  },
  {
   "cell_type": "code",
   "execution_count": 139,
   "metadata": {
    "collapsed": false
   },
   "outputs": [
    {
     "data": {
      "text/plain": [
       "(3324, 702)"
      ]
     },
     "execution_count": 139,
     "metadata": {},
     "output_type": "execute_result"
    }
   ],
   "source": [
    "best_df = df.apply(lambda x: parse_words(x), axis = 1)\n",
    "train = best_df.copy()\n",
    "train.shape"
   ]
  },
  {
   "cell_type": "code",
   "execution_count": 141,
   "metadata": {
    "collapsed": false
   },
   "outputs": [
    {
     "data": {
      "text/plain": [
       "(700,\n",
       " [u'life',\n",
       "  u'one',\n",
       "  u'new',\n",
       "  u'film',\n",
       "  u'world',\n",
       "  u'young',\n",
       "  u'two',\n",
       "  u'man',\n",
       "  u'story',\n",
       "  u'family'])"
      ]
     },
     "execution_count": 141,
     "metadata": {},
     "output_type": "execute_result"
    }
   ],
   "source": [
    "len(top_words), top_words[0:10]"
   ]
  },
  {
   "cell_type": "code",
   "execution_count": 142,
   "metadata": {
    "collapsed": false
   },
   "outputs": [
    {
     "name": "stdout",
     "output_type": "stream",
     "text": [
      "(1245, 702)\n"
     ]
    },
    {
     "data": {
      "text/html": [
       "<div>\n",
       "<table border=\"1\" class=\"dataframe\">\n",
       "  <thead>\n",
       "    <tr style=\"text-align: right;\">\n",
       "      <th></th>\n",
       "      <th>popular_bigram2</th>\n",
       "      <th>movie_overview</th>\n",
       "      <th>life</th>\n",
       "      <th>one</th>\n",
       "      <th>new</th>\n",
       "      <th>film</th>\n",
       "      <th>world</th>\n",
       "      <th>young</th>\n",
       "      <th>two</th>\n",
       "      <th>man</th>\n",
       "      <th>...</th>\n",
       "      <th>scientist</th>\n",
       "      <th>questions</th>\n",
       "      <th>mike</th>\n",
       "      <th>member</th>\n",
       "      <th>rare</th>\n",
       "      <th>professor</th>\n",
       "      <th>rich</th>\n",
       "      <th>innocent</th>\n",
       "      <th>complete</th>\n",
       "      <th>adam</th>\n",
       "    </tr>\n",
       "  </thead>\n",
       "  <tbody>\n",
       "    <tr>\n",
       "      <th>0</th>\n",
       "      <td>(Action, Thriller)</td>\n",
       "      <td>An elite Federal force whose objective is to e...</td>\n",
       "      <td>0</td>\n",
       "      <td>0</td>\n",
       "      <td>0</td>\n",
       "      <td>0</td>\n",
       "      <td>0</td>\n",
       "      <td>0</td>\n",
       "      <td>0</td>\n",
       "      <td>0</td>\n",
       "      <td>...</td>\n",
       "      <td>0</td>\n",
       "      <td>0</td>\n",
       "      <td>0</td>\n",
       "      <td>0</td>\n",
       "      <td>0</td>\n",
       "      <td>0</td>\n",
       "      <td>0</td>\n",
       "      <td>0</td>\n",
       "      <td>0</td>\n",
       "      <td>0</td>\n",
       "    </tr>\n",
       "    <tr>\n",
       "      <th>1</th>\n",
       "      <td>(Comedy, Family)</td>\n",
       "      <td>When the sky really is falling and sanity has ...</td>\n",
       "      <td>0</td>\n",
       "      <td>0</td>\n",
       "      <td>0</td>\n",
       "      <td>0</td>\n",
       "      <td>1</td>\n",
       "      <td>0</td>\n",
       "      <td>0</td>\n",
       "      <td>0</td>\n",
       "      <td>...</td>\n",
       "      <td>0</td>\n",
       "      <td>0</td>\n",
       "      <td>0</td>\n",
       "      <td>0</td>\n",
       "      <td>0</td>\n",
       "      <td>0</td>\n",
       "      <td>0</td>\n",
       "      <td>0</td>\n",
       "      <td>0</td>\n",
       "      <td>0</td>\n",
       "    </tr>\n",
       "    <tr>\n",
       "      <th>3</th>\n",
       "      <td>(Drama, Romance)</td>\n",
       "      <td>A witty, romantic, and very dangerous love sto...</td>\n",
       "      <td>0</td>\n",
       "      <td>0</td>\n",
       "      <td>0</td>\n",
       "      <td>0</td>\n",
       "      <td>0</td>\n",
       "      <td>0</td>\n",
       "      <td>1</td>\n",
       "      <td>0</td>\n",
       "      <td>...</td>\n",
       "      <td>0</td>\n",
       "      <td>0</td>\n",
       "      <td>0</td>\n",
       "      <td>0</td>\n",
       "      <td>0</td>\n",
       "      <td>0</td>\n",
       "      <td>0</td>\n",
       "      <td>0</td>\n",
       "      <td>0</td>\n",
       "      <td>0</td>\n",
       "    </tr>\n",
       "    <tr>\n",
       "      <th>4</th>\n",
       "      <td>(Documentary,)</td>\n",
       "      <td>When Montana couple Bruce Weide and Pat Tucker...</td>\n",
       "      <td>0</td>\n",
       "      <td>0</td>\n",
       "      <td>1</td>\n",
       "      <td>0</td>\n",
       "      <td>0</td>\n",
       "      <td>0</td>\n",
       "      <td>0</td>\n",
       "      <td>1</td>\n",
       "      <td>...</td>\n",
       "      <td>0</td>\n",
       "      <td>0</td>\n",
       "      <td>0</td>\n",
       "      <td>0</td>\n",
       "      <td>0</td>\n",
       "      <td>0</td>\n",
       "      <td>0</td>\n",
       "      <td>0</td>\n",
       "      <td>0</td>\n",
       "      <td>0</td>\n",
       "    </tr>\n",
       "    <tr>\n",
       "      <th>5</th>\n",
       "      <td>(Action, Thriller)</td>\n",
       "      <td>A sheriff (C. Thomas Howell) tries to save uns...</td>\n",
       "      <td>0</td>\n",
       "      <td>0</td>\n",
       "      <td>0</td>\n",
       "      <td>0</td>\n",
       "      <td>0</td>\n",
       "      <td>1</td>\n",
       "      <td>0</td>\n",
       "      <td>0</td>\n",
       "      <td>...</td>\n",
       "      <td>0</td>\n",
       "      <td>0</td>\n",
       "      <td>0</td>\n",
       "      <td>0</td>\n",
       "      <td>0</td>\n",
       "      <td>0</td>\n",
       "      <td>0</td>\n",
       "      <td>0</td>\n",
       "      <td>0</td>\n",
       "      <td>0</td>\n",
       "    </tr>\n",
       "  </tbody>\n",
       "</table>\n",
       "<p>5 rows × 702 columns</p>\n",
       "</div>"
      ],
      "text/plain": [
       "      popular_bigram2                                     movie_overview  \\\n",
       "0  (Action, Thriller)  An elite Federal force whose objective is to e...   \n",
       "1    (Comedy, Family)  When the sky really is falling and sanity has ...   \n",
       "3    (Drama, Romance)  A witty, romantic, and very dangerous love sto...   \n",
       "4      (Documentary,)  When Montana couple Bruce Weide and Pat Tucker...   \n",
       "5  (Action, Thriller)  A sheriff (C. Thomas Howell) tries to save uns...   \n",
       "\n",
       "   life  one  new  film  world  young  two  man  ...   scientist  questions  \\\n",
       "0     0    0    0     0      0      0    0    0  ...           0          0   \n",
       "1     0    0    0     0      1      0    0    0  ...           0          0   \n",
       "3     0    0    0     0      0      0    1    0  ...           0          0   \n",
       "4     0    0    1     0      0      0    0    1  ...           0          0   \n",
       "5     0    0    0     0      0      1    0    0  ...           0          0   \n",
       "\n",
       "   mike  member  rare  professor  rich  innocent  complete  adam  \n",
       "0     0       0     0          0     0         0         0     0  \n",
       "1     0       0     0          0     0         0         0     0  \n",
       "3     0       0     0          0     0         0         0     0  \n",
       "4     0       0     0          0     0         0         0     0  \n",
       "5     0       0     0          0     0         0         0     0  \n",
       "\n",
       "[5 rows x 702 columns]"
      ]
     },
     "execution_count": 142,
     "metadata": {},
     "output_type": "execute_result"
    }
   ],
   "source": [
    "test = pd.read_json('https://s3.amazonaws.com/cs109b-data/testing_4-29.json')\n",
    "\n",
    "# Genre bigrams\n",
    "test = test.apply(lambda x: genre_lists(x), axis = 1)\n",
    "test['genre_bigrams'] = test.apply(lambda x: bigrams(x), axis = 1)\n",
    "test['popular_bigram'] = np.nan\n",
    "test = test.apply(lambda x: popular_bigram(x), axis = 1)\n",
    "test['popular_bigram2'] = test['popular_bigram']\n",
    "for i in range(test.shape[0]):\n",
    "    if test.loc[i, 'popular_bigram'] in list(genre_big2['popular_bigram']):\n",
    "        test.loc[i, 'popular_bigram2'] = 'Other'\n",
    "test2 = test[(test['popular_bigram2'] != 'Other') & (test['overview'] != False)][['popular_bigram2', 'overview']].drop_duplicates().copy()\n",
    "\n",
    "# NLP\n",
    "test2.rename(columns = {'overview': 'movie_overview'}, inplace=True)\n",
    "\n",
    "for word in top_words:\n",
    "    test2[unidecode(word)] =  0\n",
    "\n",
    "# test2 = test2.apply(lambda x: add_cols_for_all_words(x), axis = 1)\n",
    "test2 = test2.apply(lambda x: parse_words(x), axis = 1)\n",
    "print(test2.shape)\n",
    "test2.head()"
   ]
  },
  {
   "cell_type": "code",
   "execution_count": 143,
   "metadata": {
    "collapsed": false
   },
   "outputs": [
    {
     "data": {
      "text/plain": [
       "((3324, 700), (1245, 700))"
      ]
     },
     "execution_count": 143,
     "metadata": {},
     "output_type": "execute_result"
    }
   ],
   "source": [
    "X_train = train[train.columns[-best_word_count:]]\n",
    "X_test = test2[test2.columns[-best_word_count:]]\n",
    "y_train = train['popular_bigram2'].apply(lambda x: str(x))\n",
    "y_test = test2['popular_bigram2'].apply(lambda x: str(x))\n",
    "X_train.shape, X_test.shape"
   ]
  },
  {
   "cell_type": "code",
   "execution_count": 144,
   "metadata": {
    "collapsed": false
   },
   "outputs": [],
   "source": [
    "fitted = clf.fit(X_train, y_train)\n",
    "y_pred = clf.predict(X_test)\n",
    "score = fitted.score(X_test, y_test)\n",
    "cm = confusion_matrix(y_test, y_pred, labels = y_test.unique())"
   ]
  },
  {
   "cell_type": "code",
   "execution_count": 145,
   "metadata": {
    "collapsed": false
   },
   "outputs": [
    {
     "data": {
      "image/png": "[encoded data removed]",
      "text/plain": [
       "<matplotlib.figure.Figure at 0x119a30a10>"
      ]
     },
     "metadata": {},
     "output_type": "display_data"
    }
   ],
   "source": [
    "plt.imshow(cm, interpolation='nearest', cmap=plt.cm.Blues)\n",
    "tick_marks = np.arange(y_test.nunique())\n",
    "plt.xticks(tick_marks, y_test.unique(), rotation=90)\n",
    "plt.yticks(tick_marks, y_test.unique())\n",
    "plt.xlabel('Predicted label')\n",
    "plt.ylabel('True label')\n",
    "plt.title('Confusion matrix: Naive Bayes genre prediction ({:.0f}% accuracy)'.format(score*100))\n",
    "plt.show()"
   ]
  },
  {
   "cell_type": "code",
   "execution_count": null,
   "metadata": {
    "collapsed": true
   },
   "outputs": [],
   "source": []
  },
  {
   "cell_type": "code",
   "execution_count": null,
   "metadata": {
    "collapsed": true
   },
   "outputs": [],
   "source": []
  }
 ],
 "metadata": {
  "kernelspec": {
   "display_name": "Python 2",
   "language": "python",
   "name": "python2"
  },
  "language_info": {
   "codemirror_mode": {
    "name": "ipython",
    "version": 2
   },
   "file_extension": ".py",
   "mimetype": "text/x-python",
   "name": "python",
   "nbconvert_exporter": "python",
   "pygments_lexer": "ipython2",
   "version": "2.7.10"
  }
 },
 "nbformat": 4,
 "nbformat_minor": 2
}
