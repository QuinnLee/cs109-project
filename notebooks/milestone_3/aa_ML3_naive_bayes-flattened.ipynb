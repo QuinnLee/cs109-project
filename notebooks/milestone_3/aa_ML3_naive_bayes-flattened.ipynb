{
 "cells": [
  {
   "cell_type": "markdown",
   "metadata": {},
   "source": [
    "# Milestone 3: Text analysis\n",
    "The hypothesis behind this model was that the textual information about movies would be predictive of the genres. In order to model this, we used a Dirichlet multinomial Bayesian model. "
   ]
  },
  {
   "cell_type": "code",
   "execution_count": 1,
   "metadata": {
    "collapsed": false
   },
   "outputs": [
    {
     "name": "stderr",
     "output_type": "stream",
     "text": [
      "/usr/local/lib/python2.7/site-packages/matplotlib/font_manager.py:273: UserWarning: Matplotlib is building the font cache using fc-list. This may take a moment.\n",
      "  warnings.warn('Matplotlib is building the font cache using fc-list. This may take a moment.')\n"
     ]
    }
   ],
   "source": [
    "%matplotlib inline\n",
    "\n",
    "import os\n",
    "import nltk\n",
    "import random\n",
    "import itertools\n",
    "import numpy as np\n",
    "import pandas as pd\n",
    "from collections import Counter\n",
    "from unidecode import unidecode\n",
    "from nltk.corpus import stopwords\n",
    "from collections import OrderedDict\n",
    "from matplotlib import pyplot as plt\n",
    "from sklearn.metrics import confusion_matrix\n",
    "from sklearn.naive_bayes import MultinomialNB\n",
    "from sklearn.model_selection import cross_val_score\n",
    "\n",
    "plt.style.use('ggplot')\n",
    "random.seed(42)"
   ]
  },
  {
   "cell_type": "markdown",
   "metadata": {},
   "source": [
    "## Grabbing the data\n",
    "For now, we have a total sample of around 50,000 movies. For this model, however, we worked with a random sample of 5,000 films. We also only looked at the textual data (`overview` and `reviews`) and the list of genres (`genres`). "
   ]
  },
  {
   "cell_type": "code",
   "execution_count": 2,
   "metadata": {
    "collapsed": false
   },
   "outputs": [
    {
     "name": "stdout",
     "output_type": "stream",
     "text": [
      "(9549, 32)\n",
      "(9549, 3)\n"
     ]
    },
    {
     "data": {
      "text/html": [
       "<div>\n",
       "<table border=\"1\" class=\"dataframe\">\n",
       "  <thead>\n",
       "    <tr style=\"text-align: right;\">\n",
       "      <th></th>\n",
       "      <th>genres</th>\n",
       "      <th>reviews</th>\n",
       "      <th>overview</th>\n",
       "    </tr>\n",
       "  </thead>\n",
       "  <tbody>\n",
       "    <tr>\n",
       "      <th>0</th>\n",
       "      <td>[{u'name': u'Documentary', u'id': 99}]</td>\n",
       "      <td>[]</td>\n",
       "      <td>Modern industrialization is no longer about st...</td>\n",
       "    </tr>\n",
       "    <tr>\n",
       "      <th>1</th>\n",
       "      <td>[{u'id': 99, u'name': u'Documentary'}]</td>\n",
       "      <td>[]</td>\n",
       "      <td>The documentary is an analysis of the fascinat...</td>\n",
       "    </tr>\n",
       "    <tr>\n",
       "      <th>2</th>\n",
       "      <td>[{u'id': 28, u'name': u'Action'}]</td>\n",
       "      <td>[]</td>\n",
       "      <td>A good-natured kung fu kid gets caught up in c...</td>\n",
       "    </tr>\n",
       "    <tr>\n",
       "      <th>3</th>\n",
       "      <td>[{u'id': 28, u'name': u'Action'}, {u'id': 18, ...</td>\n",
       "      <td>[]</td>\n",
       "      <td>In Los Angeles a deadly plague called the 'Pan...</td>\n",
       "    </tr>\n",
       "    <tr>\n",
       "      <th>4</th>\n",
       "      <td>[{u'id': 28, u'name': u'Action'}, {u'id': 18, ...</td>\n",
       "      <td>[]</td>\n",
       "      <td>In Los Angeles a deadly plague called the 'Pan...</td>\n",
       "    </tr>\n",
       "  </tbody>\n",
       "</table>\n",
       "</div>"
      ],
      "text/plain": [
       "                                              genres reviews  \\\n",
       "0             [{u'name': u'Documentary', u'id': 99}]      []   \n",
       "1             [{u'id': 99, u'name': u'Documentary'}]      []   \n",
       "2                  [{u'id': 28, u'name': u'Action'}]      []   \n",
       "3  [{u'id': 28, u'name': u'Action'}, {u'id': 18, ...      []   \n",
       "4  [{u'id': 28, u'name': u'Action'}, {u'id': 18, ...      []   \n",
       "\n",
       "                                            overview  \n",
       "0  Modern industrialization is no longer about st...  \n",
       "1  The documentary is an analysis of the fascinat...  \n",
       "2  A good-natured kung fu kid gets caught up in c...  \n",
       "3  In Los Angeles a deadly plague called the 'Pan...  \n",
       "4  In Los Angeles a deadly plague called the 'Pan...  "
      ]
     },
     "execution_count": 2,
     "metadata": {},
     "output_type": "execute_result"
    }
   ],
   "source": [
    "raw = pd.read_json('../../data/themoviedb-sample-4-17-2017.json')\n",
    "print(raw.shape)\n",
    "\n",
    "# Keeping only genres, overviews, and reviews\n",
    "raw = raw[['genres', 'reviews', 'overview']].copy()\n",
    "print(raw.shape)\n",
    "raw.head()"
   ]
  },
  {
   "cell_type": "markdown",
   "metadata": {},
   "source": [
    "## Determining $y$: Flattening `genres` into `genre`"
   ]
  },
  {
   "cell_type": "code",
   "execution_count": 3,
   "metadata": {
    "collapsed": false
   },
   "outputs": [
    {
     "data": {
      "text/html": [
       "<div>\n",
       "<table border=\"1\" class=\"dataframe\">\n",
       "  <thead>\n",
       "    <tr style=\"text-align: right;\">\n",
       "      <th></th>\n",
       "      <th>genres</th>\n",
       "      <th>reviews</th>\n",
       "      <th>overview</th>\n",
       "      <th>genre_lists</th>\n",
       "    </tr>\n",
       "  </thead>\n",
       "  <tbody>\n",
       "    <tr>\n",
       "      <th>0</th>\n",
       "      <td>[{u'name': u'Documentary', u'id': 99}]</td>\n",
       "      <td>[]</td>\n",
       "      <td>Modern industrialization is no longer about st...</td>\n",
       "      <td>[Documentary]</td>\n",
       "    </tr>\n",
       "    <tr>\n",
       "      <th>1</th>\n",
       "      <td>[{u'id': 99, u'name': u'Documentary'}]</td>\n",
       "      <td>[]</td>\n",
       "      <td>The documentary is an analysis of the fascinat...</td>\n",
       "      <td>[Documentary]</td>\n",
       "    </tr>\n",
       "    <tr>\n",
       "      <th>2</th>\n",
       "      <td>[{u'id': 28, u'name': u'Action'}]</td>\n",
       "      <td>[]</td>\n",
       "      <td>A good-natured kung fu kid gets caught up in c...</td>\n",
       "      <td>[Action]</td>\n",
       "    </tr>\n",
       "    <tr>\n",
       "      <th>3</th>\n",
       "      <td>[{u'id': 28, u'name': u'Action'}, {u'id': 18, ...</td>\n",
       "      <td>[]</td>\n",
       "      <td>In Los Angeles a deadly plague called the 'Pan...</td>\n",
       "      <td>[Action, Drama, Thriller]</td>\n",
       "    </tr>\n",
       "    <tr>\n",
       "      <th>4</th>\n",
       "      <td>[{u'id': 28, u'name': u'Action'}, {u'id': 18, ...</td>\n",
       "      <td>[]</td>\n",
       "      <td>In Los Angeles a deadly plague called the 'Pan...</td>\n",
       "      <td>[Action, Drama, Thriller]</td>\n",
       "    </tr>\n",
       "  </tbody>\n",
       "</table>\n",
       "</div>"
      ],
      "text/plain": [
       "                                              genres reviews  \\\n",
       "0             [{u'name': u'Documentary', u'id': 99}]      []   \n",
       "1             [{u'id': 99, u'name': u'Documentary'}]      []   \n",
       "2                  [{u'id': 28, u'name': u'Action'}]      []   \n",
       "3  [{u'id': 28, u'name': u'Action'}, {u'id': 18, ...      []   \n",
       "4  [{u'id': 28, u'name': u'Action'}, {u'id': 18, ...      []   \n",
       "\n",
       "                                            overview  \\\n",
       "0  Modern industrialization is no longer about st...   \n",
       "1  The documentary is an analysis of the fascinat...   \n",
       "2  A good-natured kung fu kid gets caught up in c...   \n",
       "3  In Los Angeles a deadly plague called the 'Pan...   \n",
       "4  In Los Angeles a deadly plague called the 'Pan...   \n",
       "\n",
       "                 genre_lists  \n",
       "0              [Documentary]  \n",
       "1              [Documentary]  \n",
       "2                   [Action]  \n",
       "3  [Action, Drama, Thriller]  \n",
       "4  [Action, Drama, Thriller]  "
      ]
     },
     "execution_count": 3,
     "metadata": {},
     "output_type": "execute_result"
    }
   ],
   "source": [
    "raw['genre_lists'] = raw.apply(lambda x: [y['name'] for y in x['genres']], axis = 1)\n",
    "raw.head()"
   ]
  },
  {
   "cell_type": "code",
   "execution_count": 4,
   "metadata": {
    "collapsed": false
   },
   "outputs": [
    {
     "name": "stdout",
     "output_type": "stream",
     "text": [
      "(9425, 2)\n"
     ]
    },
    {
     "data": {
      "text/html": [
       "<div>\n",
       "<table border=\"1\" class=\"dataframe\">\n",
       "  <thead>\n",
       "    <tr style=\"text-align: right;\">\n",
       "      <th></th>\n",
       "      <th>overview</th>\n",
       "      <th>genre</th>\n",
       "    </tr>\n",
       "  </thead>\n",
       "  <tbody>\n",
       "    <tr>\n",
       "      <th>0</th>\n",
       "      <td>Modern industrialization is no longer about st...</td>\n",
       "      <td>Documentary</td>\n",
       "    </tr>\n",
       "    <tr>\n",
       "      <th>1</th>\n",
       "      <td>The documentary is an analysis of the fascinat...</td>\n",
       "      <td>Documentary</td>\n",
       "    </tr>\n",
       "    <tr>\n",
       "      <th>2</th>\n",
       "      <td>A good-natured kung fu kid gets caught up in c...</td>\n",
       "      <td>Action</td>\n",
       "    </tr>\n",
       "    <tr>\n",
       "      <th>3</th>\n",
       "      <td>In Los Angeles a deadly plague called the 'Pan...</td>\n",
       "      <td>Action</td>\n",
       "    </tr>\n",
       "    <tr>\n",
       "      <th>4</th>\n",
       "      <td>In Los Angeles a deadly plague called the 'Pan...</td>\n",
       "      <td>Drama</td>\n",
       "    </tr>\n",
       "  </tbody>\n",
       "</table>\n",
       "</div>"
      ],
      "text/plain": [
       "                                            overview        genre\n",
       "0  Modern industrialization is no longer about st...  Documentary\n",
       "1  The documentary is an analysis of the fascinat...  Documentary\n",
       "2  A good-natured kung fu kid gets caught up in c...       Action\n",
       "3  In Los Angeles a deadly plague called the 'Pan...       Action\n",
       "4  In Los Angeles a deadly plague called the 'Pan...        Drama"
      ]
     },
     "execution_count": 4,
     "metadata": {},
     "output_type": "execute_result"
    }
   ],
   "source": [
    "df = raw.set_index(['overview']).apply(lambda x: pd.Series(x['genre_lists']), axis=1).stack().reset_index().drop_duplicates()[['overview',0]]\n",
    "df.rename(columns = {0: 'genre'}, inplace = True)\n",
    "print(df.shape)\n",
    "df.head()"
   ]
  },
  {
   "cell_type": "code",
   "execution_count": 5,
   "metadata": {
    "collapsed": false
   },
   "outputs": [
    {
     "data": {
      "text/plain": [
       "Drama              1741\n",
       "Comedy             1204\n",
       "Documentary         907\n",
       "Thriller            854\n",
       "Action              675\n",
       "Horror              640\n",
       "Romance             518\n",
       "Crime               375\n",
       "Science Fiction     347\n",
       "Family              341\n",
       "Music               331\n",
       "Adventure           313\n",
       "Animation           268\n",
       "Mystery             206\n",
       "Fantasy             203\n",
       "TV Movie            163\n",
       "History             109\n",
       "Foreign              99\n",
       "War                  70\n",
       "Western              61\n",
       "Name: genre, dtype: int64"
      ]
     },
     "execution_count": 5,
     "metadata": {},
     "output_type": "execute_result"
    }
   ],
   "source": [
    "df['genre'].value_counts()"
   ]
  },
  {
   "cell_type": "code",
   "execution_count": 6,
   "metadata": {
    "collapsed": false
   },
   "outputs": [
    {
     "name": "stdout",
     "output_type": "stream",
     "text": [
      "(9397, 2)\n"
     ]
    },
    {
     "data": {
      "text/html": [
       "<div>\n",
       "<table border=\"1\" class=\"dataframe\">\n",
       "  <thead>\n",
       "    <tr style=\"text-align: right;\">\n",
       "      <th></th>\n",
       "      <th>overview</th>\n",
       "      <th>genre</th>\n",
       "    </tr>\n",
       "  </thead>\n",
       "  <tbody>\n",
       "    <tr>\n",
       "      <th>0</th>\n",
       "      <td>Modern industrialization is no longer about st...</td>\n",
       "      <td>Documentary</td>\n",
       "    </tr>\n",
       "    <tr>\n",
       "      <th>1</th>\n",
       "      <td>The documentary is an analysis of the fascinat...</td>\n",
       "      <td>Documentary</td>\n",
       "    </tr>\n",
       "    <tr>\n",
       "      <th>2</th>\n",
       "      <td>A good-natured kung fu kid gets caught up in c...</td>\n",
       "      <td>Action</td>\n",
       "    </tr>\n",
       "    <tr>\n",
       "      <th>3</th>\n",
       "      <td>In Los Angeles a deadly plague called the 'Pan...</td>\n",
       "      <td>Action</td>\n",
       "    </tr>\n",
       "    <tr>\n",
       "      <th>4</th>\n",
       "      <td>In Los Angeles a deadly plague called the 'Pan...</td>\n",
       "      <td>Drama</td>\n",
       "    </tr>\n",
       "  </tbody>\n",
       "</table>\n",
       "</div>"
      ],
      "text/plain": [
       "                                            overview        genre\n",
       "0  Modern industrialization is no longer about st...  Documentary\n",
       "1  The documentary is an analysis of the fascinat...  Documentary\n",
       "2  A good-natured kung fu kid gets caught up in c...       Action\n",
       "3  In Los Angeles a deadly plague called the 'Pan...       Action\n",
       "4  In Los Angeles a deadly plague called the 'Pan...        Drama"
      ]
     },
     "execution_count": 6,
     "metadata": {},
     "output_type": "execute_result"
    }
   ],
   "source": [
    "df.dropna(inplace = True)\n",
    "print(df.shape)\n",
    "df.head()"
   ]
  },
  {
   "cell_type": "code",
   "execution_count": 7,
   "metadata": {
    "collapsed": false
   },
   "outputs": [
    {
     "data": {
      "text/plain": [
       "4865"
      ]
     },
     "execution_count": 7,
     "metadata": {},
     "output_type": "execute_result"
    }
   ],
   "source": [
    "# Number of unique movies\n",
    "df['overview'].nunique()"
   ]
  },
  {
   "cell_type": "code",
   "execution_count": 31,
   "metadata": {
    "collapsed": false
   },
   "outputs": [
    {
     "name": "stdout",
     "output_type": "stream",
     "text": [
      "((9397, 2), (9397, 2))\n"
     ]
    },
    {
     "data": {
      "text/plain": [
       "Drama              1738\n",
       "Comedy             1203\n",
       "Documentary         905\n",
       "Thriller            851\n",
       "Action              675\n",
       "Horror              638\n",
       "Romance             516\n",
       "Crime               373\n",
       "Science Fiction     347\n",
       "Family              340\n",
       "Music               329\n",
       "Adventure           312\n",
       "Animation           266\n",
       "Mystery             204\n",
       "Fantasy             202\n",
       "TV Movie            162\n",
       "History             107\n",
       "Foreign              99\n",
       "War                  70\n",
       "Western              60\n",
       "Name: genre, dtype: int64"
      ]
     },
     "execution_count": 31,
     "metadata": {},
     "output_type": "execute_result"
    }
   ],
   "source": [
    "# Downsampling drama and comedy movies\n",
    "index_to_drop = df[(df['genre'] == 'Drama') | (df['genre'] == 'Comedy')].sample(frac = 0.0)\n",
    "\n",
    "df2 = df.drop(index_to_drop.index).copy()\n",
    "print(df.shape, df2.shape)\n",
    "df2['genre'].value_counts()"
   ]
  },
  {
   "cell_type": "markdown",
   "metadata": {},
   "source": [
    "## Converting `overview` to word-frequency vectors\n",
    "For movie overviews, we turned these into word-frequency vectors. "
   ]
  },
  {
   "cell_type": "code",
   "execution_count": 32,
   "metadata": {
    "collapsed": true
   },
   "outputs": [],
   "source": [
    "# I realized that sometimes 'overview' was in my top words list; renaming it here 'protects' it\n",
    "df2.rename(columns={'overview': 'movie_overview'}, inplace=True)\n",
    "\n",
    "stops = set(nltk.corpus.stopwords.words('english'))\n",
    "all_words_ever = []\n",
    "\n",
    "def add_cols_for_all_words(row):\n",
    "    if row['movie_overview'] is not None:\n",
    "        words = nltk.word_tokenize(row['movie_overview'])\n",
    "        words = [word.lower() for word in words if len(word) > 2 and unidecode(word.lower()) not in stops]\n",
    "        all_words_ever.extend(words)\n",
    "    return row\n",
    "\n",
    "def parse_words(row):\n",
    "    if row['movie_overview'] is not None:\n",
    "        words = nltk.word_tokenize(row['movie_overview'])\n",
    "        words = [word.lower() for word in words if word.lower() in top_words]\n",
    "        for word in words:\n",
    "            row[unidecode(word)] += 1        \n",
    "    return row"
   ]
  },
  {
   "cell_type": "code",
   "execution_count": 33,
   "metadata": {
    "collapsed": false
   },
   "outputs": [
    {
     "data": {
      "text/plain": [
       "(291920, 25820)"
      ]
     },
     "execution_count": 33,
     "metadata": {},
     "output_type": "execute_result"
    }
   ],
   "source": [
    "df2 = df2.apply(lambda x: add_cols_for_all_words(x), axis = 1)\n",
    "len(all_words_ever), len(set(all_words_ever))"
   ]
  },
  {
   "cell_type": "markdown",
   "metadata": {},
   "source": [
    "## Fitting the model\n",
    "We have identified around 24,000 unique words that appear, globally, across all the movie summaries. We cannot use all 24,000 word vectors, as we would then have the \"curse of dimensionality\" - an incredibly sparse matrix. Instead, following the Dirichlet homework, we only selected the most frequently occurring words as columns. Since this was akin to a tuning parameter, we cross-validated to find the optimal number of word vectors to include."
   ]
  },
  {
   "cell_type": "code",
   "execution_count": 34,
   "metadata": {
    "collapsed": false
   },
   "outputs": [
    {
     "data": {
      "text/plain": [
       "array([ 0.18495264,  0.12801958,  0.09630733,  0.09056082,  0.07183144,\n",
       "        0.06789401,  0.05491114,  0.03969352,  0.03692668,  0.03618176,\n",
       "        0.03501117,  0.03320209,  0.02830691,  0.02170906,  0.02149622,\n",
       "        0.01723954,  0.01138661,  0.01053528,  0.00744919,  0.00638502])"
      ]
     },
     "execution_count": 34,
     "metadata": {},
     "output_type": "execute_result"
    }
   ],
   "source": [
    "priors = df2['genre'].value_counts() / len(df2['genre'])\n",
    "priors.values"
   ]
  },
  {
   "cell_type": "code",
   "execution_count": 35,
   "metadata": {
    "collapsed": false
   },
   "outputs": [],
   "source": [
    "# Initialize model object\n",
    "clf = MultinomialNB()"
   ]
  },
  {
   "cell_type": "code",
   "execution_count": 36,
   "metadata": {
    "collapsed": false
   },
   "outputs": [
    {
     "name": "stdout",
     "output_type": "stream",
     "text": [
      "((9397, 100), (9397,))\n",
      "((9397, 400), (9397,))\n",
      "((9397, 700), (9397,))\n"
     ]
    },
    {
     "data": {
      "text/html": [
       "<div>\n",
       "<table border=\"1\" class=\"dataframe\">\n",
       "  <thead>\n",
       "    <tr style=\"text-align: right;\">\n",
       "      <th></th>\n",
       "      <th>average_score</th>\n",
       "      <th>top_word_count</th>\n",
       "    </tr>\n",
       "  </thead>\n",
       "  <tbody>\n",
       "    <tr>\n",
       "      <th>0</th>\n",
       "      <td>0.239235</td>\n",
       "      <td>100</td>\n",
       "    </tr>\n",
       "    <tr>\n",
       "      <th>1</th>\n",
       "      <td>0.267749</td>\n",
       "      <td>400</td>\n",
       "    </tr>\n",
       "    <tr>\n",
       "      <th>2</th>\n",
       "      <td>0.277868</td>\n",
       "      <td>700</td>\n",
       "    </tr>\n",
       "  </tbody>\n",
       "</table>\n",
       "</div>"
      ],
      "text/plain": [
       "   average_score  top_word_count\n",
       "0       0.239235             100\n",
       "1       0.267749             400\n",
       "2       0.277868             700"
      ]
     },
     "execution_count": 36,
     "metadata": {},
     "output_type": "execute_result"
    }
   ],
   "source": [
    "word_scores = []\n",
    "\n",
    "for top_word_count in range(100, 1000, 300):\n",
    "    top_words = [word[0] for word in Counter(all_words_ever).most_common(top_word_count)]\n",
    "    for word in top_words:\n",
    "        df2[unidecode(word)] = 0\n",
    "\n",
    "    this_df = pd.DataFrame()\n",
    "    this_df = df2.apply(lambda x: parse_words(x), axis = 1)\n",
    "\n",
    "    X = this_df[this_df.columns[-top_word_count:]]\n",
    "    y = this_df['genre']\n",
    "    y = y.apply(lambda x: str(x))\n",
    "    print(X.shape, y.shape)\n",
    "\n",
    "    scores = cross_val_score(clf, X, y, cv=5)\n",
    "    word_scores.append({'top_word_count': top_word_count, 'average_score': scores.mean()})\n",
    "\n",
    "word_scores = pd.DataFrame(word_scores)\n",
    "word_scores.head()"
   ]
  },
  {
   "cell_type": "code",
   "execution_count": 37,
   "metadata": {
    "collapsed": false
   },
   "outputs": [
    {
     "data": {
      "image/png": "[encoded data removed]",
      "text/plain": [
       "<matplotlib.figure.Figure at 0x1212bc4d0>"
      ]
     },
     "metadata": {},
     "output_type": "display_data"
    }
   ],
   "source": [
    "best_word_count = word_scores[word_scores['average_score'] == word_scores['average_score'].max()]['top_word_count'].item()\n",
    "\n",
    "plt.plot(word_scores['top_word_count'], word_scores['average_score'])\n",
    "plt.title('Optimal word count: {}'.format(best_word_count))\n",
    "plt.ylim([0,1])\n",
    "plt.show()"
   ]
  },
  {
   "cell_type": "markdown",
   "metadata": {},
   "source": [
    "<hr>\n",
    "\n",
    "### Confusion matrix"
   ]
  },
  {
   "cell_type": "code",
   "execution_count": 38,
   "metadata": {
    "collapsed": false
   },
   "outputs": [
    {
     "data": {
      "text/plain": [
       "((7518, 702), (1879, 702))"
      ]
     },
     "execution_count": 38,
     "metadata": {},
     "output_type": "execute_result"
    }
   ],
   "source": [
    "best_df = df2.apply(lambda x: parse_words(x), axis = 1)\n",
    "\n",
    "train = best_df.sample(frac = 0.8)\n",
    "test = best_df.drop(train.index)\n",
    "train.shape, test.shape"
   ]
  },
  {
   "cell_type": "code",
   "execution_count": 39,
   "metadata": {
    "collapsed": false
   },
   "outputs": [
    {
     "data": {
      "text/plain": [
       "((7518, 700), (1879, 700))"
      ]
     },
     "execution_count": 39,
     "metadata": {},
     "output_type": "execute_result"
    }
   ],
   "source": [
    "X_train = train[train.columns[-best_word_count:]]\n",
    "X_test = test[test.columns[-best_word_count:]]\n",
    "y_train = train['genre']\n",
    "y_test = test['genre']\n",
    "X_train.shape, X_test.shape"
   ]
  },
  {
   "cell_type": "code",
   "execution_count": 40,
   "metadata": {
    "collapsed": false
   },
   "outputs": [],
   "source": [
    "fitted = clf.fit(X_train, y_train)\n",
    "y_pred = clf.predict(X_test)\n",
    "score = fitted.score(X_test, y_test)\n",
    "cm = confusion_matrix(y_test, y_pred, labels = y_test.unique())"
   ]
  },
  {
   "cell_type": "code",
   "execution_count": 41,
   "metadata": {
    "collapsed": false
   },
   "outputs": [
    {
     "data": {
      "image/png": "[encoded data removed]",
      "text/plain": [
       "<matplotlib.figure.Figure at 0x126f9a190>"
      ]
     },
     "metadata": {},
     "output_type": "display_data"
    }
   ],
   "source": [
    "plt.imshow(cm, interpolation='nearest', cmap=plt.cm.Blues)\n",
    "tick_marks = np.arange(y_test.nunique())\n",
    "plt.xticks(tick_marks, y_test.unique(), rotation=90)\n",
    "plt.yticks(tick_marks, y_test.unique())\n",
    "plt.xlabel('Predicted label')\n",
    "plt.ylabel('True label')\n",
    "plt.title('Confusion matrix: Naive Bayes genre prediction ({:.0f}% accuracy)'.format(score*100))\n",
    "plt.show()"
   ]
  },
  {
   "cell_type": "code",
   "execution_count": null,
   "metadata": {
    "collapsed": true
   },
   "outputs": [],
   "source": []
  },
  {
   "cell_type": "code",
   "execution_count": null,
   "metadata": {
    "collapsed": true
   },
   "outputs": [],
   "source": []
  }
 ],
 "metadata": {
  "kernelspec": {
   "display_name": "Python 2",
   "language": "python",
   "name": "python2"
  },
  "language_info": {
   "codemirror_mode": {
    "name": "ipython",
    "version": 2
   },
   "file_extension": ".py",
   "mimetype": "text/x-python",
   "name": "python",
   "nbconvert_exporter": "python",
   "pygments_lexer": "ipython2",
   "version": "2.7.10"
  }
 },
 "nbformat": 4,
 "nbformat_minor": 2
}
