{
 "cells": [
  {
   "cell_type": "code",
   "execution_count": 1,
   "metadata": {
    "collapsed": false,
    "deletable": true,
    "editable": true
   },
   "outputs": [
    {
     "name": "stderr",
     "output_type": "stream",
     "text": [
      "Using TensorFlow backend.\n"
     ]
    }
   ],
   "source": [
    "import json\n",
    "from itertools import groupby\n",
    "import random\n",
    "import pandas as pd\n",
    "\n",
    "import os\n",
    "import re\n",
    "\n",
    "import urllib.request\n",
    "\n",
    "import numpy as np\n",
    "\n",
    "from keras.preprocessing.image import img_to_array, load_img\n",
    "from IPython.display import display\n",
    "from PIL import Image"
   ]
  },
  {
   "cell_type": "markdown",
   "metadata": {},
   "source": [
    "# Files and where to find them\n",
    "\n",
    "### Pre-processed data for CNN (y are images)\n",
    "* https://s3.amazonaws.com/cs109b-data/test_X_array.npy\n",
    "\n",
    "* https://s3.amazonaws.com/cs109b-data/test_y_array.npy\n",
    "\n",
    "* https://s3.amazonaws.com/cs109b-data/Y_array.npy\n",
    "\n",
    "* https://s3.amazonaws.com/cs109b-data/X_array.npy\n",
    "\n",
    "### JSON format of the data, cleaned\n",
    "* https://s3.amazonaws.com/cs109b-data/testing_4-29.json\n",
    "\n",
    "* https://s3.amazonaws.com/cs109b-data/training_4-29.json\n",
    "\n",
    "### Whole data set, used to create both test and train\n",
    "* https://s3.amazonaws.com/cs109b-data/themoviedb-4-18-2017.json\n",
    "\n",
    "### Original, uncleaned train set\n",
    "* https://s3.amazonaws.com/cs109b-data/themoviedb-sample-4-17-2017.json"
   ]
  },
  {
   "cell_type": "code",
   "execution_count": 2,
   "metadata": {
    "collapsed": true,
    "deletable": true,
    "editable": true
   },
   "outputs": [],
   "source": [
    "def merge_two_dicts(x, y):\n",
    "    \"\"\"Given two dicts, merge them into a new dict as a shallow copy.\"\"\"\n",
    "    z = x.copy()\n",
    "    z.update(y)\n",
    "    return z"
   ]
  },
  {
   "cell_type": "markdown",
   "metadata": {},
   "source": [
    "# Load data"
   ]
  },
  {
   "cell_type": "code",
   "execution_count": 3,
   "metadata": {
    "collapsed": true,
    "deletable": true,
    "editable": true
   },
   "outputs": [],
   "source": [
    "all_data = list()\n",
    "with open('../../data/raw/themoviedb-4-18-2017.json') as data_file:\n",
    "    all_data.extend(json.loads(data_file.read()))"
   ]
  },
  {
   "cell_type": "code",
   "execution_count": 5,
   "metadata": {
    "collapsed": true,
    "deletable": true,
    "editable": true
   },
   "outputs": [],
   "source": [
    "training_data = list()\n",
    "with open('../../data/raw/themoviedb-sample-4-17-2017.json') as data_file:\n",
    "    training_data.extend(json.loads(data_file.read()))"
   ]
  },
  {
   "cell_type": "markdown",
   "metadata": {},
   "source": [
    "# Filter out all movies in the training set"
   ]
  },
  {
   "cell_type": "code",
   "execution_count": 6,
   "metadata": {
    "collapsed": false,
    "deletable": true,
    "editable": true
   },
   "outputs": [],
   "source": [
    "training_movie_ids = {movie['id'] for movie in training_data}"
   ]
  },
  {
   "cell_type": "code",
   "execution_count": 7,
   "metadata": {
    "collapsed": false,
    "deletable": true,
    "editable": true
   },
   "outputs": [],
   "source": [
    "## This set will be sampled for a test set\n",
    "total_test_data = [movie for movie in all_data if movie['id'] not in training_movie_ids ]"
   ]
  },
  {
   "cell_type": "code",
   "execution_count": 8,
   "metadata": {
    "collapsed": false,
    "deletable": true,
    "editable": true
   },
   "outputs": [
    {
     "data": {
      "text/plain": [
       "90110"
      ]
     },
     "execution_count": 8,
     "metadata": {},
     "output_type": "execute_result"
    }
   ],
   "source": [
    "len(total_test_data)"
   ]
  },
  {
   "cell_type": "code",
   "execution_count": 9,
   "metadata": {
    "collapsed": false,
    "deletable": true,
    "editable": true
   },
   "outputs": [],
   "source": [
    "total_test_data = [movie for movie in total_test_data if len(movie['genres']) is not 0 ]"
   ]
  },
  {
   "cell_type": "code",
   "execution_count": 10,
   "metadata": {
    "collapsed": false,
    "deletable": true,
    "editable": true
   },
   "outputs": [
    {
     "data": {
      "text/plain": [
       "90110"
      ]
     },
     "execution_count": 10,
     "metadata": {},
     "output_type": "execute_result"
    }
   ],
   "source": [
    "len(total_test_data)"
   ]
  },
  {
   "cell_type": "markdown",
   "metadata": {},
   "source": [
    "# Pre-process train set"
   ]
  },
  {
   "cell_type": "code",
   "execution_count": null,
   "metadata": {
    "collapsed": true
   },
   "outputs": [],
   "source": [
    "df = pd.read_json('../../data/themoviedb-sample-4-17-2017.json')\n",
    "df = df[df['poster_path'].isnull() == False]\n",
    "df['poster_url'] = df['poster_path'].apply(lambda x: 'http://image.tmdb.org/t/p/w92{}'.format(x))\n",
    "df = df[['title', 'genre', 'poster_url']]\n",
    "print(df.shape)\n",
    "df.head()"
   ]
  },
  {
   "cell_type": "markdown",
   "metadata": {},
   "source": [
    "#### Downloading all the posters\n",
    "Here, we download them at the smallest size (width = 92 pixels). "
   ]
  },
  {
   "cell_type": "code",
   "execution_count": null,
   "metadata": {
    "collapsed": true
   },
   "outputs": [],
   "source": [
    "for url in df['poster_url'].unique():\n",
    "    file_name = re.findall(r'(?<=w92\\/)(.*)', url)[0]\n",
    "    if file_name not in os.listdir('data/img'):\n",
    "         urllib.urlretrieve(url, 'data/img/{}'.format(file_name))"
   ]
  },
  {
   "cell_type": "markdown",
   "metadata": {},
   "source": [
    "#### Flattening into numpy arrays\n",
    "Resizing images to `(138, 92, 3)`. I expect this will lose us some precision later."
   ]
  },
  {
   "cell_type": "code",
   "execution_count": null,
   "metadata": {
    "collapsed": true
   },
   "outputs": [],
   "source": [
    "images = []\n",
    "y = []\n",
    "\n",
    "for image_file in os.listdir('../../data/img'):\n",
    "    img = load_img('../../data/img/{}'.format(image_file))\n",
    "    images.append(np.resize(img_to_array(img),(138,92,3)))\n",
    "    y.append(np.array([x for x in df[df['poster_url'] == 'http://image.tmdb.org/t/p/w92/{}'.format(image_file)]['genre'].values]))"
   ]
  },
  {
   "cell_type": "markdown",
   "metadata": {},
   "source": [
    "## $y$: Multi-label"
   ]
  },
  {
   "cell_type": "code",
   "execution_count": null,
   "metadata": {
    "collapsed": true
   },
   "outputs": [],
   "source": [
    "X = np.array(images)\n",
    "\n",
    "# Normalizing away from 255\n",
    "X = X / 255.\n",
    "\n",
    "# Saving it for later, train X\n",
    "np.save('../../data/X_array.npy', X)\n",
    "\n",
    "input_shape = X.shape\n",
    "print(input_shape)"
   ]
  },
  {
   "cell_type": "code",
   "execution_count": null,
   "metadata": {
    "collapsed": true
   },
   "outputs": [],
   "source": [
    "all_genres = pd.DataFrame(index = range(0,4722))\n",
    "\n",
    "for row in y:\n",
    "    for genre in row:\n",
    "        if genre in all_genres:\n",
    "            pass\n",
    "        else:\n",
    "            all_genres[genre] = 0\n",
    "\n",
    "for index, row in enumerate(y):\n",
    "    for genre in row:\n",
    "        all_genres[genre].loc[index] = 1\n",
    "        \n",
    "print(all_genres.shape)\n",
    "all_genres.head()"
   ]
  },
  {
   "cell_type": "code",
   "execution_count": null,
   "metadata": {
    "collapsed": true
   },
   "outputs": [],
   "source": [
    "# Save Y_array\n",
    "Y = np.array(all_genres)\n",
    "np.save('../../data/Y_array.npy', Y)"
   ]
  },
  {
   "cell_type": "markdown",
   "metadata": {
    "deletable": true,
    "editable": true
   },
   "source": [
    "# Sample data for test set\n",
    "Follow identical pre-process set done on train"
   ]
  },
  {
   "cell_type": "code",
   "execution_count": 11,
   "metadata": {
    "collapsed": false,
    "deletable": true,
    "editable": true
   },
   "outputs": [],
   "source": [
    "sample_test_data = random.sample(total_test_data, 2000)"
   ]
  },
  {
   "cell_type": "code",
   "execution_count": 44,
   "metadata": {
    "collapsed": false,
    "deletable": true,
    "editable": true
   },
   "outputs": [
    {
     "name": "stdout",
     "output_type": "stream",
     "text": [
      "(2000, 3)\n"
     ]
    },
    {
     "data": {
      "text/html": [
       "<div>\n",
       "<table border=\"1\" class=\"dataframe\">\n",
       "  <thead>\n",
       "    <tr style=\"text-align: right;\">\n",
       "      <th></th>\n",
       "      <th>title</th>\n",
       "      <th>genre</th>\n",
       "      <th>poster_url</th>\n",
       "    </tr>\n",
       "  </thead>\n",
       "  <tbody>\n",
       "    <tr>\n",
       "      <th>0</th>\n",
       "      <td>The Silent Force</td>\n",
       "      <td>Thriller</td>\n",
       "      <td>http://image.tmdb.org/t/p/w92/52lwYVVeq52AVqR1...</td>\n",
       "    </tr>\n",
       "    <tr>\n",
       "      <th>1</th>\n",
       "      <td>Chicken Little</td>\n",
       "      <td>Family</td>\n",
       "      <td>http://image.tmdb.org/t/p/w92/iLMALbInUmbNn1tH...</td>\n",
       "    </tr>\n",
       "    <tr>\n",
       "      <th>2</th>\n",
       "      <td>Shake Hands With the Devil</td>\n",
       "      <td>History</td>\n",
       "      <td>http://image.tmdb.org/t/p/w92/o2NBY3deN6NIBCIb...</td>\n",
       "    </tr>\n",
       "    <tr>\n",
       "      <th>3</th>\n",
       "      <td>Closer</td>\n",
       "      <td>Romance</td>\n",
       "      <td>http://image.tmdb.org/t/p/w92/jZINusxU1VUKae1s...</td>\n",
       "    </tr>\n",
       "    <tr>\n",
       "      <th>4</th>\n",
       "      <td>True Wolf</td>\n",
       "      <td>Documentary</td>\n",
       "      <td>http://image.tmdb.org/t/p/w92/xyAP3DcXG1Lm2a9K...</td>\n",
       "    </tr>\n",
       "  </tbody>\n",
       "</table>\n",
       "</div>"
      ],
      "text/plain": [
       "                        title        genre  \\\n",
       "0            The Silent Force     Thriller   \n",
       "1              Chicken Little       Family   \n",
       "2  Shake Hands With the Devil      History   \n",
       "3                      Closer      Romance   \n",
       "4                   True Wolf  Documentary   \n",
       "\n",
       "                                          poster_url  \n",
       "0  http://image.tmdb.org/t/p/w92/52lwYVVeq52AVqR1...  \n",
       "1  http://image.tmdb.org/t/p/w92/iLMALbInUmbNn1tH...  \n",
       "2  http://image.tmdb.org/t/p/w92/o2NBY3deN6NIBCIb...  \n",
       "3  http://image.tmdb.org/t/p/w92/jZINusxU1VUKae1s...  \n",
       "4  http://image.tmdb.org/t/p/w92/xyAP3DcXG1Lm2a9K...  "
      ]
     },
     "execution_count": 44,
     "metadata": {},
     "output_type": "execute_result"
    }
   ],
   "source": [
    "df = pd.DataFrame(sample_test_data)\n",
    "df = df[df['poster_path'].isnull() == False]\n",
    "df['poster_url'] = df['poster_path'].apply(lambda x: 'http://image.tmdb.org/t/p/w92{}'.format(x))\n",
    "df = df[['title', 'genre', 'poster_url']]\n",
    "print(df.shape)\n",
    "df.head()"
   ]
  },
  {
   "cell_type": "code",
   "execution_count": 13,
   "metadata": {
    "collapsed": false,
    "deletable": true,
    "editable": true
   },
   "outputs": [],
   "source": [
    "# Download images\n",
    "for url in df['poster_url'].unique():\n",
    "    file_name = re.findall(r'(?<=w92\\/)(.*)', url)[0]\n",
    "    if file_name not in os.listdir('../../data/test_img_92'):\n",
    "        urllib.request.urlretrieve(url, '../../data/test_img_92/{}'.format(file_name))"
   ]
  },
  {
   "cell_type": "code",
   "execution_count": 45,
   "metadata": {
    "collapsed": false,
    "deletable": true,
    "editable": true
   },
   "outputs": [],
   "source": [
    "test_images = []\n",
    "test_Y = []\n",
    "\n",
    "for image_file in os.listdir('../../data/test_img_92'):\n",
    "    img = load_img('../../data/test_img_92/{}'.format(image_file))\n",
    "    test_images.append(np.resize(img_to_array(img),(138,92,3)))\n",
    "    genres = [x for x in df[df['poster_url'] == 'http://image.tmdb.org/t/p/w92/{}'.format(image_file)]['genre'].values]\n",
    "    test_Y.append(np.array(genres))"
   ]
  },
  {
   "cell_type": "code",
   "execution_count": 46,
   "metadata": {
    "collapsed": false,
    "deletable": true,
    "editable": true
   },
   "outputs": [
    {
     "name": "stdout",
     "output_type": "stream",
     "text": [
      "(1957, 138, 92, 3)\n"
     ]
    }
   ],
   "source": [
    "test_X = np.array(test_images)\n",
    "\n",
    "# Normalizing away from 255\n",
    "test_X = test_X / 255.\n",
    "\n",
    "# Saving it for later\n",
    "np.save('../../data/test_X_array.npy', test_X)\n",
    "\n",
    "input_shape = test_X.shape\n",
    "print(input_shape)"
   ]
  },
  {
   "cell_type": "code",
   "execution_count": 47,
   "metadata": {
    "collapsed": false,
    "deletable": true,
    "editable": true
   },
   "outputs": [
    {
     "data": {
      "text/plain": [
       "[array(['Comedy'], \n",
       "       dtype='<U6'), array(['Foreign'], \n",
       "       dtype='<U7'), array(['Action'], \n",
       "       dtype='<U6')]"
      ]
     },
     "execution_count": 47,
     "metadata": {},
     "output_type": "execute_result"
    }
   ],
   "source": [
    "test_Y[:3]"
   ]
  },
  {
   "cell_type": "markdown",
   "metadata": {
    "deletable": true,
    "editable": true
   },
   "source": [
    "# Convert to multilable"
   ]
  },
  {
   "cell_type": "code",
   "execution_count": null,
   "metadata": {
    "collapsed": false,
    "deletable": true,
    "editable": true
   },
   "outputs": [],
   "source": [
    "all_genres = pd.DataFrame(index = range(0,1957))\n",
    "\n",
    "for row in test_Y:\n",
    "    for genre in row:\n",
    "        if genre in all_genres:\n",
    "            pass\n",
    "        else:\n",
    "            all_genres[genre] = 0\n",
    "\n",
    "for index, row in enumerate(test_Y):\n",
    "    for genre in row:\n",
    "        all_genres[genre].loc[index] = 1\n",
    "        \n",
    "print(all_genres.shape)\n",
    "all_genres.head()"
   ]
  },
  {
   "cell_type": "code",
   "execution_count": null,
   "metadata": {
    "collapsed": false,
    "deletable": true,
    "editable": true
   },
   "outputs": [],
   "source": [
    "all_genres"
   ]
  },
  {
   "cell_type": "code",
   "execution_count": 49,
   "metadata": {
    "collapsed": true,
    "deletable": true,
    "editable": true
   },
   "outputs": [],
   "source": [
    "test_Y = np.array(all_genres)"
   ]
  },
  {
   "cell_type": "code",
   "execution_count": 50,
   "metadata": {
    "collapsed": true,
    "deletable": true,
    "editable": true
   },
   "outputs": [],
   "source": [
    "# Save test_y\n",
    "np.save('../../data/test_y_array.npy', test_Y)"
   ]
  },
  {
   "cell_type": "code",
   "execution_count": 51,
   "metadata": {
    "collapsed": true,
    "deletable": true,
    "editable": true
   },
   "outputs": [],
   "source": [
    "train_df = pd.DataFrame(training_data)"
   ]
  },
  {
   "cell_type": "code",
   "execution_count": 52,
   "metadata": {
    "collapsed": true,
    "deletable": true,
    "editable": true
   },
   "outputs": [],
   "source": [
    "test_df = pd.DataFrame(sample_test_data)"
   ]
  },
  {
   "cell_type": "code",
   "execution_count": 53,
   "metadata": {
    "collapsed": false,
    "deletable": true,
    "editable": true
   },
   "outputs": [],
   "source": [
    "matching_columns = set(test_df.columns).intersection(train_df.columns)\n",
    "\n",
    "train_df = train_df[list(matching_columns)]"
   ]
  },
  {
   "cell_type": "code",
   "execution_count": 54,
   "metadata": {
    "collapsed": false,
    "deletable": true,
    "editable": true
   },
   "outputs": [],
   "source": [
    "test_df = test_df[list(matching_columns)]"
   ]
  },
  {
   "cell_type": "code",
   "execution_count": 55,
   "metadata": {
    "collapsed": false,
    "deletable": true,
    "editable": true
   },
   "outputs": [
    {
     "data": {
      "text/plain": [
       "9549"
      ]
     },
     "execution_count": 55,
     "metadata": {},
     "output_type": "execute_result"
    }
   ],
   "source": [
    "len(train_df)"
   ]
  },
  {
   "cell_type": "code",
   "execution_count": 56,
   "metadata": {
    "collapsed": false,
    "deletable": true,
    "editable": true
   },
   "outputs": [
    {
     "data": {
      "text/plain": [
       "2000"
      ]
     },
     "execution_count": 56,
     "metadata": {},
     "output_type": "execute_result"
    }
   ],
   "source": [
    "len(test_df)"
   ]
  },
  {
   "cell_type": "markdown",
   "metadata": {
    "deletable": true,
    "editable": true
   },
   "source": [
    "# Save training and test set as json"
   ]
  },
  {
   "cell_type": "code",
   "execution_count": 57,
   "metadata": {
    "collapsed": true,
    "deletable": true,
    "editable": true
   },
   "outputs": [],
   "source": [
    "train_df.to_json('../../data/processed/training_4-29.json', orient='records')\n",
    "test_df.to_json('../../data/processed/testing_4-29.json', orient='records')"
   ]
  },
  {
   "cell_type": "code",
   "execution_count": 58,
   "metadata": {
    "collapsed": false,
    "deletable": true,
    "editable": true
   },
   "outputs": [
    {
     "data": {
      "text/plain": [
       "1957"
      ]
     },
     "execution_count": 58,
     "metadata": {},
     "output_type": "execute_result"
    }
   ],
   "source": [
    "len(test_Y)"
   ]
  },
  {
   "cell_type": "code",
   "execution_count": 59,
   "metadata": {
    "collapsed": false,
    "deletable": true,
    "editable": true
   },
   "outputs": [
    {
     "data": {
      "text/plain": [
       "1957"
      ]
     },
     "execution_count": 59,
     "metadata": {},
     "output_type": "execute_result"
    }
   ],
   "source": [
    "len(test_X)"
   ]
  },
  {
   "cell_type": "markdown",
   "metadata": {
    "deletable": true,
    "editable": true
   },
   "source": [
    "# Realized a mixup\n",
    "\n",
    "The order of the columns was important to the `test_x_array`; the order of the labels is swaped. In these cells, recalculate the arrays."
   ]
  },
  {
   "cell_type": "code",
   "execution_count": 61,
   "metadata": {
    "collapsed": false,
    "deletable": true,
    "editable": true
   },
   "outputs": [
    {
     "data": {
      "text/html": [
       "<div>\n",
       "<table border=\"1\" class=\"dataframe\">\n",
       "  <thead>\n",
       "    <tr style=\"text-align: right;\">\n",
       "      <th></th>\n",
       "      <th>release_date</th>\n",
       "      <th>tagline</th>\n",
       "      <th>vote_count</th>\n",
       "      <th>revenue</th>\n",
       "      <th>imdb_id</th>\n",
       "      <th>popularity</th>\n",
       "      <th>runtime</th>\n",
       "      <th>crew_count</th>\n",
       "      <th>original_language</th>\n",
       "      <th>backdrop_path</th>\n",
       "      <th>...</th>\n",
       "      <th>budget</th>\n",
       "      <th>title</th>\n",
       "      <th>overview</th>\n",
       "      <th>id</th>\n",
       "      <th>poster_path</th>\n",
       "      <th>original_title</th>\n",
       "      <th>vote_average</th>\n",
       "      <th>genre_ids</th>\n",
       "      <th>video</th>\n",
       "      <th>reviews</th>\n",
       "    </tr>\n",
       "  </thead>\n",
       "  <tbody>\n",
       "    <tr>\n",
       "      <th>0</th>\n",
       "      <td>2015-01-02</td>\n",
       "      <td></td>\n",
       "      <td>0</td>\n",
       "      <td>0</td>\n",
       "      <td>tt3485752</td>\n",
       "      <td>0.010669</td>\n",
       "      <td>93.0</td>\n",
       "      <td>2</td>\n",
       "      <td>en</td>\n",
       "      <td>None</td>\n",
       "      <td>...</td>\n",
       "      <td>0</td>\n",
       "      <td>Bought</td>\n",
       "      <td>Modern industrialization is no longer about st...</td>\n",
       "      <td>328380</td>\n",
       "      <td>/5q3CQLHMbvsjxK4Vs5xia2pLXjo.jpg</td>\n",
       "      <td>Bought</td>\n",
       "      <td>0.0</td>\n",
       "      <td>[99]</td>\n",
       "      <td>False</td>\n",
       "      <td>[]</td>\n",
       "    </tr>\n",
       "    <tr>\n",
       "      <th>1</th>\n",
       "      <td>2009-09-20</td>\n",
       "      <td></td>\n",
       "      <td>2</td>\n",
       "      <td>0</td>\n",
       "      <td>tt1798146</td>\n",
       "      <td>0.000782</td>\n",
       "      <td>60.0</td>\n",
       "      <td>2</td>\n",
       "      <td>en</td>\n",
       "      <td>None</td>\n",
       "      <td>...</td>\n",
       "      <td>0</td>\n",
       "      <td>Egypt Underworld</td>\n",
       "      <td>The documentary is an analysis of the fascinat...</td>\n",
       "      <td>112052</td>\n",
       "      <td>/vHZf7KA7RGMxWl2rVVl7qtu81rl.jpg</td>\n",
       "      <td>Egypt Underworld</td>\n",
       "      <td>3.8</td>\n",
       "      <td>[99]</td>\n",
       "      <td>False</td>\n",
       "      <td>[]</td>\n",
       "    </tr>\n",
       "    <tr>\n",
       "      <th>2</th>\n",
       "      <td>2001-07-12</td>\n",
       "      <td></td>\n",
       "      <td>0</td>\n",
       "      <td>0</td>\n",
       "      <td></td>\n",
       "      <td>0.002123</td>\n",
       "      <td>1.0</td>\n",
       "      <td>1</td>\n",
       "      <td>en</td>\n",
       "      <td>/jWgtb7CRy3jWoXiz0IK352MG8b5.jpg</td>\n",
       "      <td>...</td>\n",
       "      <td>0</td>\n",
       "      <td>Chinese Heroes</td>\n",
       "      <td>A good-natured kung fu kid gets caught up in c...</td>\n",
       "      <td>201706</td>\n",
       "      <td>/74F1NxjpQFoXoJzGCZjng4T0jgV.jpg</td>\n",
       "      <td>Chinese Heroes</td>\n",
       "      <td>0.0</td>\n",
       "      <td>[28]</td>\n",
       "      <td>False</td>\n",
       "      <td>[]</td>\n",
       "    </tr>\n",
       "    <tr>\n",
       "      <th>3</th>\n",
       "      <td>2002-12-24</td>\n",
       "      <td>he quake of the century... get ready to rumble...</td>\n",
       "      <td>2</td>\n",
       "      <td>0</td>\n",
       "      <td>tt0300470</td>\n",
       "      <td>0.097457</td>\n",
       "      <td>92.0</td>\n",
       "      <td>2</td>\n",
       "      <td>en</td>\n",
       "      <td>None</td>\n",
       "      <td>...</td>\n",
       "      <td>0</td>\n",
       "      <td>Shakedown</td>\n",
       "      <td>In Los Angeles a deadly plague called the 'Pan...</td>\n",
       "      <td>61803</td>\n",
       "      <td>/eILw7xfKn99cPU6ngBVtW8XjQcK.jpg</td>\n",
       "      <td>Shakedown</td>\n",
       "      <td>3.0</td>\n",
       "      <td>[28, 18, 53]</td>\n",
       "      <td>False</td>\n",
       "      <td>[]</td>\n",
       "    </tr>\n",
       "    <tr>\n",
       "      <th>4</th>\n",
       "      <td>2002-12-24</td>\n",
       "      <td>he quake of the century... get ready to rumble...</td>\n",
       "      <td>2</td>\n",
       "      <td>0</td>\n",
       "      <td>tt0300470</td>\n",
       "      <td>0.097457</td>\n",
       "      <td>92.0</td>\n",
       "      <td>2</td>\n",
       "      <td>en</td>\n",
       "      <td>None</td>\n",
       "      <td>...</td>\n",
       "      <td>0</td>\n",
       "      <td>Shakedown</td>\n",
       "      <td>In Los Angeles a deadly plague called the 'Pan...</td>\n",
       "      <td>61803</td>\n",
       "      <td>/eILw7xfKn99cPU6ngBVtW8XjQcK.jpg</td>\n",
       "      <td>Shakedown</td>\n",
       "      <td>3.0</td>\n",
       "      <td>[28, 18, 53]</td>\n",
       "      <td>False</td>\n",
       "      <td>[]</td>\n",
       "    </tr>\n",
       "  </tbody>\n",
       "</table>\n",
       "<p>5 rows × 27 columns</p>\n",
       "</div>"
      ],
      "text/plain": [
       "  release_date                                            tagline  vote_count  \\\n",
       "0   2015-01-02                                                              0   \n",
       "1   2009-09-20                                                              2   \n",
       "2   2001-07-12                                                              0   \n",
       "3   2002-12-24  he quake of the century... get ready to rumble...           2   \n",
       "4   2002-12-24  he quake of the century... get ready to rumble...           2   \n",
       "\n",
       "   revenue    imdb_id  popularity  runtime  crew_count original_language  \\\n",
       "0        0  tt3485752    0.010669     93.0           2                en   \n",
       "1        0  tt1798146    0.000782     60.0           2                en   \n",
       "2        0               0.002123      1.0           1                en   \n",
       "3        0  tt0300470    0.097457     92.0           2                en   \n",
       "4        0  tt0300470    0.097457     92.0           2                en   \n",
       "\n",
       "                      backdrop_path   ...   budget             title  \\\n",
       "0                              None   ...        0            Bought   \n",
       "1                              None   ...        0  Egypt Underworld   \n",
       "2  /jWgtb7CRy3jWoXiz0IK352MG8b5.jpg   ...        0    Chinese Heroes   \n",
       "3                              None   ...        0         Shakedown   \n",
       "4                              None   ...        0         Shakedown   \n",
       "\n",
       "                                            overview      id  \\\n",
       "0  Modern industrialization is no longer about st...  328380   \n",
       "1  The documentary is an analysis of the fascinat...  112052   \n",
       "2  A good-natured kung fu kid gets caught up in c...  201706   \n",
       "3  In Los Angeles a deadly plague called the 'Pan...   61803   \n",
       "4  In Los Angeles a deadly plague called the 'Pan...   61803   \n",
       "\n",
       "                        poster_path    original_title vote_average  \\\n",
       "0  /5q3CQLHMbvsjxK4Vs5xia2pLXjo.jpg            Bought          0.0   \n",
       "1  /vHZf7KA7RGMxWl2rVVl7qtu81rl.jpg  Egypt Underworld          3.8   \n",
       "2  /74F1NxjpQFoXoJzGCZjng4T0jgV.jpg    Chinese Heroes          0.0   \n",
       "3  /eILw7xfKn99cPU6ngBVtW8XjQcK.jpg         Shakedown          3.0   \n",
       "4  /eILw7xfKn99cPU6ngBVtW8XjQcK.jpg         Shakedown          3.0   \n",
       "\n",
       "      genre_ids  video reviews  \n",
       "0          [99]  False      []  \n",
       "1          [99]  False      []  \n",
       "2          [28]  False      []  \n",
       "3  [28, 18, 53]  False      []  \n",
       "4  [28, 18, 53]  False      []  \n",
       "\n",
       "[5 rows x 27 columns]"
      ]
     },
     "execution_count": 61,
     "metadata": {},
     "output_type": "execute_result"
    }
   ],
   "source": [
    "train_df"
   ]
  },
  {
   "cell_type": "code",
   "execution_count": 63,
   "metadata": {
    "collapsed": false,
    "deletable": true,
    "editable": true
   },
   "outputs": [
    {
     "data": {
      "text/plain": [
       "Index(['Comedy', 'Foreign', 'Action', 'Drama', 'Documentary', 'Thriller',\n",
       "       'Horror', 'Romance', 'Crime', 'Fantasy', 'Science Fiction', 'TV Movie',\n",
       "       'Family', 'Western', 'War', 'Music', 'Animation', 'Mystery',\n",
       "       'Adventure', 'History'],\n",
       "      dtype='object')"
      ]
     },
     "execution_count": 63,
     "metadata": {},
     "output_type": "execute_result"
    }
   ],
   "source": [
    "all_genres.columns"
   ]
  },
  {
   "cell_type": "code",
   "execution_count": 72,
   "metadata": {
    "collapsed": true,
    "deletable": true,
    "editable": true
   },
   "outputs": [],
   "source": [
    "test = list()\n",
    "with open('../../data/processed/testing_4-29.json') as data_file:\n",
    "    test.extend(json.loads(data_file.read()))"
   ]
  },
  {
   "cell_type": "code",
   "execution_count": 74,
   "metadata": {
    "collapsed": false,
    "deletable": true,
    "editable": true
   },
   "outputs": [],
   "source": [
    "for movie in test:\n",
    "    for genre in movie['genres']:\n",
    "        movie[genre['name']] = True"
   ]
  },
  {
   "cell_type": "code",
   "execution_count": 78,
   "metadata": {
    "collapsed": false,
    "deletable": true,
    "editable": true
   },
   "outputs": [],
   "source": [
    "test_df = pd.DataFrame(test).fillna(False)"
   ]
  },
  {
   "cell_type": "code",
   "execution_count": 79,
   "metadata": {
    "collapsed": true,
    "deletable": true,
    "editable": true
   },
   "outputs": [],
   "source": [
    "train = list()\n",
    "with open('../../data/processed/training_4-29.json') as data_file:\n",
    "    train.extend(json.loads(data_file.read()))"
   ]
  },
  {
   "cell_type": "code",
   "execution_count": 80,
   "metadata": {
    "collapsed": true,
    "deletable": true,
    "editable": true
   },
   "outputs": [],
   "source": [
    "for movie in train:\n",
    "    for genre in movie['genres']:\n",
    "        movie[genre['name']] = True"
   ]
  },
  {
   "cell_type": "code",
   "execution_count": 81,
   "metadata": {
    "collapsed": true,
    "deletable": true,
    "editable": true
   },
   "outputs": [],
   "source": [
    "train_df = pd.DataFrame(train).fillna(False)"
   ]
  },
  {
   "cell_type": "code",
   "execution_count": 82,
   "metadata": {
    "collapsed": true,
    "deletable": true,
    "editable": true
   },
   "outputs": [],
   "source": [
    "train_df.to_json('../../data/processed/training_4-29.json', orient='records')\n",
    "test_df.to_json('../../data/processed/testing_4-29.json', orient='records')"
   ]
  },
  {
   "cell_type": "code",
   "execution_count": 83,
   "metadata": {
    "collapsed": false,
    "deletable": true,
    "editable": true
   },
   "outputs": [
    {
     "data": {
      "text/html": [
       "<div>\n",
       "<table border=\"1\" class=\"dataframe\">\n",
       "  <thead>\n",
       "    <tr style=\"text-align: right;\">\n",
       "      <th></th>\n",
       "      <th>Action</th>\n",
       "      <th>Adventure</th>\n",
       "      <th>Animation</th>\n",
       "      <th>Comedy</th>\n",
       "      <th>Crime</th>\n",
       "      <th>Documentary</th>\n",
       "      <th>Drama</th>\n",
       "      <th>Family</th>\n",
       "      <th>Fantasy</th>\n",
       "      <th>Foreign</th>\n",
       "      <th>...</th>\n",
       "      <th>release_date</th>\n",
       "      <th>revenue</th>\n",
       "      <th>reviews</th>\n",
       "      <th>runtime</th>\n",
       "      <th>status</th>\n",
       "      <th>tagline</th>\n",
       "      <th>title</th>\n",
       "      <th>video</th>\n",
       "      <th>vote_average</th>\n",
       "      <th>vote_count</th>\n",
       "    </tr>\n",
       "  </thead>\n",
       "  <tbody>\n",
       "    <tr>\n",
       "      <th>9546</th>\n",
       "      <td>False</td>\n",
       "      <td>False</td>\n",
       "      <td>False</td>\n",
       "      <td>True</td>\n",
       "      <td>False</td>\n",
       "      <td>False</td>\n",
       "      <td>False</td>\n",
       "      <td>False</td>\n",
       "      <td>False</td>\n",
       "      <td>False</td>\n",
       "      <td>...</td>\n",
       "      <td>2010-01-28</td>\n",
       "      <td>0</td>\n",
       "      <td>[]</td>\n",
       "      <td>96.0</td>\n",
       "      <td>Released</td>\n",
       "      <td></td>\n",
       "      <td>Baby Mama's Club</td>\n",
       "      <td>False</td>\n",
       "      <td>0.0</td>\n",
       "      <td>0</td>\n",
       "    </tr>\n",
       "    <tr>\n",
       "      <th>9547</th>\n",
       "      <td>True</td>\n",
       "      <td>False</td>\n",
       "      <td>False</td>\n",
       "      <td>False</td>\n",
       "      <td>False</td>\n",
       "      <td>False</td>\n",
       "      <td>False</td>\n",
       "      <td>False</td>\n",
       "      <td>False</td>\n",
       "      <td>False</td>\n",
       "      <td>...</td>\n",
       "      <td>2011-01-01</td>\n",
       "      <td>0</td>\n",
       "      <td>[]</td>\n",
       "      <td>6.0</td>\n",
       "      <td>Released</td>\n",
       "      <td></td>\n",
       "      <td>Initiation</td>\n",
       "      <td>False</td>\n",
       "      <td>0.0</td>\n",
       "      <td>0</td>\n",
       "    </tr>\n",
       "    <tr>\n",
       "      <th>9548</th>\n",
       "      <td>True</td>\n",
       "      <td>False</td>\n",
       "      <td>False</td>\n",
       "      <td>False</td>\n",
       "      <td>False</td>\n",
       "      <td>False</td>\n",
       "      <td>False</td>\n",
       "      <td>False</td>\n",
       "      <td>False</td>\n",
       "      <td>False</td>\n",
       "      <td>...</td>\n",
       "      <td>2011-01-01</td>\n",
       "      <td>0</td>\n",
       "      <td>[]</td>\n",
       "      <td>6.0</td>\n",
       "      <td>Released</td>\n",
       "      <td></td>\n",
       "      <td>Initiation</td>\n",
       "      <td>False</td>\n",
       "      <td>0.0</td>\n",
       "      <td>0</td>\n",
       "    </tr>\n",
       "  </tbody>\n",
       "</table>\n",
       "<p>3 rows × 47 columns</p>\n",
       "</div>"
      ],
      "text/plain": [
       "     Action Adventure Animation Comedy  Crime Documentary  Drama Family  \\\n",
       "9546  False     False     False   True  False       False  False  False   \n",
       "9547   True     False     False  False  False       False  False  False   \n",
       "9548   True     False     False  False  False       False  False  False   \n",
       "\n",
       "     Fantasy Foreign    ...     release_date revenue reviews runtime  \\\n",
       "9546   False   False    ...       2010-01-28       0      []    96.0   \n",
       "9547   False   False    ...       2011-01-01       0      []     6.0   \n",
       "9548   False   False    ...       2011-01-01       0      []     6.0   \n",
       "\n",
       "        status tagline             title  video vote_average vote_count  \n",
       "9546  Released          Baby Mama's Club  False          0.0          0  \n",
       "9547  Released                Initiation  False          0.0          0  \n",
       "9548  Released                Initiation  False          0.0          0  \n",
       "\n",
       "[3 rows x 47 columns]"
      ]
     },
     "execution_count": 83,
     "metadata": {},
     "output_type": "execute_result"
    }
   ],
   "source": [
    "train_df.tail(3)"
   ]
  },
  {
   "cell_type": "code",
   "execution_count": 37,
   "metadata": {
    "collapsed": true,
    "deletable": true,
    "editable": true
   },
   "outputs": [],
   "source": [
    "columns = [\"Drama\",\n",
    " \"Horror\",\n",
    " \"Documentary\",\n",
    " \"Romance\",\n",
    " \"Adventure\",\n",
    " \"Comedy\",\n",
    " \"Family\",\n",
    " \"Fantasy\",\n",
    " \"Science Fiction\",\n",
    " \"Foreign\",\n",
    " \"Action\",\n",
    " \"Crime\",\n",
    " \"Music\",\n",
    " \"Thriller\",\n",
    " \"TV Movie\",\n",
    " \"History\",\n",
    " \"Mystery\",\n",
    " \"Animation\",\n",
    " \"War\",\n",
    " \"Western\"\n",
    "]"
   ]
  },
  {
   "cell_type": "code",
   "execution_count": 17,
   "metadata": {
    "collapsed": false,
    "deletable": true,
    "editable": true
   },
   "outputs": [
    {
     "data": {
      "text/plain": [
       "Index(['Action', 'Adventure', 'Animation', 'Comedy', 'Crime', 'Documentary',\n",
       "       'Drama', 'Family', 'Fantasy', 'Foreign', 'History', 'Horror', 'Music',\n",
       "       'Mystery', 'Romance', 'Science Fiction', 'TV Movie', 'Thriller', 'War',\n",
       "       'Western', 'adult', 'backdrop_path', 'belongs_to_collection', 'budget',\n",
       "       'cast_count', 'crew_count', 'genre', 'genre_ids', 'genres', 'homepage',\n",
       "       'id', 'imdb_id', 'original_language', 'original_title', 'overview',\n",
       "       'popularity', 'poster_path', 'release_date', 'revenue', 'reviews',\n",
       "       'runtime', 'status', 'tagline', 'title', 'video', 'vote_average',\n",
       "       'vote_count'],\n",
       "      dtype='object')"
      ]
     },
     "execution_count": 17,
     "metadata": {},
     "output_type": "execute_result"
    }
   ],
   "source": [
    "test_df = pd.read_json('../../data/processed/testing_4-29.json')\n",
    "test_df.columns"
   ]
  },
  {
   "cell_type": "code",
   "execution_count": 23,
   "metadata": {
    "collapsed": false,
    "deletable": true,
    "editable": true
   },
   "outputs": [
    {
     "name": "stdout",
     "output_type": "stream",
     "text": [
      "(1957, 3)\n"
     ]
    },
    {
     "data": {
      "text/html": [
       "<div>\n",
       "<table border=\"1\" class=\"dataframe\">\n",
       "  <thead>\n",
       "    <tr style=\"text-align: right;\">\n",
       "      <th></th>\n",
       "      <th>title</th>\n",
       "      <th>genre</th>\n",
       "      <th>poster_url</th>\n",
       "    </tr>\n",
       "  </thead>\n",
       "  <tbody>\n",
       "    <tr>\n",
       "      <th>0</th>\n",
       "      <td>The Silent Force</td>\n",
       "      <td>Thriller</td>\n",
       "      <td>http://image.tmdb.org/t/p/w92/52lwYVVeq52AVqR1...</td>\n",
       "    </tr>\n",
       "    <tr>\n",
       "      <th>1</th>\n",
       "      <td>Chicken Little</td>\n",
       "      <td>Family</td>\n",
       "      <td>http://image.tmdb.org/t/p/w92/iLMALbInUmbNn1tH...</td>\n",
       "    </tr>\n",
       "    <tr>\n",
       "      <th>2</th>\n",
       "      <td>Shake Hands With the Devil</td>\n",
       "      <td>History</td>\n",
       "      <td>http://image.tmdb.org/t/p/w92/o2NBY3deN6NIBCIb...</td>\n",
       "    </tr>\n",
       "    <tr>\n",
       "      <th>3</th>\n",
       "      <td>Closer</td>\n",
       "      <td>Romance</td>\n",
       "      <td>http://image.tmdb.org/t/p/w92/jZINusxU1VUKae1s...</td>\n",
       "    </tr>\n",
       "    <tr>\n",
       "      <th>4</th>\n",
       "      <td>True Wolf</td>\n",
       "      <td>Documentary</td>\n",
       "      <td>http://image.tmdb.org/t/p/w92/xyAP3DcXG1Lm2a9K...</td>\n",
       "    </tr>\n",
       "  </tbody>\n",
       "</table>\n",
       "</div>"
      ],
      "text/plain": [
       "                        title        genre  \\\n",
       "0            The Silent Force     Thriller   \n",
       "1              Chicken Little       Family   \n",
       "2  Shake Hands With the Devil      History   \n",
       "3                      Closer      Romance   \n",
       "4                   True Wolf  Documentary   \n",
       "\n",
       "                                          poster_url  \n",
       "0  http://image.tmdb.org/t/p/w92/52lwYVVeq52AVqR1...  \n",
       "1  http://image.tmdb.org/t/p/w92/iLMALbInUmbNn1tH...  \n",
       "2  http://image.tmdb.org/t/p/w92/o2NBY3deN6NIBCIb...  \n",
       "3  http://image.tmdb.org/t/p/w92/jZINusxU1VUKae1s...  \n",
       "4  http://image.tmdb.org/t/p/w92/xyAP3DcXG1Lm2a9K...  "
      ]
     },
     "execution_count": 23,
     "metadata": {},
     "output_type": "execute_result"
    }
   ],
   "source": [
    "test_df = test_df.drop_duplicates(['id'], keep='last')\n",
    "len(test_df)\n",
    "\n",
    "test_df = test_df[test_df['poster_path'].isnull() == False]\n",
    "test_df['poster_url'] = test_df['poster_path'].apply(lambda x: 'http://image.tmdb.org/t/p/w92{}'.format(x))\n",
    "test_df = test_df[['title', 'genre', 'poster_url']]\n",
    "print(test_df.shape)\n",
    "test_df.head()\n"
   ]
  },
  {
   "cell_type": "code",
   "execution_count": 24,
   "metadata": {
    "collapsed": false,
    "deletable": true,
    "editable": true
   },
   "outputs": [],
   "source": [
    "test_images = []\n",
    "test_Y = []\n",
    "\n",
    "for image_file in os.listdir('../../data/test_img_92'):\n",
    "    img = load_img('../../data/test_img_92/{}'.format(image_file))\n",
    "    test_images.append(np.resize(img_to_array(img),(138,92,3)))\n",
    "    genres = [x for x in test_df[test_df['poster_url'] == 'http://image.tmdb.org/t/p/w92/{}'.format(image_file)]['genre'].values]\n",
    "    test_Y.append(np.array(genres))"
   ]
  },
  {
   "cell_type": "code",
   "execution_count": 25,
   "metadata": {
    "collapsed": false,
    "deletable": true,
    "editable": true
   },
   "outputs": [
    {
     "name": "stdout",
     "output_type": "stream",
     "text": [
      "(1957, 138, 92, 3)\n"
     ]
    }
   ],
   "source": [
    "test_X = np.array(test_images)\n",
    "\n",
    "# Normalizing away from 255\n",
    "test_X = test_X / 255.\n",
    "\n",
    "# Saving it for later\n",
    "np.save('../../data/test_X_array.npy', test_X)\n",
    "\n",
    "input_shape = test_X.shape\n",
    "print(input_shape)"
   ]
  },
  {
   "cell_type": "code",
   "execution_count": 35,
   "metadata": {
    "collapsed": false,
    "deletable": true,
    "editable": true
   },
   "outputs": [
    {
     "name": "stdout",
     "output_type": "stream",
     "text": [
      "(1957, 20)\n"
     ]
    }
   ],
   "source": [
    "test_df = pd.read_json('../../data/processed/testing_4-29.json')\n",
    "\n",
    "test_df[columns].astype(int)\n",
    "test_df = test_df.drop_duplicates(['id'], keep='last')\n",
    "test_Y = np.array(test_df[columns].astype(int))\n",
    "print(test_Y.shape)"
   ]
  },
  {
   "cell_type": "code",
   "execution_count": 36,
   "metadata": {
    "collapsed": true,
    "deletable": true,
    "editable": true
   },
   "outputs": [],
   "source": [
    "np.save('../../data/test_y_array.npy', test_Y)"
   ]
  }
 ],
 "metadata": {
  "kernelspec": {
   "display_name": "Python 3",
   "language": "python",
   "name": "python3"
  },
  "language_info": {
   "codemirror_mode": {
    "name": "ipython",
    "version": 3
   },
   "file_extension": ".py",
   "mimetype": "text/x-python",
   "name": "python",
   "nbconvert_exporter": "python",
   "pygments_lexer": "ipython3",
   "version": "3.6.0"
  }
 },
 "nbformat": 4,
 "nbformat_minor": 2
}
