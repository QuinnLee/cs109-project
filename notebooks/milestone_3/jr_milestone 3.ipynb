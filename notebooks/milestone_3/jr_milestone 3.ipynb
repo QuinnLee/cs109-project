{
 "cells": [
  {
   "cell_type": "markdown",
   "metadata": {},
   "source": [
    "# CS 109B/Data Science: Final Project - Milestone 3\n",
    "**Harvard University**<br>\n",
    "**Spring 2017**<br>\n",
    "**Date: ** April 19, 2017 "
   ]
  },
  {
   "cell_type": "code",
   "execution_count": 118,
   "metadata": {
    "collapsed": false
   },
   "outputs": [],
   "source": [
    "%matplotlib inline\n",
    "import os\n",
    "import sys\n",
    "import nltk\n",
    "import json\n",
    "import itertools\n",
    "import pandas as pd\n",
    "import seaborn as sns\n",
    "import numpy as np\n",
    "import scipy as sp\n",
    "import random\n",
    "import time\n",
    "from matplotlib import pyplot as plt\n",
    "from sklearn import preprocessing\n",
    "from sklearn.metrics import confusion_matrix\n",
    "from sklearn.naive_bayes import MultinomialNB\n",
    "from sklearn.cross_validation import cross_val_score\n",
    "from sklearn.cross_validation import cross_val_predict\n",
    "import matplotlib.pyplot as plt\n",
    "from sklearn.svm import SVC\n",
    "from collections import Counter\n",
    "from unidecode import unidecode\n",
    "from nltk.corpus import stopwords\n",
    "from collections import OrderedDict\n",
    "from sklearn import preprocessing\n",
    "from sklearn import cross_validation\n",
    "from sklearn.cross_validation import cross_val_score\n",
    "from sklearn.cross_validation import KFold as sk_kfold\n",
    "from sklearn.metrics import confusion_matrix\n",
    "from sklearn.cross_validation import train_test_split\n",
    "from sklearn.linear_model import LogisticRegressionCV as LogRegCV\n",
    "from sklearn.multiclass import OneVsRestClassifier\n",
    "#from sklearn.model_selection import StratifiedShuffleSplit\n",
    "#from sklearn.model_selection import GridSearchCV\n",
    "\n",
    "plt.style.use('ggplot')"
   ]
  },
  {
   "cell_type": "markdown",
   "metadata": {},
   "source": [
    "# Part I: Defining Dataset"
   ]
  },
  {
   "cell_type": "markdown",
   "metadata": {},
   "source": [
    "### *Step 1: Clean and explore the data*"
   ]
  },
  {
   "cell_type": "code",
   "execution_count": 119,
   "metadata": {
    "collapsed": false
   },
   "outputs": [
    {
     "name": "stdout",
     "output_type": "stream",
     "text": [
      "(5000, 29)\n"
     ]
    },
    {
     "data": {
      "text/html": [
       "<div>\n",
       "<table border=\"1\" class=\"dataframe\">\n",
       "  <thead>\n",
       "    <tr style=\"text-align: right;\">\n",
       "      <th></th>\n",
       "      <th>adult</th>\n",
       "      <th>backdrop_path</th>\n",
       "      <th>belongs_to_collection</th>\n",
       "      <th>budget</th>\n",
       "      <th>cast</th>\n",
       "      <th>crew</th>\n",
       "      <th>genre_ids</th>\n",
       "      <th>genres</th>\n",
       "      <th>homepage</th>\n",
       "      <th>id</th>\n",
       "      <th>...</th>\n",
       "      <th>revenue</th>\n",
       "      <th>reviews</th>\n",
       "      <th>runtime</th>\n",
       "      <th>spoken_languages</th>\n",
       "      <th>status</th>\n",
       "      <th>tagline</th>\n",
       "      <th>title</th>\n",
       "      <th>video</th>\n",
       "      <th>vote_average</th>\n",
       "      <th>vote_count</th>\n",
       "    </tr>\n",
       "  </thead>\n",
       "  <tbody>\n",
       "    <tr>\n",
       "      <th>0</th>\n",
       "      <td>False</td>\n",
       "      <td>None</td>\n",
       "      <td>None</td>\n",
       "      <td>0</td>\n",
       "      <td>[]</td>\n",
       "      <td>[{u'name': u'Bobby Sheehan', u'department': u'...</td>\n",
       "      <td>[99]</td>\n",
       "      <td>[{u'name': u'Documentary', u'id': 99}]</td>\n",
       "      <td>https://www.boughtmovie.net</td>\n",
       "      <td>328380</td>\n",
       "      <td>...</td>\n",
       "      <td>0</td>\n",
       "      <td>[]</td>\n",
       "      <td>93.0</td>\n",
       "      <td>[{u'iso_639_1': u'en', u'name': u'English'}]</td>\n",
       "      <td>Released</td>\n",
       "      <td></td>\n",
       "      <td>Bought</td>\n",
       "      <td>False</td>\n",
       "      <td>0.0</td>\n",
       "      <td>0</td>\n",
       "    </tr>\n",
       "    <tr>\n",
       "      <th>1</th>\n",
       "      <td>False</td>\n",
       "      <td>None</td>\n",
       "      <td>None</td>\n",
       "      <td>0</td>\n",
       "      <td>[]</td>\n",
       "      <td>[{u'name': u'Nancy Donnelly', u'department': u...</td>\n",
       "      <td>[99]</td>\n",
       "      <td>[{u'id': 99, u'name': u'Documentary'}]</td>\n",
       "      <td></td>\n",
       "      <td>112052</td>\n",
       "      <td>...</td>\n",
       "      <td>0</td>\n",
       "      <td>[]</td>\n",
       "      <td>60.0</td>\n",
       "      <td>[{u'iso_639_1': u'en', u'name': u'English'}]</td>\n",
       "      <td>Released</td>\n",
       "      <td></td>\n",
       "      <td>Egypt Underworld</td>\n",
       "      <td>False</td>\n",
       "      <td>3.8</td>\n",
       "      <td>2</td>\n",
       "    </tr>\n",
       "    <tr>\n",
       "      <th>2</th>\n",
       "      <td>False</td>\n",
       "      <td>/jWgtb7CRy3jWoXiz0IK352MG8b5.jpg</td>\n",
       "      <td>None</td>\n",
       "      <td>0</td>\n",
       "      <td>[{u'name': u'Zhang Jin', u'character': u'Chau ...</td>\n",
       "      <td>[{u'name': u'Douglas Kung Cheung-Tak', u'depar...</td>\n",
       "      <td>[28]</td>\n",
       "      <td>[{u'id': 28, u'name': u'Action'}]</td>\n",
       "      <td>http://www.hkcinemagic.com/en/movie.asp?id=6627</td>\n",
       "      <td>201706</td>\n",
       "      <td>...</td>\n",
       "      <td>0</td>\n",
       "      <td>[]</td>\n",
       "      <td>1.0</td>\n",
       "      <td>[{u'name': u'广州话 / 廣州話', u'iso_639_1': u'cn'},...</td>\n",
       "      <td>Released</td>\n",
       "      <td></td>\n",
       "      <td>Chinese Heroes</td>\n",
       "      <td>False</td>\n",
       "      <td>0.0</td>\n",
       "      <td>0</td>\n",
       "    </tr>\n",
       "    <tr>\n",
       "      <th>3</th>\n",
       "      <td>False</td>\n",
       "      <td>None</td>\n",
       "      <td>None</td>\n",
       "      <td>0</td>\n",
       "      <td>[{u'name': u'Erika Eleniak', u'character': u'J...</td>\n",
       "      <td>[{u'name': u'Brian Katkin', u'department': u'D...</td>\n",
       "      <td>[28, 18, 53]</td>\n",
       "      <td>[{u'id': 28, u'name': u'Action'}, {u'id': 18, ...</td>\n",
       "      <td></td>\n",
       "      <td>61803</td>\n",
       "      <td>...</td>\n",
       "      <td>0</td>\n",
       "      <td>[]</td>\n",
       "      <td>92.0</td>\n",
       "      <td>[{u'name': u'English', u'iso_639_1': u'en'}]</td>\n",
       "      <td>Released</td>\n",
       "      <td>he quake of the century... get ready to rumble...</td>\n",
       "      <td>Shakedown</td>\n",
       "      <td>False</td>\n",
       "      <td>3.0</td>\n",
       "      <td>2</td>\n",
       "    </tr>\n",
       "    <tr>\n",
       "      <th>4</th>\n",
       "      <td>False</td>\n",
       "      <td>/sHH63HMAQsKLl0vpJ6AxulmkL92.jpg</td>\n",
       "      <td>None</td>\n",
       "      <td>0</td>\n",
       "      <td>[{u'name': u'Kay Panabaker', u'character': u'J...</td>\n",
       "      <td>[{u'name': u'Kevin Tancharoen', u'department':...</td>\n",
       "      <td>[10402, 35, 18, 10749]</td>\n",
       "      <td>[{u'id': 10402, u'name': u'Music'}, {u'id': 35...</td>\n",
       "      <td></td>\n",
       "      <td>28665</td>\n",
       "      <td>...</td>\n",
       "      <td>0</td>\n",
       "      <td>[]</td>\n",
       "      <td>107.0</td>\n",
       "      <td>[{u'iso_639_1': u'en', u'name': u'English'}]</td>\n",
       "      <td>Released</td>\n",
       "      <td></td>\n",
       "      <td>Fame</td>\n",
       "      <td>False</td>\n",
       "      <td>5.4</td>\n",
       "      <td>109</td>\n",
       "    </tr>\n",
       "  </tbody>\n",
       "</table>\n",
       "<p>5 rows × 29 columns</p>\n",
       "</div>"
      ],
      "text/plain": [
       "   adult                     backdrop_path belongs_to_collection  budget  \\\n",
       "0  False                              None                  None       0   \n",
       "1  False                              None                  None       0   \n",
       "2  False  /jWgtb7CRy3jWoXiz0IK352MG8b5.jpg                  None       0   \n",
       "3  False                              None                  None       0   \n",
       "4  False  /sHH63HMAQsKLl0vpJ6AxulmkL92.jpg                  None       0   \n",
       "\n",
       "                                                cast  \\\n",
       "0                                                 []   \n",
       "1                                                 []   \n",
       "2  [{u'name': u'Zhang Jin', u'character': u'Chau ...   \n",
       "3  [{u'name': u'Erika Eleniak', u'character': u'J...   \n",
       "4  [{u'name': u'Kay Panabaker', u'character': u'J...   \n",
       "\n",
       "                                                crew               genre_ids  \\\n",
       "0  [{u'name': u'Bobby Sheehan', u'department': u'...                    [99]   \n",
       "1  [{u'name': u'Nancy Donnelly', u'department': u...                    [99]   \n",
       "2  [{u'name': u'Douglas Kung Cheung-Tak', u'depar...                    [28]   \n",
       "3  [{u'name': u'Brian Katkin', u'department': u'D...            [28, 18, 53]   \n",
       "4  [{u'name': u'Kevin Tancharoen', u'department':...  [10402, 35, 18, 10749]   \n",
       "\n",
       "                                              genres  \\\n",
       "0             [{u'name': u'Documentary', u'id': 99}]   \n",
       "1             [{u'id': 99, u'name': u'Documentary'}]   \n",
       "2                  [{u'id': 28, u'name': u'Action'}]   \n",
       "3  [{u'id': 28, u'name': u'Action'}, {u'id': 18, ...   \n",
       "4  [{u'id': 10402, u'name': u'Music'}, {u'id': 35...   \n",
       "\n",
       "                                          homepage      id     ...      \\\n",
       "0                      https://www.boughtmovie.net  328380     ...       \n",
       "1                                                   112052     ...       \n",
       "2  http://www.hkcinemagic.com/en/movie.asp?id=6627  201706     ...       \n",
       "3                                                    61803     ...       \n",
       "4                                                    28665     ...       \n",
       "\n",
       "  revenue reviews runtime                                   spoken_languages  \\\n",
       "0       0      []    93.0       [{u'iso_639_1': u'en', u'name': u'English'}]   \n",
       "1       0      []    60.0       [{u'iso_639_1': u'en', u'name': u'English'}]   \n",
       "2       0      []     1.0  [{u'name': u'广州话 / 廣州話', u'iso_639_1': u'cn'},...   \n",
       "3       0      []    92.0       [{u'name': u'English', u'iso_639_1': u'en'}]   \n",
       "4       0      []   107.0       [{u'iso_639_1': u'en', u'name': u'English'}]   \n",
       "\n",
       "     status                                            tagline  \\\n",
       "0  Released                                                      \n",
       "1  Released                                                      \n",
       "2  Released                                                      \n",
       "3  Released  he quake of the century... get ready to rumble...   \n",
       "4  Released                                                      \n",
       "\n",
       "              title  video vote_average  vote_count  \n",
       "0            Bought  False          0.0           0  \n",
       "1  Egypt Underworld  False          3.8           2  \n",
       "2    Chinese Heroes  False          0.0           0  \n",
       "3         Shakedown  False          3.0           2  \n",
       "4              Fame  False          5.4         109  \n",
       "\n",
       "[5 rows x 29 columns]"
      ]
     },
     "execution_count": 119,
     "metadata": {},
     "output_type": "execute_result"
    }
   ],
   "source": [
    "# Load data\n",
    "with open('themoviedb-5k-sample-4-15-2017') as json_data:\n",
    "    d = json.load(json_data)\n",
    "raw = pd.DataFrame(d)\n",
    "\n",
    "# Sample size and data visualization\n",
    "print(raw.shape)\n",
    "raw.head()"
   ]
  },
  {
   "cell_type": "code",
   "execution_count": 120,
   "metadata": {
    "collapsed": false
   },
   "outputs": [
    {
     "name": "stdout",
     "output_type": "stream",
     "text": [
      "(5000, 4)\n"
     ]
    },
    {
     "data": {
      "text/html": [
       "<div>\n",
       "<table border=\"1\" class=\"dataframe\">\n",
       "  <thead>\n",
       "    <tr style=\"text-align: right;\">\n",
       "      <th></th>\n",
       "      <th>genres</th>\n",
       "      <th>reviews</th>\n",
       "      <th>overview</th>\n",
       "      <th>id</th>\n",
       "    </tr>\n",
       "  </thead>\n",
       "  <tbody>\n",
       "    <tr>\n",
       "      <th>0</th>\n",
       "      <td>[{u'name': u'Documentary', u'id': 99}]</td>\n",
       "      <td>[]</td>\n",
       "      <td>Modern industrialization is no longer about st...</td>\n",
       "      <td>328380</td>\n",
       "    </tr>\n",
       "    <tr>\n",
       "      <th>1</th>\n",
       "      <td>[{u'id': 99, u'name': u'Documentary'}]</td>\n",
       "      <td>[]</td>\n",
       "      <td>The documentary is an analysis of the fascinat...</td>\n",
       "      <td>112052</td>\n",
       "    </tr>\n",
       "    <tr>\n",
       "      <th>2</th>\n",
       "      <td>[{u'id': 28, u'name': u'Action'}]</td>\n",
       "      <td>[]</td>\n",
       "      <td>A good-natured kung fu kid gets caught up in c...</td>\n",
       "      <td>201706</td>\n",
       "    </tr>\n",
       "    <tr>\n",
       "      <th>3</th>\n",
       "      <td>[{u'id': 28, u'name': u'Action'}, {u'id': 18, ...</td>\n",
       "      <td>[]</td>\n",
       "      <td>In Los Angeles a deadly plague called the 'Pan...</td>\n",
       "      <td>61803</td>\n",
       "    </tr>\n",
       "    <tr>\n",
       "      <th>4</th>\n",
       "      <td>[{u'id': 10402, u'name': u'Music'}, {u'id': 35...</td>\n",
       "      <td>[]</td>\n",
       "      <td>An updated version of the 1980 musical, which ...</td>\n",
       "      <td>28665</td>\n",
       "    </tr>\n",
       "  </tbody>\n",
       "</table>\n",
       "</div>"
      ],
      "text/plain": [
       "                                              genres reviews  \\\n",
       "0             [{u'name': u'Documentary', u'id': 99}]      []   \n",
       "1             [{u'id': 99, u'name': u'Documentary'}]      []   \n",
       "2                  [{u'id': 28, u'name': u'Action'}]      []   \n",
       "3  [{u'id': 28, u'name': u'Action'}, {u'id': 18, ...      []   \n",
       "4  [{u'id': 10402, u'name': u'Music'}, {u'id': 35...      []   \n",
       "\n",
       "                                            overview      id  \n",
       "0  Modern industrialization is no longer about st...  328380  \n",
       "1  The documentary is an analysis of the fascinat...  112052  \n",
       "2  A good-natured kung fu kid gets caught up in c...  201706  \n",
       "3  In Los Angeles a deadly plague called the 'Pan...   61803  \n",
       "4  An updated version of the 1980 musical, which ...   28665  "
      ]
     },
     "execution_count": 120,
     "metadata": {},
     "output_type": "execute_result"
    }
   ],
   "source": [
    "# Keeping only genres, overviews, and reviews\n",
    "raw = raw[['genres', 'reviews', 'overview', 'id']].copy()\n",
    "print(raw.shape)\n",
    "raw.head()"
   ]
  },
  {
   "cell_type": "markdown",
   "metadata": {},
   "source": [
    "#### 1.1. Define Y variable"
   ]
  },
  {
   "cell_type": "code",
   "execution_count": 121,
   "metadata": {
    "collapsed": false
   },
   "outputs": [
    {
     "data": {
      "text/html": [
       "<div>\n",
       "<table border=\"1\" class=\"dataframe\">\n",
       "  <thead>\n",
       "    <tr style=\"text-align: right;\">\n",
       "      <th></th>\n",
       "      <th>genres</th>\n",
       "      <th>reviews</th>\n",
       "      <th>overview</th>\n",
       "      <th>id</th>\n",
       "      <th>genre_lists</th>\n",
       "      <th>genre_bigrams</th>\n",
       "      <th>popular_bigram</th>\n",
       "    </tr>\n",
       "  </thead>\n",
       "  <tbody>\n",
       "    <tr>\n",
       "      <th>0</th>\n",
       "      <td>[{u'name': u'Documentary', u'id': 99}]</td>\n",
       "      <td>[]</td>\n",
       "      <td>Modern industrialization is no longer about st...</td>\n",
       "      <td>328380</td>\n",
       "      <td>[Documentary]</td>\n",
       "      <td>[]</td>\n",
       "      <td>(Documentary,)</td>\n",
       "    </tr>\n",
       "    <tr>\n",
       "      <th>1</th>\n",
       "      <td>[{u'id': 99, u'name': u'Documentary'}]</td>\n",
       "      <td>[]</td>\n",
       "      <td>The documentary is an analysis of the fascinat...</td>\n",
       "      <td>112052</td>\n",
       "      <td>[Documentary]</td>\n",
       "      <td>[]</td>\n",
       "      <td>(Documentary,)</td>\n",
       "    </tr>\n",
       "    <tr>\n",
       "      <th>2</th>\n",
       "      <td>[{u'id': 28, u'name': u'Action'}]</td>\n",
       "      <td>[]</td>\n",
       "      <td>A good-natured kung fu kid gets caught up in c...</td>\n",
       "      <td>201706</td>\n",
       "      <td>[Action]</td>\n",
       "      <td>[]</td>\n",
       "      <td>(Action,)</td>\n",
       "    </tr>\n",
       "    <tr>\n",
       "      <th>3</th>\n",
       "      <td>[{u'id': 28, u'name': u'Action'}, {u'id': 18, ...</td>\n",
       "      <td>[]</td>\n",
       "      <td>In Los Angeles a deadly plague called the 'Pan...</td>\n",
       "      <td>61803</td>\n",
       "      <td>[Action, Drama, Thriller]</td>\n",
       "      <td>[(Action, Drama), (Drama, Thriller)]</td>\n",
       "      <td>(Drama, Thriller)</td>\n",
       "    </tr>\n",
       "    <tr>\n",
       "      <th>4</th>\n",
       "      <td>[{u'id': 10402, u'name': u'Music'}, {u'id': 35...</td>\n",
       "      <td>[]</td>\n",
       "      <td>An updated version of the 1980 musical, which ...</td>\n",
       "      <td>28665</td>\n",
       "      <td>[Comedy, Drama, Music, Romance]</td>\n",
       "      <td>[(Comedy, Drama), (Drama, Music), (Music, Roma...</td>\n",
       "      <td>(Music, Romance)</td>\n",
       "    </tr>\n",
       "  </tbody>\n",
       "</table>\n",
       "</div>"
      ],
      "text/plain": [
       "                                              genres reviews  \\\n",
       "0             [{u'name': u'Documentary', u'id': 99}]      []   \n",
       "1             [{u'id': 99, u'name': u'Documentary'}]      []   \n",
       "2                  [{u'id': 28, u'name': u'Action'}]      []   \n",
       "3  [{u'id': 28, u'name': u'Action'}, {u'id': 18, ...      []   \n",
       "4  [{u'id': 10402, u'name': u'Music'}, {u'id': 35...      []   \n",
       "\n",
       "                                            overview      id  \\\n",
       "0  Modern industrialization is no longer about st...  328380   \n",
       "1  The documentary is an analysis of the fascinat...  112052   \n",
       "2  A good-natured kung fu kid gets caught up in c...  201706   \n",
       "3  In Los Angeles a deadly plague called the 'Pan...   61803   \n",
       "4  An updated version of the 1980 musical, which ...   28665   \n",
       "\n",
       "                       genre_lists  \\\n",
       "0                    [Documentary]   \n",
       "1                    [Documentary]   \n",
       "2                         [Action]   \n",
       "3        [Action, Drama, Thriller]   \n",
       "4  [Comedy, Drama, Music, Romance]   \n",
       "\n",
       "                                       genre_bigrams     popular_bigram  \n",
       "0                                                 []     (Documentary,)  \n",
       "1                                                 []     (Documentary,)  \n",
       "2                                                 []          (Action,)  \n",
       "3               [(Action, Drama), (Drama, Thriller)]  (Drama, Thriller)  \n",
       "4  [(Comedy, Drama), (Drama, Music), (Music, Roma...   (Music, Romance)  "
      ]
     },
     "execution_count": 121,
     "metadata": {},
     "output_type": "execute_result"
    }
   ],
   "source": [
    "all_bigrams_ever = []\n",
    "\n",
    "def bigrams(row):\n",
    "    return zip(row['genre_lists'], row['genre_lists'][1:])\n",
    "\n",
    "def col_for_each_bigram(row):\n",
    "    for bigram in row['genre_bigrams']:            \n",
    "        all_bigrams_ever.append(tuple(sorted(bigram)))\n",
    "    return row\n",
    "\n",
    "def popular_bigram(row):\n",
    "    for k in row['genre_bigrams']:\n",
    "        #if bigram_frequency[k] <= 50 and len(row['genre_lists']) != 1:\n",
    "            #row['popular_bigram'] = 'Other'\n",
    "        if k in OrderedDict(bigram_frequency.most_common()).keys() and row['popular_bigram'] != k:\n",
    "            row['popular_bigram'] = k\n",
    "    if len(row['genre_lists']) == 1:\n",
    "        row['popular_bigram'] = tuple(row['genre_lists'])\n",
    "    return row\n",
    "                \n",
    "raw['genre_lists'] = raw.apply(lambda x: [y['name'] for y in x['genres']], axis = 1)\n",
    "for i in range(raw.shape[0]):\n",
    "    raw.loc[i, 'genre_lists'].sort()\n",
    "\n",
    "raw['genre_bigrams'] = raw.apply(lambda x: bigrams(x), axis = 1)\n",
    "raw['popular_bigram'] = np.nan\n",
    "raw = raw.apply(lambda x: col_for_each_bigram(x), axis = 1)\n",
    "bigram_frequency = Counter(all_bigrams_ever)\n",
    "\n",
    "raw = raw.apply(lambda x: popular_bigram(x), axis = 1)\n",
    "raw.head(n=5)"
   ]
  },
  {
   "cell_type": "markdown",
   "metadata": {},
   "source": [
    "genre_big = pd.DataFrame(raw.groupby(['popular_bigram'])['id'].count())\n",
    "genre_big = genre_big.reset_index()\n",
    "genre_big.loc[:, 'prop'] = genre_big.loc[:, 'id']/genre_big['id'].sum()\n",
    "genre_big2 = genre_big[genre_big['prop'] < 0.01]\n",
    "genre_big.shape, genre_big2.shape"
   ]
  },
  {
   "cell_type": "code",
   "execution_count": 123,
   "metadata": {
    "collapsed": false
   },
   "outputs": [
    {
     "data": {
      "text/plain": [
       "((176, 3), (153, 3))"
      ]
     },
     "execution_count": 123,
     "metadata": {},
     "output_type": "execute_result"
    }
   ],
   "source": [
    "# \n",
    "genre_big = pd.DataFrame(raw.groupby(['popular_bigram'])['id'].count())\n",
    "genre_big = genre_big.reset_index()\n",
    "genre_big.loc[:, 'prop'] = genre_big.loc[:, 'id']/genre_big['id'].sum()\n",
    "genre_big2 = genre_big[genre_big['prop'] < 0.01]\n",
    "genre_big.shape, genre_big2.shape"
   ]
  },
  {
   "cell_type": "code",
   "execution_count": 124,
   "metadata": {
    "collapsed": false
   },
   "outputs": [],
   "source": [
    "raw['popular_bigram2'] = raw['popular_bigram']\n",
    "for i in range(raw.shape[0]):\n",
    "    if raw.loc[i, 'popular_bigram'] in list(genre_big2['popular_bigram']):\n",
    "        raw.loc[i, 'popular_bigram2'] = 'Other'"
   ]
  },
  {
   "cell_type": "code",
   "execution_count": 125,
   "metadata": {
    "collapsed": false
   },
   "outputs": [
    {
     "data": {
      "text/plain": [
       "Other                          1538\n",
       "(Documentary,)                  667\n",
       "(Drama,)                        462\n",
       "(Comedy,)                       347\n",
       "(Drama, Romance)                207\n",
       "(Horror, Thriller)              183\n",
       "(Drama, Thriller)               174\n",
       "(Horror,)                       171\n",
       "(Comedy, Drama)                 142\n",
       "(Music,)                        131\n",
       "(Documentary, Music)             94\n",
       "(Comedy, Romance)                93\n",
       "(Science Fiction, Thriller)      91\n",
       "(Thriller,)                      84\n",
       "(Mystery, Thriller)              82\n",
       "(Crime, Drama)                   76\n",
       "(Drama, Family)                  66\n",
       "(Animation, Family)              63\n",
       "(Horror, Science Fiction)        61\n",
       "(Comedy, Horror)                 57\n",
       "(Action,)                        56\n",
       "(Animation,)                     52\n",
       "(Comedy, Family)                 52\n",
       "(Crime, Thriller)                51\n",
       "Name: popular_bigram2, dtype: int64"
      ]
     },
     "execution_count": 125,
     "metadata": {},
     "output_type": "execute_result"
    }
   ],
   "source": [
    "genre_frequency = raw['popular_bigram2'].value_counts()\n",
    "genre_frequency"
   ]
  },
  {
   "cell_type": "markdown",
   "metadata": {},
   "source": [
    "#### 2.2. Define X variables\n",
    "\n",
    "Converting overview and reviews to word-frequency vectors"
   ]
  },
  {
   "cell_type": "code",
   "execution_count": 130,
   "metadata": {
    "collapsed": false
   },
   "outputs": [],
   "source": [
    "# I realized that sometimes 'overview' was in my top words list; renaming it here 'protects' it\n",
    "df = raw[['genres', 'reviews', 'overview', 'genre_lists', 'genre_bigrams', 'popular_bigram2']]\n",
    "df.rename(columns={'overview': 'movie_overview'}, inplace=True)\n",
    "\n",
    "stops = set(nltk.corpus.stopwords.words('english'))\n",
    "all_words_ever = []\n",
    "\n",
    "def add_cols_for_all_words(row):\n",
    "    if row['movie_overview'] is not None:\n",
    "        words = nltk.word_tokenize(row['movie_overview'])\n",
    "        words = [word.lower() for word in words if len(word) > 2 and unidecode(word.lower()) not in stops]\n",
    "        all_words_ever.extend(words)\n",
    "    return row\n",
    "\n",
    "def parse_words(row):\n",
    "    if row['movie_overview'] is not None:\n",
    "        words = nltk.word_tokenize(row['movie_overview'])\n",
    "        words = [word.lower() for word in words if word.lower() in top_words]\n",
    "        for word in words:\n",
    "            row[unidecode(word)] += 1        \n",
    "    return row"
   ]
  },
  {
   "cell_type": "code",
   "execution_count": 132,
   "metadata": {
    "collapsed": false
   },
   "outputs": [
    {
     "name": "stderr",
     "output_type": "stream",
     "text": [
      "/Users/Fanta/anaconda/lib/python2.7/site-packages/ipykernel/__main__.py:1: SettingWithCopyWarning: \n",
      "A value is trying to be set on a copy of a slice from a DataFrame.\n",
      "Try using .loc[row_indexer,col_indexer] = value instead\n",
      "\n",
      "See the caveats in the documentation: http://pandas.pydata.org/pandas-docs/stable/indexing.html#indexing-view-versus-copy\n",
      "  if __name__ == '__main__':\n"
     ]
    },
    {
     "data": {
      "text/html": [
       "<div>\n",
       "<table border=\"1\" class=\"dataframe\">\n",
       "  <thead>\n",
       "    <tr style=\"text-align: right;\">\n",
       "      <th></th>\n",
       "      <th>genres</th>\n",
       "      <th>reviews</th>\n",
       "      <th>movie_overview</th>\n",
       "      <th>genre_lists</th>\n",
       "      <th>genre_bigrams</th>\n",
       "      <th>popular_bigram2</th>\n",
       "      <th>review_text</th>\n",
       "    </tr>\n",
       "  </thead>\n",
       "  <tbody>\n",
       "    <tr>\n",
       "      <th>0</th>\n",
       "      <td>[{u'name': u'Documentary', u'id': 99}]</td>\n",
       "      <td>[]</td>\n",
       "      <td>Modern industrialization is no longer about st...</td>\n",
       "      <td>[Documentary]</td>\n",
       "      <td>[]</td>\n",
       "      <td>(Documentary,)</td>\n",
       "      <td>[]</td>\n",
       "    </tr>\n",
       "    <tr>\n",
       "      <th>1</th>\n",
       "      <td>[{u'id': 99, u'name': u'Documentary'}]</td>\n",
       "      <td>[]</td>\n",
       "      <td>The documentary is an analysis of the fascinat...</td>\n",
       "      <td>[Documentary]</td>\n",
       "      <td>[]</td>\n",
       "      <td>(Documentary,)</td>\n",
       "      <td>[]</td>\n",
       "    </tr>\n",
       "    <tr>\n",
       "      <th>2</th>\n",
       "      <td>[{u'id': 28, u'name': u'Action'}]</td>\n",
       "      <td>[]</td>\n",
       "      <td>A good-natured kung fu kid gets caught up in c...</td>\n",
       "      <td>[Action]</td>\n",
       "      <td>[]</td>\n",
       "      <td>(Action,)</td>\n",
       "      <td>[]</td>\n",
       "    </tr>\n",
       "    <tr>\n",
       "      <th>3</th>\n",
       "      <td>[{u'id': 28, u'name': u'Action'}, {u'id': 18, ...</td>\n",
       "      <td>[]</td>\n",
       "      <td>In Los Angeles a deadly plague called the 'Pan...</td>\n",
       "      <td>[Action, Drama, Thriller]</td>\n",
       "      <td>[(Action, Drama), (Drama, Thriller)]</td>\n",
       "      <td>(Drama, Thriller)</td>\n",
       "      <td>[]</td>\n",
       "    </tr>\n",
       "    <tr>\n",
       "      <th>4</th>\n",
       "      <td>[{u'id': 10402, u'name': u'Music'}, {u'id': 35...</td>\n",
       "      <td>[]</td>\n",
       "      <td>An updated version of the 1980 musical, which ...</td>\n",
       "      <td>[Comedy, Drama, Music, Romance]</td>\n",
       "      <td>[(Comedy, Drama), (Drama, Music), (Music, Roma...</td>\n",
       "      <td>Other</td>\n",
       "      <td>[]</td>\n",
       "    </tr>\n",
       "  </tbody>\n",
       "</table>\n",
       "</div>"
      ],
      "text/plain": [
       "                                              genres reviews  \\\n",
       "0             [{u'name': u'Documentary', u'id': 99}]      []   \n",
       "1             [{u'id': 99, u'name': u'Documentary'}]      []   \n",
       "2                  [{u'id': 28, u'name': u'Action'}]      []   \n",
       "3  [{u'id': 28, u'name': u'Action'}, {u'id': 18, ...      []   \n",
       "4  [{u'id': 10402, u'name': u'Music'}, {u'id': 35...      []   \n",
       "\n",
       "                                      movie_overview  \\\n",
       "0  Modern industrialization is no longer about st...   \n",
       "1  The documentary is an analysis of the fascinat...   \n",
       "2  A good-natured kung fu kid gets caught up in c...   \n",
       "3  In Los Angeles a deadly plague called the 'Pan...   \n",
       "4  An updated version of the 1980 musical, which ...   \n",
       "\n",
       "                       genre_lists  \\\n",
       "0                    [Documentary]   \n",
       "1                    [Documentary]   \n",
       "2                         [Action]   \n",
       "3        [Action, Drama, Thriller]   \n",
       "4  [Comedy, Drama, Music, Romance]   \n",
       "\n",
       "                                       genre_bigrams    popular_bigram2  \\\n",
       "0                                                 []     (Documentary,)   \n",
       "1                                                 []     (Documentary,)   \n",
       "2                                                 []          (Action,)   \n",
       "3               [(Action, Drama), (Drama, Thriller)]  (Drama, Thriller)   \n",
       "4  [(Comedy, Drama), (Drama, Music), (Music, Roma...              Other   \n",
       "\n",
       "  review_text  \n",
       "0          []  \n",
       "1          []  \n",
       "2          []  \n",
       "3          []  \n",
       "4          []  "
      ]
     },
     "execution_count": 132,
     "metadata": {},
     "output_type": "execute_result"
    }
   ],
   "source": [
    "df['review_text'] = df.apply(lambda row: [x['content'] for x in row['reviews']], axis = 1)\n",
    "df.head()"
   ]
  },
  {
   "cell_type": "code",
   "execution_count": 133,
   "metadata": {
    "collapsed": false
   },
   "outputs": [
    {
     "data": {
      "text/plain": [
       "(153604, 25820)"
      ]
     },
     "execution_count": 133,
     "metadata": {},
     "output_type": "execute_result"
    }
   ],
   "source": [
    "df = df.apply(lambda x: add_cols_for_all_words(x), axis = 1)\n",
    "len(all_words_ever), len(set(all_words_ever))"
   ]
  },
  {
   "cell_type": "code",
   "execution_count": 134,
   "metadata": {
    "collapsed": false
   },
   "outputs": [
    {
     "data": {
      "text/plain": [
       "500"
      ]
     },
     "execution_count": 134,
     "metadata": {},
     "output_type": "execute_result"
    }
   ],
   "source": [
    "# Use the top N words\n",
    "N = 500\n",
    "top_words = [word[0] for word in Counter(all_words_ever).most_common(N)]\n",
    "len(top_words)"
   ]
  },
  {
   "cell_type": "code",
   "execution_count": 135,
   "metadata": {
    "collapsed": false
   },
   "outputs": [
    {
     "name": "stdout",
     "output_type": "stream",
     "text": [
      "(5000, 507)\n"
     ]
    },
    {
     "data": {
      "text/html": [
       "<div>\n",
       "<table border=\"1\" class=\"dataframe\">\n",
       "  <thead>\n",
       "    <tr style=\"text-align: right;\">\n",
       "      <th></th>\n",
       "      <th>genres</th>\n",
       "      <th>reviews</th>\n",
       "      <th>movie_overview</th>\n",
       "      <th>genre_lists</th>\n",
       "      <th>genre_bigrams</th>\n",
       "      <th>popular_bigram2</th>\n",
       "      <th>review_text</th>\n",
       "      <th>one</th>\n",
       "      <th>life</th>\n",
       "      <th>film</th>\n",
       "      <th>...</th>\n",
       "      <th>course</th>\n",
       "      <th>break</th>\n",
       "      <th>plays</th>\n",
       "      <th>violence</th>\n",
       "      <th>looks</th>\n",
       "      <th>water</th>\n",
       "      <th>west</th>\n",
       "      <th>trapped</th>\n",
       "      <th>filmmaker</th>\n",
       "      <th>god</th>\n",
       "    </tr>\n",
       "  </thead>\n",
       "  <tbody>\n",
       "    <tr>\n",
       "      <th>0</th>\n",
       "      <td>[{u'name': u'Documentary', u'id': 99}]</td>\n",
       "      <td>[]</td>\n",
       "      <td>Modern industrialization is no longer about st...</td>\n",
       "      <td>[Documentary]</td>\n",
       "      <td>[]</td>\n",
       "      <td>(Documentary,)</td>\n",
       "      <td>[]</td>\n",
       "      <td>0</td>\n",
       "      <td>0</td>\n",
       "      <td>0</td>\n",
       "      <td>...</td>\n",
       "      <td>0</td>\n",
       "      <td>0</td>\n",
       "      <td>0</td>\n",
       "      <td>0</td>\n",
       "      <td>0</td>\n",
       "      <td>0</td>\n",
       "      <td>0</td>\n",
       "      <td>0</td>\n",
       "      <td>0</td>\n",
       "      <td>0</td>\n",
       "    </tr>\n",
       "    <tr>\n",
       "      <th>1</th>\n",
       "      <td>[{u'id': 99, u'name': u'Documentary'}]</td>\n",
       "      <td>[]</td>\n",
       "      <td>The documentary is an analysis of the fascinat...</td>\n",
       "      <td>[Documentary]</td>\n",
       "      <td>[]</td>\n",
       "      <td>(Documentary,)</td>\n",
       "      <td>[]</td>\n",
       "      <td>0</td>\n",
       "      <td>0</td>\n",
       "      <td>0</td>\n",
       "      <td>...</td>\n",
       "      <td>0</td>\n",
       "      <td>0</td>\n",
       "      <td>0</td>\n",
       "      <td>0</td>\n",
       "      <td>0</td>\n",
       "      <td>0</td>\n",
       "      <td>0</td>\n",
       "      <td>0</td>\n",
       "      <td>0</td>\n",
       "      <td>0</td>\n",
       "    </tr>\n",
       "    <tr>\n",
       "      <th>2</th>\n",
       "      <td>[{u'id': 28, u'name': u'Action'}]</td>\n",
       "      <td>[]</td>\n",
       "      <td>A good-natured kung fu kid gets caught up in c...</td>\n",
       "      <td>[Action]</td>\n",
       "      <td>[]</td>\n",
       "      <td>(Action,)</td>\n",
       "      <td>[]</td>\n",
       "      <td>0</td>\n",
       "      <td>0</td>\n",
       "      <td>0</td>\n",
       "      <td>...</td>\n",
       "      <td>0</td>\n",
       "      <td>0</td>\n",
       "      <td>1</td>\n",
       "      <td>0</td>\n",
       "      <td>0</td>\n",
       "      <td>0</td>\n",
       "      <td>0</td>\n",
       "      <td>0</td>\n",
       "      <td>0</td>\n",
       "      <td>0</td>\n",
       "    </tr>\n",
       "    <tr>\n",
       "      <th>3</th>\n",
       "      <td>[{u'id': 28, u'name': u'Action'}, {u'id': 18, ...</td>\n",
       "      <td>[]</td>\n",
       "      <td>In Los Angeles a deadly plague called the 'Pan...</td>\n",
       "      <td>[Action, Drama, Thriller]</td>\n",
       "      <td>[(Action, Drama), (Drama, Thriller)]</td>\n",
       "      <td>(Drama, Thriller)</td>\n",
       "      <td>[]</td>\n",
       "      <td>0</td>\n",
       "      <td>0</td>\n",
       "      <td>0</td>\n",
       "      <td>...</td>\n",
       "      <td>0</td>\n",
       "      <td>0</td>\n",
       "      <td>0</td>\n",
       "      <td>0</td>\n",
       "      <td>0</td>\n",
       "      <td>0</td>\n",
       "      <td>0</td>\n",
       "      <td>0</td>\n",
       "      <td>0</td>\n",
       "      <td>0</td>\n",
       "    </tr>\n",
       "    <tr>\n",
       "      <th>4</th>\n",
       "      <td>[{u'id': 10402, u'name': u'Music'}, {u'id': 35...</td>\n",
       "      <td>[]</td>\n",
       "      <td>An updated version of the 1980 musical, which ...</td>\n",
       "      <td>[Comedy, Drama, Music, Romance]</td>\n",
       "      <td>[(Comedy, Drama), (Drama, Music), (Music, Roma...</td>\n",
       "      <td>Other</td>\n",
       "      <td>[]</td>\n",
       "      <td>0</td>\n",
       "      <td>0</td>\n",
       "      <td>0</td>\n",
       "      <td>...</td>\n",
       "      <td>0</td>\n",
       "      <td>0</td>\n",
       "      <td>0</td>\n",
       "      <td>0</td>\n",
       "      <td>0</td>\n",
       "      <td>0</td>\n",
       "      <td>0</td>\n",
       "      <td>0</td>\n",
       "      <td>0</td>\n",
       "      <td>0</td>\n",
       "    </tr>\n",
       "  </tbody>\n",
       "</table>\n",
       "<p>5 rows × 507 columns</p>\n",
       "</div>"
      ],
      "text/plain": [
       "                                              genres reviews  \\\n",
       "0             [{u'name': u'Documentary', u'id': 99}]      []   \n",
       "1             [{u'id': 99, u'name': u'Documentary'}]      []   \n",
       "2                  [{u'id': 28, u'name': u'Action'}]      []   \n",
       "3  [{u'id': 28, u'name': u'Action'}, {u'id': 18, ...      []   \n",
       "4  [{u'id': 10402, u'name': u'Music'}, {u'id': 35...      []   \n",
       "\n",
       "                                      movie_overview  \\\n",
       "0  Modern industrialization is no longer about st...   \n",
       "1  The documentary is an analysis of the fascinat...   \n",
       "2  A good-natured kung fu kid gets caught up in c...   \n",
       "3  In Los Angeles a deadly plague called the 'Pan...   \n",
       "4  An updated version of the 1980 musical, which ...   \n",
       "\n",
       "                       genre_lists  \\\n",
       "0                    [Documentary]   \n",
       "1                    [Documentary]   \n",
       "2                         [Action]   \n",
       "3        [Action, Drama, Thriller]   \n",
       "4  [Comedy, Drama, Music, Romance]   \n",
       "\n",
       "                                       genre_bigrams    popular_bigram2  \\\n",
       "0                                                 []     (Documentary,)   \n",
       "1                                                 []     (Documentary,)   \n",
       "2                                                 []          (Action,)   \n",
       "3               [(Action, Drama), (Drama, Thriller)]  (Drama, Thriller)   \n",
       "4  [(Comedy, Drama), (Drama, Music), (Music, Roma...              Other   \n",
       "\n",
       "  review_text  one  life  film ...   course  break  plays  violence  looks  \\\n",
       "0          []    0     0     0 ...        0      0      0         0      0   \n",
       "1          []    0     0     0 ...        0      0      0         0      0   \n",
       "2          []    0     0     0 ...        0      0      1         0      0   \n",
       "3          []    0     0     0 ...        0      0      0         0      0   \n",
       "4          []    0     0     0 ...        0      0      0         0      0   \n",
       "\n",
       "   water  west  trapped  filmmaker  god  \n",
       "0      0     0        0          0    0  \n",
       "1      0     0        0          0    0  \n",
       "2      0     0        0          0    0  \n",
       "3      0     0        0          0    0  \n",
       "4      0     0        0          0    0  \n",
       "\n",
       "[5 rows x 507 columns]"
      ]
     },
     "execution_count": 135,
     "metadata": {},
     "output_type": "execute_result"
    }
   ],
   "source": [
    "for word in top_words:\n",
    "    df[unidecode(word)] = 0\n",
    "\n",
    "df = df.apply(lambda x: parse_words(x), axis = 1)\n",
    "    \n",
    "print(df.shape)\n",
    "df.head()"
   ]
  },
  {
   "cell_type": "markdown",
   "metadata": {},
   "source": [
    "### *Step 2: Fitt the model: SVM - kernel: RBF *"
   ]
  },
  {
   "cell_type": "code",
   "execution_count": 145,
   "metadata": {
    "collapsed": false
   },
   "outputs": [
    {
     "data": {
      "text/plain": [
       "((5000, 500), (5000,))"
      ]
     },
     "execution_count": 145,
     "metadata": {},
     "output_type": "execute_result"
    }
   ],
   "source": [
    "# Define Y and X matrixes\n",
    "X = df[df.columns[-N:]]\n",
    "y = df['popular_bigram2']\n",
    "y = y.apply(lambda x: str(x))\n",
    "X.shape, y.shape"
   ]
  },
  {
   "cell_type": "code",
   "execution_count": 148,
   "metadata": {
    "collapsed": false
   },
   "outputs": [],
   "source": [
    "# Train/test split\n",
    "n_samples = len(X)\n",
    "train_indices = np.random.uniform(size=n_samples) > 1. / 3.  #Select two thirds for train\n",
    "\n",
    "x_train = X[train_indices]\n",
    "y_train = y[train_indices]\n",
    "\n",
    "x_test = X[~train_indices]\n",
    "y_test = y[~train_indices]"
   ]
  },
  {
   "cell_type": "markdown",
   "metadata": {},
   "source": [
    "Tune Parameters SVM model "
   ]
  },
  {
   "cell_type": "code",
   "execution_count": 156,
   "metadata": {
    "collapsed": false
   },
   "outputs": [],
   "source": [
    "#--------  optimum_cvc\n",
    "# Function to optimize parameter C on Unweighted SVM\n",
    "# Input: \n",
    "#      x_train (array of train predictors)\n",
    "#      y_train (array of train responses) \n",
    "#      n_folds (float; number of folds for cross validation)    \n",
    "#      seed (float; fix the random the random state)\n",
    "#      weight (string; type of weight)\n",
    "# Output:\n",
    "#      best_c (optimal value of C)\n",
    "#      best_k (optimal kernel)\n",
    "#      results_df (DataFrame for scores, std_scores, per model)   \n",
    "\n",
    "def optimum_cvc(x_train, y_train, n_folds, seed, weight):\n",
    "    n_folds = n_folds\n",
    "    seed = seed\n",
    "    kfold = sk_kfold(len(y_train), n_folds, random_state=seed)\n",
    "    scores = list()\n",
    "    scores_std = list()\n",
    "    C = list()\n",
    "    gamma = list()\n",
    "    \n",
    "    # To keep track of the best model\n",
    "    best_score = 0\n",
    "    for c in np.logspace(-3, 2, 6):\n",
    "        for g in np.logspace(-3, 2, 6):\n",
    "            model = SVC(C=c, gamma=g, class_weight = weight)\n",
    "            model.fit(x_train, y_train)\n",
    "            i_scores = cross_val_score(model, x_train, y_train, cv=kfold, n_jobs=1)\n",
    "            scores.append(np.mean(i_scores))\n",
    "            scores_std.append(np.std(i_scores))\n",
    "            C.append(c)\n",
    "            gamma.append(g)\n",
    "            \n",
    "            # Update our record of the best parameters see so far\n",
    "            if np.mean(i_scores) > best_score:\n",
    "                best_score = np.mean(i_scores)\n",
    "                best_C = c\n",
    "                best_gamma = g\n",
    "    \n",
    "    # Scores, scores std, for different combinations of C and gamma              \n",
    "    scores, scores_std = np.array(scores), np.array(scores_std)\n",
    "    C = np.array(C)\n",
    "    gamma = np.array(gamma)\n",
    "    \n",
    "    # Results\n",
    "    results = np.column_stack([scores, C, gamma])\n",
    "    results_df = pd.DataFrame(results, columns = ['scores', 'C', 'gamma'])\n",
    "    \n",
    "    return best_C, best_gamma, results_df\n"
   ]
  },
  {
   "cell_type": "code",
   "execution_count": 157,
   "metadata": {
    "collapsed": false
   },
   "outputs": [
    {
     "name": "stdout",
     "output_type": "stream",
     "text": [
      "Best C - Weighted: 1.0\n",
      "Best gamma - Weighted: 0.001\n"
     ]
    }
   ],
   "source": [
    "# Define parameters\n",
    "n_folds = 5\n",
    "seed = 42\n",
    "\n",
    "# Unweighted SVM \n",
    "# Standarize data\n",
    "scaler = preprocessing.StandardScaler().fit(x_train)\n",
    "x_train_sd = scaler.transform(x_train)   \n",
    "\n",
    "best_c, best_g, results_df = optimum_cvc(x_train_sd, y_train, n_folds, seed, None)\n",
    "\n",
    "print 'Best C - Weighted: ' + str(best_c)\n",
    "print 'Best gamma - Weighted: ' + str(best_g)"
   ]
  },
  {
   "cell_type": "code",
   "execution_count": 159,
   "metadata": {
    "collapsed": false
   },
   "outputs": [
    {
     "name": "stdout",
     "output_type": "stream",
     "text": [
      "Best C- Unweighted: 10.0\n",
      "Best gamma - Unweighted: 1.0\n"
     ]
    }
   ],
   "source": [
    "# Weighted SVM \n",
    "best_c_w, best_g_w, results_df_w = optimum_cvc(x_train_sd, y_train, n_folds, seed, 'balanced')\n",
    "\n",
    "print 'Best C- Unweighted: ' + str(best_c_w)\n",
    "print 'Best gamma - Unweighted: ' + str(best_g_w)"
   ]
  },
  {
   "cell_type": "code",
   "execution_count": 158,
   "metadata": {
    "collapsed": false
   },
   "outputs": [
    {
     "name": "stdout",
     "output_type": "stream",
     "text": [
      "Time elapsed - Unweighted SVM: 21.1899039745 sec\n",
      "\n",
      "# Test accuracy: 0.3498\n"
     ]
    }
   ],
   "source": [
    "##  Unweighted model: Predict on test sample\n",
    "\n",
    "# Overall accuracy in Test Sample\n",
    "start = time.time()\n",
    "model = SVC(C=best_c, gamma = best_g, class_weight = None)\n",
    "model.fit(x_train_sd, y_train)\n",
    "end = time.time()\n",
    "\n",
    "time_elapsed = end - start\n",
    "print \"Time elapsed - Unweighted SVM:\", time_elapsed, \"sec\"\n",
    "\n",
    "# Standarize test sample\n",
    "x_test_sd = scaler.transform(x_test)   \n",
    "\n",
    "# Prediction\n",
    "y_pred = model.predict(x_test_sd)\n",
    "\n",
    "# Overall accuracy\n",
    "print '\\n' '# Test accuracy:', round(model.score(x_test_sd, y_test), 4)"
   ]
  },
  {
   "cell_type": "code",
   "execution_count": 160,
   "metadata": {
    "collapsed": false
   },
   "outputs": [
    {
     "name": "stdout",
     "output_type": "stream",
     "text": [
      "Time elapsed - Weighted SVM: 104.380795002 sec\n",
      "\n",
      "# Test accuracy: 0.3027\n"
     ]
    }
   ],
   "source": [
    "##  Weighted model: Predict on test sample\n",
    "\n",
    "# Overall accuracy in Test Sample\n",
    "start_w = time.time()\n",
    "model = SVC(C=best_c_w, gamma = best_g_w, class_weight = 'balanced')\n",
    "model.fit(x_train_sd, y_train)\n",
    "end_w = time.time()\n",
    "\n",
    "time_elapsed_w = end_w - start_w\n",
    "print \"Time elapsed - Weighted SVM:\", time_elapsed_w, \"sec\"\n",
    "\n",
    "# Prediction\n",
    "y_pred_w = model.predict(x_test_sd)\n",
    "\n",
    "# Overall accuracy\n",
    "print '\\n' '# Test accuracy:', round(model.score(x_test_sd, y_test), 4)"
   ]
  },
  {
   "cell_type": "code",
   "execution_count": null,
   "metadata": {
    "collapsed": false
   },
   "outputs": [],
   "source": [
    "from sklearn.grid_search import GridSearchCV\n",
    "from sklearn.cross_validation import StratifiedShuffleSplit\n",
    "C_range = np.logspace(-3, 2, 6)\n",
    "gamma_range = np.logspace(-3, 2, 6)\n",
    "param_grid = dict(gamma=gamma_range, C=C_range)\n",
    "cv = StratifiedShuffleSplit(y_train, n_iter=5, test_size=0.2, random_state=42)\n",
    "grid = GridSearchCV(SVC(), param_grid=param_grid, cv=cv)\n",
    "grid.fit(x_train, y_train)"
   ]
  },
  {
   "cell_type": "markdown",
   "metadata": {},
   "source": [
    "----"
   ]
  }
 ],
 "metadata": {
  "anaconda-cloud": {},
  "kernelspec": {
   "display_name": "Python [Root]",
   "language": "python",
   "name": "Python [Root]"
  },
  "language_info": {
   "codemirror_mode": {
    "name": "ipython",
    "version": 2
   },
   "file_extension": ".py",
   "mimetype": "text/x-python",
   "name": "python",
   "nbconvert_exporter": "python",
   "pygments_lexer": "ipython2",
   "version": "2.7.12"
  }
 },
 "nbformat": 4,
 "nbformat_minor": 0
}
