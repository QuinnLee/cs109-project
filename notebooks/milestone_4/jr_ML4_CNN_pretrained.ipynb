{
 "cells": [
  {
   "cell_type": "code",
   "execution_count": 56,
   "metadata": {
    "collapsed": false,
    "deletable": true,
    "editable": true
   },
   "outputs": [],
   "source": [
    "import os\n",
    "import re\n",
    "import keras\n",
    "import urllib\n",
    "import matplotlib\n",
    "import numpy as np\n",
    "import pandas as pd\n",
    "import seaborn as sns\n",
    "import math\n",
    "import matplotlib.pyplot as plt\n",
    "from collections import OrderedDict, Counter\n",
    "\n",
    "from keras import metrics\n",
    "from keras import backend as K\n",
    "from keras.utils import np_utils\n",
    "from keras.optimizers import SGD\n",
    "from keras.models import Sequential, Model\n",
    "from keras.callbacks import EarlyStopping\n",
    "from keras.applications.xception import Xception\n",
    "from keras.applications.vgg16 import VGG16\n",
    "from keras.applications.vgg19 import VGG19\n",
    "from keras.applications.resnet50 import ResNet50\n",
    "from keras.applications.inception_v3 import InceptionV3\n",
    "\n",
    "from keras.layers import Dense, Activation, Conv2D, MaxPooling2D, Flatten, Dropout, Input\n",
    "from keras.preprocessing.image import ImageDataGenerator, array_to_img, img_to_array, load_img\n",
    "\n",
    "from sklearn.metrics import precision_recall_curve\n",
    "from sklearn.metrics import average_precision_score\n",
    "from sklearn.metrics import recall_score\n",
    "from sklearn.metrics import precision_recall_fscore_support as score\n",
    "from sklearn.preprocessing import LabelEncoder\n",
    "\n",
    "%matplotlib inline\n",
    "sns.set_style('white')\n",
    "plt.style.use('bmh')"
   ]
  },
  {
   "cell_type": "markdown",
   "metadata": {
    "deletable": true,
    "editable": true
   },
   "source": [
    "## Downloading images, converting them to numpy arrays"
   ]
  },
  {
   "cell_type": "code",
   "execution_count": 3,
   "metadata": {
    "collapsed": false
   },
   "outputs": [
    {
     "name": "stdout",
     "output_type": "stream",
     "text": [
      "(9175, 3)\n"
     ]
    },
    {
     "data": {
      "text/html": [
       "<div>\n",
       "<table border=\"1\" class=\"dataframe\">\n",
       "  <thead>\n",
       "    <tr style=\"text-align: right;\">\n",
       "      <th></th>\n",
       "      <th>title</th>\n",
       "      <th>genre</th>\n",
       "      <th>poster_url</th>\n",
       "    </tr>\n",
       "  </thead>\n",
       "  <tbody>\n",
       "    <tr>\n",
       "      <th>0</th>\n",
       "      <td>Bought</td>\n",
       "      <td>Documentary</td>\n",
       "      <td>http://image.tmdb.org/t/p/w92/5q3CQLHMbvsjxK4V...</td>\n",
       "    </tr>\n",
       "    <tr>\n",
       "      <th>1</th>\n",
       "      <td>Egypt Underworld</td>\n",
       "      <td>Documentary</td>\n",
       "      <td>http://image.tmdb.org/t/p/w92/vHZf7KA7RGMxWl2r...</td>\n",
       "    </tr>\n",
       "    <tr>\n",
       "      <th>2</th>\n",
       "      <td>Chinese Heroes</td>\n",
       "      <td>Action</td>\n",
       "      <td>http://image.tmdb.org/t/p/w92/74F1NxjpQFoXoJzG...</td>\n",
       "    </tr>\n",
       "    <tr>\n",
       "      <th>3</th>\n",
       "      <td>Shakedown</td>\n",
       "      <td>Action</td>\n",
       "      <td>http://image.tmdb.org/t/p/w92/eILw7xfKn99cPU6n...</td>\n",
       "    </tr>\n",
       "    <tr>\n",
       "      <th>4</th>\n",
       "      <td>Shakedown</td>\n",
       "      <td>Drama</td>\n",
       "      <td>http://image.tmdb.org/t/p/w92/eILw7xfKn99cPU6n...</td>\n",
       "    </tr>\n",
       "  </tbody>\n",
       "</table>\n",
       "</div>"
      ],
      "text/plain": [
       "              title        genre  \\\n",
       "0            Bought  Documentary   \n",
       "1  Egypt Underworld  Documentary   \n",
       "2    Chinese Heroes       Action   \n",
       "3         Shakedown       Action   \n",
       "4         Shakedown        Drama   \n",
       "\n",
       "                                          poster_url  \n",
       "0  http://image.tmdb.org/t/p/w92/5q3CQLHMbvsjxK4V...  \n",
       "1  http://image.tmdb.org/t/p/w92/vHZf7KA7RGMxWl2r...  \n",
       "2  http://image.tmdb.org/t/p/w92/74F1NxjpQFoXoJzG...  \n",
       "3  http://image.tmdb.org/t/p/w92/eILw7xfKn99cPU6n...  \n",
       "4  http://image.tmdb.org/t/p/w92/eILw7xfKn99cPU6n...  "
      ]
     },
     "execution_count": 3,
     "metadata": {},
     "output_type": "execute_result"
    }
   ],
   "source": [
    "df = pd.read_json('data/themoviedb-sample-4-17-2017.json')\n",
    "df = df[df['poster_path'].isnull() == False]\n",
    "df['poster_url'] = df['poster_path'].apply(lambda x: 'http://image.tmdb.org/t/p/w92{}'.format(x))\n",
    "df = df[['title', 'genre', 'poster_url']]\n",
    "print(df.shape)\n",
    "df.head()"
   ]
  },
  {
   "cell_type": "markdown",
   "metadata": {
    "deletable": true,
    "editable": true
   },
   "source": [
    "#### Downloading all the posters\n",
    "Here, we download them at the smallest size (width = 92 pixels). "
   ]
  },
  {
   "cell_type": "code",
   "execution_count": 4,
   "metadata": {
    "collapsed": false,
    "deletable": true,
    "editable": true
   },
   "outputs": [],
   "source": [
    "for url in df['poster_url'].unique():\n",
    "    file_name = re.findall(r'(?<=w92\\/)(.*)', url)[0]\n",
    "    if file_name not in os.listdir('data/img'):\n",
    "        urllib.urlretrieve(url, 'data/img/{}'.format(file_name))"
   ]
  },
  {
   "cell_type": "markdown",
   "metadata": {
    "deletable": true,
    "editable": true
   },
   "source": [
    "#### Flattening into numpy arrays\n",
    "Resizing images to `(138, 92, 3)`. We expect this will lose us some precision later."
   ]
  },
  {
   "cell_type": "code",
   "execution_count": 6,
   "metadata": {
    "collapsed": false,
    "deletable": true,
    "editable": true
   },
   "outputs": [],
   "source": [
    "images = []\n",
    "y = []\n",
    "\n",
    "for image_file in os.listdir('data/img'):\n",
    "    img = load_img('data/img/{}'.format(image_file))\n",
    "    images.append(np.resize(img_to_array(img),(138,92,3)))\n",
    "    y.append(np.array([x for x in df[df['poster_url'] == 'http://image.tmdb.org/t/p/w92/{}'.format(image_file)]['genre'].values]))"
   ]
  },
  {
   "cell_type": "markdown",
   "metadata": {},
   "source": [
    "## $y$: Multi-label"
   ]
  },
  {
   "cell_type": "code",
   "execution_count": 7,
   "metadata": {
    "collapsed": false,
    "deletable": true,
    "editable": true
   },
   "outputs": [
    {
     "data": {
      "text/plain": [
       "[array([u'Drama', u'Comedy', u'Crime'], \n",
       "       dtype='<U6'), array([u'Action', u'Adventure'], \n",
       "       dtype='<U9'), array([u'Drama', u'Comedy'], \n",
       "       dtype='<U6'), array([u'Documentary', u'Music'], \n",
       "       dtype='<U11'), array([u'Adventure', u'Western'], \n",
       "       dtype='<U9')]"
      ]
     },
     "execution_count": 7,
     "metadata": {},
     "output_type": "execute_result"
    }
   ],
   "source": [
    "y[0:5]"
   ]
  },
  {
   "cell_type": "code",
   "execution_count": 8,
   "metadata": {
    "collapsed": false,
    "deletable": true,
    "editable": true
   },
   "outputs": [
    {
     "name": "stdout",
     "output_type": "stream",
     "text": [
      "(4722, 138, 92, 3)\n"
     ]
    }
   ],
   "source": [
    "X = np.array(images)\n",
    "# Normalizing away from 255\n",
    "X = X / 255.\n",
    "input_shape = X.shape\n",
    "print(input_shape)"
   ]
  },
  {
   "cell_type": "code",
   "execution_count": 10,
   "metadata": {
    "collapsed": false,
    "deletable": true,
    "editable": true
   },
   "outputs": [
    {
     "name": "stdout",
     "output_type": "stream",
     "text": [
      "(4722, 20)\n"
     ]
    },
    {
     "data": {
      "text/html": [
       "<div>\n",
       "<table border=\"1\" class=\"dataframe\">\n",
       "  <thead>\n",
       "    <tr style=\"text-align: right;\">\n",
       "      <th></th>\n",
       "      <th>Drama</th>\n",
       "      <th>Comedy</th>\n",
       "      <th>Crime</th>\n",
       "      <th>Action</th>\n",
       "      <th>Adventure</th>\n",
       "      <th>Documentary</th>\n",
       "      <th>Music</th>\n",
       "      <th>Western</th>\n",
       "      <th>Horror</th>\n",
       "      <th>Animation</th>\n",
       "      <th>Family</th>\n",
       "      <th>Thriller</th>\n",
       "      <th>Mystery</th>\n",
       "      <th>Science Fiction</th>\n",
       "      <th>History</th>\n",
       "      <th>TV Movie</th>\n",
       "      <th>Romance</th>\n",
       "      <th>Foreign</th>\n",
       "      <th>War</th>\n",
       "      <th>Fantasy</th>\n",
       "    </tr>\n",
       "  </thead>\n",
       "  <tbody>\n",
       "    <tr>\n",
       "      <th>0</th>\n",
       "      <td>1</td>\n",
       "      <td>1</td>\n",
       "      <td>1</td>\n",
       "      <td>0</td>\n",
       "      <td>0</td>\n",
       "      <td>0</td>\n",
       "      <td>0</td>\n",
       "      <td>0</td>\n",
       "      <td>0</td>\n",
       "      <td>0</td>\n",
       "      <td>0</td>\n",
       "      <td>0</td>\n",
       "      <td>0</td>\n",
       "      <td>0</td>\n",
       "      <td>0</td>\n",
       "      <td>0</td>\n",
       "      <td>0</td>\n",
       "      <td>0</td>\n",
       "      <td>0</td>\n",
       "      <td>0</td>\n",
       "    </tr>\n",
       "    <tr>\n",
       "      <th>1</th>\n",
       "      <td>0</td>\n",
       "      <td>0</td>\n",
       "      <td>0</td>\n",
       "      <td>1</td>\n",
       "      <td>1</td>\n",
       "      <td>0</td>\n",
       "      <td>0</td>\n",
       "      <td>0</td>\n",
       "      <td>0</td>\n",
       "      <td>0</td>\n",
       "      <td>0</td>\n",
       "      <td>0</td>\n",
       "      <td>0</td>\n",
       "      <td>0</td>\n",
       "      <td>0</td>\n",
       "      <td>0</td>\n",
       "      <td>0</td>\n",
       "      <td>0</td>\n",
       "      <td>0</td>\n",
       "      <td>0</td>\n",
       "    </tr>\n",
       "    <tr>\n",
       "      <th>2</th>\n",
       "      <td>1</td>\n",
       "      <td>1</td>\n",
       "      <td>0</td>\n",
       "      <td>0</td>\n",
       "      <td>0</td>\n",
       "      <td>0</td>\n",
       "      <td>0</td>\n",
       "      <td>0</td>\n",
       "      <td>0</td>\n",
       "      <td>0</td>\n",
       "      <td>0</td>\n",
       "      <td>0</td>\n",
       "      <td>0</td>\n",
       "      <td>0</td>\n",
       "      <td>0</td>\n",
       "      <td>0</td>\n",
       "      <td>0</td>\n",
       "      <td>0</td>\n",
       "      <td>0</td>\n",
       "      <td>0</td>\n",
       "    </tr>\n",
       "    <tr>\n",
       "      <th>3</th>\n",
       "      <td>0</td>\n",
       "      <td>0</td>\n",
       "      <td>0</td>\n",
       "      <td>0</td>\n",
       "      <td>0</td>\n",
       "      <td>1</td>\n",
       "      <td>1</td>\n",
       "      <td>0</td>\n",
       "      <td>0</td>\n",
       "      <td>0</td>\n",
       "      <td>0</td>\n",
       "      <td>0</td>\n",
       "      <td>0</td>\n",
       "      <td>0</td>\n",
       "      <td>0</td>\n",
       "      <td>0</td>\n",
       "      <td>0</td>\n",
       "      <td>0</td>\n",
       "      <td>0</td>\n",
       "      <td>0</td>\n",
       "    </tr>\n",
       "    <tr>\n",
       "      <th>4</th>\n",
       "      <td>0</td>\n",
       "      <td>0</td>\n",
       "      <td>0</td>\n",
       "      <td>0</td>\n",
       "      <td>1</td>\n",
       "      <td>0</td>\n",
       "      <td>0</td>\n",
       "      <td>1</td>\n",
       "      <td>0</td>\n",
       "      <td>0</td>\n",
       "      <td>0</td>\n",
       "      <td>0</td>\n",
       "      <td>0</td>\n",
       "      <td>0</td>\n",
       "      <td>0</td>\n",
       "      <td>0</td>\n",
       "      <td>0</td>\n",
       "      <td>0</td>\n",
       "      <td>0</td>\n",
       "      <td>0</td>\n",
       "    </tr>\n",
       "  </tbody>\n",
       "</table>\n",
       "</div>"
      ],
      "text/plain": [
       "   Drama  Comedy  Crime  Action  Adventure  Documentary  Music  Western  \\\n",
       "0      1       1      1       0          0            0      0        0   \n",
       "1      0       0      0       1          1            0      0        0   \n",
       "2      1       1      0       0          0            0      0        0   \n",
       "3      0       0      0       0          0            1      1        0   \n",
       "4      0       0      0       0          1            0      0        1   \n",
       "\n",
       "   Horror  Animation  Family  Thriller  Mystery  Science Fiction  History  \\\n",
       "0       0          0       0         0        0                0        0   \n",
       "1       0          0       0         0        0                0        0   \n",
       "2       0          0       0         0        0                0        0   \n",
       "3       0          0       0         0        0                0        0   \n",
       "4       0          0       0         0        0                0        0   \n",
       "\n",
       "   TV Movie  Romance  Foreign  War  Fantasy  \n",
       "0         0        0        0    0        0  \n",
       "1         0        0        0    0        0  \n",
       "2         0        0        0    0        0  \n",
       "3         0        0        0    0        0  \n",
       "4         0        0        0    0        0  "
      ]
     },
     "execution_count": 10,
     "metadata": {},
     "output_type": "execute_result"
    }
   ],
   "source": [
    "all_genres = pd.DataFrame(index = range(0,4722))\n",
    "\n",
    "for row in y:\n",
    "    for genre in row:\n",
    "        if genre in all_genres:\n",
    "            pass\n",
    "        else:\n",
    "            all_genres[genre] = 0\n",
    "\n",
    "for index, row in enumerate(y):\n",
    "    for genre in row:\n",
    "        all_genres[genre].loc[index] = 1\n",
    "        \n",
    "print(all_genres.shape)\n",
    "all_genres.head()"
   ]
  },
  {
   "cell_type": "code",
   "execution_count": 11,
   "metadata": {
    "collapsed": false,
    "deletable": true,
    "editable": true
   },
   "outputs": [
    {
     "name": "stdout",
     "output_type": "stream",
     "text": [
      "(4722, 20)\n"
     ]
    }
   ],
   "source": [
    "Y = np.array(all_genres)\n",
    "print(Y.shape)"
   ]
  },
  {
   "cell_type": "markdown",
   "metadata": {
    "deletable": true,
    "editable": true
   },
   "source": [
    "#### Fitting a simple CNN model"
   ]
  },
  {
   "cell_type": "code",
   "execution_count": 36,
   "metadata": {
    "collapsed": false,
    "deletable": true,
    "editable": true
   },
   "outputs": [
    {
     "name": "stdout",
     "output_type": "stream",
     "text": [
      "_________________________________________________________________\n",
      "Layer (type)                 Output Shape              Param #   \n",
      "=================================================================\n",
      "conv2d_9 (Conv2D)            (None, 137, 91, 80)       1040      \n",
      "_________________________________________________________________\n",
      "max_pooling2d_5 (MaxPooling2 (None, 68, 45, 80)        0         \n",
      "_________________________________________________________________\n",
      "conv2d_10 (Conv2D)           (None, 66, 43, 16)        11536     \n",
      "_________________________________________________________________\n",
      "max_pooling2d_6 (MaxPooling2 (None, 33, 21, 16)        0         \n",
      "_________________________________________________________________\n",
      "conv2d_11 (Conv2D)           (None, 31, 19, 32)        4640      \n",
      "_________________________________________________________________\n",
      "max_pooling2d_7 (MaxPooling2 (None, 15, 9, 32)         0         \n",
      "_________________________________________________________________\n",
      "dropout_4 (Dropout)          (None, 15, 9, 32)         0         \n",
      "_________________________________________________________________\n",
      "conv2d_12 (Conv2D)           (None, 13, 7, 64)         18496     \n",
      "_________________________________________________________________\n",
      "max_pooling2d_8 (MaxPooling2 (None, 6, 3, 64)          0         \n",
      "_________________________________________________________________\n",
      "dropout_5 (Dropout)          (None, 6, 3, 64)          0         \n",
      "_________________________________________________________________\n",
      "flatten_2 (Flatten)          (None, 1152)              0         \n",
      "_________________________________________________________________\n",
      "dense_3 (Dense)              (None, 32)                36896     \n",
      "_________________________________________________________________\n",
      "dropout_6 (Dropout)          (None, 32)                0         \n",
      "_________________________________________________________________\n",
      "dense_4 (Dense)              (None, 20)                660       \n",
      "=================================================================\n",
      "Total params: 73,268\n",
      "Trainable params: 73,268\n",
      "Non-trainable params: 0\n",
      "_________________________________________________________________\n"
     ]
    }
   ],
   "source": [
    "# Set seed\n",
    "seed = 42\n",
    "\n",
    "# Super simple CNN\n",
    "model = Sequential()\n",
    "\n",
    "# Input layer\n",
    "model.add(Conv2D(80, activation='relu', \n",
    "                 kernel_size=(2, 2),\n",
    "                 data_format = 'channels_last',\n",
    "                 input_shape=(138,92,3)))\n",
    "\n",
    "# --- max pool ---\n",
    "model.add(MaxPooling2D(pool_size=(2, 2)))\n",
    "\n",
    "# --- next layer ---\n",
    "# we could double the number of filters as max pool made the \n",
    "# feature maps much smaller \n",
    "# just not doing this to improve runtime\n",
    "model.add(Conv2D(16, kernel_size=(3, 3), activation='relu'))\n",
    "# --- max pool ---\n",
    "model.add(MaxPooling2D(pool_size=(2, 2)))\n",
    "\n",
    "# --- next layer ---\n",
    "model.add(Conv2D(32, kernel_size=(3, 3), activation='relu'))\n",
    "# --- max pool ---\n",
    "model.add(MaxPooling2D(pool_size=(2, 2)))\n",
    "# # --- regularize our model in order to prevent overfitting\n",
    "model.add(Dropout(0.25))\n",
    "\n",
    "# # --- next layer ---\n",
    "model.add(Conv2D(64, kernel_size=(3, 3), activation='relu'))\n",
    "# # --- max pool ---\n",
    "model.add(MaxPooling2D(pool_size=(2, 2)))\n",
    "# # --- regularize our model in order to prevent overfitting\n",
    "model.add(Dropout(0.25))\n",
    "\n",
    "# flatten for fully connected classification layer\n",
    "model.add(Flatten())\n",
    "# --- fully connected layer ---\n",
    "model.add(Dense(32, activation='relu'))\n",
    "# # --- regularize our model in order to prevent overfitting\n",
    "model.add(Dropout(0.5))\n",
    "# --- Last layer: classification ---\n",
    "model.add(Dense(20, activation='sigmoid'))\n",
    "\n",
    "# prints out a summary of the model architecture\n",
    "model.summary()"
   ]
  },
  {
   "cell_type": "code",
   "execution_count": 37,
   "metadata": {
    "collapsed": false,
    "deletable": true,
    "editable": true
   },
   "outputs": [],
   "source": [
    "sgd = SGD(lr=0.001, momentum=0.9)\n",
    "model.compile(loss='binary_crossentropy',\n",
    "              optimizer=sgd,\n",
    "              metrics=['mae', 'categorical_accuracy'])"
   ]
  },
  {
   "cell_type": "code",
   "execution_count": 14,
   "metadata": {
    "collapsed": false,
    "deletable": true,
    "editable": true
   },
   "outputs": [
    {
     "name": "stdout",
     "output_type": "stream",
     "text": [
      "Train on 3777 samples, validate on 945 samples\n",
      "Epoch 1/10\n",
      "3777/3777 [==============================] - 183s - loss: 0.6654 - mean_absolute_error: 0.4820 - categorical_accuracy: 0.0424 - val_loss: 0.6045 - val_mean_absolute_error: 0.4490 - val_categorical_accuracy: 0.0307\n",
      "Epoch 2/10\n",
      "3777/3777 [==============================] - 187s - loss: 0.5430 - mean_absolute_error: 0.3779 - categorical_accuracy: 0.0657 - val_loss: 0.4069 - val_mean_absolute_error: 0.3107 - val_categorical_accuracy: 0.0339\n",
      "Epoch 3/10\n",
      "3777/3777 [==============================] - 161s - loss: 0.4300 - mean_absolute_error: 0.2793 - categorical_accuracy: 0.1075 - val_loss: 0.3422 - val_mean_absolute_error: 0.2531 - val_categorical_accuracy: 0.3693\n",
      "Epoch 4/10\n",
      "3777/3777 [==============================] - 161s - loss: 0.3818 - mean_absolute_error: 0.2404 - categorical_accuracy: 0.1859 - val_loss: 0.3211 - val_mean_absolute_error: 0.2307 - val_categorical_accuracy: 0.3693\n",
      "Epoch 5/10\n",
      "3777/3777 [==============================] - 186s - loss: 0.3635 - mean_absolute_error: 0.2256 - categorical_accuracy: 0.2388 - val_loss: 0.3114 - val_mean_absolute_error: 0.2194 - val_categorical_accuracy: 0.3693\n",
      "Epoch 6/10\n",
      "3777/3777 [==============================] - 193s - loss: 0.3541 - mean_absolute_error: 0.2188 - categorical_accuracy: 0.2629 - val_loss: 0.2971 - val_mean_absolute_error: 0.1988 - val_categorical_accuracy: 0.3693\n",
      "Epoch 7/10\n",
      "3777/3777 [==============================] - 204s - loss: 0.3439 - mean_absolute_error: 0.2100 - categorical_accuracy: 0.2801 - val_loss: 0.2963 - val_mean_absolute_error: 0.1986 - val_categorical_accuracy: 0.3693\n",
      "Epoch 8/10\n",
      "3777/3777 [==============================] - 191s - loss: 0.3416 - mean_absolute_error: 0.2070 - categorical_accuracy: 0.3129 - val_loss: 0.3018 - val_mean_absolute_error: 0.2080 - val_categorical_accuracy: 0.3693\n",
      "Epoch 9/10\n",
      "3777/3777 [==============================] - 239s - loss: 0.3376 - mean_absolute_error: 0.2048 - categorical_accuracy: 0.3124 - val_loss: 0.2967 - val_mean_absolute_error: 0.2004 - val_categorical_accuracy: 0.3693\n",
      "Epoch 10/10\n",
      "3777/3777 [==============================] - 203s - loss: 0.3365 - mean_absolute_error: 0.2048 - categorical_accuracy: 0.3169 - val_loss: 0.2911 - val_mean_absolute_error: 0.1908 - val_categorical_accuracy: 0.3693\n"
     ]
    }
   ],
   "source": [
    "batch_size = 12\n",
    "early_stopping_monitor = EarlyStopping(patience = 3)\n",
    "\n",
    "# Fit model on training data\n",
    "history = model.fit(X, Y,\n",
    "                    validation_split = 0.2,\n",
    "                    batch_size=batch_size,\n",
    "                    epochs = 10,\n",
    "                    callbacks = [early_stopping_monitor],\n",
    "                    verbose=1)\n",
    "\n",
    "# Save weights\n",
    "model.save_weights('model_weights.h5')"
   ]
  },
  {
   "cell_type": "code",
   "execution_count": 15,
   "metadata": {
    "collapsed": false,
    "deletable": true,
    "editable": true
   },
   "outputs": [
    {
     "data": {
      "image/png": "[encoded data removed]",
      "text/plain": [
       "<matplotlib.figure.Figure at 0x139bf8350>"
      ]
     },
     "metadata": {},
     "output_type": "display_data"
    }
   ],
   "source": [
    "plt.plot(history.history['val_categorical_accuracy'], alpha = 0.3, label = 'Validation accuracy')\n",
    "plt.plot(history.history['categorical_accuracy'], alpha =  0.3, label = 'Training accuracy')\n",
    "plt.xlabel(\"Epoch\")\n",
    "plt.ylabel(\"Validation accuracy\")\n",
    "plt.ylim([0,1])\n",
    "plt.legend(loc = 'best')\n",
    "plt.title('Model Validation Categorical Accuracy: 37%')\n",
    "plt.show()"
   ]
  },
  {
   "cell_type": "code",
   "execution_count": 16,
   "metadata": {
    "collapsed": false,
    "deletable": true,
    "editable": true
   },
   "outputs": [
    {
     "data": {
      "text/plain": [
       "(array([1, 1, 1, 0, 0, 0, 0, 0, 0, 0, 0, 0, 0, 0, 0, 0, 0, 0, 0, 0]),\n",
       " array([ 0.39271832,  0.3022871 ,  0.11303575,  0.18386842,  0.09626703,\n",
       "         0.22206926,  0.09747707,  0.03959856,  0.15719937,  0.0781518 ,\n",
       "         0.11428712,  0.21565834,  0.06276469,  0.10095867,  0.04510146,\n",
       "         0.04729734,  0.14038445,  0.03777122,  0.03528738,  0.05683421], dtype=float32))"
      ]
     },
     "execution_count": 16,
     "metadata": {},
     "output_type": "execute_result"
    }
   ],
   "source": [
    "# Predicted lables per movie\n",
    "preds = model.predict(X)\n",
    "Y[0], preds[0]"
   ]
  },
  {
   "cell_type": "markdown",
   "metadata": {},
   "source": [
    "### Precision and recall"
   ]
  },
  {
   "cell_type": "code",
   "execution_count": 17,
   "metadata": {
    "collapsed": false,
    "deletable": true,
    "editable": true
   },
   "outputs": [],
   "source": [
    "# Precision and Recall\n",
    "# --Precision: number of true positives over the number of true positives plus the number of false positives\n",
    "# --Recall: number of true positives over the number of true positives plus the number of false negatives\n",
    "precision = dict()\n",
    "average_precision = dict()\n",
    "recall_score = dict()\n",
    "recall = dict()\n",
    "for i in range(20):\n",
    "    precision[i], recall[i], _ = precision_recall_curve(Y[:, i],\n",
    "                                                        preds[:, i])\n",
    "    #average_precision[i] = average_precision_score(Y[:, i], preds[:, i])\n",
    "    recall_score[i] = recall[i].mean()\n",
    "    average_precision[i] = precision[i].mean()\n",
    "\n",
    "names = ['id','data']\n",
    "formats = ['f8','f8']\n",
    "dtype = dict(names = names, formats=formats)\n",
    "average_precision_np = pd.DataFrame(np.array(average_precision.items(), dtype=dtype))\n",
    "average_precision_np['genre'] = list(all_genres.columns.values)\n",
    "\n",
    "recall_score_np = pd.DataFrame(np.array(recall_score.items(), dtype=dtype))\n",
    "recall_score_np['genre'] = list(all_genres.columns.values)"
   ]
  },
  {
   "cell_type": "code",
   "execution_count": 18,
   "metadata": {
    "collapsed": false
   },
   "outputs": [
    {
     "name": "stdout",
     "output_type": "stream",
     "text": [
      "# Overall precision and recall #\n",
      "Mean Precision: 0.0643\n",
      "Mean Recall: 0.4865\n",
      "F1 Score: 0.1136\n"
     ]
    }
   ],
   "source": [
    "# Sort genres by precision and recall\n",
    "average_precision_np = average_precision_np.sort_values(by = 'data', ascending=[0])\n",
    "recall_score_np = recall_score_np.sort_values(by = 'data', ascending=[0])\n",
    "\n",
    "# Average precision and recall across labels\n",
    "mean_precision = average_precision_np.data.median()\n",
    "mean_recall = recall_score_np.data.mean()\n",
    "\n",
    "# F1 score\n",
    "F1 = 2*(mean_precision*mean_recall)/(mean_precision+mean_recall)\n",
    "\n",
    "# Print results\n",
    "print (\"# Overall precision and recall #\")\n",
    "print ('Mean Precision:'), round(mean_precision, 4)\n",
    "print ('Mean Recall:'), round(mean_recall, 4)\n",
    "print ('F1 Score:'), round(F1, 4)"
   ]
  },
  {
   "cell_type": "code",
   "execution_count": 19,
   "metadata": {
    "collapsed": false
   },
   "outputs": [
    {
     "data": {
      "image/png": "[encoded data removed]",
      "text/plain": [
       "<matplotlib.figure.Figure at 0x14b5a8650>"
      ]
     },
     "metadata": {},
     "output_type": "display_data"
    }
   ],
   "source": [
    "# Precision and recall by label\n",
    "y_pos = np.arange(len(average_precision_np.genre)) + 1\n",
    "\n",
    "fig = plt.figure(figsize=(15, 5))\n",
    "ax1 = fig.add_subplot(1, 2, 1)\n",
    "\n",
    "ax1 = plt.bar(y_pos, average_precision_np.data, align='center', alpha=0.8, color='b')\n",
    "ax1 = plt.xticks(y_pos, average_precision_np.genre, rotation=90)\n",
    "ax1 = plt.xlim([0,21])\n",
    "ax1 = plt.ylabel('Precision')\n",
    "ax1 = plt.title('Precision by Label\\nOverall Precision: {:.0f}%'.format(mean_precision*100))\n",
    "\n",
    "ax2 = fig.add_subplot(1, 2, 2)\n",
    "\n",
    "ax2 = plt.bar(y_pos, recall_score_np.data, align='center', alpha=0.8, color='b')\n",
    "ax2 = plt.xticks(y_pos, recall_score_np.genre, rotation=90)\n",
    "ax2 = plt.xlim([0,21])\n",
    "ax2 = plt.ylabel('Recall')\n",
    "ax2 = plt.title('Recall by Label\\nOverall Recall: {:.0f}%'.format(mean_recall*100))\n",
    "\n",
    "plt.show()"
   ]
  },
  {
   "cell_type": "markdown",
   "metadata": {},
   "source": [
    "## Pre-trained model"
   ]
  },
  {
   "cell_type": "markdown",
   "metadata": {},
   "source": [
    "### Xception"
   ]
  },
  {
   "cell_type": "code",
   "execution_count": 71,
   "metadata": {
    "collapsed": false
   },
   "outputs": [
    {
     "name": "stdout",
     "output_type": "stream",
     "text": [
      "____________________________________________________________________________________________________\n",
      "Layer (type)                     Output Shape          Param #     Connected to                     \n",
      "====================================================================================================\n",
      "input_22 (InputLayer)            (None, None, None, 3) 0                                            \n",
      "____________________________________________________________________________________________________\n",
      "block1_conv1 (Conv2D)            (None, None, None, 32 864         input_22[0][0]                   \n",
      "____________________________________________________________________________________________________\n",
      "block1_conv1_bn (BatchNormalizat (None, None, None, 32 128         block1_conv1[0][0]               \n",
      "____________________________________________________________________________________________________\n",
      "block1_conv1_act (Activation)    (None, None, None, 32 0           block1_conv1_bn[0][0]            \n",
      "____________________________________________________________________________________________________\n",
      "block1_conv2 (Conv2D)            (None, None, None, 64 18432       block1_conv1_act[0][0]           \n",
      "____________________________________________________________________________________________________\n",
      "block1_conv2_bn (BatchNormalizat (None, None, None, 64 256         block1_conv2[0][0]               \n",
      "____________________________________________________________________________________________________\n",
      "block1_conv2_act (Activation)    (None, None, None, 64 0           block1_conv2_bn[0][0]            \n",
      "____________________________________________________________________________________________________\n",
      "block2_sepconv1 (SeparableConv2D (None, None, None, 12 8768        block1_conv2_act[0][0]           \n",
      "____________________________________________________________________________________________________\n",
      "block2_sepconv1_bn (BatchNormali (None, None, None, 12 512         block2_sepconv1[0][0]            \n",
      "____________________________________________________________________________________________________\n",
      "block2_sepconv2_act (Activation) (None, None, None, 12 0           block2_sepconv1_bn[0][0]         \n",
      "____________________________________________________________________________________________________\n",
      "block2_sepconv2 (SeparableConv2D (None, None, None, 12 17536       block2_sepconv2_act[0][0]        \n",
      "____________________________________________________________________________________________________\n",
      "block2_sepconv2_bn (BatchNormali (None, None, None, 12 512         block2_sepconv2[0][0]            \n",
      "____________________________________________________________________________________________________\n",
      "conv2d_15 (Conv2D)               (None, None, None, 12 8192        block1_conv2_act[0][0]           \n",
      "____________________________________________________________________________________________________\n",
      "block2_pool (MaxPooling2D)       (None, None, None, 12 0           block2_sepconv2_bn[0][0]         \n",
      "____________________________________________________________________________________________________\n",
      "batch_normalization_5 (BatchNorm (None, None, None, 12 512         conv2d_15[0][0]                  \n",
      "____________________________________________________________________________________________________\n",
      "add_13 (Add)                     (None, None, None, 12 0           block2_pool[0][0]                \n",
      "                                                                   batch_normalization_5[0][0]      \n",
      "____________________________________________________________________________________________________\n",
      "block3_sepconv1_act (Activation) (None, None, None, 12 0           add_13[0][0]                     \n",
      "____________________________________________________________________________________________________\n",
      "block3_sepconv1 (SeparableConv2D (None, None, None, 25 33920       block3_sepconv1_act[0][0]        \n",
      "____________________________________________________________________________________________________\n",
      "block3_sepconv1_bn (BatchNormali (None, None, None, 25 1024        block3_sepconv1[0][0]            \n",
      "____________________________________________________________________________________________________\n",
      "block3_sepconv2_act (Activation) (None, None, None, 25 0           block3_sepconv1_bn[0][0]         \n",
      "____________________________________________________________________________________________________\n",
      "block3_sepconv2 (SeparableConv2D (None, None, None, 25 67840       block3_sepconv2_act[0][0]        \n",
      "____________________________________________________________________________________________________\n",
      "block3_sepconv2_bn (BatchNormali (None, None, None, 25 1024        block3_sepconv2[0][0]            \n",
      "____________________________________________________________________________________________________\n",
      "conv2d_16 (Conv2D)               (None, None, None, 25 32768       add_13[0][0]                     \n",
      "____________________________________________________________________________________________________\n",
      "block3_pool (MaxPooling2D)       (None, None, None, 25 0           block3_sepconv2_bn[0][0]         \n",
      "____________________________________________________________________________________________________\n",
      "batch_normalization_6 (BatchNorm (None, None, None, 25 1024        conv2d_16[0][0]                  \n",
      "____________________________________________________________________________________________________\n",
      "add_14 (Add)                     (None, None, None, 25 0           block3_pool[0][0]                \n",
      "                                                                   batch_normalization_6[0][0]      \n",
      "____________________________________________________________________________________________________\n",
      "block4_sepconv1_act (Activation) (None, None, None, 25 0           add_14[0][0]                     \n",
      "____________________________________________________________________________________________________\n",
      "block4_sepconv1 (SeparableConv2D (None, None, None, 72 188672      block4_sepconv1_act[0][0]        \n",
      "____________________________________________________________________________________________________\n",
      "block4_sepconv1_bn (BatchNormali (None, None, None, 72 2912        block4_sepconv1[0][0]            \n",
      "____________________________________________________________________________________________________\n",
      "block4_sepconv2_act (Activation) (None, None, None, 72 0           block4_sepconv1_bn[0][0]         \n",
      "____________________________________________________________________________________________________\n",
      "block4_sepconv2 (SeparableConv2D (None, None, None, 72 536536      block4_sepconv2_act[0][0]        \n",
      "____________________________________________________________________________________________________\n",
      "block4_sepconv2_bn (BatchNormali (None, None, None, 72 2912        block4_sepconv2[0][0]            \n",
      "____________________________________________________________________________________________________\n",
      "conv2d_17 (Conv2D)               (None, None, None, 72 186368      add_14[0][0]                     \n",
      "____________________________________________________________________________________________________\n",
      "block4_pool (MaxPooling2D)       (None, None, None, 72 0           block4_sepconv2_bn[0][0]         \n",
      "____________________________________________________________________________________________________\n",
      "batch_normalization_7 (BatchNorm (None, None, None, 72 2912        conv2d_17[0][0]                  \n",
      "____________________________________________________________________________________________________\n",
      "add_15 (Add)                     (None, None, None, 72 0           block4_pool[0][0]                \n",
      "                                                                   batch_normalization_7[0][0]      \n",
      "____________________________________________________________________________________________________\n",
      "block5_sepconv1_act (Activation) (None, None, None, 72 0           add_15[0][0]                     \n",
      "____________________________________________________________________________________________________\n",
      "block5_sepconv1 (SeparableConv2D (None, None, None, 72 536536      block5_sepconv1_act[0][0]        \n",
      "____________________________________________________________________________________________________\n",
      "block5_sepconv1_bn (BatchNormali (None, None, None, 72 2912        block5_sepconv1[0][0]            \n",
      "____________________________________________________________________________________________________\n",
      "block5_sepconv2_act (Activation) (None, None, None, 72 0           block5_sepconv1_bn[0][0]         \n",
      "____________________________________________________________________________________________________\n",
      "block5_sepconv2 (SeparableConv2D (None, None, None, 72 536536      block5_sepconv2_act[0][0]        \n",
      "____________________________________________________________________________________________________\n",
      "block5_sepconv2_bn (BatchNormali (None, None, None, 72 2912        block5_sepconv2[0][0]            \n",
      "____________________________________________________________________________________________________\n",
      "block5_sepconv3_act (Activation) (None, None, None, 72 0           block5_sepconv2_bn[0][0]         \n",
      "____________________________________________________________________________________________________\n",
      "block5_sepconv3 (SeparableConv2D (None, None, None, 72 536536      block5_sepconv3_act[0][0]        \n",
      "____________________________________________________________________________________________________\n",
      "block5_sepconv3_bn (BatchNormali (None, None, None, 72 2912        block5_sepconv3[0][0]            \n",
      "____________________________________________________________________________________________________\n",
      "add_16 (Add)                     (None, None, None, 72 0           block5_sepconv3_bn[0][0]         \n",
      "                                                                   add_15[0][0]                     \n",
      "____________________________________________________________________________________________________\n",
      "block6_sepconv1_act (Activation) (None, None, None, 72 0           add_16[0][0]                     \n",
      "____________________________________________________________________________________________________\n",
      "block6_sepconv1 (SeparableConv2D (None, None, None, 72 536536      block6_sepconv1_act[0][0]        \n",
      "____________________________________________________________________________________________________\n",
      "block6_sepconv1_bn (BatchNormali (None, None, None, 72 2912        block6_sepconv1[0][0]            \n",
      "____________________________________________________________________________________________________\n",
      "block6_sepconv2_act (Activation) (None, None, None, 72 0           block6_sepconv1_bn[0][0]         \n",
      "____________________________________________________________________________________________________\n",
      "block6_sepconv2 (SeparableConv2D (None, None, None, 72 536536      block6_sepconv2_act[0][0]        \n",
      "____________________________________________________________________________________________________\n",
      "block6_sepconv2_bn (BatchNormali (None, None, None, 72 2912        block6_sepconv2[0][0]            \n",
      "____________________________________________________________________________________________________\n",
      "block6_sepconv3_act (Activation) (None, None, None, 72 0           block6_sepconv2_bn[0][0]         \n",
      "____________________________________________________________________________________________________\n",
      "block6_sepconv3 (SeparableConv2D (None, None, None, 72 536536      block6_sepconv3_act[0][0]        \n",
      "____________________________________________________________________________________________________\n",
      "block6_sepconv3_bn (BatchNormali (None, None, None, 72 2912        block6_sepconv3[0][0]            \n",
      "____________________________________________________________________________________________________\n",
      "add_17 (Add)                     (None, None, None, 72 0           block6_sepconv3_bn[0][0]         \n",
      "                                                                   add_16[0][0]                     \n",
      "____________________________________________________________________________________________________\n",
      "block7_sepconv1_act (Activation) (None, None, None, 72 0           add_17[0][0]                     \n",
      "____________________________________________________________________________________________________\n",
      "block7_sepconv1 (SeparableConv2D (None, None, None, 72 536536      block7_sepconv1_act[0][0]        \n",
      "____________________________________________________________________________________________________\n",
      "block7_sepconv1_bn (BatchNormali (None, None, None, 72 2912        block7_sepconv1[0][0]            \n",
      "____________________________________________________________________________________________________\n",
      "block7_sepconv2_act (Activation) (None, None, None, 72 0           block7_sepconv1_bn[0][0]         \n",
      "____________________________________________________________________________________________________\n",
      "block7_sepconv2 (SeparableConv2D (None, None, None, 72 536536      block7_sepconv2_act[0][0]        \n",
      "____________________________________________________________________________________________________\n",
      "block7_sepconv2_bn (BatchNormali (None, None, None, 72 2912        block7_sepconv2[0][0]            \n",
      "____________________________________________________________________________________________________\n",
      "block7_sepconv3_act (Activation) (None, None, None, 72 0           block7_sepconv2_bn[0][0]         \n",
      "____________________________________________________________________________________________________\n",
      "block7_sepconv3 (SeparableConv2D (None, None, None, 72 536536      block7_sepconv3_act[0][0]        \n",
      "____________________________________________________________________________________________________\n",
      "block7_sepconv3_bn (BatchNormali (None, None, None, 72 2912        block7_sepconv3[0][0]            \n",
      "____________________________________________________________________________________________________\n",
      "add_18 (Add)                     (None, None, None, 72 0           block7_sepconv3_bn[0][0]         \n",
      "                                                                   add_17[0][0]                     \n",
      "____________________________________________________________________________________________________\n",
      "block8_sepconv1_act (Activation) (None, None, None, 72 0           add_18[0][0]                     \n",
      "____________________________________________________________________________________________________\n",
      "block8_sepconv1 (SeparableConv2D (None, None, None, 72 536536      block8_sepconv1_act[0][0]        \n",
      "____________________________________________________________________________________________________\n",
      "block8_sepconv1_bn (BatchNormali (None, None, None, 72 2912        block8_sepconv1[0][0]            \n",
      "____________________________________________________________________________________________________\n",
      "block8_sepconv2_act (Activation) (None, None, None, 72 0           block8_sepconv1_bn[0][0]         \n",
      "____________________________________________________________________________________________________\n",
      "block8_sepconv2 (SeparableConv2D (None, None, None, 72 536536      block8_sepconv2_act[0][0]        \n",
      "____________________________________________________________________________________________________\n",
      "block8_sepconv2_bn (BatchNormali (None, None, None, 72 2912        block8_sepconv2[0][0]            \n",
      "____________________________________________________________________________________________________\n",
      "block8_sepconv3_act (Activation) (None, None, None, 72 0           block8_sepconv2_bn[0][0]         \n",
      "____________________________________________________________________________________________________\n",
      "block8_sepconv3 (SeparableConv2D (None, None, None, 72 536536      block8_sepconv3_act[0][0]        \n",
      "____________________________________________________________________________________________________\n",
      "block8_sepconv3_bn (BatchNormali (None, None, None, 72 2912        block8_sepconv3[0][0]            \n",
      "____________________________________________________________________________________________________\n",
      "add_19 (Add)                     (None, None, None, 72 0           block8_sepconv3_bn[0][0]         \n",
      "                                                                   add_18[0][0]                     \n",
      "____________________________________________________________________________________________________\n",
      "block9_sepconv1_act (Activation) (None, None, None, 72 0           add_19[0][0]                     \n",
      "____________________________________________________________________________________________________\n",
      "block9_sepconv1 (SeparableConv2D (None, None, None, 72 536536      block9_sepconv1_act[0][0]        \n",
      "____________________________________________________________________________________________________\n",
      "block9_sepconv1_bn (BatchNormali (None, None, None, 72 2912        block9_sepconv1[0][0]            \n",
      "____________________________________________________________________________________________________\n",
      "block9_sepconv2_act (Activation) (None, None, None, 72 0           block9_sepconv1_bn[0][0]         \n",
      "____________________________________________________________________________________________________\n",
      "block9_sepconv2 (SeparableConv2D (None, None, None, 72 536536      block9_sepconv2_act[0][0]        \n",
      "____________________________________________________________________________________________________\n",
      "block9_sepconv2_bn (BatchNormali (None, None, None, 72 2912        block9_sepconv2[0][0]            \n",
      "____________________________________________________________________________________________________\n",
      "block9_sepconv3_act (Activation) (None, None, None, 72 0           block9_sepconv2_bn[0][0]         \n",
      "____________________________________________________________________________________________________\n",
      "block9_sepconv3 (SeparableConv2D (None, None, None, 72 536536      block9_sepconv3_act[0][0]        \n",
      "____________________________________________________________________________________________________\n",
      "block9_sepconv3_bn (BatchNormali (None, None, None, 72 2912        block9_sepconv3[0][0]            \n",
      "____________________________________________________________________________________________________\n",
      "add_20 (Add)                     (None, None, None, 72 0           block9_sepconv3_bn[0][0]         \n",
      "                                                                   add_19[0][0]                     \n",
      "____________________________________________________________________________________________________\n",
      "block10_sepconv1_act (Activation (None, None, None, 72 0           add_20[0][0]                     \n",
      "____________________________________________________________________________________________________\n",
      "block10_sepconv1 (SeparableConv2 (None, None, None, 72 536536      block10_sepconv1_act[0][0]       \n",
      "____________________________________________________________________________________________________\n",
      "block10_sepconv1_bn (BatchNormal (None, None, None, 72 2912        block10_sepconv1[0][0]           \n",
      "____________________________________________________________________________________________________\n",
      "block10_sepconv2_act (Activation (None, None, None, 72 0           block10_sepconv1_bn[0][0]        \n",
      "____________________________________________________________________________________________________\n",
      "block10_sepconv2 (SeparableConv2 (None, None, None, 72 536536      block10_sepconv2_act[0][0]       \n",
      "____________________________________________________________________________________________________\n",
      "block10_sepconv2_bn (BatchNormal (None, None, None, 72 2912        block10_sepconv2[0][0]           \n",
      "____________________________________________________________________________________________________\n",
      "block10_sepconv3_act (Activation (None, None, None, 72 0           block10_sepconv2_bn[0][0]        \n",
      "____________________________________________________________________________________________________\n",
      "block10_sepconv3 (SeparableConv2 (None, None, None, 72 536536      block10_sepconv3_act[0][0]       \n",
      "____________________________________________________________________________________________________\n",
      "block10_sepconv3_bn (BatchNormal (None, None, None, 72 2912        block10_sepconv3[0][0]           \n",
      "____________________________________________________________________________________________________\n",
      "add_21 (Add)                     (None, None, None, 72 0           block10_sepconv3_bn[0][0]        \n",
      "                                                                   add_20[0][0]                     \n",
      "____________________________________________________________________________________________________\n",
      "block11_sepconv1_act (Activation (None, None, None, 72 0           add_21[0][0]                     \n",
      "____________________________________________________________________________________________________\n",
      "block11_sepconv1 (SeparableConv2 (None, None, None, 72 536536      block11_sepconv1_act[0][0]       \n",
      "____________________________________________________________________________________________________\n",
      "block11_sepconv1_bn (BatchNormal (None, None, None, 72 2912        block11_sepconv1[0][0]           \n",
      "____________________________________________________________________________________________________\n",
      "block11_sepconv2_act (Activation (None, None, None, 72 0           block11_sepconv1_bn[0][0]        \n",
      "____________________________________________________________________________________________________\n",
      "block11_sepconv2 (SeparableConv2 (None, None, None, 72 536536      block11_sepconv2_act[0][0]       \n",
      "____________________________________________________________________________________________________\n",
      "block11_sepconv2_bn (BatchNormal (None, None, None, 72 2912        block11_sepconv2[0][0]           \n",
      "____________________________________________________________________________________________________\n",
      "block11_sepconv3_act (Activation (None, None, None, 72 0           block11_sepconv2_bn[0][0]        \n",
      "____________________________________________________________________________________________________\n",
      "block11_sepconv3 (SeparableConv2 (None, None, None, 72 536536      block11_sepconv3_act[0][0]       \n",
      "____________________________________________________________________________________________________\n",
      "block11_sepconv3_bn (BatchNormal (None, None, None, 72 2912        block11_sepconv3[0][0]           \n",
      "____________________________________________________________________________________________________\n",
      "add_22 (Add)                     (None, None, None, 72 0           block11_sepconv3_bn[0][0]        \n",
      "                                                                   add_21[0][0]                     \n",
      "____________________________________________________________________________________________________\n",
      "block12_sepconv1_act (Activation (None, None, None, 72 0           add_22[0][0]                     \n",
      "____________________________________________________________________________________________________\n",
      "block12_sepconv1 (SeparableConv2 (None, None, None, 72 536536      block12_sepconv1_act[0][0]       \n",
      "____________________________________________________________________________________________________\n",
      "block12_sepconv1_bn (BatchNormal (None, None, None, 72 2912        block12_sepconv1[0][0]           \n",
      "____________________________________________________________________________________________________\n",
      "block12_sepconv2_act (Activation (None, None, None, 72 0           block12_sepconv1_bn[0][0]        \n",
      "____________________________________________________________________________________________________\n",
      "block12_sepconv2 (SeparableConv2 (None, None, None, 72 536536      block12_sepconv2_act[0][0]       \n",
      "____________________________________________________________________________________________________\n",
      "block12_sepconv2_bn (BatchNormal (None, None, None, 72 2912        block12_sepconv2[0][0]           \n",
      "____________________________________________________________________________________________________\n",
      "block12_sepconv3_act (Activation (None, None, None, 72 0           block12_sepconv2_bn[0][0]        \n",
      "____________________________________________________________________________________________________\n",
      "block12_sepconv3 (SeparableConv2 (None, None, None, 72 536536      block12_sepconv3_act[0][0]       \n",
      "____________________________________________________________________________________________________\n",
      "block12_sepconv3_bn (BatchNormal (None, None, None, 72 2912        block12_sepconv3[0][0]           \n",
      "____________________________________________________________________________________________________\n",
      "add_23 (Add)                     (None, None, None, 72 0           block12_sepconv3_bn[0][0]        \n",
      "                                                                   add_22[0][0]                     \n",
      "____________________________________________________________________________________________________\n",
      "block13_sepconv1_act (Activation (None, None, None, 72 0           add_23[0][0]                     \n",
      "____________________________________________________________________________________________________\n",
      "block13_sepconv1 (SeparableConv2 (None, None, None, 72 536536      block13_sepconv1_act[0][0]       \n",
      "____________________________________________________________________________________________________\n",
      "block13_sepconv1_bn (BatchNormal (None, None, None, 72 2912        block13_sepconv1[0][0]           \n",
      "____________________________________________________________________________________________________\n",
      "block13_sepconv2_act (Activation (None, None, None, 72 0           block13_sepconv1_bn[0][0]        \n",
      "____________________________________________________________________________________________________\n",
      "block13_sepconv2 (SeparableConv2 (None, None, None, 10 752024      block13_sepconv2_act[0][0]       \n",
      "____________________________________________________________________________________________________\n",
      "block13_sepconv2_bn (BatchNormal (None, None, None, 10 4096        block13_sepconv2[0][0]           \n",
      "____________________________________________________________________________________________________\n",
      "conv2d_18 (Conv2D)               (None, None, None, 10 745472      add_23[0][0]                     \n",
      "____________________________________________________________________________________________________\n",
      "block13_pool (MaxPooling2D)      (None, None, None, 10 0           block13_sepconv2_bn[0][0]        \n",
      "____________________________________________________________________________________________________\n",
      "batch_normalization_8 (BatchNorm (None, None, None, 10 4096        conv2d_18[0][0]                  \n",
      "____________________________________________________________________________________________________\n",
      "add_24 (Add)                     (None, None, None, 10 0           block13_pool[0][0]               \n",
      "                                                                   batch_normalization_8[0][0]      \n",
      "____________________________________________________________________________________________________\n",
      "block14_sepconv1 (SeparableConv2 (None, None, None, 15 1582080     add_24[0][0]                     \n",
      "____________________________________________________________________________________________________\n",
      "block14_sepconv1_bn (BatchNormal (None, None, None, 15 6144        block14_sepconv1[0][0]           \n",
      "____________________________________________________________________________________________________\n",
      "block14_sepconv1_act (Activation (None, None, None, 15 0           block14_sepconv1_bn[0][0]        \n",
      "____________________________________________________________________________________________________\n",
      "block14_sepconv2 (SeparableConv2 (None, None, None, 20 3159552     block14_sepconv1_act[0][0]       \n",
      "____________________________________________________________________________________________________\n",
      "block14_sepconv2_bn (BatchNormal (None, None, None, 20 8192        block14_sepconv2[0][0]           \n",
      "____________________________________________________________________________________________________\n",
      "block14_sepconv2_act (Activation (None, None, None, 20 0           block14_sepconv2_bn[0][0]        \n",
      "====================================================================================================\n",
      "Total params: 20,861,480\n",
      "Trainable params: 20,806,952\n",
      "Non-trainable params: 54,528\n",
      "____________________________________________________________________________________________________\n",
      "_________________________________________________________________\n",
      "Layer (type)                 Output Shape              Param #   \n",
      "=================================================================\n",
      "image_input (InputLayer)     (None, 138, 92, 3)        0         \n",
      "_________________________________________________________________\n",
      "xception (Model)             multiple                  20861480  \n",
      "_________________________________________________________________\n",
      "flatten (Flatten)            (None, 30720)             0         \n",
      "_________________________________________________________________\n",
      "fc1 (Dense)                  (None, 64)                1966144   \n",
      "_________________________________________________________________\n",
      "fc2 (Dense)                  (None, 32)                2080      \n",
      "_________________________________________________________________\n",
      "predictions (Dense)          (None, 20)                660       \n",
      "=================================================================\n",
      "Total params: 22,830,364\n",
      "Trainable params: 22,775,836\n",
      "Non-trainable params: 54,528\n",
      "_________________________________________________________________\n"
     ]
    },
    {
     "name": "stderr",
     "output_type": "stream",
     "text": [
      "/Users/Fanta/anaconda/lib/python2.7/site-packages/ipykernel/__main__.py:20: UserWarning: Update your `Model` call to the Keras 2 API: `Model(outputs=Tensor(\"pr..., inputs=Tensor(\"im...)`\n"
     ]
    }
   ],
   "source": [
    "# Adapted from: https://github.com/fchollet/keras/issues/4465\n",
    "\n",
    "# Get the convolutional part of a Xception network trained on ImageNet\n",
    "model_xception_conv = Xception(weights='imagenet', include_top=False)\n",
    "model_xception_conv.summary()\n",
    "\n",
    "# Create input format (138,92,3)\n",
    "input = Input(shape=(138,92,3), name = 'image_input')\n",
    "\n",
    "# Use the generated model \n",
    "output_xception_conv = model_xception_conv(input)\n",
    "\n",
    "# Add fully-connected layers \n",
    "layers = Flatten(name='flatten')(output_xception_conv)\n",
    "layers = Dense(64, activation='relu', name='fc1')(layers)\n",
    "layers = Dense(32, activation='relu', name='fc2')(layers)\n",
    "layers = Dense(20, activation='sigmoid', name='predictions')(layers)\n",
    "\n",
    "# Create the model for genre prediction \n",
    "pre_model = Model(input=input, output=layers)\n",
    "\n",
    "# In the summary, weights and layers from Xception part will be hidden, but they will be fit during the training\n",
    "pre_model.summary()\n"
   ]
  },
  {
   "cell_type": "code",
   "execution_count": 72,
   "metadata": {
    "collapsed": true
   },
   "outputs": [],
   "source": [
    "# Compile the model\n",
    "sgd = SGD(lr=0.01, momentum=0.9)\n",
    "pre_model.compile(loss='binary_crossentropy',\n",
    "              optimizer=sgd,\n",
    "              metrics=['mae', 'categorical_accuracy'])"
   ]
  },
  {
   "cell_type": "code",
   "execution_count": 73,
   "metadata": {
    "collapsed": false
   },
   "outputs": [
    {
     "name": "stdout",
     "output_type": "stream",
     "text": [
      "Train on 3777 samples, validate on 945 samples\n",
      "Epoch 1/10\n",
      "3777/3777 [==============================] - 9079s - loss: 0.3156 - mean_absolute_error: 0.1860 - categorical_accuracy: 0.3325 - val_loss: 0.2859 - val_mean_absolute_error: 0.1551 - val_categorical_accuracy: 0.3693\n",
      "Epoch 2/10\n",
      "3777/3777 [==============================] - 10006s - loss: 0.2733 - mean_absolute_error: 0.1572 - categorical_accuracy: 0.3466 - val_loss: 0.2769 - val_mean_absolute_error: 0.1599 - val_categorical_accuracy: 0.3587\n",
      "Epoch 3/10\n",
      "3777/3777 [==============================] - 3858s - loss: 0.2578 - mean_absolute_error: 0.1501 - categorical_accuracy: 0.3783 - val_loss: 0.2736 - val_mean_absolute_error: 0.1507 - val_categorical_accuracy: 0.3577\n",
      "Epoch 4/10\n",
      "3777/3777 [==============================] - 2231s - loss: 0.2414 - mean_absolute_error: 0.1414 - categorical_accuracy: 0.4136 - val_loss: 0.2742 - val_mean_absolute_error: 0.1503 - val_categorical_accuracy: 0.3566\n",
      "Epoch 5/10\n",
      "3777/3777 [==============================] - 2440s - loss: 0.2229 - mean_absolute_error: 0.1317 - categorical_accuracy: 0.4451 - val_loss: 0.2821 - val_mean_absolute_error: 0.1558 - val_categorical_accuracy: 0.3122\n",
      "Epoch 6/10\n",
      "3777/3777 [==============================] - 2341s - loss: 0.2034 - mean_absolute_error: 0.1214 - categorical_accuracy: 0.5126 - val_loss: 0.2987 - val_mean_absolute_error: 0.1429 - val_categorical_accuracy: 0.3016\n",
      "Epoch 7/10\n",
      "3777/3777 [==============================] - 2323s - loss: 0.1808 - mean_absolute_error: 0.1086 - categorical_accuracy: 0.5579 - val_loss: 0.3132 - val_mean_absolute_error: 0.1422 - val_categorical_accuracy: 0.2762\n"
     ]
    }
   ],
   "source": [
    "# fine-tune the model\n",
    "batch_size = 12\n",
    "history = pre_model.fit(X, Y,\n",
    "                    validation_split = 0.2,\n",
    "                    batch_size=batch_size,\n",
    "                    epochs = 10,\n",
    "                    callbacks = [early_stopping_monitor],\n",
    "                    verbose=1)"
   ]
  },
  {
   "cell_type": "code",
   "execution_count": 81,
   "metadata": {
    "collapsed": false
   },
   "outputs": [
    {
     "data": {
      "image/png": "[encoded data removed]",
      "text/plain": [
       "<matplotlib.figure.Figure at 0x289ef23d0>"
      ]
     },
     "metadata": {},
     "output_type": "display_data"
    }
   ],
   "source": [
    "plt.plot(history.history['val_categorical_accuracy'], alpha = 0.3, label = 'Validation accuracy')\n",
    "plt.plot(history.history['categorical_accuracy'], alpha =  0.3, label = 'Training accuracy')\n",
    "plt.xlabel(\"Epoch\")\n",
    "plt.ylabel(\"Validation accuracy\")\n",
    "plt.ylim([0,1])\n",
    "plt.legend(loc = 'best')\n",
    "plt.title('Categorical Accuracy')\n",
    "plt.show()"
   ]
  },
  {
   "cell_type": "markdown",
   "metadata": {},
   "source": [
    "### Precision and recall - Pre-trained model"
   ]
  },
  {
   "cell_type": "code",
   "execution_count": 75,
   "metadata": {
    "collapsed": false
   },
   "outputs": [
    {
     "data": {
      "text/plain": [
       "(array([1, 1, 1, 0, 0, 0, 0, 0, 0, 0, 0, 0, 0, 0, 0, 0, 0, 0, 0, 0]),\n",
       " array([ 0.50916278,  0.85192734,  0.11671957,  0.20960629,  0.02811764,\n",
       "         0.00539372,  0.02131403,  0.02724585,  0.04951889,  0.00251335,\n",
       "         0.03958828,  0.08864605,  0.03010281,  0.03536241,  0.01783853,\n",
       "         0.06806856,  0.40521809,  0.06499737,  0.0115754 ,  0.02250414], dtype=float32))"
      ]
     },
     "execution_count": 75,
     "metadata": {},
     "output_type": "execute_result"
    }
   ],
   "source": [
    "# Predicted lables per movie\n",
    "preds = pre_model.predict(X)\n",
    "Y[0], preds[0]"
   ]
  },
  {
   "cell_type": "code",
   "execution_count": 76,
   "metadata": {
    "collapsed": true
   },
   "outputs": [],
   "source": [
    "# Precision and Recall\n",
    "# --Precision: number of true positives over the number of true positives plus the number of false positives\n",
    "# --Recall: number of true positives over the number of true positives plus the number of false negatives\n",
    "precision = dict()\n",
    "average_precision = dict()\n",
    "recall_score = dict()\n",
    "recall = dict()\n",
    "for i in range(20):\n",
    "    precision[i], recall[i], _ = precision_recall_curve(Y[:, i],\n",
    "                                                        preds[:, i])\n",
    "    #average_precision[i] = average_precision_score(Y[:, i], preds[:, i])\n",
    "    recall_score[i] = recall[i].mean()\n",
    "    average_precision[i] = precision[i].mean()\n",
    "\n",
    "names = ['id','data']\n",
    "formats = ['f8','f8']\n",
    "dtype = dict(names = names, formats=formats)\n",
    "average_precision_np = pd.DataFrame(np.array(average_precision.items(), dtype=dtype))\n",
    "average_precision_np['genre'] = list(all_genres.columns.values)\n",
    "\n",
    "recall_score_np = pd.DataFrame(np.array(recall_score.items(), dtype=dtype))\n",
    "recall_score_np['genre'] = list(all_genres.columns.values)"
   ]
  },
  {
   "cell_type": "code",
   "execution_count": 77,
   "metadata": {
    "collapsed": false
   },
   "outputs": [
    {
     "name": "stdout",
     "output_type": "stream",
     "text": [
      "# Overall precision and recall - Pre-trained model #\n",
      "Mean Precision: 0.2058\n",
      "Mean Recall: 0.834\n",
      "F1 Score: 0.3302\n"
     ]
    }
   ],
   "source": [
    "# Sort genres by precision and recall\n",
    "average_precision_np = average_precision_np.sort_values(by = 'data', ascending=[0])\n",
    "recall_score_np = recall_score_np.sort_values(by = 'data', ascending=[0])\n",
    "\n",
    "# Average precision and recall across labels\n",
    "mean_precision = average_precision_np.data.median()\n",
    "mean_recall = recall_score_np.data.mean()\n",
    "\n",
    "# F1 score\n",
    "F1 = 2*(mean_precision*mean_recall)/(mean_precision+mean_recall)\n",
    "\n",
    "# Print results\n",
    "print (\"# Overall precision and recall - Pre-trained model #\")\n",
    "print ('Mean Precision:'), round(mean_precision, 4)\n",
    "print ('Mean Recall:'), round(mean_recall, 4)\n",
    "print ('F1 Score:'), round(F1, 4)"
   ]
  },
  {
   "cell_type": "code",
   "execution_count": 78,
   "metadata": {
    "collapsed": false
   },
   "outputs": [
    {
     "data": {
      "image/png": "[encoded data removed]",
      "text/plain": [
       "<matplotlib.figure.Figure at 0x29f5cc5d0>"
      ]
     },
     "metadata": {},
     "output_type": "display_data"
    }
   ],
   "source": [
    "# Precision and recall by label\n",
    "y_pos = np.arange(len(average_precision_np.genre)) + 1\n",
    "\n",
    "fig = plt.figure(figsize=(15, 5))\n",
    "ax1 = fig.add_subplot(1, 2, 1)\n",
    "\n",
    "ax1 = plt.bar(y_pos, average_precision_np.data, align='center', alpha=0.8, color='b')\n",
    "ax1 = plt.xticks(y_pos, average_precision_np.genre, rotation=90)\n",
    "ax1 = plt.xlim([0,21])\n",
    "ax1 = plt.ylabel('Precision')\n",
    "ax1 = plt.title('Precision by Label\\nOverall Precision: {:.0f}%'.format(mean_precision*100))\n",
    "\n",
    "ax2 = fig.add_subplot(1, 2, 2)\n",
    "\n",
    "ax2 = plt.bar(y_pos, recall_score_np.data, align='center', alpha=0.8, color='b')\n",
    "ax2 = plt.xticks(y_pos, recall_score_np.genre, rotation=90)\n",
    "ax2 = plt.xlim([0,21])\n",
    "ax2 = plt.ylabel('Recall')\n",
    "ax2 = plt.title('Recall by Label\\nOverall Recall: {:.0f}%'.format(mean_recall*100))\n",
    "\n",
    "plt.show()"
   ]
  },
  {
   "cell_type": "code",
   "execution_count": null,
   "metadata": {
    "collapsed": true
   },
   "outputs": [],
   "source": []
  }
 ],
 "metadata": {
  "anaconda-cloud": {},
  "kernelspec": {
   "display_name": "Python [Root]",
   "language": "python",
   "name": "Python [Root]"
  },
  "language_info": {
   "codemirror_mode": {
    "name": "ipython",
    "version": 2
   },
   "file_extension": ".py",
   "mimetype": "text/x-python",
   "name": "python",
   "nbconvert_exporter": "python",
   "pygments_lexer": "ipython2",
   "version": "2.7.12"
  }
 },
 "nbformat": 4,
 "nbformat_minor": 2
}
