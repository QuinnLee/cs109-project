{
 "cells": [
  {
   "cell_type": "code",
   "execution_count": 22,
   "metadata": {
    "collapsed": false
   },
   "outputs": [],
   "source": [
    "import json\n",
    "from itertools import groupby"
   ]
  },
  {
   "cell_type": "code",
   "execution_count": 23,
   "metadata": {
    "collapsed": true
   },
   "outputs": [],
   "source": [
    "def merge_two_dicts(x, y):\n",
    "    \"\"\"Given two dicts, merge them into a new dict as a shallow copy.\"\"\"\n",
    "    z = x.copy()\n",
    "    z.update(y)\n",
    "    return z"
   ]
  },
  {
   "cell_type": "code",
   "execution_count": 24,
   "metadata": {
    "collapsed": false
   },
   "outputs": [
    {
     "name": "stdout",
     "output_type": "stream",
     "text": [
      "51512\n"
     ]
    }
   ],
   "source": [
    "data = []\n",
    "\n",
    "with open('../../data/raw/themoviedb-4-16-2017.json') as data_file:\n",
    "    data.extend(json.loads(data_file.read()))\n",
    "\n",
    "print(len(data))"
   ]
  },
  {
   "cell_type": "code",
   "execution_count": null,
   "metadata": {
    "collapsed": false
   },
   "outputs": [],
   "source": [
    "# Count the number of people in each department\n",
    "\n",
    "for m in data:\n",
    "    m['crew_count'] = len(m.get('crew', []))\n",
    "    m['cast_count'] = len(m.get('cast', []))\n",
    "    m['genre_count'] = len(m.get('genres', []))\n",
    "    m['release_date_count'] = len(m.get('release_dates', []))"
   ]
  },
  {
   "cell_type": "code",
   "execution_count": null,
   "metadata": {
    "collapsed": false
   },
   "outputs": [],
   "source": [
    "index = 0\n",
    "total_movies = len(data) -1\n",
    "\n",
    "while(index <= total_movies):\n",
    "    m = data[index]\n",
    "    \n",
    "    # Flatten crew\n",
    "    groups = []\n",
    "    crew_dict = dict()\n",
    "\n",
    "    for key, group in groupby(m.get('crew', []), lambda x: x['department'] + x['job']):\n",
    "        groups.append(list(group))    # Store group iterator as a list\n",
    "        for group in groups:\n",
    "            group_dict = dict()\n",
    "            for i, j in enumerate(group):\n",
    "                if i is 0:\n",
    "                    group_dict[\"{}.{}\".format(j['department'],j['job'])] =  j['name'] \n",
    "                else:\n",
    "                    group_dict[\"{}.{}.{}\".format(j['department'],i,j['job'])] = j['name'] \n",
    "                    \n",
    "            crew_dict = merge_two_dicts(group_dict, crew_dict)\n",
    "    \n",
    "    groups = []\n",
    "    cast_dict = dict()\n",
    "\n",
    "    # Flatten cast\n",
    "    for key, group in groupby(m.get('cast', []), lambda x: x['order']):\n",
    "        groups.append(list(group))    # Store group iterator as a list\n",
    "        for group in groups:\n",
    "            group_dict = {\"cast.{}\".format(j['order']): j['name'] for i, j in enumerate(group)}\n",
    "        \n",
    "        cast_dict = merge_two_dicts(group_dict, cast_dict)\n",
    "        \n",
    "    # Spoken Lang\n",
    "    \n",
    "    spoken_lang = {\"spoken.{}\".format(lang['iso_639_1']): 1  for lang in m.get('spoken_languages', []) }\n",
    "    \n",
    "    # Production companies\n",
    "    prod_companies = {\"production_company.{}\".format(comp['name']): 1  for comp in m.get('production_companies', [])}\n",
    "    \n",
    "    # Production Countries\n",
    "    prod_countries = {\"production_country.{}\".format(comp['iso_3166_1']): 1  for comp in m.get('production_countries', []) }\n",
    "\n",
    "    # Released countries\n",
    "    released_countries = {\"released_country.{}\".format(comp['iso_3166_1']): 1  for comp in m.get('release_dates', [])}\n",
    "\n",
    "    # Merge dictionaries\n",
    "\n",
    "    m = merge_two_dicts(m, crew_dict)\n",
    "    m = merge_two_dicts(m, cast_dict)\n",
    "    m = merge_two_dicts(m, spoken_lang)\n",
    "    m = merge_two_dicts(m, prod_companies)\n",
    "    m = merge_two_dicts(m, prod_countries)\n",
    "    m = merge_two_dicts(m, released_countries)\n",
    "    \n",
    "    # Remove keys\n",
    "    m.pop('cast', None)\n",
    "    m.pop('crew', None)\n",
    "    m.pop('spoken_languages', None)\n",
    "    m.pop('production_countries', None)\n",
    "    m.pop('production_companies', None)\n",
    "    m.pop('release_dates', None)\n",
    "    data[index] = m\n",
    "    \n",
    "    index = index + 1\n",
    "    \n",
    "print(len(data))"
   ]
  },
  {
   "cell_type": "code",
   "execution_count": null,
   "metadata": {
    "collapsed": false
   },
   "outputs": [],
   "source": [
    "memo = list()\n",
    "\n",
    "import copy\n",
    "\n",
    "for sample in data:\n",
    "    for genre in sample['genres']:\n",
    "        sample_copy = copy.deepcopy(sample)\n",
    "        sample_copy['genre'] = genre['name']\n",
    "        \n",
    "        memo.append(sample_copy)"
   ]
  },
  {
   "cell_type": "code",
   "execution_count": null,
   "metadata": {
    "collapsed": false
   },
   "outputs": [],
   "source": [
    "len(memo)"
   ]
  },
  {
   "cell_type": "code",
   "execution_count": null,
   "metadata": {
    "collapsed": true
   },
   "outputs": [],
   "source": [
    "with open('../../data/processed/themoviedb-4-18-2017.json', 'w') as outfile:\n",
    "    json.dump(memo, outfile)"
   ]
  },
  {
   "cell_type": "code",
   "execution_count": null,
   "metadata": {
    "collapsed": false
   },
   "outputs": [],
   "source": [
    "memo[-5]"
   ]
  },
  {
   "cell_type": "code",
   "execution_count": null,
   "metadata": {
    "collapsed": true
   },
   "outputs": [],
   "source": []
  }
 ],
 "metadata": {
  "kernelspec": {
   "display_name": "Python 3",
   "language": "python",
   "name": "python3"
  },
  "language_info": {
   "codemirror_mode": {
    "name": "ipython",
    "version": 3
   },
   "file_extension": ".py",
   "mimetype": "text/x-python",
   "name": "python",
   "nbconvert_exporter": "python",
   "pygments_lexer": "ipython3",
   "version": "3.6.0"
  }
 },
 "nbformat": 4,
 "nbformat_minor": 2
}
